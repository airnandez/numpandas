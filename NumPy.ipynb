{
 "cells": [
  {
   "cell_type": "markdown",
   "metadata": {},
   "source": [
    "# NumPy Tutorial\n",
    "![NumPy logo](https://www.numpy.org/_static/numpy_logo.png)"
   ]
  },
  {
   "cell_type": "markdown",
   "metadata": {},
   "source": [
    "*Author: Fabio Hernandez*\n",
    "\n",
    "*Last updated: 2019-05-15*\n",
    "\n",
    "*Location:* https://github.com/airnandez/numpandas"
   ]
  },
  {
   "cell_type": "markdown",
   "metadata": {},
   "source": [
    "--------------------\n",
    "## Introduction\n",
    "\n",
    "This is a short tutorial for helping you getting familiar with the NumPy library. NumPy is written in C and Python and has its origins back in 2005. It is at the heart of several scientific libraries of the Python ecosystem, such as Pandas, SciPy, etc.\n",
    "\n",
    "This tutorial draws inspiration, ideas and sometimes material from several publicly available sources. Please see the [Acknowledgements](#Acknowledgements) section for more details and to deep further on that material."
   ]
  },
  {
   "cell_type": "markdown",
   "metadata": {},
   "source": [
    "--------------------\n",
    "## Reference documentation\n",
    "\n",
    "The entry point to get the NumPy documentation is [www.numpy.org](www.numpy.org), including a [tutorial](https://www.numpy.org/devdocs/user/quickstart.html), a [user guide](https://www.numpy.org/devdocs/user/index.html) and a [reference manual](https://www.numpy.org/devdocs/reference/index.html#). Altough not strictly required, you are encouraged to open the reference documentation alongside this notebook to follow along.\n",
    "\n",
    "The [DataCamp NumPy Cheat Sheet](https://s3.amazonaws.com/assets.datacamp.com/blog_assets/Numpy_Python_Cheat_Sheet.pdf) can be also a useful quick reference."
   ]
  },
  {
   "cell_type": "markdown",
   "metadata": {},
   "source": [
    "--------------------\n",
    "## Import\n",
    "\n",
    "It is customarily to import numpy this way:"
   ]
  },
  {
   "cell_type": "code",
   "execution_count": 1,
   "metadata": {},
   "outputs": [
    {
     "data": {
      "text/plain": [
       "'1.16.3'"
      ]
     },
     "execution_count": 1,
     "metadata": {},
     "output_type": "execute_result"
    }
   ],
   "source": [
    "import numpy as np\n",
    "np.__version__"
   ]
  },
  {
   "cell_type": "markdown",
   "metadata": {},
   "source": [
    "--------------------\n",
    "## NumPy's raison d'être\n",
    "\n",
    "NumPy was develped to execute operations on arrays of data (numbers, strings, etc.) significantly faster than, for instance, by using Python built-in lists. Although NumPy *arrays* have some limitations compared to Python lists in terms of versatility, when it comes to numerical operations NumPy arrays are much faster. NumPy organizes its data in memory so to use the built-in capabilities of modern CPUs to apply a single operation to multiple data (SIMD). More details are available in [NumPy source code](https://github.com/numpy/numpy/blob/master/numpy/core/src/umath/simd.inc.src). See also [An introduction to vectorization](https://blog.cr.yp.to/20190430-vectorize.html) by D. J. Bernstein.\n",
    "\n",
    "Let's create an array of 1M integers and measure the time to square each on of them using Python built-in types:"
   ]
  },
  {
   "cell_type": "code",
   "execution_count": 2,
   "metadata": {},
   "outputs": [],
   "source": [
    "data = list(range(1_000_000))"
   ]
  },
  {
   "cell_type": "code",
   "execution_count": 3,
   "metadata": {},
   "outputs": [
    {
     "name": "stdout",
     "output_type": "stream",
     "text": [
      "271 ms ± 1.41 ms per loop (mean ± std. dev. of 7 runs, 1 loop each)\n"
     ]
    }
   ],
   "source": [
    "%timeit data_squarred = [x**2 for x in data]"
   ]
  },
  {
   "cell_type": "markdown",
   "metadata": {},
   "source": [
    "And now, let's do the same with a NumPy array (we will see later in more detail how to create arrays):"
   ]
  },
  {
   "cell_type": "code",
   "execution_count": 4,
   "metadata": {},
   "outputs": [],
   "source": [
    "npydata = np.arange(1_000_000)"
   ]
  },
  {
   "cell_type": "code",
   "execution_count": 5,
   "metadata": {},
   "outputs": [
    {
     "name": "stdout",
     "output_type": "stream",
     "text": [
      "790 µs ± 32.2 µs per loop (mean ± std. dev. of 7 runs, 1000 loops each)\n"
     ]
    }
   ],
   "source": [
    "%timeit npydata**2"
   ]
  },
  {
   "cell_type": "markdown",
   "metadata": {},
   "source": [
    "The actual number you get depends on the hardware you are using: in this case, we can see that using a NumPy array is more than 300 times faster than using Python built-in lists. This difference holds also for Python built-in functions. Let's try the built-in function [sum()](https://docs.python.org/3/library/functions.html#sum):"
   ]
  },
  {
   "cell_type": "code",
   "execution_count": 6,
   "metadata": {},
   "outputs": [
    {
     "name": "stdout",
     "output_type": "stream",
     "text": [
      "5.25 ms ± 32.9 µs per loop (mean ± std. dev. of 7 runs, 100 loops each)\n"
     ]
    }
   ],
   "source": [
    "%timeit sum(data)"
   ]
  },
  {
   "cell_type": "markdown",
   "metadata": {},
   "source": [
    "and compare the result above against [NumPy's sum()](https://docs.scipy.org/doc/numpy/reference/generated/numpy.sum.html):"
   ]
  },
  {
   "cell_type": "code",
   "execution_count": 7,
   "metadata": {},
   "outputs": [
    {
     "name": "stdout",
     "output_type": "stream",
     "text": [
      "446 µs ± 28.6 µs per loop (mean ± std. dev. of 7 runs, 1000 loops each)\n"
     ]
    }
   ],
   "source": [
    "%timeit np.sum(npydata)"
   ]
  },
  {
   "cell_type": "markdown",
   "metadata": {},
   "source": [
    "--------------------\n",
    "## Array creation\n",
    "\n",
    "### from Python lists\n",
    "\n",
    "We can create a NumPy array from an existing Python list:"
   ]
  },
  {
   "cell_type": "code",
   "execution_count": 8,
   "metadata": {},
   "outputs": [
    {
     "data": {
      "text/plain": [
       "array([10, 20, 30, 40, 50])"
      ]
     },
     "execution_count": 8,
     "metadata": {},
     "output_type": "execute_result"
    }
   ],
   "source": [
    "# Create a Python list of a few integers\n",
    "l = [10, 20, 30, 40, 50]\n",
    "\n",
    "# Create a 1D NumPy array from the contents of a Python list\n",
    "a = np.array(l)\n",
    "a"
   ]
  },
  {
   "cell_type": "markdown",
   "metadata": {},
   "source": [
    "Note that the Python list and the resulting NumPy array are two independent objects. Modifying the contents of one of them does not affect the other:"
   ]
  },
  {
   "cell_type": "code",
   "execution_count": 9,
   "metadata": {},
   "outputs": [
    {
     "name": "stdout",
     "output_type": "stream",
     "text": [
      "[1, 20, 30, 40, 50]\n"
     ]
    }
   ],
   "source": [
    "# Modifying the list does not modify the existing NumPy array\n",
    "l[0] = 1\n",
    "print(l)"
   ]
  },
  {
   "cell_type": "code",
   "execution_count": 10,
   "metadata": {},
   "outputs": [
    {
     "name": "stdout",
     "output_type": "stream",
     "text": [
      "[10 20 30 40 50]\n"
     ]
    }
   ],
   "source": [
    "print(a)"
   ]
  },
  {
   "cell_type": "markdown",
   "metadata": {},
   "source": [
    "The type of the created array is `numpy.ndarray`:"
   ]
  },
  {
   "cell_type": "code",
   "execution_count": 11,
   "metadata": {},
   "outputs": [
    {
     "data": {
      "text/plain": [
       "numpy.ndarray"
      ]
     },
     "execution_count": 11,
     "metadata": {},
     "output_type": "execute_result"
    }
   ],
   "source": [
    "type(a)"
   ]
  },
  {
   "cell_type": "markdown",
   "metadata": {},
   "source": [
    "The elements in a NumPy array are all of the same type. In the example above, they are all integers. We can make explicit the type we want each element of the array to be:"
   ]
  },
  {
   "cell_type": "code",
   "execution_count": 12,
   "metadata": {},
   "outputs": [
    {
     "data": {
      "text/plain": [
       "array([10., 20., 30., 40., 50.], dtype=float32)"
      ]
     },
     "execution_count": 12,
     "metadata": {},
     "output_type": "execute_result"
    }
   ],
   "source": [
    "np.array([10, 20, 30, 40, 50], dtype='float32')"
   ]
  },
  {
   "cell_type": "markdown",
   "metadata": {},
   "source": [
    "### from scratch\n",
    "\n",
    "NumPy provides several functions for efficiently creating arrays of 1, 2 or N dimensions. Here are some of them."
   ]
  },
  {
   "cell_type": "code",
   "execution_count": 13,
   "metadata": {},
   "outputs": [
    {
     "data": {
      "text/plain": [
       "array([0, 0, 0, 0, 0, 0, 0, 0, 0, 0])"
      ]
     },
     "execution_count": 13,
     "metadata": {},
     "output_type": "execute_result"
    }
   ],
   "source": [
    "# Create an array of 10 elements filled with zeros (as integers)\n",
    "np.zeros(10, dtype='int')"
   ]
  },
  {
   "cell_type": "code",
   "execution_count": 14,
   "metadata": {},
   "outputs": [
    {
     "data": {
      "text/plain": [
       "array([1, 1, 1, 1, 1, 1, 1, 1, 1, 1])"
      ]
     },
     "execution_count": 14,
     "metadata": {},
     "output_type": "execute_result"
    }
   ],
   "source": [
    "# Create an array with all the values set to one\n",
    "np.ones(10, dtype='int')"
   ]
  },
  {
   "cell_type": "code",
   "execution_count": 15,
   "metadata": {},
   "outputs": [
    {
     "data": {
      "text/plain": [
       "array([145., 145., 145., 145., 145., 145., 145., 145., 145., 145.])"
      ]
     },
     "execution_count": 15,
     "metadata": {},
     "output_type": "execute_result"
    }
   ],
   "source": [
    "# Create an array with 10 elements, each having the same value\n",
    "np.full(10, 145.0)"
   ]
  },
  {
   "cell_type": "markdown",
   "metadata": {},
   "source": [
    "The same functions above can be used for creating 2-dimensional arrays, or matrices. For intance for creating the $3 \\times 4$ matrix:\n",
    "\n",
    "$$\n",
    "M_{3 \\times 4} =\n",
    "\\begin{bmatrix}\n",
    "0 & 0 & 0 & 0 \\\\[0.3em]\n",
    "0 & 0 & 0 & 0 \\\\[0.3em]\n",
    "0 & 0 & 0 & 0 \\\\[0.3em]\n",
    "\\end{bmatrix}\n",
    "$$\n",
    "\n",
    "we can use:"
   ]
  },
  {
   "cell_type": "code",
   "execution_count": 16,
   "metadata": {},
   "outputs": [
    {
     "data": {
      "text/plain": [
       "array([[0., 0., 0., 0.],\n",
       "       [0., 0., 0., 0.],\n",
       "       [0., 0., 0., 0.]])"
      ]
     },
     "execution_count": 16,
     "metadata": {},
     "output_type": "execute_result"
    }
   ],
   "source": [
    "np.zeros(shape=(3,4), dtype='float')"
   ]
  },
  {
   "cell_type": "markdown",
   "metadata": {},
   "source": [
    "The argument `shape` specifies the desired shape of the array, in terms of `(rows, columns)`. Although it is not necessary to specify the name of the argument, in some cases it is useful for clarity:"
   ]
  },
  {
   "cell_type": "code",
   "execution_count": 17,
   "metadata": {},
   "outputs": [
    {
     "data": {
      "text/plain": [
       "array([[3.14159265, 3.14159265, 3.14159265, 3.14159265],\n",
       "       [3.14159265, 3.14159265, 3.14159265, 3.14159265],\n",
       "       [3.14159265, 3.14159265, 3.14159265, 3.14159265]])"
      ]
     },
     "execution_count": 17,
     "metadata": {},
     "output_type": "execute_result"
    }
   ],
   "source": [
    "# Create a 3x4 matrix where each element has the value π\n",
    "np.full((3,4), np.pi)"
   ]
  },
  {
   "cell_type": "code",
   "execution_count": 18,
   "metadata": {},
   "outputs": [
    {
     "data": {
      "text/plain": [
       "array([10, 20, 30, 40, 50, 60, 70, 80, 90])"
      ]
     },
     "execution_count": 18,
     "metadata": {},
     "output_type": "execute_result"
    }
   ],
   "source": [
    "# Create an array filled with a sequence of numbers in the interval [10, 100)\n",
    "# numpy.arange() works in a similar way as the built-in range() function\n",
    "np.arange(start=10, stop=100, step=10)"
   ]
  },
  {
   "cell_type": "code",
   "execution_count": 19,
   "metadata": {},
   "outputs": [
    {
     "data": {
      "text/plain": [
       "array([ 0. ,  2.5,  5. ,  7.5, 10. ])"
      ]
     },
     "execution_count": 19,
     "metadata": {},
     "output_type": "execute_result"
    }
   ],
   "source": [
    "# Create an array of 5 evenly-spaced values in interval [1, 10] \n",
    "np.linspace(start=0, stop=10, num=5)"
   ]
  },
  {
   "cell_type": "code",
   "execution_count": 20,
   "metadata": {},
   "outputs": [
    {
     "data": {
      "text/plain": [
       "array([[1., 0., 0.],\n",
       "       [0., 1., 0.],\n",
       "       [0., 0., 1.]])"
      ]
     },
     "execution_count": 20,
     "metadata": {},
     "output_type": "execute_result"
    }
   ],
   "source": [
    "# Create an identity matrix of size 3 x 3\n",
    "np.eye(3)"
   ]
  },
  {
   "cell_type": "code",
   "execution_count": 21,
   "metadata": {},
   "outputs": [
    {
     "data": {
      "text/plain": [
       "array([[ 2, 11,  4, 15],\n",
       "       [17,  1,  5, 15],\n",
       "       [16,  1, 13,  3]])"
      ]
     },
     "execution_count": 21,
     "metadata": {},
     "output_type": "execute_result"
    }
   ],
   "source": [
    "# Create a 3x4 matrix of random integers in the interval [0, 20)\n",
    "np.random.randint(low=0, high=20, size=(3,4))"
   ]
  },
  {
   "cell_type": "code",
   "execution_count": 22,
   "metadata": {},
   "outputs": [
    {
     "data": {
      "text/plain": [
       "array([[ 0.86038863, -2.52490033,  1.52282989, -0.61371326],\n",
       "       [-0.40710434, -1.35037405, -1.59518418,  0.55217778],\n",
       "       [ 0.42615328, -0.71344309, -0.10038331,  0.32869781]])"
      ]
     },
     "execution_count": 22,
     "metadata": {},
     "output_type": "execute_result"
    }
   ],
   "source": [
    "# Create a 3x4 matrix of random values drawn from a normal distribution\n",
    "# with µ=0, and σ=1\n",
    "np.random.normal(0, 1, size=(3,4))"
   ]
  },
  {
   "cell_type": "markdown",
   "metadata": {},
   "source": [
    "## Array data types\n",
    "\n",
    "You can create NumPy arrays and specify the type of its elements. In the examples above we created 1D and 2D arrays which elements are of type `int` or `float`, but there are several more types you could use such as `bool`, `str`, `int`, `float`, `complex`.\n",
    "\n",
    "The specific type you use determines both the range of values that can be represented and the number of bytes in memory necessary for storing each value. For instance, a value of type `numpy.int32` takes 32 bits (i.e. 4 bytes of memory) and can represent values in the interval [-2147483648, 2147483647].\n",
    "\n",
    "NumPy provides several integer types (e.g. `int8`, `int16`, `int32`, `int64`, `uint8`, `uint16`, ...), several floating point types (e.g. `float16`, `float32`, `float64`) and several complex types (e.g. `complex64`, `complex128`). You can use types `np.int` and `np.float` to refer to the types of the native integer values and floating point values of the CPU of the computer you are using.\n",
    "\n",
    "In addition, for some of those types you can specify the internal representation that you would like, such as little endian or big endian. More detailed information can be found in the [dtype documentaion](https://docs.scipy.org/doc/numpy/reference/arrays.dtypes.html).\n",
    "\n",
    "You can retrieve information about the interval range of an integer type by using [numpy.iinfo()](https://www.numpy.org/devdocs/reference/generated/numpy.iinfo.html?highlight=iinfo#numpy.iinfo) and for floating point values by using [numpy.finfo()](https://www.numpy.org/devdocs/reference/generated/numpy.finfo.html#numpy.finfo)."
   ]
  },
  {
   "cell_type": "code",
   "execution_count": 23,
   "metadata": {},
   "outputs": [
    {
     "data": {
      "text/plain": [
       "iinfo(min=-2147483648, max=2147483647, dtype=int32)"
      ]
     },
     "execution_count": 23,
     "metadata": {},
     "output_type": "execute_result"
    }
   ],
   "source": [
    "# Get the range of values that can be represented by a value of type int32\n",
    "np.iinfo(np.int32)"
   ]
  },
  {
   "cell_type": "code",
   "execution_count": 24,
   "metadata": {},
   "outputs": [
    {
     "data": {
      "text/plain": [
       "finfo(resolution=1e-06, min=-3.4028235e+38, max=3.4028235e+38, dtype=float32)"
      ]
     },
     "execution_count": 24,
     "metadata": {},
     "output_type": "execute_result"
    }
   ],
   "source": [
    "# Get the range of values that can be represented by a value of type float32\n",
    "np.finfo(np.float32)"
   ]
  },
  {
   "cell_type": "code",
   "execution_count": 25,
   "metadata": {},
   "outputs": [
    {
     "data": {
      "text/plain": [
       "(dtype('int64'), dtype('float64'))"
      ]
     },
     "execution_count": 25,
     "metadata": {},
     "output_type": "execute_result"
    }
   ],
   "source": [
    "# Show the native integer and floating point types for this computer\n",
    "np.dtype('int'), np.dtype('float')"
   ]
  },
  {
   "cell_type": "markdown",
   "metadata": {},
   "source": [
    "## Array attributes\n",
    "\n",
    "NumPy exposes attributes of arrays such as the number of dimensions, the total size (i.e. the total number of elements), the array shape (i.e. the number of elements on each dimension) and the amount of memory used for storing each element and all of its elements."
   ]
  },
  {
   "cell_type": "code",
   "execution_count": 26,
   "metadata": {},
   "outputs": [
    {
     "name": "stdout",
     "output_type": "stream",
     "text": [
      "[[4 2 9 1]\n",
      " [5 2 3 4]\n",
      " [9 6 0 9]] int64\n"
     ]
    }
   ],
   "source": [
    "a = np.random.randint(10, size=(3,4))\n",
    "print(a, a.dtype)"
   ]
  },
  {
   "cell_type": "code",
   "execution_count": 27,
   "metadata": {},
   "outputs": [
    {
     "name": "stdout",
     "output_type": "stream",
     "text": [
      "a.ndim = 2\n",
      "a.size = 12\n",
      "a.shape = (3, 4)\n"
     ]
    }
   ],
   "source": [
    "# Number of dimensions\n",
    "print('a.ndim =', a.ndim)\n",
    "\n",
    "# Number of elements in the array\n",
    "print('a.size =', a.size)\n",
    "\n",
    "# Number of elements on each dimension\n",
    "print('a.shape =', a.shape)"
   ]
  },
  {
   "cell_type": "code",
   "execution_count": 28,
   "metadata": {},
   "outputs": [
    {
     "name": "stdout",
     "output_type": "stream",
     "text": [
      "a.itemsize = 8\n",
      "a.nbytes = 96\n"
     ]
    }
   ],
   "source": [
    "# Amount of memory (in bytes) for storing each item\n",
    "print('a.itemsize =', a.itemsize)\n",
    "\n",
    "# Total amount of memory (in bytes) of the array\n",
    "print('a.nbytes =', a.nbytes)"
   ]
  },
  {
   "cell_type": "code",
   "execution_count": 29,
   "metadata": {},
   "outputs": [
    {
     "data": {
      "text/plain": [
       "96"
      ]
     },
     "execution_count": 29,
     "metadata": {},
     "output_type": "execute_result"
    }
   ],
   "source": [
    "# The total amount of memory is the result of multiplying the\n",
    "# number of bytes per item times the number of items\n",
    "a.itemsize * a.size"
   ]
  },
  {
   "cell_type": "markdown",
   "metadata": {},
   "source": [
    "## Array indexing"
   ]
  },
  {
   "cell_type": "code",
   "execution_count": 30,
   "metadata": {},
   "outputs": [],
   "source": [
    "# Set the seed of the RNG to a known value, for reproducibility of\n",
    "# the examples\n",
    "np.random.seed(0)"
   ]
  },
  {
   "cell_type": "code",
   "execution_count": 31,
   "metadata": {},
   "outputs": [],
   "source": [
    "# 1D array\n",
    "a1 = np.random.randint(10, size=5)\n",
    "\n",
    "# 2D array\n",
    "a2 = np.random.randint(10, size=(3,4))"
   ]
  },
  {
   "cell_type": "markdown",
   "metadata": {},
   "source": [
    "The syntax for selecting a single element of a NumPy array is analogous to the syntax for selecting elements of a Python built-in list. The index of the first element of the array is 0 (zero):"
   ]
  },
  {
   "cell_type": "code",
   "execution_count": 32,
   "metadata": {},
   "outputs": [
    {
     "data": {
      "text/plain": [
       "array([5, 0, 3, 3, 7])"
      ]
     },
     "execution_count": 32,
     "metadata": {},
     "output_type": "execute_result"
    }
   ],
   "source": [
    "a1"
   ]
  },
  {
   "cell_type": "code",
   "execution_count": 33,
   "metadata": {},
   "outputs": [
    {
     "data": {
      "text/plain": [
       "5"
      ]
     },
     "execution_count": 33,
     "metadata": {},
     "output_type": "execute_result"
    }
   ],
   "source": [
    "a1[0]"
   ]
  },
  {
   "cell_type": "code",
   "execution_count": 34,
   "metadata": {},
   "outputs": [
    {
     "data": {
      "text/plain": [
       "7"
      ]
     },
     "execution_count": 34,
     "metadata": {},
     "output_type": "execute_result"
    }
   ],
   "source": [
    "a1[4]"
   ]
  },
  {
   "cell_type": "markdown",
   "metadata": {},
   "source": [
    "Using negative indices (e.g -1, -2, ...) allows for retrieving the elements of the array relative to the end of the array:"
   ]
  },
  {
   "cell_type": "code",
   "execution_count": 35,
   "metadata": {},
   "outputs": [
    {
     "data": {
      "text/plain": [
       "array([5, 0, 3, 3, 7])"
      ]
     },
     "execution_count": 35,
     "metadata": {},
     "output_type": "execute_result"
    }
   ],
   "source": [
    "a1"
   ]
  },
  {
   "cell_type": "code",
   "execution_count": 36,
   "metadata": {},
   "outputs": [
    {
     "data": {
      "text/plain": [
       "7"
      ]
     },
     "execution_count": 36,
     "metadata": {},
     "output_type": "execute_result"
    }
   ],
   "source": [
    "# Retrieve the last element of the array\n",
    "a1[-1]"
   ]
  },
  {
   "cell_type": "code",
   "execution_count": 37,
   "metadata": {},
   "outputs": [
    {
     "data": {
      "text/plain": [
       "3"
      ]
     },
     "execution_count": 37,
     "metadata": {},
     "output_type": "execute_result"
    }
   ],
   "source": [
    "# Retrieve the second to last element of the array\n",
    "a1[-2]"
   ]
  },
  {
   "cell_type": "markdown",
   "metadata": {},
   "source": [
    "In the case of a multi-dimensional array, for accessing a single element we need to specify the index on each dimension:"
   ]
  },
  {
   "cell_type": "code",
   "execution_count": 38,
   "metadata": {},
   "outputs": [
    {
     "data": {
      "text/plain": [
       "array([[9, 3, 5, 2],\n",
       "       [4, 7, 6, 8],\n",
       "       [8, 1, 6, 7]])"
      ]
     },
     "execution_count": 38,
     "metadata": {},
     "output_type": "execute_result"
    }
   ],
   "source": [
    "a2"
   ]
  },
  {
   "cell_type": "code",
   "execution_count": 39,
   "metadata": {},
   "outputs": [
    {
     "data": {
      "text/plain": [
       "8"
      ]
     },
     "execution_count": 39,
     "metadata": {},
     "output_type": "execute_result"
    }
   ],
   "source": [
    "# row 1, column 3\n",
    "a2[1, 3]"
   ]
  },
  {
   "cell_type": "markdown",
   "metadata": {},
   "source": [
    "Use the same notation to modify one element of an array:"
   ]
  },
  {
   "cell_type": "code",
   "execution_count": 40,
   "metadata": {},
   "outputs": [
    {
     "data": {
      "text/plain": [
       "array([5, 0, 3, 3, 7])"
      ]
     },
     "execution_count": 40,
     "metadata": {},
     "output_type": "execute_result"
    }
   ],
   "source": [
    "a1"
   ]
  },
  {
   "cell_type": "code",
   "execution_count": 41,
   "metadata": {},
   "outputs": [
    {
     "data": {
      "text/plain": [
       "array([ 5,  0,  3, 30,  7])"
      ]
     },
     "execution_count": 41,
     "metadata": {},
     "output_type": "execute_result"
    }
   ],
   "source": [
    "a1[3] *= 10\n",
    "a1"
   ]
  },
  {
   "cell_type": "code",
   "execution_count": 42,
   "metadata": {},
   "outputs": [
    {
     "data": {
      "text/plain": [
       "array([[9, 3, 5, 2],\n",
       "       [4, 7, 6, 8],\n",
       "       [8, 1, 6, 7]])"
      ]
     },
     "execution_count": 42,
     "metadata": {},
     "output_type": "execute_result"
    }
   ],
   "source": [
    "a2"
   ]
  },
  {
   "cell_type": "code",
   "execution_count": 43,
   "metadata": {},
   "outputs": [],
   "source": [
    "a2[1, 0] = 100"
   ]
  },
  {
   "cell_type": "code",
   "execution_count": 44,
   "metadata": {},
   "outputs": [
    {
     "data": {
      "text/plain": [
       "array([[  9,   3,   5,   2],\n",
       "       [100,   7,   6,   8],\n",
       "       [  8,   1,   6,   7]])"
      ]
     },
     "execution_count": 44,
     "metadata": {},
     "output_type": "execute_result"
    }
   ],
   "source": [
    "a2"
   ]
  },
  {
   "cell_type": "markdown",
   "metadata": {},
   "source": [
    "If you assign a floating point value to an array of integers, the floating point value is truncated to convert it to integer:"
   ]
  },
  {
   "cell_type": "code",
   "execution_count": 45,
   "metadata": {},
   "outputs": [
    {
     "data": {
      "text/plain": [
       "array([ 5,  0,  3, 30,  7])"
      ]
     },
     "execution_count": 45,
     "metadata": {},
     "output_type": "execute_result"
    }
   ],
   "source": [
    "a1"
   ]
  },
  {
   "cell_type": "code",
   "execution_count": 46,
   "metadata": {},
   "outputs": [
    {
     "data": {
      "text/plain": [
       "array([ 3,  0,  3, 30,  7])"
      ]
     },
     "execution_count": 46,
     "metadata": {},
     "output_type": "execute_result"
    }
   ],
   "source": [
    "# A floating point value is converted to the receiving type\n",
    "# (integer in this case)\n",
    "a1[0] = np.pi  # truncated to 3\n",
    "a1"
   ]
  },
  {
   "cell_type": "markdown",
   "metadata": {},
   "source": [
    "## Accessing subarrays (slices)\n",
    "\n",
    "In Python, the syntax for accessing elements of a list is of the form:\n",
    "\n",
    "`a[start:stop:step]`\n",
    "\n",
    "NumPy provides the same syntax for slicing arrays:"
   ]
  },
  {
   "cell_type": "code",
   "execution_count": 47,
   "metadata": {},
   "outputs": [
    {
     "data": {
      "text/plain": [
       "array([0, 1, 2, 3, 4, 5, 6, 7, 8, 9])"
      ]
     },
     "execution_count": 47,
     "metadata": {},
     "output_type": "execute_result"
    }
   ],
   "source": [
    "a1 = np.arange(10)\n",
    "a1"
   ]
  },
  {
   "cell_type": "code",
   "execution_count": 48,
   "metadata": {},
   "outputs": [
    {
     "data": {
      "text/plain": [
       "array([0, 1, 2])"
      ]
     },
     "execution_count": 48,
     "metadata": {},
     "output_type": "execute_result"
    }
   ],
   "source": [
    "# From index 0 up to index 3 (not included)\n",
    "a1[0:3]"
   ]
  },
  {
   "cell_type": "code",
   "execution_count": 49,
   "metadata": {},
   "outputs": [
    {
     "data": {
      "text/plain": [
       "array([0, 2, 4, 6])"
      ]
     },
     "execution_count": 49,
     "metadata": {},
     "output_type": "execute_result"
    }
   ],
   "source": [
    "# From index 0 up to index 8 (not included), by steps of 2\n",
    "a1[0:8:2]"
   ]
  },
  {
   "cell_type": "markdown",
   "metadata": {},
   "source": [
    "When the `start` value is ommitted, the slice starts from the begining of the array. Similarly, if `stop` is omitted, the slice goes up to the end of the array:"
   ]
  },
  {
   "cell_type": "code",
   "execution_count": 50,
   "metadata": {},
   "outputs": [
    {
     "data": {
      "text/plain": [
       "array([0, 3, 6, 9])"
      ]
     },
     "execution_count": 50,
     "metadata": {},
     "output_type": "execute_result"
    }
   ],
   "source": [
    "# From the beginning up to the end of the array, by steps of 3\n",
    "a1[::3]"
   ]
  },
  {
   "cell_type": "markdown",
   "metadata": {},
   "source": [
    "You can also slice multi-dimensional arrays, by specifying the slice for each dimension:"
   ]
  },
  {
   "cell_type": "code",
   "execution_count": 51,
   "metadata": {},
   "outputs": [
    {
     "data": {
      "text/plain": [
       "array([[ 0,  1,  2,  3],\n",
       "       [ 4,  5,  6,  7],\n",
       "       [ 8,  9, 10, 11]])"
      ]
     },
     "execution_count": 51,
     "metadata": {},
     "output_type": "execute_result"
    }
   ],
   "source": [
    "a2 = np.arange(start=0, stop=12).reshape(3,4)\n",
    "a2"
   ]
  },
  {
   "cell_type": "code",
   "execution_count": 52,
   "metadata": {},
   "outputs": [
    {
     "data": {
      "text/plain": [
       "array([[0, 1, 2],\n",
       "       [4, 5, 6]])"
      ]
     },
     "execution_count": 52,
     "metadata": {},
     "output_type": "execute_result"
    }
   ],
   "source": [
    "# Get the first 2 rows, and the first 3 columns\n",
    "a2[:2, :3]"
   ]
  },
  {
   "cell_type": "code",
   "execution_count": 53,
   "metadata": {},
   "outputs": [
    {
     "data": {
      "text/plain": [
       "array([[ 1,  2],\n",
       "       [ 5,  6],\n",
       "       [ 9, 10]])"
      ]
     },
     "execution_count": 53,
     "metadata": {},
     "output_type": "execute_result"
    }
   ],
   "source": [
    "# Get all the rows, columns 1 and 2\n",
    "a2[:, 1:3]"
   ]
  },
  {
   "cell_type": "code",
   "execution_count": 54,
   "metadata": {},
   "outputs": [
    {
     "data": {
      "text/plain": [
       "array([ 8,  9, 10, 11])"
      ]
     },
     "execution_count": 54,
     "metadata": {},
     "output_type": "execute_result"
    }
   ],
   "source": [
    "# Get row number 2: a shorter albeit less clear way to express this would be a2[2]\n",
    "a2[2, :]"
   ]
  },
  {
   "cell_type": "code",
   "execution_count": 55,
   "metadata": {},
   "outputs": [
    {
     "data": {
      "text/plain": [
       "array([ 2,  6, 10])"
      ]
     },
     "execution_count": 55,
     "metadata": {},
     "output_type": "execute_result"
    }
   ],
   "source": [
    "# Get column number 2\n",
    "a2[:, 2]"
   ]
  },
  {
   "cell_type": "markdown",
   "metadata": {},
   "source": [
    "### Subarrays are views, not copies\n",
    "\n",
    "The array returned as a result of a slice operation is a **view** of the original array, as opposed to a **copy**. This means that modifications made to the slice also affect the original array:"
   ]
  },
  {
   "cell_type": "code",
   "execution_count": 56,
   "metadata": {},
   "outputs": [
    {
     "data": {
      "text/plain": [
       "array([[ 0,  1,  2,  3],\n",
       "       [ 4,  5,  6,  7],\n",
       "       [ 8,  9, 10, 11]])"
      ]
     },
     "execution_count": 56,
     "metadata": {},
     "output_type": "execute_result"
    }
   ],
   "source": [
    "a2 = np.arange(start=0, stop=12).reshape(3,4)\n",
    "a2"
   ]
  },
  {
   "cell_type": "code",
   "execution_count": 57,
   "metadata": {},
   "outputs": [
    {
     "data": {
      "text/plain": [
       "array([[ 1,  2],\n",
       "       [ 5,  6],\n",
       "       [ 9, 10]])"
      ]
     },
     "execution_count": 57,
     "metadata": {},
     "output_type": "execute_result"
    }
   ],
   "source": [
    "# Get a subarray\n",
    "view = a2[:, 1:3]\n",
    "view"
   ]
  },
  {
   "cell_type": "code",
   "execution_count": 58,
   "metadata": {},
   "outputs": [
    {
     "data": {
      "text/plain": [
       "array([[  1, 100],\n",
       "       [  5,   6],\n",
       "       [  9,  10]])"
      ]
     },
     "execution_count": 58,
     "metadata": {},
     "output_type": "execute_result"
    }
   ],
   "source": [
    "# Modifying the view also modifies the original array\n",
    "view[0, 1] = 100\n",
    "view"
   ]
  },
  {
   "cell_type": "code",
   "execution_count": 59,
   "metadata": {},
   "outputs": [
    {
     "data": {
      "text/plain": [
       "array([[  0,   1, 100,   3],\n",
       "       [  4,   5,   6,   7],\n",
       "       [  8,   9,  10,  11]])"
      ]
     },
     "execution_count": 59,
     "metadata": {},
     "output_type": "execute_result"
    }
   ],
   "source": [
    "a2"
   ]
  },
  {
   "cell_type": "markdown",
   "metadata": {},
   "source": [
    "Sometimes, it is useful to make a copy the subarray, which can be done with the [copy()](https://www.numpy.org/devdocs/reference/generated/numpy.ndarray.copy.html) method:"
   ]
  },
  {
   "cell_type": "code",
   "execution_count": 60,
   "metadata": {},
   "outputs": [
    {
     "data": {
      "text/plain": [
       "array([[  1, 100],\n",
       "       [  5,   6],\n",
       "       [  9,  10]])"
      ]
     },
     "execution_count": 60,
     "metadata": {},
     "output_type": "execute_result"
    }
   ],
   "source": [
    "# Copy a subarray of a2 into c\n",
    "c = a2[:, 1:3].copy()\n",
    "c"
   ]
  },
  {
   "cell_type": "code",
   "execution_count": 61,
   "metadata": {},
   "outputs": [
    {
     "data": {
      "text/plain": [
       "array([[500, 100],\n",
       "       [  5,   6],\n",
       "       [  9,  10]])"
      ]
     },
     "execution_count": 61,
     "metadata": {},
     "output_type": "execute_result"
    }
   ],
   "source": [
    "# Modifying the copy does not affect the original array\n",
    "c[0, 0] = 500\n",
    "c"
   ]
  },
  {
   "cell_type": "code",
   "execution_count": 62,
   "metadata": {},
   "outputs": [
    {
     "data": {
      "text/plain": [
       "array([[  0,   1, 100,   3],\n",
       "       [  4,   5,   6,   7],\n",
       "       [  8,   9,  10,  11]])"
      ]
     },
     "execution_count": 62,
     "metadata": {},
     "output_type": "execute_result"
    }
   ],
   "source": [
    "a2"
   ]
  },
  {
   "cell_type": "markdown",
   "metadata": {},
   "source": [
    "## Array concatenation\n",
    "\n",
    "It is possible to concatenate several NumPy arrays using [numpy.concatenate()](https://www.numpy.org/devdocs/reference/generated/numpy.concatenate.html). The result of the concatenation operation depends on the dimensions of the arrays involved in the operation.\n"
   ]
  },
  {
   "cell_type": "markdown",
   "metadata": {},
   "source": [
    "### Concatenating 1D arrays"
   ]
  },
  {
   "cell_type": "code",
   "execution_count": 63,
   "metadata": {},
   "outputs": [
    {
     "data": {
      "text/plain": [
       "array([ 1,  2,  3,  4,  5,  6,  7,  7,  8,  9, 10, 11])"
      ]
     },
     "execution_count": 63,
     "metadata": {},
     "output_type": "execute_result"
    }
   ],
   "source": [
    "# Concatenate several 1D arrays of possibly different sizes\n",
    "a = np.array([1, 2, 3])\n",
    "b = np.array([4, 5, 6, 7])\n",
    "c = np.array([7, 8, 9, 10, 11])\n",
    "\n",
    "np.concatenate([a, b, c])"
   ]
  },
  {
   "cell_type": "markdown",
   "metadata": {},
   "source": [
    "### Concatenating 2D arrays"
   ]
  },
  {
   "cell_type": "code",
   "execution_count": 64,
   "metadata": {},
   "outputs": [
    {
     "data": {
      "text/plain": [
       "array([[0, 1],\n",
       "       [2, 3],\n",
       "       [4, 5]])"
      ]
     },
     "execution_count": 64,
     "metadata": {},
     "output_type": "execute_result"
    }
   ],
   "source": [
    "a2 = np.arange(6).reshape(3,2)\n",
    "a2"
   ]
  },
  {
   "cell_type": "code",
   "execution_count": 65,
   "metadata": {},
   "outputs": [
    {
     "data": {
      "text/plain": [
       "array([[0, 1],\n",
       "       [2, 3],\n",
       "       [4, 5],\n",
       "       [0, 1],\n",
       "       [2, 3],\n",
       "       [4, 5]])"
      ]
     },
     "execution_count": 65,
     "metadata": {},
     "output_type": "execute_result"
    }
   ],
   "source": [
    "# Concatenate two matrices by increasing the number of rows\n",
    "np.concatenate([a2, a2])"
   ]
  },
  {
   "cell_type": "code",
   "execution_count": 66,
   "metadata": {},
   "outputs": [
    {
     "data": {
      "text/plain": [
       "array([[0, 1, 0, 1],\n",
       "       [2, 3, 2, 3],\n",
       "       [4, 5, 4, 5]])"
      ]
     },
     "execution_count": 66,
     "metadata": {},
     "output_type": "execute_result"
    }
   ],
   "source": [
    "# Concatenate two matrices by increasing the number of columns\n",
    "np.concatenate([a2, a2], axis=1)"
   ]
  },
  {
   "cell_type": "markdown",
   "metadata": {},
   "source": [
    "It is also possible to concatenate arrays of different dimensions row wise using [numpy.vstack()](https://www.numpy.org/devdocs/reference/generated/numpy.vstack.html) (for *vertical stack*) and column wise using [numpy.hstack()](https://www.numpy.org/devdocs/reference/generated/numpy.hstack.html) (for *horizontal stack*):"
   ]
  },
  {
   "cell_type": "code",
   "execution_count": 67,
   "metadata": {},
   "outputs": [
    {
     "data": {
      "text/plain": [
       "array([1, 2, 3])"
      ]
     },
     "execution_count": 67,
     "metadata": {},
     "output_type": "execute_result"
    }
   ],
   "source": [
    "a1 = np.array([1, 2, 3])\n",
    "a1"
   ]
  },
  {
   "cell_type": "code",
   "execution_count": 68,
   "metadata": {},
   "outputs": [
    {
     "data": {
      "text/plain": [
       "array([[100, 200, 300],\n",
       "       [400, 500, 600]])"
      ]
     },
     "execution_count": 68,
     "metadata": {},
     "output_type": "execute_result"
    }
   ],
   "source": [
    "a2 = np.array([[100, 200, 300],\n",
    "               [400, 500, 600]])\n",
    "a2"
   ]
  },
  {
   "cell_type": "code",
   "execution_count": 69,
   "metadata": {},
   "outputs": [
    {
     "data": {
      "text/plain": [
       "array([[  1,   2,   3],\n",
       "       [100, 200, 300],\n",
       "       [400, 500, 600]])"
      ]
     },
     "execution_count": 69,
     "metadata": {},
     "output_type": "execute_result"
    }
   ],
   "source": [
    "np.vstack([a1, a2])"
   ]
  },
  {
   "cell_type": "code",
   "execution_count": 70,
   "metadata": {},
   "outputs": [
    {
     "data": {
      "text/plain": [
       "array([[1],\n",
       "       [2]])"
      ]
     },
     "execution_count": 70,
     "metadata": {},
     "output_type": "execute_result"
    }
   ],
   "source": [
    "a3 = np.array([[1],\n",
    "               [2]])\n",
    "a3"
   ]
  },
  {
   "cell_type": "code",
   "execution_count": 71,
   "metadata": {},
   "outputs": [
    {
     "data": {
      "text/plain": [
       "array([[100, 200, 300,   1],\n",
       "       [400, 500, 600,   2]])"
      ]
     },
     "execution_count": 71,
     "metadata": {},
     "output_type": "execute_result"
    }
   ],
   "source": [
    "np.hstack([a2, a3])"
   ]
  },
  {
   "cell_type": "markdown",
   "metadata": {},
   "source": [
    "## Computations on arrays: universal functions\n",
    "\n",
    "NumPy provides mecanisms to perform an operation on all the elements of an array. These **vectorized** operations are implemented so to exploit the capacity of the hardware to apply a single operation over multiple data. In NumPy these functions are called *universal functions* (`ufunc`). They operate elementwise on an array, producing a new array as output."
   ]
  },
  {
   "cell_type": "code",
   "execution_count": 72,
   "metadata": {},
   "outputs": [
    {
     "name": "stdout",
     "output_type": "stream",
     "text": [
      "    x = [1 2 3 4]\n",
      "x + 2 = [3 4 5 6]\n",
      "x - 2 = [-1  0  1  2]\n",
      "x * 2 = [2 4 6 8]\n",
      "x / 2 = [0.5 1.  1.5 2. ]\n",
      "x // 2 = [0 1 1 2]\n"
     ]
    }
   ],
   "source": [
    "# Perform an arithmetic operation to each element of an array\n",
    "x = np.arange(1, 5)\n",
    "print(\"    x =\", x)\n",
    "print(\"x + 2 =\", x + 2)\n",
    "print(\"x - 2 =\", x - 2)\n",
    "print(\"x * 2 =\", x * 2)\n",
    "print(\"x / 2 =\", x / 2)\n",
    "print(\"x // 2 =\", x // 2) # Integer division"
   ]
  },
  {
   "cell_type": "code",
   "execution_count": 73,
   "metadata": {},
   "outputs": [
    {
     "name": "stdout",
     "output_type": "stream",
     "text": [
      " x = [1 2 3 4]\n",
      "-x = [-1 -2 -3 -4]\n"
     ]
    }
   ],
   "source": [
    "# Negation\n",
    "print(\" x =\", x)\n",
    "print(\"-x =\", -x)"
   ]
  },
  {
   "cell_type": "code",
   "execution_count": 74,
   "metadata": {},
   "outputs": [
    {
     "name": "stdout",
     "output_type": "stream",
     "text": [
      "      x = [1 2 3 4]\n",
      " x ** 2 = [ 1  4  9 16]\n",
      " 2 ** x = [ 2  4  8 16]\n"
     ]
    }
   ],
   "source": [
    "# Exponentiation\n",
    "print(\"      x =\", x)\n",
    "print(\" x ** 2 =\", x**2)\n",
    "print(\" 2 ** x =\", 2**x)"
   ]
  },
  {
   "cell_type": "code",
   "execution_count": 75,
   "metadata": {},
   "outputs": [
    {
     "name": "stdout",
     "output_type": "stream",
     "text": [
      "        y =  [-3 -2 -1  0  1  2]\n",
      "np.abs(y) =  [3 2 1 0 1 2]\n"
     ]
    }
   ],
   "source": [
    "# Absolute value\n",
    "y = np.arange(-3, 3)\n",
    "print(\"        y = \", y)\n",
    "print(\"np.abs(y) = \", np.abs(y))"
   ]
  },
  {
   "cell_type": "code",
   "execution_count": 76,
   "metadata": {},
   "outputs": [
    {
     "name": "stdout",
     "output_type": "stream",
     "text": [
      "       radians  =  [0.         1.57079633 3.14159265]\n",
      "np.sin(radians) =  [0.0000000e+00 1.0000000e+00 1.2246468e-16]\n",
      "np.cos(radians) =  [ 1.000000e+00  6.123234e-17 -1.000000e+00]\n",
      "np.tan(radians) =  [ 0.00000000e+00  1.63312394e+16 -1.22464680e-16]\n"
     ]
    }
   ],
   "source": [
    "# Trigonometric functions\n",
    "radians = np.array([0, np.pi/2, np.pi])\n",
    "print(\"       radians  = \", radians)\n",
    "print(\"np.sin(radians) = \", np.sin(radians))\n",
    "print(\"np.cos(radians) = \", np.cos(radians))\n",
    "print(\"np.tan(radians) = \", np.tan(radians))"
   ]
  },
  {
   "cell_type": "code",
   "execution_count": 77,
   "metadata": {},
   "outputs": [
    {
     "name": "stdout",
     "output_type": "stream",
     "text": [
      "            radians =  [0.         1.57079633 3.14159265]\n",
      "            degrees =  [  0.  90. 180.]\n",
      "np.radians(degrees) =  [0.         1.57079633 3.14159265]\n"
     ]
    }
   ],
   "source": [
    "# Conversion radians → degrees and degrees → radians\n",
    "radians = np.array([0, np.pi/2, np.pi])\n",
    "degrees = np.degrees(radians)\n",
    "\n",
    "print(\"            radians = \", radians)\n",
    "print(\"            degrees = \", degrees)\n",
    "print(\"np.radians(degrees) = \", np.radians(degrees))"
   ]
  },
  {
   "cell_type": "code",
   "execution_count": 78,
   "metadata": {},
   "outputs": [
    {
     "name": "stdout",
     "output_type": "stream",
     "text": [
      "   x =  [1 2 3]\n",
      " e^x =  [ 2.71828183  7.3890561  20.08553692]\n",
      " 2^x =  [2. 4. 8.]\n",
      "10^x =  [  10  100 1000]\n",
      "x^10 =  [    1  1024 59049]\n"
     ]
    }
   ],
   "source": [
    "# Exponents\n",
    "x = np.array([1, 2, 3])\n",
    "print(\"   x = \", x)\n",
    "print(\" e^x = \", np.exp(x))\n",
    "print(\" 2^x = \", np.exp2(x))\n",
    "print(\"10^x = \", np.power(10, x))\n",
    "print(\"x^10 = \", np.power(x, 10))"
   ]
  },
  {
   "cell_type": "markdown",
   "metadata": {},
   "source": [
    "#### Vector and matrix multiplication:\n",
    "\n",
    "Dot product:\n",
    "$$\n",
    "x =\n",
    "\\begin{bmatrix}\n",
    "1 & 2 & 3\n",
    "\\end{bmatrix}\n",
    "$$\n",
    "\n",
    "$$\n",
    "y =\n",
    "\\begin{bmatrix}\n",
    "30 & 20 & 10\n",
    "\\end{bmatrix}\n",
    "$$\n",
    "\n",
    "$$\n",
    "x \\cdot y = (1 \\times 30) + (2 \\times 20) + (3 \\times 10)\n",
    "$$\n"
   ]
  },
  {
   "cell_type": "code",
   "execution_count": 79,
   "metadata": {},
   "outputs": [
    {
     "data": {
      "text/plain": [
       "100"
      ]
     },
     "execution_count": 79,
     "metadata": {},
     "output_type": "execute_result"
    }
   ],
   "source": [
    "# Dot product\n",
    "x = np.array([1, 2, 3])\n",
    "y = np.array([30, 20, 10])\n",
    "np.dot(x, y)"
   ]
  },
  {
   "cell_type": "markdown",
   "metadata": {},
   "source": [
    "Matrix multiplication:\n",
    "\n",
    "$$\n",
    "X_{3 \\times 2} =\n",
    "\\begin{bmatrix}\n",
    "1 & 0 \\\\[0.3em]\n",
    "0 & 1 \\\\[0.3em]\n",
    "1 & 0 \\\\[0.3em]\n",
    "\\end{bmatrix}\n",
    "$$\n",
    "\n",
    "$$\n",
    "Y_{2 \\times 2} =\n",
    "\\begin{bmatrix}\n",
    "4 & 1 \\\\\n",
    "2 & 3\n",
    "\\end{bmatrix}\n",
    "$$\n",
    "\n",
    "$$\n",
    "X \\times Y =\n",
    "\\begin{bmatrix}\n",
    "4  & 1 \\\\[0.3em]\n",
    "2  & 3 \\\\[0.3em]\n",
    "4 & 1 \\\\[0.3em]\n",
    "\\end{bmatrix}\n",
    "$$\n",
    "\n",
    "\n"
   ]
  },
  {
   "cell_type": "code",
   "execution_count": 80,
   "metadata": {},
   "outputs": [
    {
     "data": {
      "text/plain": [
       "array([[4, 1],\n",
       "       [2, 3],\n",
       "       [4, 1]])"
      ]
     },
     "execution_count": 80,
     "metadata": {},
     "output_type": "execute_result"
    }
   ],
   "source": [
    "# Matrix multiplication\n",
    "X = np.array([[1, 0], [0, 1], [1, 0]])\n",
    "Y = np.array([[4, 1], [2, 3]])\n",
    "np.matmul(X, Y)  # equivelent to X @ Y"
   ]
  },
  {
   "cell_type": "markdown",
   "metadata": {},
   "source": [
    "## Computations on arrays: aggregations, summary statistics"
   ]
  },
  {
   "cell_type": "markdown",
   "metadata": {},
   "source": [
    "[numpy.sum()](https://www.numpy.org/devdocs/reference/generated/numpy.sum.html) sums the elements of an array, either all the elements of those over a given axis:"
   ]
  },
  {
   "cell_type": "code",
   "execution_count": 81,
   "metadata": {},
   "outputs": [
    {
     "name": "stdout",
     "output_type": "stream",
     "text": [
      "        x = [1 2 3 4 5]\n",
      "np.sum(x) = 15\n"
     ]
    }
   ],
   "source": [
    "# Sum all the elements of an array\n",
    "x = np.arange(1, 6)\n",
    "print(\"        x =\", x)\n",
    "print(\"np.sum(x) =\", np.sum(x))   # equivalent to x.sum()"
   ]
  },
  {
   "cell_type": "code",
   "execution_count": 82,
   "metadata": {},
   "outputs": [
    {
     "data": {
      "text/plain": [
       "array([[0, 1, 2],\n",
       "       [3, 4, 5]])"
      ]
     },
     "execution_count": 82,
     "metadata": {},
     "output_type": "execute_result"
    }
   ],
   "source": [
    "# sum() can also be used with N-dimensional arrays to perform\n",
    "# column-wise or row-wise sums\n",
    "m = np.arange(6).reshape(2, 3)\n",
    "m"
   ]
  },
  {
   "cell_type": "code",
   "execution_count": 83,
   "metadata": {},
   "outputs": [
    {
     "name": "stdout",
     "output_type": "stream",
     "text": [
      "m.sum(axis=0) = [3 5 7]\n",
      "m.sum(axis=1) = [ 3 12]\n"
     ]
    }
   ],
   "source": [
    "# Sum all the values of each column\n",
    "print(\"m.sum(axis=0) =\", m.sum(axis=0))\n",
    "\n",
    "# Sum all the values of each row\n",
    "print(\"m.sum(axis=1) =\", m.sum(axis=1))"
   ]
  },
  {
   "cell_type": "code",
   "execution_count": 84,
   "metadata": {},
   "outputs": [
    {
     "name": "stdout",
     "output_type": "stream",
     "text": [
      "        x = [5 3 4 2 1]\n",
      "np.min(x) = 1\n",
      "np.max(x) = 5\n"
     ]
    }
   ],
   "source": [
    "# Retrieve the minimum and maximum values of an array\n",
    "x = np.arange(1, 6)\n",
    "np.random.shuffle(x)\n",
    "print(\"        x =\", x)\n",
    "print(\"np.min(x) =\", np.min(x))   # equivalent to x.min()\n",
    "print(\"np.max(x) =\", np.max(x))   # equivalent to x.max()"
   ]
  },
  {
   "cell_type": "code",
   "execution_count": 85,
   "metadata": {},
   "outputs": [
    {
     "name": "stdout",
     "output_type": "stream",
     "text": [
      "           x = [5 3 4 2 1]\n",
      "np.argmin(x) = 4\n",
      "np.argmax(x) = 0\n"
     ]
    }
   ],
   "source": [
    "# Retrive the indices of the minimum and maximum values of an array\n",
    "print(\"           x =\", x)\n",
    "print(\"np.argmin(x) =\", np.argmin(x))   # equivalent to x.argmin()\n",
    "print(\"np.argmax(x) =\", np.argmax(x))   # equivalent to x.argmax()"
   ]
  },
  {
   "cell_type": "code",
   "execution_count": 86,
   "metadata": {},
   "outputs": [
    {
     "name": "stdout",
     "output_type": "stream",
     "text": [
      "                  np.mean(x) = 0.001510202886578179\n",
      "                   np.std(x) = 0.9999197800097751\n",
      "                np.median(x) = 0.002386740394688575\n",
      " np.percentile(x, [25, 50, 75]) = [-0.67355147  0.00238674  0.6757214 ]\n"
     ]
    }
   ],
   "source": [
    "# Create an array random values drawn from a normal distribution\n",
    "# with µ=0, and σ=1, and compute some summary statistics\n",
    "x = np.random.normal(0, 1, size=1_000_000)\n",
    "print(\"                  np.mean(x) =\", np.mean(x))   # equivalent to x.mean()\n",
    "print(\"                   np.std(x) =\", np.std(x))    # equivalent to x.std()\n",
    "print(\"                np.median(x) =\", np.median(x))\n",
    "print(\" np.percentile(x, [25, 50, 75]) =\", np.percentile(x, [25, 50, 75]))"
   ]
  },
  {
   "cell_type": "markdown",
   "metadata": {},
   "source": [
    "## Computations on arrays: broadcasting\n",
    "\n",
    "The term *broadcasting* in NumPy refers to the set of rules for applying universal functions on arrays of different shapes. After application of the broadcasting rules, the sizes of all arrays must match: the goal is to perform the operation efficiently, avoiding loops and innecessary memory copies.\n",
    "\n",
    "NumPy operations are usually done on pairs of arrays on an element-by-element basis. In the simplest case, the two arrays must have exactly the same shape:"
   ]
  },
  {
   "cell_type": "code",
   "execution_count": 87,
   "metadata": {},
   "outputs": [
    {
     "data": {
      "text/plain": [
       "array([10, 20, 30])"
      ]
     },
     "execution_count": 87,
     "metadata": {},
     "output_type": "execute_result"
    }
   ],
   "source": [
    "# Perform an element-by-element multiplication when the two arrays have the same shape\n",
    "a = np.array([ 1,  2,  3])\n",
    "b = np.array([10, 10, 10])\n",
    "a * b"
   ]
  },
  {
   "cell_type": "markdown",
   "metadata": {},
   "source": [
    "NumPy's broadcasting rules allows for expressing the multiplication of a scalar by an array. Internally, NumPy acts as if the scalar value (i.e. `10` in the example below) was stretched into an array of the same shape as the array `a` so to perform the element-by-element multiplication. Note that the stretching is only conceptual, as NumPy uses the value of the scalar without actually making copies of it, so that the broadcasting operation is memory and computationally efficient:"
   ]
  },
  {
   "cell_type": "code",
   "execution_count": 88,
   "metadata": {},
   "outputs": [
    {
     "data": {
      "text/plain": [
       "array([10, 20, 30])"
      ]
     },
     "execution_count": 88,
     "metadata": {},
     "output_type": "execute_result"
    }
   ],
   "source": [
    "# An element-by-element multiplication of an array and a scalar can be expressed in NumPy:\n",
    "# the broadcasting rules makes it possible to perform the operation\n",
    "a = np.array([1, 2, 3])\n",
    "a * 10"
   ]
  },
  {
   "cell_type": "markdown",
   "metadata": {},
   "source": [
    "The image below, extracted from [Python Data Science Handbook](https://jakevdp.github.io/PythonDataScienceHandbook/) by Jake VanderPlas, shows graphically how NumPy applies broadcasting:\n",
    "\n",
    "![title](https://jakevdp.github.io/PythonDataScienceHandbook/figures/02.05-broadcasting.png)"
   ]
  },
  {
   "cell_type": "code",
   "execution_count": 89,
   "metadata": {},
   "outputs": [
    {
     "data": {
      "text/plain": [
       "array([5, 6, 7])"
      ]
     },
     "execution_count": 89,
     "metadata": {},
     "output_type": "execute_result"
    }
   ],
   "source": [
    "# Operation between an array and a scalar: the scalar is stretched to match the\n",
    "# shape of the array\n",
    "np.arange(3) + 5"
   ]
  },
  {
   "cell_type": "code",
   "execution_count": 90,
   "metadata": {},
   "outputs": [
    {
     "data": {
      "text/plain": [
       "array([[1., 2., 3.],\n",
       "       [1., 2., 3.],\n",
       "       [1., 2., 3.]])"
      ]
     },
     "execution_count": 90,
     "metadata": {},
     "output_type": "execute_result"
    }
   ],
   "source": [
    "# Operation between two arrays of different shape. The smaller array is stretched to match\n",
    "# the shape of the bigger array\n",
    "np.ones(shape=(3,3)) + np.arange(3)"
   ]
  },
  {
   "cell_type": "code",
   "execution_count": 91,
   "metadata": {},
   "outputs": [
    {
     "data": {
      "text/plain": [
       "array([[0, 1, 2],\n",
       "       [1, 2, 3],\n",
       "       [2, 3, 4]])"
      ]
     },
     "execution_count": 91,
     "metadata": {},
     "output_type": "execute_result"
    }
   ],
   "source": [
    "# Both arrays need to be stretched: note that the resulting array is 2D even if the\n",
    "# two operands are both 1D arrays.\n",
    "np.arange(3).reshape((3,1)) + np.arange(3)"
   ]
  },
  {
   "cell_type": "markdown",
   "metadata": {},
   "source": [
    "The illustration below, can help understanding the rules NumPy implements for broadcasting. It is extracted from material of [UC Berkeley's Python Bootcamp](https://sites.google.com/site/pythonbootcamp):\n",
    "\n",
    "![](https://github.com/profjsb/python-bootcamp/raw/master/Lectures/05_NumpyPandasMatplotlib/broadcast_rougier.png)"
   ]
  },
  {
   "cell_type": "markdown",
   "metadata": {},
   "source": [
    "### Centering an array around its mean: broadcasting in practice"
   ]
  },
  {
   "cell_type": "code",
   "execution_count": 92,
   "metadata": {},
   "outputs": [
    {
     "data": {
      "text/plain": [
       "array([[89, 76, 97],\n",
       "       [ 3, 69, 33],\n",
       "       [49, 52, 78],\n",
       "       [53, 90, 45],\n",
       "       [ 6, 81, 72],\n",
       "       [36, 63, 25],\n",
       "       [23, 81, 83],\n",
       "       [57, 89, 49],\n",
       "       [10, 68, 45],\n",
       "       [82,  6, 81]])"
      ]
     },
     "execution_count": 92,
     "metadata": {},
     "output_type": "execute_result"
    }
   ],
   "source": [
    "# We have a dataset of 3 features and we have 10 observations. We represent it\n",
    "# as a matrix of dimensions (10, 3), in which one row contains one observation\n",
    "# of the 3 features.\n",
    "X = np.random.randint(1, 100, size=(10, 3))\n",
    "X"
   ]
  },
  {
   "cell_type": "code",
   "execution_count": 93,
   "metadata": {},
   "outputs": [
    {
     "data": {
      "text/plain": [
       "array([40.8, 67.5, 60.8])"
      ]
     },
     "execution_count": 93,
     "metadata": {},
     "output_type": "execute_result"
    }
   ],
   "source": [
    "# Compute the mean of the observed values of each feature (i.e. the mean of each column)\n",
    "X_mean = X.mean(axis=0)\n",
    "X_mean"
   ]
  },
  {
   "cell_type": "code",
   "execution_count": 94,
   "metadata": {},
   "outputs": [
    {
     "data": {
      "text/plain": [
       "array([[ 48.2,   8.5,  36.2],\n",
       "       [-37.8,   1.5, -27.8],\n",
       "       [  8.2, -15.5,  17.2],\n",
       "       [ 12.2,  22.5, -15.8],\n",
       "       [-34.8,  13.5,  11.2],\n",
       "       [ -4.8,  -4.5, -35.8],\n",
       "       [-17.8,  13.5,  22.2],\n",
       "       [ 16.2,  21.5, -11.8],\n",
       "       [-30.8,   0.5, -15.8],\n",
       "       [ 41.2, -61.5,  20.2]])"
      ]
     },
     "execution_count": 94,
     "metadata": {},
     "output_type": "execute_result"
    }
   ],
   "source": [
    "# Center each observation around the mean for each feature. This\n",
    "# operation requires applying broadcasting rules: the X_mean\n",
    "# array is stretched to match the dimensions of the X array\n",
    "X_centered = X - X_mean\n",
    "X_centered"
   ]
  },
  {
   "cell_type": "markdown",
   "metadata": {},
   "source": [
    "## Boolean operations and filtering on arrays\n",
    "\n",
    "It is often needed to perform operations on arrays, based on some criterion, such as counting all the values above a certain threshold, summing the values satisfying a condition, modifying the values beyond a threshold, etc. NumPy provides efficient mechanisms for performing that kind of tasks (i.e. without writing loops)."
   ]
  },
  {
   "cell_type": "code",
   "execution_count": 95,
   "metadata": {},
   "outputs": [
    {
     "data": {
      "text/plain": [
       "array([51, 17, 33, 36, 17, 43, 27, 75, 65, 43, 74, 59, 67, 38, 65, 46, 70,\n",
       "       82, 54,  4])"
      ]
     },
     "execution_count": 95,
     "metadata": {},
     "output_type": "execute_result"
    }
   ],
   "source": [
    "# Generate 20 random values between 1 and 100\n",
    "a = np.random.randint(1, 100, 20)\n",
    "a"
   ]
  },
  {
   "cell_type": "code",
   "execution_count": 96,
   "metadata": {},
   "outputs": [
    {
     "data": {
      "text/plain": [
       "array([ True, False, False, False, False,  True, False,  True,  True,\n",
       "        True,  True,  True,  True, False,  True,  True,  True,  True,\n",
       "        True, False])"
      ]
     },
     "execution_count": 96,
     "metadata": {},
     "output_type": "execute_result"
    }
   ],
   "source": [
    "# Select the positions in array 'a' which values are greater than 40\n",
    "a > 40"
   ]
  },
  {
   "cell_type": "code",
   "execution_count": 97,
   "metadata": {},
   "outputs": [
    {
     "data": {
      "text/plain": [
       "13"
      ]
     },
     "execution_count": 97,
     "metadata": {},
     "output_type": "execute_result"
    }
   ],
   "source": [
    "# Count the number of values greater than 40\n",
    "np.count_nonzero(a > 40)"
   ]
  },
  {
   "cell_type": "code",
   "execution_count": 98,
   "metadata": {},
   "outputs": [
    {
     "data": {
      "text/plain": [
       "array([False, False, False, False, False, False, False, False, False,\n",
       "       False, False, False, False, False, False, False, False, False,\n",
       "       False, False])"
      ]
     },
     "execution_count": 98,
     "metadata": {},
     "output_type": "execute_result"
    }
   ],
   "source": [
    "# Other boolean expressions can be used\n",
    "a >= 40  # All the values greater than or equal to...\n",
    "a <  40  # All the values less than ...\n",
    "a <= 40  # All the values less than or equal to ...\n",
    "a != 40  # All the values different from ..\n",
    "a == 40  # All the values equal to ..."
   ]
  },
  {
   "cell_type": "code",
   "execution_count": 99,
   "metadata": {},
   "outputs": [
    {
     "data": {
      "text/plain": [
       "array([[-2, -7, -3,  5],\n",
       "       [ 6,  0, -8, -8],\n",
       "       [-8,  4, -8,  7]])"
      ]
     },
     "execution_count": 99,
     "metadata": {},
     "output_type": "execute_result"
    }
   ],
   "source": [
    "rng = np.random.RandomState(100) # To get reproducible results\n",
    "a = rng.randint(-10, 10, size=(3, 4))\n",
    "a"
   ]
  },
  {
   "cell_type": "code",
   "execution_count": 100,
   "metadata": {},
   "outputs": [
    {
     "name": "stdout",
     "output_type": "stream",
     "text": [
      "Number of zeroes: 1\n",
      "Number of positive values: 4\n",
      "Number of negative values: 7\n"
     ]
    }
   ],
   "source": [
    "# Count the number of values satisfying several criteria\n",
    "print(\"Number of zeroes:\", np.sum(a == 0))\n",
    "print(\"Number of positive values:\", np.sum(a > 0))\n",
    "print(\"Number of negative values:\", np.sum(a < 0))"
   ]
  },
  {
   "cell_type": "code",
   "execution_count": 101,
   "metadata": {},
   "outputs": [
    {
     "name": "stdout",
     "output_type": "stream",
     "text": [
      "Number of positive values per row: [1 1 2]\n",
      "Number of positive values per column: [1 1 0 2]\n"
     ]
    }
   ],
   "source": [
    "# Number of values satisfying several criteria, per row and per column\n",
    "print(\"Number of positive values per row:\", np.sum(a > 0, axis=1))\n",
    "print(\"Number of positive values per column:\", np.sum(a > 0, axis=0))"
   ]
  },
  {
   "cell_type": "code",
   "execution_count": 102,
   "metadata": {},
   "outputs": [
    {
     "data": {
      "text/plain": [
       "True"
      ]
     },
     "execution_count": 102,
     "metadata": {},
     "output_type": "execute_result"
    }
   ],
   "source": [
    "# Is there any value < 0 ?\n",
    "np.any(a < 0)"
   ]
  },
  {
   "cell_type": "code",
   "execution_count": 103,
   "metadata": {},
   "outputs": [
    {
     "data": {
      "text/plain": [
       "False"
      ]
     },
     "execution_count": 103,
     "metadata": {},
     "output_type": "execute_result"
    }
   ],
   "source": [
    "# Are all values < -3 ?\n",
    "np.all(a < -3)"
   ]
  },
  {
   "cell_type": "code",
   "execution_count": 104,
   "metadata": {},
   "outputs": [
    {
     "data": {
      "text/plain": [
       "2"
      ]
     },
     "execution_count": 104,
     "metadata": {},
     "output_type": "execute_result"
    }
   ],
   "source": [
    "# Use boolean operators to filter values of an array:\n",
    "# count the number of values in the interval (-3, 3)\n",
    "np.sum((a > -3) & (a < 3))"
   ]
  },
  {
   "cell_type": "markdown",
   "metadata": {},
   "source": [
    "The table below presents the logical operators than NumPy supports. Use parenthesis to group logical operations involving several operators:\n",
    "\n",
    "| Operation | Operator   |\n",
    "|-----------|------------|\n",
    "| and       |  `&`       |\n",
    "| or        |  `\\|`       |\n",
    "| xor       |  `^`       |\n",
    "| not       |  `~`       |\n",
    "\n",
    "When applied to arrays, those logical operations return a **mask**, that is, an array with boolean values:"
   ]
  },
  {
   "cell_type": "code",
   "execution_count": 105,
   "metadata": {},
   "outputs": [
    {
     "data": {
      "text/plain": [
       "array([[False,  True, False,  True],\n",
       "       [ True, False,  True,  True],\n",
       "       [ True,  True,  True,  True]])"
      ]
     },
     "execution_count": 105,
     "metadata": {},
     "output_type": "execute_result"
    }
   ],
   "source": [
    "(a < -3) | (a > 3)"
   ]
  },
  {
   "cell_type": "markdown",
   "metadata": {},
   "source": [
    "We can use a mask to retrieve the actual values in the array. NumPy uses the mask to retrieve only the values in the array for which the mask's value is `True`:"
   ]
  },
  {
   "cell_type": "code",
   "execution_count": 106,
   "metadata": {},
   "outputs": [
    {
     "data": {
      "text/plain": [
       "array([-7,  5,  6, -8, -8, -8,  4, -8,  7])"
      ]
     },
     "execution_count": 106,
     "metadata": {},
     "output_type": "execute_result"
    }
   ],
   "source": [
    "# Return the values of 'a' that satisfy the given condition. The returned value is\n",
    "# itself an array\n",
    "a[(a < -3) | (a > 3)]"
   ]
  },
  {
   "cell_type": "code",
   "execution_count": 107,
   "metadata": {},
   "outputs": [
    {
     "name": "stdout",
     "output_type": "stream",
     "text": [
      "positives:    [5 6 4 7]\n",
      "negatives:    [-2 -7 -3 -8 -8 -8 -8]\n",
      "zero or more: [5 6 0 4 7]\n"
     ]
    }
   ],
   "source": [
    "# Build a mask with positives and negatives values in array a\n",
    "positives = a > 0\n",
    "negatives = a < 0\n",
    "zeroes    = a == 0\n",
    "\n",
    "# Use the named masks to retrieve the actual values\n",
    "print(\"positives:   \", a[positives])\n",
    "print(\"negatives:   \", a[negatives])\n",
    "print(\"zero or more:\", a[zeroes | positives])"
   ]
  },
  {
   "cell_type": "code",
   "execution_count": 108,
   "metadata": {},
   "outputs": [
    {
     "name": "stdout",
     "output_type": "stream",
     "text": [
      "[[-2 -7 -3  5]\n",
      " [ 6  0 -8 -8]\n",
      " [-8  4 -8  7]]\n"
     ]
    }
   ],
   "source": [
    "# You can also use a mask to modify specific values of the array\n",
    "print(a)"
   ]
  },
  {
   "cell_type": "code",
   "execution_count": 109,
   "metadata": {},
   "outputs": [
    {
     "name": "stdout",
     "output_type": "stream",
     "text": [
      "[[0 0 0 5]\n",
      " [6 0 0 0]\n",
      " [0 4 0 7]]\n"
     ]
    }
   ],
   "source": [
    "# Implement ReLU function: equivalent to np.maximum(a, 0)\n",
    "a[negatives | zeroes] = 0\n",
    "print(a)"
   ]
  },
  {
   "cell_type": "markdown",
   "metadata": {},
   "source": [
    "---------------\n",
    "## Example 1: IRIS dataset\n",
    "\n",
    "In this section we use NumPy to load a small dataset from disk and perform some operations on it. The [Iris dataset](https://en.wikipedia.org/wiki/Iris_flower_data_set) was obtained from the [UCI Machine Learning Repository](http://archive.ics.uci.edu/ml/index.php) and can be found online [here](http://archive.ics.uci.edu/ml/machine-learning-databases/iris/iris.data). You can find it in the `data` subdirectory, named as `iris.csv`.\n",
    "\n",
    "Please note that for pedagogical purposes here we use NumPy to explore this dataset, but **pandas** would be a better choice in this case. You can learn more about **pandas** in [this notebook](pandas.ipynb)."
   ]
  },
  {
   "cell_type": "code",
   "execution_count": 110,
   "metadata": {},
   "outputs": [
    {
     "name": "stdout",
     "output_type": "stream",
     "text": [
      "5.1,3.5,1.4,0.2,Iris-setosa\n",
      "4.9,3.0,1.4,0.2,Iris-setosa\n",
      "4.7,3.2,1.3,0.2,Iris-setosa\n"
     ]
    }
   ],
   "source": [
    "%%bash\n",
    "\n",
    "head -3 'data/iris.csv'"
   ]
  },
  {
   "cell_type": "code",
   "execution_count": 111,
   "metadata": {},
   "outputs": [],
   "source": [
    "# Load the dataset into 5 different arrays, one per feature\n",
    "file_name    = './data/iris.csv'\n",
    "sepal_length = np.loadtxt(file_name, delimiter=',', usecols=(0,))\n",
    "sepal_width  = np.loadtxt(file_name, delimiter=',', usecols=(1,))\n",
    "petal_length = np.loadtxt(file_name, delimiter=',', usecols=(2,))\n",
    "petal_width  = np.loadtxt(file_name, delimiter=',', usecols=(3,))\n",
    "species      = np.loadtxt(file_name, delimiter=',', usecols=(4,), dtype=str)"
   ]
  },
  {
   "cell_type": "code",
   "execution_count": 112,
   "metadata": {},
   "outputs": [
    {
     "name": "stdout",
     "output_type": "stream",
     "text": [
      "sepal_length.shape: (150,)\n",
      "sepal_width.shape:  (150,)\n",
      "petal_length.shape: (150,)\n",
      "petal_width.shape:  (150,)\n",
      "species.shape:      (150,)\n"
     ]
    }
   ],
   "source": [
    "# Explore the shapes of the arrays\n",
    "print(\"sepal_length.shape:\", sepal_length.shape)\n",
    "print(\"sepal_width.shape: \", sepal_width.shape)\n",
    "print(\"petal_length.shape:\", petal_length.shape)\n",
    "print(\"petal_width.shape: \", petal_width.shape)\n",
    "print(\"species.shape:     \", species.shape)"
   ]
  },
  {
   "cell_type": "code",
   "execution_count": 113,
   "metadata": {},
   "outputs": [
    {
     "data": {
      "text/plain": [
       "(array([5.1, 4.9, 4.7]),\n",
       " array(['Iris-setosa', 'Iris-setosa', 'Iris-setosa'], dtype='<U15'))"
      ]
     },
     "execution_count": 113,
     "metadata": {},
     "output_type": "execute_result"
    }
   ],
   "source": [
    "# Explore the contents of some of those arrays\n",
    "sepal_length[:3], species[:3]"
   ]
  },
  {
   "cell_type": "code",
   "execution_count": 114,
   "metadata": {},
   "outputs": [
    {
     "data": {
      "text/plain": [
       "array(['Iris-setosa', 'Iris-versicolor', 'Iris-virginica'], dtype='<U15')"
      ]
     },
     "execution_count": 114,
     "metadata": {},
     "output_type": "execute_result"
    }
   ],
   "source": [
    "# Retrieve the names of the species included in the dataset\n",
    "np.unique(species)"
   ]
  },
  {
   "cell_type": "code",
   "execution_count": 115,
   "metadata": {},
   "outputs": [],
   "source": [
    "# Create a mask for each species\n",
    "masks = { name:(species == name) for name in np.unique(species) }"
   ]
  },
  {
   "cell_type": "code",
   "execution_count": 116,
   "metadata": {},
   "outputs": [
    {
     "name": "stdout",
     "output_type": "stream",
     "text": [
      "Iris-setosa:\n",
      "   sepal length mean: 5.01\n",
      "   sepal length std:  0.35\n",
      "\n",
      "Iris-versicolor:\n",
      "   sepal length mean: 5.94\n",
      "   sepal length std:  0.51\n",
      "\n",
      "Iris-virginica:\n",
      "   sepal length mean: 6.59\n",
      "   sepal length std:  0.63\n",
      "\n"
     ]
    }
   ],
   "source": [
    "# Compute the mean and std for the sepal length feature for each species\n",
    "for sp, m in masks.items():\n",
    "    print(f\"{sp}:\")\n",
    "    print(f\"   sepal length mean: {sepal_length[m].mean():.2f}\")\n",
    "    print(f\"   sepal length std:  {sepal_length[m].std():.2f}\\n\")"
   ]
  },
  {
   "cell_type": "markdown",
   "metadata": {},
   "source": [
    "-------\n",
    "\n",
    "## Example 2: images as NumPy arrays\n",
    "\n",
    "In this example we see how images can be represented by a 3-dimensional NumPy array, where the 3rd dimension encodes the values for red, green and blue for each pixel. We use as an example a rendering of the [Large Synoptic Survey Telescope](https://www.lsst.org)."
   ]
  },
  {
   "cell_type": "code",
   "execution_count": 117,
   "metadata": {},
   "outputs": [],
   "source": [
    "%matplotlib inline\n",
    "import matplotlib\n",
    "import matplotlib.pyplot as plt\n",
    "import matplotlib.image as mpimg\n",
    "\n",
    "# Set some defaults for displaying figures\n",
    "matplotlib.rcParams[\"figure.figsize\"] = (8,6)\n",
    "matplotlib.rcParams[\"figure.dpi\"] = 100"
   ]
  },
  {
   "cell_type": "code",
   "execution_count": 118,
   "metadata": {},
   "outputs": [
    {
     "data": {
      "text/plain": [
       "numpy.ndarray"
      ]
     },
     "execution_count": 118,
     "metadata": {},
     "output_type": "execute_result"
    }
   ],
   "source": [
    "# Read the image using matplotlib\n",
    "image = mpimg.imread('./images/lsst.jpg')\n",
    "type(image)"
   ]
  },
  {
   "cell_type": "markdown",
   "metadata": {},
   "source": [
    "The image is represented in memory as a NumPy array that we can inspect:"
   ]
  },
  {
   "cell_type": "code",
   "execution_count": 119,
   "metadata": {},
   "outputs": [
    {
     "name": "stdout",
     "output_type": "stream",
     "text": [
      "dimensions: (1910, 2473, 3)\n",
      "type:       uint8\n"
     ]
    }
   ],
   "source": [
    "print(\"dimensions:\", image.shape)\n",
    "print(\"type:      \", image.dtype)"
   ]
  },
  {
   "cell_type": "code",
   "execution_count": 120,
   "metadata": {},
   "outputs": [
    {
     "data": {
      "text/plain": [
       "<matplotlib.image.AxesImage at 0x1229624a8>"
      ]
     },
     "execution_count": 120,
     "metadata": {},
     "output_type": "execute_result"
    },
    {
     "data": {
      "image/png": "[encoded data removed]",
      "text/plain": [
       "<Figure size 432x288 with 1 Axes>"
      ]
     },
     "metadata": {
      "needs_background": "light"
     },
     "output_type": "display_data"
    }
   ],
   "source": [
    "plt.imshow(image)"
   ]
  },
  {
   "cell_type": "code",
   "execution_count": 121,
   "metadata": {},
   "outputs": [
    {
     "data": {
      "text/plain": [
       "<matplotlib.image.AxesImage at 0x121627160>"
      ]
     },
     "execution_count": 121,
     "metadata": {},
     "output_type": "execute_result"
    },
    {
     "data": {
      "image/png": "[encoded data removed]",
      "text/plain": [
       "<Figure size 432x288 with 1 Axes>"
      ]
     },
     "metadata": {
      "needs_background": "light"
     },
     "output_type": "display_data"
    }
   ],
   "source": [
    "# Zooming in can be done by displaying a fraction of the\n",
    "# underlying array (a.k.a. cropping)\n",
    "plt.imshow(image[250:750, 1000:1500])"
   ]
  },
  {
   "cell_type": "code",
   "execution_count": 122,
   "metadata": {},
   "outputs": [
    {
     "data": {
      "text/plain": [
       "<matplotlib.image.AxesImage at 0x122de6ba8>"
      ]
     },
     "execution_count": 122,
     "metadata": {},
     "output_type": "execute_result"
    },
    {
     "data": {
      "image/png": "[encoded data removed]",
      "text/plain": [
       "<Figure size 432x288 with 1 Axes>"
      ]
     },
     "metadata": {
      "needs_background": "light"
     },
     "output_type": "display_data"
    }
   ],
   "source": [
    "# Display a single color channel using a meaningful colormap\n",
    "RED, GREEN, BLUE = 0, 1, 2\n",
    "colormaps = {RED: 'Reds', GREEN: 'Greens', BLUE: 'Blues'}\n",
    "\n",
    "channel = BLUE\n",
    "plt.imshow(image[:, :, channel], cmap=colormaps[channel])"
   ]
  },
  {
   "cell_type": "markdown",
   "metadata": {},
   "source": [
    "-------------\n",
    "## Acknowledgements\n",
    "<a id='Acknowledgements'></a>\n",
    "\n",
    "These are the sources this notebook draws ideas, inspiration and sometimes material from. You are encouraged to consult them to deep further:\n",
    "\n",
    "* [Python Data Science Handbook](https://jakevdp.github.io/PythonDataScienceHandbook/) by Jave VanderPlas (highly recommended book)\n",
    "* Python Bootcamp organised by the [Berkeley Institute for Data Science (BIDS)](https://bids.berkeley.edu) in the Fall 2016: [videos](https://bids.berkeley.edu/news/python-boot-camp-fall-2016-training-videos-available-online) and [notebooks](https://github.com/profjsb/python-bootcamp)\n",
    "\n",
    "If you are new to Python, the [HEP Software Foundation](https://hsf-training.github.io/analysis-essentials/)'s [Python Starter Kit](https://hsf-training.github.io/analysis-essentials/) may help you getting familiar with the tools used in a science experiment for analysing data.\n",
    "\n",
    "The book, [Fluent Python](https://github.com/fluentpython) by Luciano Ramalho is an excellent source when you are more comfortable with Python."
   ]
  }
 ],
 "metadata": {
  "kernelspec": {
   "display_name": "Python 3",
   "language": "python",
   "name": "python3"
  },
  "language_info": {
   "codemirror_mode": {
    "name": "ipython",
    "version": 3
   },
   "file_extension": ".py",
   "mimetype": "text/x-python",
   "name": "python",
   "nbconvert_exporter": "python",
   "pygments_lexer": "ipython3",
   "version": "3.7.3"
  }
 },
 "nbformat": 4,
 "nbformat_minor": 2
}
