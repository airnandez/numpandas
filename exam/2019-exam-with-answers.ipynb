{
 "cells": [
  {
   "cell_type": "markdown",
   "metadata": {},
   "source": [
    "# Exam pandas, with answers"
   ]
  },
  {
   "cell_type": "markdown",
   "metadata": {},
   "source": [
    "## Instructions\n",
    "\n",
    "For this exam we use the dataset we explored in class about the given names of French babies over the period 1900-2017. The documentation about this dataset is online at https://www.insee.fr/fr/statistiques/2540004 and the dataset is at `./data/prenoms-fr-1900-2017.tsv.gz`.\n",
    "\n",
    "For your convenience, this notebook is partially populated with code for loading and cleaning the dataset. A sample of the dataset is also displayed: **you have to focus on answering the questions.**"
   ]
  },
  {
   "cell_type": "markdown",
   "metadata": {},
   "source": [
    "## What you are expected to do\n",
    "\n",
    "Execute the cells of the notebook which are already populated before starting answering the questions, one by one. For answering each question you are provided one (or more) cells already prepared for you **to add your own code**. You will find some variables that you need to initialize."
   ]
  },
  {
   "cell_type": "markdown",
   "metadata": {},
   "source": [
    "## &#9888; **ATTENTION**  &#9888; **ATTENTION**  &#9888; **ATTENTION**  &#9888;\n",
    "\n",
    "When you are done answering your questions, please download the notebook file (extension `.ipynb`) to your personal computer and **send that file by e-mail to the address written in the whiteboard**. It is that notebook that we will use to give an score for your work."
   ]
  },
  {
   "cell_type": "markdown",
   "metadata": {},
   "source": [
    "----------------\n",
    "## Load the dataset"
   ]
  },
  {
   "cell_type": "code",
   "execution_count": 1,
   "metadata": {},
   "outputs": [],
   "source": [
    "import pandas as pd"
   ]
  },
  {
   "cell_type": "code",
   "execution_count": 2,
   "metadata": {},
   "outputs": [],
   "source": [
    "# Load the new dataset. Its fields are separated by tabs.\n",
    "# We ask pandas to interpret the columns 'annais' and 'dpt' as strings to avoid error with missing\n",
    "# values\n",
    "df = pd.read_csv('./data/prenoms-fr-1900-2017.tsv.gz', sep='\\t', dtype={'annais':str, 'dpt':str})"
   ]
  },
  {
   "cell_type": "markdown",
   "metadata": {},
   "source": [
    "## Clean the dataset"
   ]
  },
  {
   "cell_type": "code",
   "execution_count": 3,
   "metadata": {},
   "outputs": [],
   "source": [
    "# Rename some columns to use more meaningful names\n",
    "df = df.rename(columns={\n",
    "    'sexe':      'sex',\n",
    "    'preusuel':  'name',\n",
    "    'annais':    'year',\n",
    "    'dpt':       'department',\n",
    "    'nombre':    'count'})\n",
    "\n",
    "# Drop rows with missing 'department', 'year' and special 'name'\n",
    "df.drop(df[df['department'] == 'XX'].index, inplace=True)\n",
    "df.drop(df[df['year'] == 'XXXX'].index, inplace=True)\n",
    "df.drop(df[df['name'] == '_PRENOMS_RARES'].index, inplace=True)\n",
    "\n",
    "# Convert columns 'department' and 'year' to numeric values\n",
    "df['department'] = pd.to_numeric(df['department'])\n",
    "df['year']       = pd.to_numeric(df['year'])"
   ]
  },
  {
   "cell_type": "markdown",
   "metadata": {},
   "source": [
    "## Display a sample"
   ]
  },
  {
   "cell_type": "code",
   "execution_count": 4,
   "metadata": {},
   "outputs": [
    {
     "data": {
      "text/html": [
       "<div>\n",
       "<style scoped>\n",
       "    .dataframe tbody tr th:only-of-type {\n",
       "        vertical-align: middle;\n",
       "    }\n",
       "\n",
       "    .dataframe tbody tr th {\n",
       "        vertical-align: top;\n",
       "    }\n",
       "\n",
       "    .dataframe thead th {\n",
       "        text-align: right;\n",
       "    }\n",
       "</style>\n",
       "<table border=\"1\" class=\"dataframe\">\n",
       "  <thead>\n",
       "    <tr style=\"text-align: right;\">\n",
       "      <th></th>\n",
       "      <th>sex</th>\n",
       "      <th>name</th>\n",
       "      <th>year</th>\n",
       "      <th>department</th>\n",
       "      <th>count</th>\n",
       "    </tr>\n",
       "  </thead>\n",
       "  <tbody>\n",
       "    <tr>\n",
       "      <th>3175289</th>\n",
       "      <td>2</td>\n",
       "      <td>NOEMIE</td>\n",
       "      <td>1930</td>\n",
       "      <td>46</td>\n",
       "      <td>4</td>\n",
       "    </tr>\n",
       "    <tr>\n",
       "      <th>579417</th>\n",
       "      <td>1</td>\n",
       "      <td>GEORGES</td>\n",
       "      <td>1918</td>\n",
       "      <td>8</td>\n",
       "      <td>22</td>\n",
       "    </tr>\n",
       "    <tr>\n",
       "      <th>2782150</th>\n",
       "      <td>2</td>\n",
       "      <td>LUDIVINE</td>\n",
       "      <td>1981</td>\n",
       "      <td>24</td>\n",
       "      <td>8</td>\n",
       "    </tr>\n",
       "    <tr>\n",
       "      <th>1732050</th>\n",
       "      <td>2</td>\n",
       "      <td>ALYSON</td>\n",
       "      <td>1991</td>\n",
       "      <td>77</td>\n",
       "      <td>5</td>\n",
       "    </tr>\n",
       "    <tr>\n",
       "      <th>1530421</th>\n",
       "      <td>1</td>\n",
       "      <td>TRISTAN</td>\n",
       "      <td>1984</td>\n",
       "      <td>31</td>\n",
       "      <td>3</td>\n",
       "    </tr>\n",
       "    <tr>\n",
       "      <th>262152</th>\n",
       "      <td>1</td>\n",
       "      <td>CHARLES</td>\n",
       "      <td>1966</td>\n",
       "      <td>68</td>\n",
       "      <td>5</td>\n",
       "    </tr>\n",
       "    <tr>\n",
       "      <th>784876</th>\n",
       "      <td>1</td>\n",
       "      <td>JEAN-PAUL</td>\n",
       "      <td>1948</td>\n",
       "      <td>73</td>\n",
       "      <td>34</td>\n",
       "    </tr>\n",
       "    <tr>\n",
       "      <th>2315145</th>\n",
       "      <td>2</td>\n",
       "      <td>FATIHA</td>\n",
       "      <td>1977</td>\n",
       "      <td>33</td>\n",
       "      <td>8</td>\n",
       "    </tr>\n",
       "  </tbody>\n",
       "</table>\n",
       "</div>"
      ],
      "text/plain": [
       "         sex       name  year  department  count\n",
       "3175289    2     NOEMIE  1930          46      4\n",
       "579417     1    GEORGES  1918           8     22\n",
       "2782150    2   LUDIVINE  1981          24      8\n",
       "1732050    2     ALYSON  1991          77      5\n",
       "1530421    1    TRISTAN  1984          31      3\n",
       "262152     1    CHARLES  1966          68      5\n",
       "784876     1  JEAN-PAUL  1948          73     34\n",
       "2315145    2     FATIHA  1977          33      8"
      ]
     },
     "execution_count": 4,
     "metadata": {},
     "output_type": "execute_result"
    }
   ],
   "source": [
    "df.sample(8)"
   ]
  },
  {
   "cell_type": "markdown",
   "metadata": {},
   "source": [
    "## Subset the dataframe for convenience"
   ]
  },
  {
   "cell_type": "code",
   "execution_count": 5,
   "metadata": {},
   "outputs": [],
   "source": [
    "# In this dataset, the sex is represented as 1 for males and 2 for females\n",
    "MALE, FEMALE = 1, 2\n",
    "\n",
    "# Create two views of the dataframe: one for boys and one for girls\n",
    "is_boy  = df['sex'] == MALE\n",
    "is_girl = df['sex'] == FEMALE\n",
    "\n",
    "boys, girls = df[is_boy], df[is_girl]"
   ]
  },
  {
   "cell_type": "code",
   "execution_count": 6,
   "metadata": {},
   "outputs": [
    {
     "data": {
      "text/html": [
       "<div>\n",
       "<style scoped>\n",
       "    .dataframe tbody tr th:only-of-type {\n",
       "        vertical-align: middle;\n",
       "    }\n",
       "\n",
       "    .dataframe tbody tr th {\n",
       "        vertical-align: top;\n",
       "    }\n",
       "\n",
       "    .dataframe thead th {\n",
       "        text-align: right;\n",
       "    }\n",
       "</style>\n",
       "<table border=\"1\" class=\"dataframe\">\n",
       "  <thead>\n",
       "    <tr style=\"text-align: right;\">\n",
       "      <th></th>\n",
       "      <th>sex</th>\n",
       "      <th>name</th>\n",
       "      <th>year</th>\n",
       "      <th>department</th>\n",
       "      <th>count</th>\n",
       "    </tr>\n",
       "  </thead>\n",
       "  <tbody>\n",
       "    <tr>\n",
       "      <th>86879</th>\n",
       "      <td>1</td>\n",
       "      <td>ALPHONSE</td>\n",
       "      <td>1947</td>\n",
       "      <td>972</td>\n",
       "      <td>5</td>\n",
       "    </tr>\n",
       "    <tr>\n",
       "      <th>776019</th>\n",
       "      <td>1</td>\n",
       "      <td>JEAN-MARIE</td>\n",
       "      <td>1966</td>\n",
       "      <td>69</td>\n",
       "      <td>19</td>\n",
       "    </tr>\n",
       "    <tr>\n",
       "      <th>633121</th>\n",
       "      <td>1</td>\n",
       "      <td>GWENDAL</td>\n",
       "      <td>1987</td>\n",
       "      <td>75</td>\n",
       "      <td>4</td>\n",
       "    </tr>\n",
       "    <tr>\n",
       "      <th>1264103</th>\n",
       "      <td>1</td>\n",
       "      <td>PETER</td>\n",
       "      <td>1985</td>\n",
       "      <td>28</td>\n",
       "      <td>5</td>\n",
       "    </tr>\n",
       "    <tr>\n",
       "      <th>1355678</th>\n",
       "      <td>1</td>\n",
       "      <td>RODOLPHE</td>\n",
       "      <td>1972</td>\n",
       "      <td>14</td>\n",
       "      <td>9</td>\n",
       "    </tr>\n",
       "  </tbody>\n",
       "</table>\n",
       "</div>"
      ],
      "text/plain": [
       "         sex        name  year  department  count\n",
       "86879      1    ALPHONSE  1947         972      5\n",
       "776019     1  JEAN-MARIE  1966          69     19\n",
       "633121     1     GWENDAL  1987          75      4\n",
       "1264103    1       PETER  1985          28      5\n",
       "1355678    1    RODOLPHE  1972          14      9"
      ]
     },
     "execution_count": 6,
     "metadata": {},
     "output_type": "execute_result"
    }
   ],
   "source": [
    "boys.sample(5)"
   ]
  },
  {
   "cell_type": "code",
   "execution_count": 7,
   "metadata": {},
   "outputs": [
    {
     "data": {
      "text/html": [
       "<div>\n",
       "<style scoped>\n",
       "    .dataframe tbody tr th:only-of-type {\n",
       "        vertical-align: middle;\n",
       "    }\n",
       "\n",
       "    .dataframe tbody tr th {\n",
       "        vertical-align: top;\n",
       "    }\n",
       "\n",
       "    .dataframe thead th {\n",
       "        text-align: right;\n",
       "    }\n",
       "</style>\n",
       "<table border=\"1\" class=\"dataframe\">\n",
       "  <thead>\n",
       "    <tr style=\"text-align: right;\">\n",
       "      <th></th>\n",
       "      <th>sex</th>\n",
       "      <th>name</th>\n",
       "      <th>year</th>\n",
       "      <th>department</th>\n",
       "      <th>count</th>\n",
       "    </tr>\n",
       "  </thead>\n",
       "  <tbody>\n",
       "    <tr>\n",
       "      <th>2447055</th>\n",
       "      <td>2</td>\n",
       "      <td>HENRIETTE</td>\n",
       "      <td>1907</td>\n",
       "      <td>50</td>\n",
       "      <td>18</td>\n",
       "    </tr>\n",
       "    <tr>\n",
       "      <th>2169335</th>\n",
       "      <td>2</td>\n",
       "      <td>DOMINIQUE</td>\n",
       "      <td>1961</td>\n",
       "      <td>40</td>\n",
       "      <td>25</td>\n",
       "    </tr>\n",
       "    <tr>\n",
       "      <th>2100017</th>\n",
       "      <td>2</td>\n",
       "      <td>CORALIE</td>\n",
       "      <td>1994</td>\n",
       "      <td>89</td>\n",
       "      <td>15</td>\n",
       "    </tr>\n",
       "    <tr>\n",
       "      <th>2282084</th>\n",
       "      <td>2</td>\n",
       "      <td>ESTHER</td>\n",
       "      <td>1960</td>\n",
       "      <td>971</td>\n",
       "      <td>10</td>\n",
       "    </tr>\n",
       "    <tr>\n",
       "      <th>3191476</th>\n",
       "      <td>2</td>\n",
       "      <td>OCÉANE</td>\n",
       "      <td>1991</td>\n",
       "      <td>86</td>\n",
       "      <td>7</td>\n",
       "    </tr>\n",
       "  </tbody>\n",
       "</table>\n",
       "</div>"
      ],
      "text/plain": [
       "         sex       name  year  department  count\n",
       "2447055    2  HENRIETTE  1907          50     18\n",
       "2169335    2  DOMINIQUE  1961          40     25\n",
       "2100017    2    CORALIE  1994          89     15\n",
       "2282084    2     ESTHER  1960         971     10\n",
       "3191476    2     OCÉANE  1991          86      7"
      ]
     },
     "execution_count": 7,
     "metadata": {},
     "output_type": "execute_result"
    }
   ],
   "source": [
    "girls.sample(5)"
   ]
  },
  {
   "cell_type": "markdown",
   "metadata": {},
   "source": [
    "## Questions 1 & 2:\n",
    "\n",
    "**1)** Determine the year when the largest number of girls named `'MARIE'` were born. How many girls were named `'MARIE'` that particular year?"
   ]
  },
  {
   "cell_type": "code",
   "execution_count": 8,
   "metadata": {},
   "outputs": [
    {
     "name": "stdout",
     "output_type": "stream",
     "text": [
      "The year with largest number of girls named MARIE was 1901: there were 52,167 of them\n"
     ]
    }
   ],
   "source": [
    "# Groupe the 'MARIE' per year and for each group sum its column 'count' for all the departments\n",
    "maries_per_year = girls[girls['name'] == \"MARIE\"].groupby(['year'])['count'].sum()\n",
    "\n",
    "year = maries_per_year.idxmax()\n",
    "count_maries =  maries_per_year.max()\n",
    "\n",
    "print(f'The year with largest number of girls named MARIE was {year}: there were {count_maries:,} of them')"
   ]
  },
  {
   "cell_type": "markdown",
   "metadata": {},
   "source": [
    "**2)** What **percentage** of all the girls born that year were named `'MARIE'`?"
   ]
  },
  {
   "cell_type": "code",
   "execution_count": 9,
   "metadata": {},
   "outputs": [
    {
     "name": "stdout",
     "output_type": "stream",
     "text": [
      "21% of the girls born in 1901 were named MARIE\n"
     ]
    }
   ],
   "source": [
    "# Count the total number of girls born in the year computed in the previous question\n",
    "total_girls = girls[girls['year'] == year]['count'].sum()\n",
    "\n",
    "# Compute the fraction of MARIEs over the total number of girls born that year\n",
    "percent_maries = (count_maries * 100) / total_girls\n",
    "\n",
    "print(f'{percent_maries:.0f}% of the girls born in {year} were named MARIE')"
   ]
  },
  {
   "cell_type": "markdown",
   "metadata": {},
   "source": [
    "## Questions 3 & 4:\n",
    "\n",
    "**3)** Determine the most popular name for boys and for girls for the whole period included in the dataset."
   ]
  },
  {
   "cell_type": "code",
   "execution_count": 10,
   "metadata": {},
   "outputs": [
    {
     "name": "stdout",
     "output_type": "stream",
     "text": [
      "The most popular names over the period 1900-2017 are MARIE and JEAN\n"
     ]
    }
   ],
   "source": [
    "# Group the boys by name and sum the value of the column 'count' for all values of\n",
    "# the column 'year' and 'department'. Then get the index of the maximum resulting value\n",
    "# of that sum\n",
    "top_boys  = boys.groupby(['name'])['count'].sum().idxmax()\n",
    "\n",
    "# Idem for girls\n",
    "top_girls = girls.groupby(['name'])['count'].sum().idxmax()\n",
    "\n",
    "print(f'The most popular names over the period 1900-2017 are {top_girls} and {top_boys}')"
   ]
  },
  {
   "cell_type": "markdown",
   "metadata": {},
   "source": [
    "**4)** Determine the top most popular name for the girls who in 2019 are aged 20 years or less"
   ]
  },
  {
   "cell_type": "code",
   "execution_count": 11,
   "metadata": {},
   "outputs": [
    {
     "name": "stdout",
     "output_type": "stream",
     "text": [
      "The most popular name for girls aged 20 years or less in 2019 is LÉA\n"
     ]
    }
   ],
   "source": [
    "# Girls aged 20 years or less in 2019 were born in 1999 or later\n",
    "girls_20y_or_less = girls[girls['year'] >= 1999]\n",
    "\n",
    "# Same method used in the previous question\n",
    "top_girl_up_to_20years = girls_20y_or_less.groupby(['name'])['count'].sum().idxmax()\n",
    "\n",
    "print(f'The most popular name for girls aged 20 years or less in 2019 is {top_girl_up_to_20years}')"
   ]
  },
  {
   "cell_type": "markdown",
   "metadata": {},
   "source": [
    "## Question 5:\n",
    "\n",
    "Answer `True` or `False` to the question below:\n",
    "\n",
    "*Among the girls born in 1970, were there more named `\"ISABELLE\"` than `\"BRIGITTE\"` ?*"
   ]
  },
  {
   "cell_type": "code",
   "execution_count": 14,
   "metadata": {},
   "outputs": [
    {
     "name": "stdout",
     "output_type": "stream",
     "text": [
      "True: in 1970 16,543 girls were named ISABELLE and 1,837 were named BRIGITTE\n"
     ]
    }
   ],
   "source": [
    "# Select the girls born in 1970\n",
    "girls_1970 = girls[girls['year'] == 1970]\n",
    "\n",
    "# Group those girls by their given name, and for each group sum the values of the column 'count'\n",
    "girls_per_name_1970 = girls_1970.groupby(['name'])['count'].sum()\n",
    "\n",
    "# Select the rows for ISABELLE and BRIGITTE\n",
    "isabelles_1970 = girls_per_name_1970.loc['ISABELLE']\n",
    "brigittes_1970 = girls_per_name_1970.loc['BRIGITTE']\n",
    "\n",
    "print(f'{isabelles_1970 > brigittes_1970}: in 1970 {isabelles_1970:,} girls were named ISABELLE and {brigittes_1970:,} were named BRIGITTE')"
   ]
  }
 ],
 "metadata": {
  "kernelspec": {
   "display_name": "Python 3",
   "language": "python",
   "name": "python3"
  },
  "language_info": {
   "codemirror_mode": {
    "name": "ipython",
    "version": 3
   },
   "file_extension": ".py",
   "mimetype": "text/x-python",
   "name": "python",
   "nbconvert_exporter": "python",
   "pygments_lexer": "ipython3",
   "version": "3.7.4"
  }
 },
 "nbformat": 4,
 "nbformat_minor": 4
}
