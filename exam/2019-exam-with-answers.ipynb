{
 "cells": [
  {
   "cell_type": "markdown",
   "metadata": {},
   "source": [
    "# Exam pandas, with answers"
   ]
  },
  {
   "cell_type": "markdown",
   "metadata": {},
   "source": [
    "## Instructions\n",
    "\n",
    "For this exam we use the dataset we explored in class about the given names of French babies over the period 1900-2018. The documentation about this dataset is online at https://www.insee.fr/fr/statistiques/2540004 and the dataset is downloaded at `../data/prenoms-fr-1900-2018.csv.zip`.\n",
    "\n",
    "For your convenience, this notebook is partially populated with code for loading and cleaning the dataset. A sample of the dataset is also displayed: **you have to focus on answering the questions.**"
   ]
  },
  {
   "cell_type": "markdown",
   "metadata": {},
   "source": [
    "## Download the dataset"
   ]
  },
  {
   "cell_type": "code",
   "execution_count": 2,
   "metadata": {},
   "outputs": [
    {
     "name": "stdout",
     "output_type": "stream",
     "text": [
      "-rw-r--r--  1 fabio  staff    12M Feb 13 11:00 ../data/prenoms-fr-1900-2018.csv.zip\n"
     ]
    }
   ],
   "source": [
    "%%bash\n",
    "\n",
    "force_download=false  # Set to 'true' to force download\n",
    "dataset_location='https://www.insee.fr/fr/statistiques/fichier/2540004/dpt2018_csv.zip'\n",
    "dataset_file_name='../data/prenoms-fr-1900-2018.csv.zip'\n",
    "\n",
    "if [[ ${force_download} == true || ! -e ${dataset_file_name} ]]; then\n",
    "   curl --silent -L --output ${dataset_file_name} ${dataset_location}\n",
    "fi\n",
    "\n",
    "ls -lh ${dataset_file_name}"
   ]
  },
  {
   "cell_type": "markdown",
   "metadata": {},
   "source": [
    "## What you are expected to do\n",
    "\n",
    "Execute the cells of the notebook which are already populated before starting answering the questions, one by one. For answering each question you are provided one (or more) cells already prepared for you **to add your own code**. You will find some variables that you need to initialize."
   ]
  },
  {
   "cell_type": "markdown",
   "metadata": {},
   "source": [
    "## &#9888; **ATTENTION**  &#9888; **ATTENTION**  &#9888; **ATTENTION**  &#9888;\n",
    "\n",
    "When you are done answering your questions, please download the notebook file (extension `.ipynb`) to your personal computer and **send that file by e-mail to the address written in the whiteboard**. It is that notebook that we will use to give an score for your work."
   ]
  },
  {
   "cell_type": "markdown",
   "metadata": {},
   "source": [
    "----------------\n",
    "## Load the dataset"
   ]
  },
  {
   "cell_type": "code",
   "execution_count": 3,
   "metadata": {},
   "outputs": [],
   "source": [
    "import pandas as pd"
   ]
  },
  {
   "cell_type": "code",
   "execution_count": 6,
   "metadata": {},
   "outputs": [
    {
     "name": "stdout",
     "output_type": "stream",
     "text": [
      "This dataset contains 3,624,994 rows and 5 columns\n"
     ]
    }
   ],
   "source": [
    "# Load the data. Its fields are separated by ';'.\n",
    "# We ask pandas to interpret the columns 'annais' and 'dpt' as strings to avoid error with missing\n",
    "# values\n",
    "df = pd.read_csv('../data/prenoms-fr-1900-2018.csv.zip', sep=';', dtype={'annais':str, 'dpt':str})\n",
    "rows, cols = df.shape\n",
    "print(f'This dataset contains {rows:,} rows and {cols} columns')"
   ]
  },
  {
   "cell_type": "markdown",
   "metadata": {},
   "source": [
    "## Clean the dataset"
   ]
  },
  {
   "cell_type": "code",
   "execution_count": 7,
   "metadata": {},
   "outputs": [],
   "source": [
    "# Rename some columns to use more meaningful names\n",
    "df = df.rename(columns={\n",
    "    'sexe':      'sex',\n",
    "    'preusuel':  'name',\n",
    "    'annais':    'year',\n",
    "    'dpt':       'department',\n",
    "    'nombre':    'count'})\n",
    "\n",
    "# Drop rows with missing department and year and special '_PRENOMS_RARES'\n",
    "df.drop(df[df['department'] == 'XX'].index, inplace=True)\n",
    "df.drop(df[df['year'] == 'XXXX'].index, inplace=True)\n",
    "df.drop(df[df['name'] == '_PRENOMS_RARES'].index, inplace=True)\n",
    "\n",
    "# Convert column 'year' to numeric values\n",
    "df['year'] = pd.to_numeric(df['year'])"
   ]
  },
  {
   "cell_type": "markdown",
   "metadata": {},
   "source": [
    "## Display a sample"
   ]
  },
  {
   "cell_type": "code",
   "execution_count": 8,
   "metadata": {},
   "outputs": [
    {
     "data": {
      "text/html": [
       "<div>\n",
       "<style scoped>\n",
       "    .dataframe tbody tr th:only-of-type {\n",
       "        vertical-align: middle;\n",
       "    }\n",
       "\n",
       "    .dataframe tbody tr th {\n",
       "        vertical-align: top;\n",
       "    }\n",
       "\n",
       "    .dataframe thead th {\n",
       "        text-align: right;\n",
       "    }\n",
       "</style>\n",
       "<table border=\"1\" class=\"dataframe\">\n",
       "  <thead>\n",
       "    <tr style=\"text-align: right;\">\n",
       "      <th></th>\n",
       "      <th>sex</th>\n",
       "      <th>name</th>\n",
       "      <th>year</th>\n",
       "      <th>department</th>\n",
       "      <th>count</th>\n",
       "    </tr>\n",
       "  </thead>\n",
       "  <tbody>\n",
       "    <tr>\n",
       "      <td>2089428</td>\n",
       "      <td>2</td>\n",
       "      <td>CLAUDETTE</td>\n",
       "      <td>1942</td>\n",
       "      <td>72</td>\n",
       "      <td>31</td>\n",
       "    </tr>\n",
       "    <tr>\n",
       "      <td>829384</td>\n",
       "      <td>1</td>\n",
       "      <td>JOAN</td>\n",
       "      <td>2004</td>\n",
       "      <td>31</td>\n",
       "      <td>6</td>\n",
       "    </tr>\n",
       "    <tr>\n",
       "      <td>1127738</td>\n",
       "      <td>1</td>\n",
       "      <td>MAXIME</td>\n",
       "      <td>1913</td>\n",
       "      <td>30</td>\n",
       "      <td>6</td>\n",
       "    </tr>\n",
       "    <tr>\n",
       "      <td>3146001</td>\n",
       "      <td>2</td>\n",
       "      <td>MYLÈNE</td>\n",
       "      <td>1968</td>\n",
       "      <td>38</td>\n",
       "      <td>8</td>\n",
       "    </tr>\n",
       "    <tr>\n",
       "      <td>353566</td>\n",
       "      <td>1</td>\n",
       "      <td>DENIS</td>\n",
       "      <td>1976</td>\n",
       "      <td>08</td>\n",
       "      <td>8</td>\n",
       "    </tr>\n",
       "    <tr>\n",
       "      <td>1895863</td>\n",
       "      <td>2</td>\n",
       "      <td>ASSYA</td>\n",
       "      <td>2013</td>\n",
       "      <td>94</td>\n",
       "      <td>9</td>\n",
       "    </tr>\n",
       "    <tr>\n",
       "      <td>2119282</td>\n",
       "      <td>2</td>\n",
       "      <td>COLETTE</td>\n",
       "      <td>1920</td>\n",
       "      <td>73</td>\n",
       "      <td>5</td>\n",
       "    </tr>\n",
       "    <tr>\n",
       "      <td>3129951</td>\n",
       "      <td>2</td>\n",
       "      <td>MONIQUE</td>\n",
       "      <td>1936</td>\n",
       "      <td>12</td>\n",
       "      <td>46</td>\n",
       "    </tr>\n",
       "  </tbody>\n",
       "</table>\n",
       "</div>"
      ],
      "text/plain": [
       "         sex       name  year department  count\n",
       "2089428    2  CLAUDETTE  1942         72     31\n",
       "829384     1       JOAN  2004         31      6\n",
       "1127738    1     MAXIME  1913         30      6\n",
       "3146001    2     MYLÈNE  1968         38      8\n",
       "353566     1      DENIS  1976         08      8\n",
       "1895863    2      ASSYA  2013         94      9\n",
       "2119282    2    COLETTE  1920         73      5\n",
       "3129951    2    MONIQUE  1936         12     46"
      ]
     },
     "execution_count": 8,
     "metadata": {},
     "output_type": "execute_result"
    }
   ],
   "source": [
    "df.sample(8)"
   ]
  },
  {
   "cell_type": "markdown",
   "metadata": {},
   "source": [
    "## Subset the dataframe for convenience"
   ]
  },
  {
   "cell_type": "code",
   "execution_count": 9,
   "metadata": {},
   "outputs": [],
   "source": [
    "# In this dataset, the sex is represented as 1 for males and 2 for females\n",
    "# For convenience, create two views of the dataframe: one for boys and one for girls\n",
    "is_boy  = df['sex'] == 1\n",
    "is_girl = df['sex'] == 2\n",
    "\n",
    "boys, girls = df[is_boy], df[is_girl]"
   ]
  },
  {
   "cell_type": "code",
   "execution_count": 19,
   "metadata": {},
   "outputs": [
    {
     "data": {
      "text/html": [
       "<div>\n",
       "<style scoped>\n",
       "    .dataframe tbody tr th:only-of-type {\n",
       "        vertical-align: middle;\n",
       "    }\n",
       "\n",
       "    .dataframe tbody tr th {\n",
       "        vertical-align: top;\n",
       "    }\n",
       "\n",
       "    .dataframe thead th {\n",
       "        text-align: right;\n",
       "    }\n",
       "</style>\n",
       "<table border=\"1\" class=\"dataframe\">\n",
       "  <thead>\n",
       "    <tr style=\"text-align: right;\">\n",
       "      <th></th>\n",
       "      <th>sex</th>\n",
       "      <th>name</th>\n",
       "      <th>year</th>\n",
       "      <th>department</th>\n",
       "      <th>count</th>\n",
       "    </tr>\n",
       "  </thead>\n",
       "  <tbody>\n",
       "    <tr>\n",
       "      <td>3</td>\n",
       "      <td>1</td>\n",
       "      <td>AADIL</td>\n",
       "      <td>1983</td>\n",
       "      <td>84</td>\n",
       "      <td>3</td>\n",
       "    </tr>\n",
       "    <tr>\n",
       "      <td>4</td>\n",
       "      <td>1</td>\n",
       "      <td>AADIL</td>\n",
       "      <td>1992</td>\n",
       "      <td>92</td>\n",
       "      <td>3</td>\n",
       "    </tr>\n",
       "    <tr>\n",
       "      <td>6</td>\n",
       "      <td>1</td>\n",
       "      <td>AAHIL</td>\n",
       "      <td>2016</td>\n",
       "      <td>95</td>\n",
       "      <td>3</td>\n",
       "    </tr>\n",
       "    <tr>\n",
       "      <td>9</td>\n",
       "      <td>1</td>\n",
       "      <td>AARON</td>\n",
       "      <td>1962</td>\n",
       "      <td>75</td>\n",
       "      <td>3</td>\n",
       "    </tr>\n",
       "    <tr>\n",
       "      <td>10</td>\n",
       "      <td>1</td>\n",
       "      <td>AARON</td>\n",
       "      <td>1976</td>\n",
       "      <td>75</td>\n",
       "      <td>3</td>\n",
       "    </tr>\n",
       "    <tr>\n",
       "      <td>11</td>\n",
       "      <td>1</td>\n",
       "      <td>AARON</td>\n",
       "      <td>1982</td>\n",
       "      <td>75</td>\n",
       "      <td>3</td>\n",
       "    </tr>\n",
       "    <tr>\n",
       "      <td>12</td>\n",
       "      <td>1</td>\n",
       "      <td>AARON</td>\n",
       "      <td>1984</td>\n",
       "      <td>75</td>\n",
       "      <td>3</td>\n",
       "    </tr>\n",
       "    <tr>\n",
       "      <td>13</td>\n",
       "      <td>1</td>\n",
       "      <td>AARON</td>\n",
       "      <td>1985</td>\n",
       "      <td>75</td>\n",
       "      <td>5</td>\n",
       "    </tr>\n",
       "  </tbody>\n",
       "</table>\n",
       "</div>"
      ],
      "text/plain": [
       "    sex   name  year department  count\n",
       "3     1  AADIL  1983         84      3\n",
       "4     1  AADIL  1992         92      3\n",
       "6     1  AAHIL  2016         95      3\n",
       "9     1  AARON  1962         75      3\n",
       "10    1  AARON  1976         75      3\n",
       "11    1  AARON  1982         75      3\n",
       "12    1  AARON  1984         75      3\n",
       "13    1  AARON  1985         75      5"
      ]
     },
     "execution_count": 19,
     "metadata": {},
     "output_type": "execute_result"
    }
   ],
   "source": [
    "boys.head(8)"
   ]
  },
  {
   "cell_type": "code",
   "execution_count": 21,
   "metadata": {},
   "outputs": [
    {
     "data": {
      "text/html": [
       "<div>\n",
       "<style scoped>\n",
       "    .dataframe tbody tr th:only-of-type {\n",
       "        vertical-align: middle;\n",
       "    }\n",
       "\n",
       "    .dataframe tbody tr th {\n",
       "        vertical-align: top;\n",
       "    }\n",
       "\n",
       "    .dataframe thead th {\n",
       "        text-align: right;\n",
       "    }\n",
       "</style>\n",
       "<table border=\"1\" class=\"dataframe\">\n",
       "  <thead>\n",
       "    <tr style=\"text-align: right;\">\n",
       "      <th></th>\n",
       "      <th>sex</th>\n",
       "      <th>name</th>\n",
       "      <th>year</th>\n",
       "      <th>department</th>\n",
       "      <th>count</th>\n",
       "    </tr>\n",
       "  </thead>\n",
       "  <tbody>\n",
       "    <tr>\n",
       "      <td>1919812</td>\n",
       "      <td>2</td>\n",
       "      <td>AURÉLIE</td>\n",
       "      <td>1998</td>\n",
       "      <td>37</td>\n",
       "      <td>5</td>\n",
       "    </tr>\n",
       "    <tr>\n",
       "      <td>2025124</td>\n",
       "      <td>2</td>\n",
       "      <td>CHARLENE</td>\n",
       "      <td>2012</td>\n",
       "      <td>13</td>\n",
       "      <td>5</td>\n",
       "    </tr>\n",
       "    <tr>\n",
       "      <td>3330899</td>\n",
       "      <td>2</td>\n",
       "      <td>REINE</td>\n",
       "      <td>1928</td>\n",
       "      <td>24</td>\n",
       "      <td>33</td>\n",
       "    </tr>\n",
       "    <tr>\n",
       "      <td>3510149</td>\n",
       "      <td>2</td>\n",
       "      <td>TALI</td>\n",
       "      <td>1996</td>\n",
       "      <td>75</td>\n",
       "      <td>4</td>\n",
       "    </tr>\n",
       "    <tr>\n",
       "      <td>2880283</td>\n",
       "      <td>2</td>\n",
       "      <td>MAEVA</td>\n",
       "      <td>1989</td>\n",
       "      <td>03</td>\n",
       "      <td>4</td>\n",
       "    </tr>\n",
       "    <tr>\n",
       "      <td>3170506</td>\n",
       "      <td>2</td>\n",
       "      <td>NADEGE</td>\n",
       "      <td>1983</td>\n",
       "      <td>92</td>\n",
       "      <td>26</td>\n",
       "    </tr>\n",
       "    <tr>\n",
       "      <td>3503398</td>\n",
       "      <td>2</td>\n",
       "      <td>SYLVIE</td>\n",
       "      <td>1963</td>\n",
       "      <td>03</td>\n",
       "      <td>195</td>\n",
       "    </tr>\n",
       "    <tr>\n",
       "      <td>2346150</td>\n",
       "      <td>2</td>\n",
       "      <td>FANNY</td>\n",
       "      <td>2011</td>\n",
       "      <td>60</td>\n",
       "      <td>3</td>\n",
       "    </tr>\n",
       "  </tbody>\n",
       "</table>\n",
       "</div>"
      ],
      "text/plain": [
       "         sex      name  year department  count\n",
       "1919812    2   AURÉLIE  1998         37      5\n",
       "2025124    2  CHARLENE  2012         13      5\n",
       "3330899    2     REINE  1928         24     33\n",
       "3510149    2      TALI  1996         75      4\n",
       "2880283    2     MAEVA  1989         03      4\n",
       "3170506    2    NADEGE  1983         92     26\n",
       "3503398    2    SYLVIE  1963         03    195\n",
       "2346150    2     FANNY  2011         60      3"
      ]
     },
     "execution_count": 21,
     "metadata": {},
     "output_type": "execute_result"
    }
   ],
   "source": [
    "girls.sample(8)"
   ]
  },
  {
   "cell_type": "markdown",
   "metadata": {},
   "source": [
    "## Questions 1 & 2:\n",
    "\n",
    "**1)** Determine the year when the largest number of girls named `'MARIE'` were born. How many girls were named `'MARIE'` that particular year?"
   ]
  },
  {
   "cell_type": "code",
   "execution_count": 12,
   "metadata": {},
   "outputs": [
    {
     "name": "stdout",
     "output_type": "stream",
     "text": [
      "The year with largest number of girls named MARIE was 1901: there were 52,149 of them\n"
     ]
    }
   ],
   "source": [
    "# Group the 'MARIE' per year and for each group (i.e. each year) sum the column 'count' for all the departments\n",
    "is_marie = girls['name'] == \"MARIE\"\n",
    "maries_per_year = girls[is_marie].groupby(['year'])['count'].sum()\n",
    "\n",
    "year = maries_per_year.idxmax()\n",
    "count_maries =  maries_per_year.max()\n",
    "\n",
    "print(f'The year with largest number of girls named MARIE was {year}: there were {count_maries:,} of them')"
   ]
  },
  {
   "cell_type": "markdown",
   "metadata": {},
   "source": [
    "**2)** What **percentage** of all the girls born that year were named `'MARIE'`?"
   ]
  },
  {
   "cell_type": "code",
   "execution_count": 13,
   "metadata": {},
   "outputs": [
    {
     "name": "stdout",
     "output_type": "stream",
     "text": [
      "21% of the girls born in 1901 were named MARIE\n"
     ]
    }
   ],
   "source": [
    "# Count the total number of girls born in the year computed in the previous question\n",
    "total_girls = girls[girls['year'] == year]['count'].sum()\n",
    "\n",
    "# Compute the fraction of MARIEs over the total number of girls born that year\n",
    "percent_maries = (count_maries * 100) / total_girls\n",
    "\n",
    "print(f'{percent_maries:.0f}% of the girls born in {year} were named MARIE')"
   ]
  },
  {
   "cell_type": "markdown",
   "metadata": {},
   "source": [
    "## Questions 3 & 4:\n",
    "\n",
    "**3)** Determine the most popular name for boys and for girls for the whole period included in the dataset."
   ]
  },
  {
   "cell_type": "code",
   "execution_count": 14,
   "metadata": {},
   "outputs": [
    {
     "name": "stdout",
     "output_type": "stream",
     "text": [
      "The most popular names over the period 1900-2018 are MARIE and JEAN\n"
     ]
    }
   ],
   "source": [
    "# Group the boys by name and sum the value of the column 'count' for all values of\n",
    "# the column 'year' and 'department'. Then get the index of the maximum resulting value\n",
    "# of that sum\n",
    "top_boys  = boys.groupby(['name'])['count'].sum().idxmax()\n",
    "\n",
    "# Idem for girls\n",
    "top_girls = girls.groupby(['name'])['count'].sum().idxmax()\n",
    "\n",
    "print(f'The most popular names over the period 1900-2018 are {top_girls} and {top_boys}')"
   ]
  },
  {
   "cell_type": "markdown",
   "metadata": {},
   "source": [
    "**4)** Determine the top most popular name for the girls who in 2019 are aged 20 years or less"
   ]
  },
  {
   "cell_type": "code",
   "execution_count": 15,
   "metadata": {},
   "outputs": [
    {
     "name": "stdout",
     "output_type": "stream",
     "text": [
      "The most popular name for girls aged 20 years or less in 2019 is EMMA\n"
     ]
    }
   ],
   "source": [
    "# Girls aged 20 years or less in 2019 were born in 1999 or later\n",
    "girls_20y_or_less = girls[girls['year'] >= 1999]\n",
    "\n",
    "# Same method used in the previous question\n",
    "top_girl_up_to_20years = girls_20y_or_less.groupby(['name'])['count'].sum().idxmax()\n",
    "\n",
    "print(f'The most popular name for girls aged 20 years or less in 2019 is {top_girl_up_to_20years}')"
   ]
  },
  {
   "cell_type": "markdown",
   "metadata": {},
   "source": [
    "## Question 5:\n",
    "\n",
    "Answer `True` or `False` to the question below:\n",
    "\n",
    "*Among the girls born in 1970, were there more named `\"ISABELLE\"` than `\"BRIGITTE\"` ?*"
   ]
  },
  {
   "cell_type": "code",
   "execution_count": 16,
   "metadata": {},
   "outputs": [
    {
     "name": "stdout",
     "output_type": "stream",
     "text": [
      "True: in 1970 16,543 girls were named ISABELLE and 1,837 were named BRIGITTE\n"
     ]
    }
   ],
   "source": [
    "# Select the girls born in 1970\n",
    "girls_1970 = girls[girls['year'] == 1970]\n",
    "\n",
    "# Group those girls by their given name, and for each group sum the values of the column 'count'\n",
    "girls_per_name_1970 = girls_1970.groupby(['name'])['count'].sum()\n",
    "\n",
    "# Select the rows for ISABELLE and BRIGITTE\n",
    "isabelles_1970 = girls_per_name_1970.loc['ISABELLE']\n",
    "brigittes_1970 = girls_per_name_1970.loc['BRIGITTE']\n",
    "\n",
    "print(f'{isabelles_1970 > brigittes_1970}: in 1970 {isabelles_1970:,} girls were named ISABELLE and {brigittes_1970:,} were named BRIGITTE')"
   ]
  }
 ],
 "metadata": {
  "kernelspec": {
   "display_name": "Python 3",
   "language": "python",
   "name": "python3"
  },
  "language_info": {
   "codemirror_mode": {
    "name": "ipython",
    "version": 3
   },
   "file_extension": ".py",
   "mimetype": "text/x-python",
   "name": "python",
   "nbconvert_exporter": "python",
   "pygments_lexer": "ipython3",
   "version": "3.7.4"
  }
 },
 "nbformat": 4,
 "nbformat_minor": 4
}
