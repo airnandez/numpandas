{
 "cells": [
  {
   "cell_type": "markdown",
   "metadata": {},
   "source": [
    "# Homework pandas"
   ]
  },
  {
   "cell_type": "markdown",
   "metadata": {},
   "source": [
    "<table align=\"left\">\n",
    "    <tr>\n",
    "    <td><a href=\"https://colab.research.google.com/github/airnandez/numpandas/blob/master/exam/2020-exam.ipynb\">\n",
    "  <img src=\"https://colab.research.google.com/assets/colab-badge.svg\" alt=\"Open In Colab\"/>\n",
    "</a></td>\n",
    "    <td><a href=\"https://mybinder.org/v2/gh/airnandez/numpandas/master?filepath=exam%2F2020-exam.ipynb\">\n",
    "  <img src=\"https://mybinder.org/badge_logo.svg\" alt=\"Launch Binder\"/>\n",
    "</a></td>\n",
    "  </tr>\n",
    "</table>"
   ]
  },
  {
   "cell_type": "markdown",
   "metadata": {},
   "source": [
    "*Author: Fabio Hernandez*\n",
    "\n",
    "*Last updated: 2021-04-02*\n",
    "\n",
    "*Location:* https://github.com/airnandez/numpandas/exam"
   ]
  },
  {
   "cell_type": "markdown",
   "metadata": {},
   "source": [
    "--------------------\n",
    "## Instructions\n",
    "\n",
    "For this excercise we will use a public dataset curated and made available by [Our World in Data](https://ourworldindata.org) located in [this repository](https://github.com/owid/covid-19-data/tree/master/public/data). We will use a snapshot of the dataset as of 2021-04-02.\n",
    "\n",
    "For your convenience, this notebook is prepared with code for downloading the snapshot dataset from its source, loading it into memory as a **pandas** dataframe and with some cleaning and helper functions. Your mission is execute the provided cells and to write the code to answer the questions below.\n",
    "\n",
    "You must not modify the code provided. You must provide code for answering the questions, following the instructions for each one of them.\n",
    "\n",
    "When you have finished, please save your notebook in the form of a `.ipynb` file and send it to your instructor according to the instructions you received by e-mail."
   ]
  },
  {
   "cell_type": "markdown",
   "metadata": {},
   "source": [
    "---------------------\n",
    "## Dependencies"
   ]
  },
  {
   "cell_type": "code",
   "execution_count": null,
   "metadata": {},
   "outputs": [],
   "source": [
    "import datetime\n",
    "import os\n",
    "import glob"
   ]
  },
  {
   "cell_type": "code",
   "execution_count": null,
   "metadata": {},
   "outputs": [],
   "source": [
    "import pandas as pd\n",
    "pd.set_option('display.max_columns', None)\n",
    "pd.__version__"
   ]
  },
  {
   "cell_type": "code",
   "execution_count": null,
   "metadata": {},
   "outputs": [],
   "source": [
    "import numpy as np\n",
    "np.__version__"
   ]
  },
  {
   "cell_type": "markdown",
   "metadata": {},
   "source": [
    "------\n",
    "## Download the dataset"
   ]
  },
  {
   "cell_type": "markdown",
   "metadata": {},
   "source": [
    "Define a helper function for downloading data to a local file:"
   ]
  },
  {
   "cell_type": "code",
   "execution_count": null,
   "metadata": {},
   "outputs": [],
   "source": [
    "import requests\n",
    "\n",
    "def download(url: str, path: str):\n",
    "    \"\"\"Download file at url and save it locally at path.\"\"\"\n",
    "    with requests.get(url, stream=True) as resp:\n",
    "        if not resp.ok:\n",
    "            raise f'Could not find file at URL {url}'\n",
    "            \n",
    "        mode, data = 'wb', resp.content\n",
    "        if 'text/plain' in resp.headers['Content-Type']:\n",
    "            mode, data = 'wt', resp.text\n",
    "        with open(path, mode) as f:\n",
    "            f.write(data)"
   ]
  },
  {
   "cell_type": "markdown",
   "metadata": {},
   "source": [
    "Download the data files. We store the downloaded data in the directory `../data` relative to the location of this notebook. If a file has been already been downloaded, don't download it again."
   ]
  },
  {
   "cell_type": "code",
   "execution_count": null,
   "metadata": {},
   "outputs": [],
   "source": [
    "# Download files\n",
    "data_sources = (\n",
    "    \"https://raw.githubusercontent.com/airnandez/numpandas/master/data/2021-04-02-owid-covid-data.csv\",\n",
    ")\n",
    "\n",
    "# Create destination directory\n",
    "os.makedirs(os.path.join('..', 'data'), exist_ok=True)\n",
    "\n",
    "for url in data_sources:\n",
    "    # Build the URL and the destination file path\n",
    "    path = os.path.join('..', 'data', os.path.basename(url))\n",
    "    \n",
    "    # If file already exists don't download it again\n",
    "    if not os.path.isfile(path) :\n",
    "        print(f'downloading {url} to {path}')\n",
    "        download(url, path)"
   ]
  },
  {
   "cell_type": "markdown",
   "metadata": {},
   "source": [
    "Check what files we have for our analysis:"
   ]
  },
  {
   "cell_type": "code",
   "execution_count": null,
   "metadata": {},
   "outputs": [],
   "source": [
    "file_paths = glob.glob(os.path.join('..', 'data', '2021-*-owid-*'))\n",
    "print('\\n'.join(f for f in file_paths))"
   ]
  },
  {
   "cell_type": "markdown",
   "metadata": {},
   "source": [
    "---------------------\n",
    "## Load the data\n",
    "\n",
    "Load the file `2021-04-02-owid-covid-data.csv` to a **pandas** dataframe.\n",
    "\n",
    "⚠️ **Make sure you get familiar with the contents of that file, by reading the [codebook](https://github.com/owid/covid-19-data/blob/master/public/data/owid-covid-codebook.csv), which describes the meaning of each column.**"
   ]
  },
  {
   "cell_type": "code",
   "execution_count": null,
   "metadata": {},
   "outputs": [],
   "source": [
    "path = os.path.join('..', 'data', '2021-04-02-owid-covid-data.csv')\n",
    "df = pd.read_csv(path, parse_dates=['date'])\n",
    "df.sample(5)"
   ]
  },
  {
   "cell_type": "markdown",
   "metadata": {},
   "source": [
    "------------------------\n",
    "## Question 1: number of cases, incidence and fatality ratio"
   ]
  },
  {
   "cell_type": "markdown",
   "metadata": {},
   "source": [
    "We want to compute the total number of cases, deaths and fatality ratio in France and in the world as of 2021-04-01.\n",
    "\n",
    "The fatality ratio is the fraction of deaths over the total number of confirmed COVID-19 cases. The incidence is the ratio of the total number of confirmed cases over the population."
   ]
  },
  {
   "cell_type": "markdown",
   "metadata": {},
   "source": [
    "### Question 1a (3 points)\n",
    "\n",
    "Compute the total number of cases, deaths, incidence and fatality ratio for France. You must write code to extract the relevant information from the dataframe and assign the appropriate values to the variables defined in the cell below."
   ]
  },
  {
   "cell_type": "code",
   "execution_count": null,
   "metadata": {},
   "outputs": [],
   "source": [
    "# Total confirmed cases of COVID-19 in France\n",
    "...\n",
    "total_cases_fr = ...\n",
    "\n",
    "# Population in France\n",
    "population_fr = ...\n",
    "\n",
    "# Total number of deaths attributed to COVID-19 in France\n",
    "total_deaths_fr = ...\n",
    "\n",
    "# Incidence in France\n",
    "incidence_fr = (total_cases_fr / population_fr) * 100\n",
    "\n",
    "# Fatality ratio: deaths vs confirmed cases\n",
    "fatality_fr = (total_deaths_fr / total_cases_fr) * 100\n",
    "\n",
    "print(f'Population in France:             {population_fr:>12,.0f}')\n",
    "print(f'Total number of cases in France:  {total_cases_fr:>12,.0f}')\n",
    "print(f'Total number of deaths in France: {total_deaths_fr:>12,.0f}')\n",
    "print(f'Incidence in France:              {incidence_fr:>12,.2f}%')\n",
    "print(f'Fatality ratio in France:         {fatality_fr:>12.2f}%')"
   ]
  },
  {
   "cell_type": "markdown",
   "metadata": {},
   "source": [
    "### Question 1b (3 points)\n",
    "\n",
    "As done for France in the previous question, here you need to compute the total number of cases, deaths, incidence and fatality ratio for the entire world:"
   ]
  },
  {
   "cell_type": "code",
   "execution_count": null,
   "metadata": {},
   "outputs": [],
   "source": [
    "# Select data for the whole world\n",
    "...\n",
    "population_world = ...\n",
    "total_cases_world = ...\n",
    "total_deaths_world = ...\n",
    "incidence_world = (total_cases_world / population_world) * 100\n",
    "fatality_world = (total_deaths_world / total_cases_world) * 100\n",
    "\n",
    "print(f'World population                     {population_world:>14,.0f}')\n",
    "print(f'Total number of cases in the world:  {total_cases_world:>14,.0f}')\n",
    "print(f'Total number of deaths in the world: {total_deaths_world:>14,.0f}')\n",
    "print(f'Incidence in the world:              {incidence_world:>14,.2f}%')\n",
    "print(f'Fatality ratio in the world:         {fatality_world:>14.2f}%')"
   ]
  },
  {
   "cell_type": "markdown",
   "metadata": {},
   "source": [
    "------------------\n",
    "## Question 2 (7 points)\n",
    "\n",
    "Compute and print a list with the name of the **countries** that have administered 80% of the global number of vaccination doses.\n",
    "\n",
    "⚠️ Please note that in this dataframe there are rows that contain information about a region (e.g. Europe, Asia, World), in addition to information about individual countries."
   ]
  },
  {
   "cell_type": "code",
   "execution_count": null,
   "metadata": {},
   "outputs": [],
   "source": [
    "# Select only the rows which contain information about a country (as opposed to a region)\n",
    "# Regions are encoded with a 'iso_code' of the form 'OWID_XXXXX'\n",
    "...\n",
    "\n",
    "# Compute the vaccination doses administered by all countries\n",
    "...\n",
    "\n",
    "# Sort the countries by their value of vaccination doses administered\n",
    "...\n",
    "\n",
    "# Build the list of countries which have administered 80% of the \n",
    "# doses administered around the world\n",
    "...."
   ]
  },
  {
   "cell_type": "markdown",
   "metadata": {},
   "source": [
    "_____\n",
    "## Question 3 (7 points)\n",
    "\n",
    "Compute an ordered list of the top 10 countries with population more than 1 million, ranked by the fraction of their population which have already taken **all the doses** prescribed by the vaccination protocol."
   ]
  },
  {
   "cell_type": "code",
   "execution_count": null,
   "metadata": {},
   "outputs": [],
   "source": [
    "# Build a dataframe with one row per country and two columns: 'people_fully_vaccinated' and 'population'\n",
    "....\n",
    "\n",
    "# Extract the number of people fully vaccinated and the population for each country\n",
    "...\n",
    "\n",
    "# Among the countries with more than 1M people, select the top 10\n",
    "# ranked by percentage of fully vaccinated population\n",
    "...."
   ]
  },
  {
   "cell_type": "markdown",
   "metadata": {},
   "source": [
    "----------------\n",
    "## Bonus question (3 points)\n",
    "\n",
    "The function `plot` below generates an displays a figure for visualizing a set of countries and the percentage of their population which is fully vaccinated. You need to provide the information to visualize the top 10 countries with populations at least 1 million people which have the largest fraction of their population fully vaccinated (see Question 3).\n",
    "\n",
    "To use this function, you must compute two Python lists:\n",
    "\n",
    "* the list `countries` which contains the name of the top 10 countries with population of at least 1 million people, which have the largest fraction of their population fully vaccinated,\n",
    "* the list `percents` which contains the percentage of the fully vaccinated population of those 10 countries\n",
    "\n",
    "After computing those two lists call the function `plot` to visualize the figure, as shown below:\n",
    "\n",
    "```python\n",
    "    countries = [ 'France', 'Germany', 'Italy', ... ]\n",
    "    percents = [ 0.3, 0.2, 0.1, ... ]\n",
    "    plot(countries, percent)\n",
    "```"
   ]
  },
  {
   "cell_type": "code",
   "execution_count": null,
   "metadata": {},
   "outputs": [],
   "source": [
    "import bokeh\n",
    "import bokeh.plotting\n",
    "bokeh.plotting.output_notebook()\n",
    "\n",
    "def plot(countries, percents):\n",
    "    \"\"\"Generates and displays a Bokeh plot with horizontal bars, one bar per country\"\"\"\n",
    "    figure = bokeh.plotting.figure(\n",
    "        title = 'Percentage of population fully vaccinated (countries with population ≥ 1M)',\n",
    "        x_axis_label = 'percentage',\n",
    "        x_range = (0, 1),\n",
    "        y_range = countries,\n",
    "        plot_width = 800,\n",
    "        plot_height = 400,\n",
    "        background_fill_color = 'whitesmoke',\n",
    "        background_fill_alpha = 0.8\n",
    "    )\n",
    "    figure.xaxis.formatter = bokeh.models.formatters.NumeralTickFormatter(format='0%')\n",
    "    figure.ygrid.grid_line_color = None\n",
    "\n",
    "    figure.hbar(right=percents, y=countries, height=0.5, color='coral')\n",
    "    bokeh.plotting.show(figure)"
   ]
  },
  {
   "cell_type": "code",
   "execution_count": null,
   "metadata": {},
   "outputs": [],
   "source": [
    "countries = ...\n",
    "percents = ...\n",
    "\n",
    "plot(countries, percents)"
   ]
  }
 ],
 "metadata": {
  "kernelspec": {
   "display_name": "Python 3 (ipykernel)",
   "language": "python",
   "name": "python3"
  },
  "language_info": {
   "codemirror_mode": {
    "name": "ipython",
    "version": 3
   },
   "file_extension": ".py",
   "mimetype": "text/x-python",
   "name": "python",
   "nbconvert_exporter": "python",
   "pygments_lexer": "ipython3",
   "version": "3.7.11"
  }
 },
 "nbformat": 4,
 "nbformat_minor": 4
}
