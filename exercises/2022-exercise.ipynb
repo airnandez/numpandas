{
 "cells": [
  {
   "cell_type": "markdown",
   "metadata": {},
   "source": [
    "# Homework pandas"
   ]
  },
  {
   "cell_type": "markdown",
   "metadata": {},
   "source": [
    "<table align=\"left\">\n",
    "    <tr>\n",
    "    <td><a href=\"https://colab.research.google.com/github/airnandez/numpandas/blob/master/exam/2022-exam.ipynb\">\n",
    "  <img src=\"https://colab.research.google.com/assets/colab-badge.svg\" alt=\"Open In Colab\"/>\n",
    "</a></td>\n",
    "    <td><a href=\"https://mybinder.org/v2/gh/airnandez/numpandas/master?filepath=exam%2F2022-exam.ipynb\">\n",
    "  <img src=\"https://mybinder.org/badge_logo.svg\" alt=\"Launch Binder\"/>\n",
    "</a></td>\n",
    "  </tr>\n",
    "</table>"
   ]
  },
  {
   "cell_type": "markdown",
   "metadata": {},
   "source": [
    "*Author: Fabio Hernandez*\n",
    "\n",
    "*Last updated: 2022-03-31*\n",
    "\n",
    "*Location:* https://github.com/airnandez/numpandas/exam"
   ]
  },
  {
   "cell_type": "markdown",
   "metadata": {},
   "source": [
    "--------------------\n",
    "## Instructions\n",
    "\n",
    "For this excercise we will use a public dataset curated and made available by [Our World in Data](https://ourworldindata.org) located in [this repository](https://github.com/owid/energy-data). We will use a snapshot of the dataset as of 2022-03-26.\n",
    "\n",
    "For your convenience, this notebook is prepared with code for downloading the snapshot dataset from its source, loading it into memory as a **pandas** dataframe and with some cleaning and helper functions. Your mission is to execute the provided cells and to write the code to answer the questions below.\n",
    "\n",
    "You must not modify the code provided. You must provide additional code for answering the questions asked, following the instructions for each one of them.\n",
    "\n",
    "When you have finished, please save your notebook in the form of a `.ipynb` file and send it according to the instructions you received by e-mail."
   ]
  },
  {
   "cell_type": "markdown",
   "metadata": {},
   "source": [
    "---------------------\n",
    "## Dependencies"
   ]
  },
  {
   "cell_type": "code",
   "execution_count": null,
   "metadata": {},
   "outputs": [],
   "source": [
    "import datetime\n",
    "import os\n",
    "import glob"
   ]
  },
  {
   "cell_type": "code",
   "execution_count": null,
   "metadata": {},
   "outputs": [],
   "source": [
    "import pandas as pd\n",
    "pd.set_option('display.max_columns', None)\n",
    "pd.__version__"
   ]
  },
  {
   "cell_type": "code",
   "execution_count": null,
   "metadata": {},
   "outputs": [],
   "source": [
    "import numpy as np\n",
    "np.__version__"
   ]
  },
  {
   "cell_type": "markdown",
   "metadata": {},
   "source": [
    "------\n",
    "## Download the dataset"
   ]
  },
  {
   "cell_type": "markdown",
   "metadata": {},
   "source": [
    "Define a helper function for downloading the dataset to a local file:"
   ]
  },
  {
   "cell_type": "code",
   "execution_count": null,
   "metadata": {},
   "outputs": [],
   "source": [
    "import requests\n",
    "\n",
    "def download(url: str, path: str):\n",
    "    \"\"\"Download file at url and save it locally at path.\"\"\"\n",
    "    with requests.get(url, stream=True) as resp:\n",
    "        if not resp.ok:\n",
    "            raise f'Could not find file at URL {url}'\n",
    "            \n",
    "        mode, data = 'wb', resp.content\n",
    "        if 'text/plain' in resp.headers['Content-Type']:\n",
    "            mode, data = 'wt', resp.text\n",
    "        with open(path, mode) as f:\n",
    "            f.write(data)"
   ]
  },
  {
   "cell_type": "markdown",
   "metadata": {},
   "source": [
    "Download the data files, one per year, for the period 2016-2021, both inclusive. We store the downloaded data in the directory `../data` relative to the location of this notebook. If a file has been already been downloaded, don't download it again. The total amount of data to download is about 400 MB."
   ]
  },
  {
   "cell_type": "code",
   "execution_count": null,
   "metadata": {},
   "outputs": [],
   "source": [
    "# Download files\n",
    "data_sources = (\n",
    "    'https://raw.githubusercontent.com/airnandez/numpandas/master/data/owid-energy-data.csv',\n",
    ")\n",
    "\n",
    "# Create destination directory\n",
    "os.makedirs(os.path.join('..', 'data'), exist_ok=True)\n",
    "\n",
    "for url in data_sources:\n",
    "    # Build the URL and the destination file path\n",
    "    path = os.path.join('..', 'data', os.path.basename(url))\n",
    "    \n",
    "    # If file already exists don't download it again\n",
    "    if not os.path.isfile(path) :\n",
    "        print(f'downloading {url} to {path}')\n",
    "        download(url, path)\n",
    "    else:\n",
    "        print(f'local file {path} already exists. Skipping download...')"
   ]
  },
  {
   "cell_type": "markdown",
   "metadata": {
    "tags": []
   },
   "source": [
    "---------------------\n",
    "## Load the dataset\n",
    "\n",
    "Load the dataset (i.e. the file `../data/owid-energy-data.csv`) to a **pandas** dataframe. The information about the format and contents of each column is available [here](https://github.com/owid/energy-data/blob/master/owid-energy-codebook.csv). Please make sure you are familiar with that information which you will need for analysing the data:"
   ]
  },
  {
   "cell_type": "code",
   "execution_count": null,
   "metadata": {},
   "outputs": [],
   "source": [
    "path = os.path.join('..', 'data', 'owid-energy-data.csv')\n",
    "df = pd.read_csv(path)"
   ]
  },
  {
   "cell_type": "markdown",
   "metadata": {
    "tags": []
   },
   "source": [
    "--------------\n",
    "## Inspect the dataset"
   ]
  },
  {
   "cell_type": "code",
   "execution_count": null,
   "metadata": {},
   "outputs": [],
   "source": [
    "# Inspect the dimensions of the dataframe\n",
    "rows, columns = df.shape\n",
    "print(f'This dataframe has {rows:,} rows and {columns:,} columns')"
   ]
  },
  {
   "cell_type": "code",
   "execution_count": null,
   "metadata": {},
   "outputs": [],
   "source": [
    "df.sample(10)"
   ]
  },
  {
   "cell_type": "markdown",
   "metadata": {
    "tags": []
   },
   "source": [
    "-------------------\n",
    "# Questions (20 points + bonus)"
   ]
  },
  {
   "cell_type": "markdown",
   "metadata": {},
   "source": [
    "---------------------\n",
    "## Question N° 1a (4 points)\n",
    "\n",
    "We want to determine what was the global energy consumption (expressed in terawatt•hours) in year 2019 and compare it to the energy consumption the same year in France. You must provide the code to give values to the variables so that the `response` variable has the correct value."
   ]
  },
  {
   "cell_type": "code",
   "execution_count": null,
   "metadata": {},
   "outputs": [],
   "source": [
    "# Your code goes here\n",
    "\n",
    "world_energy_consumption = ...\n",
    "france_energy_consumption = ...\n",
    "france_consumption_share = (france_energy_consumption / world_energy_consumption) * 100.0\n",
    "\n",
    "response = f\"\"\"\n",
    "In 2019, the global energy consumption was {world_energy_consumption:,.0f} terawatt•hours and the energy consumption in France was {france_energy_consumption:,.0f} terawatt•hours, which is equivalent to {france_consumption_share:,.0f}% of the global energy consumption.\n",
    "\"\"\"\n",
    "print(response)"
   ]
  },
  {
   "cell_type": "markdown",
   "metadata": {},
   "source": [
    "## Question N° 1b (6 points)\n",
    "\n",
    "We want to determine the evolution of the global primary energy consumption (expressed in terawatt•hours) and compare it to the evolution in global population over the same period.\n",
    "\n",
    "You need to retrieve the minimum and maximum values of the variable global primary energy consumption present in the dataset and the years where those extremes were reached and compare the evolution in global consumption against the evolution in global population, over the same period."
   ]
  },
  {
   "cell_type": "code",
   "execution_count": null,
   "metadata": {},
   "outputs": [],
   "source": [
    "# Your code goes here\n",
    "\n",
    "# Retrieve the minimum and maximum values of the column 'primary_energy_consumption' in the dataset\n",
    "global_energy_consumption_min = ...\n",
    "global_energy_consumption_max = ...\n",
    "\n",
    "# Retrieve the years where those extremes values were reached\n",
    "year_min = ...\n",
    "year_max = ...\n",
    "\n",
    "# Retrieve the values for population those same years\n",
    "population_min = ...\n",
    "population_max = ...\n",
    "\n",
    "# Compute the evolutions in consumption and in population\n",
    "consumption_evolution = 100.0 * (global_energy_consumption_max - global_energy_consumption_min) / global_energy_consumption_min\n",
    "population_evolution = 100.0 * (population_max - population_min) / population_min\n",
    "\n",
    "response = f\"\"\"\n",
    "The minimum value of global primary energy consumption in the dataset was {global_energy_consumption_min:,.0f} terawatt•hours and was observed in {year_min}.\n",
    "The maximum value of global primary energy consumption in the dataset was {global_energy_consumption_max:,.0f} terawatt•hours and was reached in {year_max}.\n",
    "That peak consumption reached in {year_max} is equivalent to an evolution of {consumption_evolution:.0f}% with respect to the global consumption in {year_min}.\n",
    "In {year_max} the global population is equivalent to {population_evolution:.0f}% with respect to the global population in {year_min}.\n",
    "\"\"\"\n",
    "print(response)"
   ]
  },
  {
   "cell_type": "markdown",
   "metadata": {},
   "source": [
    "## Question N° 2 (5 points)\n",
    "\n",
    "We want to study how the global energy mix has changed over the last several decades. You are asked to compute the share of energy consumption that comes from 4 sources: coal, oil, gas and nuclear for years 1970, 2000 and 2019.\n",
    "\n",
    "You must implement the function `get_consumption_share` which must return 4 values, as indicated in the function comments."
   ]
  },
  {
   "cell_type": "code",
   "execution_count": null,
   "metadata": {},
   "outputs": [],
   "source": [
    "def get_consumption_share(year: int) -> (float, float, float, float):\n",
    "    \"\"\"Return the energy consumption share that comes from sources\n",
    "    coal, oil, gas and nuclear for the given year.\n",
    "    \"\"\"\n",
    "    # Your code goes here\n",
    "\n",
    "    coal_share = ...\n",
    "    oil_share  = ...\n",
    "    gas_share  =  ...\n",
    "    nuclear_share = ...\n",
    "    \n",
    "    return coal_share, oil_share, gas_share, nuclear_share\n",
    "\n",
    "for year in (1970, 2000, 2019):\n",
    "    coal, oil, gas, nuclear = get_consumption_share(year)\n",
    "    \n",
    "    response = f\"\"\"\n",
    "Energy consumption that comes from select sources for year {year}:\n",
    "    coal:      {coal:2.0f}%\n",
    "    oil:       {oil:2.0f}%\n",
    "    gas:       {gas:2.0f}%\n",
    "    nuclear:   {nuclear:2.0f}%\n",
    "    aggregate: {coal+oil+gas+nuclear:2.0f}%\n",
    "    \"\"\"\n",
    "    print(response)"
   ]
  },
  {
   "cell_type": "markdown",
   "metadata": {},
   "source": [
    "## Question N° 3: 5 points\n",
    "\n",
    "We want to compute the the mean annual change (in percentage) of primary energy consumption that comes from renewables. You are asked to compute the mean share of of primary energy consumption that comes from renewable in France, Europe, China, United States and Japan over the period 2000-2019:"
   ]
  },
  {
   "cell_type": "code",
   "execution_count": null,
   "metadata": {},
   "outputs": [],
   "source": [
    "for country in ('France', 'Europe', 'United States', 'China', 'Japan'):\n",
    "    # Your code goes here\n",
    "    \n",
    "    renewables_mean_share = ...\n",
    "    print(f'{country:>13}: {renewables_mean_share:2.0f}%')"
   ]
  },
  {
   "cell_type": "markdown",
   "metadata": {},
   "source": [
    "## Bonus question: 2 points\n",
    "\n",
    "What years did Norway reach the peak in its oil and gas production over the period 1970 - 2019?\n",
    "\n",
    "You are provided with the function `plot_oil_and_gas` which plots the evolution of oil and gas production. It is designed to work if you provide the right set of values that you must extract from the dataframe. That function expects 3 objects of type `numpy.array` (namely `years`, `oil` and `gas`) which contain the values we need to make the plot. Once the plot is displayed you can inspect it to answer the question above."
   ]
  },
  {
   "cell_type": "code",
   "execution_count": null,
   "metadata": {},
   "outputs": [],
   "source": [
    "import bokeh\n",
    "import bokeh.plotting\n",
    "bokeh.plotting.output_notebook()"
   ]
  },
  {
   "cell_type": "code",
   "execution_count": null,
   "metadata": {},
   "outputs": [],
   "source": [
    "import numpy as np"
   ]
  },
  {
   "cell_type": "code",
   "execution_count": null,
   "metadata": {},
   "outputs": [],
   "source": [
    "def plot_oil_and_gas(years: np.ndarray, oil: np.ndarray, gas: np.ndarray):\n",
    "    \"\"\"Generate and display a plot with two lines representing the production of\n",
    "    oil and gas (in terawatt-hours) over the years.\n",
    "    \"\"\"\n",
    "    # Populate the data source\n",
    "    data = bokeh.models.ColumnDataSource({\n",
    "        'year':           years,\n",
    "        'oil_production': oil,\n",
    "        'gas_production': gas,\n",
    "    })\n",
    "\n",
    "    figure = bokeh.plotting.figure(\n",
    "        title = f'Annual oil and gas production by Norway ({years[0]}-{years[-1]})',\n",
    "        x_axis_label = 'year',\n",
    "        y_axis_label = 'terawatts•hours',\n",
    "        plot_width = 800,\n",
    "        plot_height = 600,\n",
    "        background_fill_color = 'whitesmoke',\n",
    "        background_fill_alpha = 0.8\n",
    "    )\n",
    "    figure.xgrid.grid_line_color = None\n",
    "    figure.toolbar.autohide = True\n",
    "\n",
    "    # Add tooltips\n",
    "    figure.add_tools(bokeh.models.HoverTool(\n",
    "        tooltips = [\n",
    "            ('year',       '@year'),\n",
    "            ('oil production', '@oil_production{,.} terawatts-hours'),\n",
    "            ('gas production', '@gas_production{,.} terawatts-hours'),\n",
    "        ],\n",
    "        mode = 'mouse',\n",
    "    ))\n",
    "\n",
    "    # Set the title and axis font sizes\n",
    "    figure.title.text_font_size = \"20px\"\n",
    "    figure.xaxis.axis_label_text_font_size = \"16px\"\n",
    "    figure.xaxis.major_label_text_font_size = \"14px\"\n",
    "    figure.yaxis.axis_label_text_font_size = \"16px\"\n",
    "    figure.yaxis.major_label_text_font_size = \"14px\"\n",
    "\n",
    "    # Use thousands separator for the Y axis labels\n",
    "    figure.yaxis.formatter = bokeh.models.formatters.NumeralTickFormatter(format=\"0,0\")\n",
    "\n",
    "    # Add a line for oil and another line for gas\n",
    "    oil_color, gas_color = 'LightSeaGreen', 'Crimson'\n",
    "    line_width, size, width, alpha = 3, 6, 0.8, 0.7\n",
    "    figure.circle(x='year', y='oil_production', source=data, color=oil_color, size=size, width=width, alpha=alpha)\n",
    "    figure.circle(x='year', y='gas_production', source=data, color=gas_color, size=size, width=width, alpha=alpha)\n",
    "    figure.line(x='year', y='oil_production', source=data, line_color=oil_color, line_width=line_width, width=width, alpha=alpha, legend_label=\"OIL\")\n",
    "    figure.line(x='year', y='gas_production', source=data, line_color=gas_color, line_width=line_width, width=width, alpha=alpha, legend_label=\"GAS\")\n",
    "\n",
    "    # Plot the figure\n",
    "    bokeh.plotting.show(figure)"
   ]
  },
  {
   "cell_type": "code",
   "execution_count": null,
   "metadata": {},
   "outputs": [],
   "source": [
    "# Your code goes here\n",
    "\n",
    "years = ...\n",
    "oil = ...\n",
    "gas = ...\n",
    "\n",
    "plot_oil_and_gas(years, oil, gas)"
   ]
  },
  {
   "cell_type": "markdown",
   "metadata": {},
   "source": [
    "Over the period 1970-2019, Norway reached its peak of oil production in year **your answer here** and of gas in year **your answer here**"
   ]
  }
 ],
 "metadata": {
  "kernelspec": {
   "display_name": "Python 3 (ipykernel)",
   "language": "python",
   "name": "python3"
  },
  "language_info": {
   "codemirror_mode": {
    "name": "ipython",
    "version": 3
   },
   "file_extension": ".py",
   "mimetype": "text/x-python",
   "name": "python",
   "nbconvert_exporter": "python",
   "pygments_lexer": "ipython3",
   "version": "3.7.11"
  }
 },
 "nbformat": 4,
 "nbformat_minor": 4
}
