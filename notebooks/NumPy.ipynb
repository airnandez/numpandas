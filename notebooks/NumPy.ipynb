{
 "cells": [
  {
   "cell_type": "markdown",
   "metadata": {},
   "source": [
    "# NumPy Tutorial"
   ]
  },
  {
   "cell_type": "markdown",
   "metadata": {},
   "source": [
    "<img align=\"left\" src=\"https://upload.wikimedia.org/wikipedia/commons/thumb/3/31/NumPy_logo_2020.svg/200px-NumPy_logo_2020.svg.png\" alt=\"NumPy\"/>"
   ]
  },
  {
   "cell_type": "markdown",
   "metadata": {},
   "source": [
    "<table align=\"left\">\n",
    "    <tr>\n",
    "    <td><a href=\"https://colab.research.google.com/github/airnandez/numpandas/blob/master/notebooks/NumPy.ipynb\">\n",
    "  <img src=\"https://colab.research.google.com/assets/colab-badge.svg\" alt=\"Open In Colab\"/>\n",
    "</a></td>\n",
    "    <td><a href=\"https://mybinder.org/v2/gh/airnandez/numpandas/master?filepath=notebooks%2FNumPy.ipynb\">\n",
    "  <img src=\"https://mybinder.org/badge_logo.svg\" alt=\"Launch Binder\"/>\n",
    "</a></td>\n",
    "  </tr>\n",
    "</table>"
   ]
  },
  {
   "cell_type": "markdown",
   "metadata": {},
   "source": [
    "*Author: Fabio Hernandez*\n",
    "\n",
    "*Last updated: 2025-02-26*\n",
    "\n",
    "*Location:* https://github.com/airnandez/numpandas"
   ]
  },
  {
   "cell_type": "markdown",
   "metadata": {},
   "source": [
    "--------------------\n",
    "## Introduction\n",
    "\n",
    "This is a short tutorial for helping you getting familiar with the NumPy library. NumPy is written in C and Python and has its origins back in 2005. It is at the heart of several scientific libraries of the Python ecosystem, such as Pandas, SciPy, etc.\n",
    "\n",
    "This tutorial draws inspiration, ideas and sometimes material from several publicly available sources. Please see the [Acknowledgements](#Acknowledgements) section for more details and to deep further on that material."
   ]
  },
  {
   "cell_type": "markdown",
   "metadata": {},
   "source": [
    "--------------------\n",
    "## Reference documentation\n",
    "\n",
    "The entry point to get the NumPy documentation is [www.numpy.org](https://www.numpy.org) which includes a [user guide](https://numpy.org/doc/stable/user/index.html) and a [reference manual](https://numpy.org/doc/stable/reference/index.html). Although not strictly required, you are encouraged to open the reference documentation alongside this notebook to follow along.\n",
    "\n",
    "The [DataCamp NumPy Cheat Sheet](https://s3.amazonaws.com/assets.datacamp.com/blog_assets/Numpy_Python_Cheat_Sheet.pdf) can be also a useful quick reference."
   ]
  },
  {
   "cell_type": "markdown",
   "metadata": {},
   "source": [
    "--------------------\n",
    "## Import\n",
    "\n",
    "It is customarily to import numpy this way:"
   ]
  },
  {
   "cell_type": "code",
   "execution_count": null,
   "metadata": {},
   "outputs": [],
   "source": [
    "import numpy as np\n",
    "np.__version__"
   ]
  },
  {
   "cell_type": "markdown",
   "metadata": {},
   "source": [
    "--------------------\n",
    "## NumPy's raison d'être\n",
    "\n",
    "NumPy was developed to execute operations on arrays of data (numbers, strings, etc.) significantly faster than, for instance, by using [Python built-in lists](https://docs.python.org/3/tutorial/datastructures.html). Although NumPy *arrays* have some limitations compared to Python lists in terms of versatility, when it comes to numerical operations NumPy arrays are much faster. NumPy organizes its data in memory so to use the built-in capabilities of modern CPUs to apply a single operation to multiple data ([SIMD](https://en.wikipedia.org/wiki/Single_instruction,_multiple_data)). More details are available in [NumPy documentation](https://numpy.org/doc/stable/reference/simd/index.html). See also [An introduction to vectorization](https://blog.cr.yp.to/20190430-vectorize.html) by D. J. Bernstein.\n",
    "\n",
    "Let's create an array of 1M integers and measure the time to square each of them using Python built-in types:"
   ]
  },
  {
   "cell_type": "code",
   "execution_count": null,
   "metadata": {},
   "outputs": [],
   "source": [
    "data = list(range(1_000_000))"
   ]
  },
  {
   "cell_type": "code",
   "execution_count": null,
   "metadata": {},
   "outputs": [],
   "source": [
    "%timeit data_squarred = [x**2 for x in data]"
   ]
  },
  {
   "cell_type": "markdown",
   "metadata": {},
   "source": [
    "And now, let's perform the same operation but this time we will use a [NumPy array](https://numpy.org/doc/stable/reference/arrays.html) (we will see later in more detail how to create arrays):"
   ]
  },
  {
   "cell_type": "code",
   "execution_count": null,
   "metadata": {},
   "outputs": [],
   "source": [
    "npydata = np.arange(1_000_000)"
   ]
  },
  {
   "cell_type": "code",
   "execution_count": null,
   "metadata": {},
   "outputs": [],
   "source": [
    "%timeit npydata**2"
   ]
  },
  {
   "cell_type": "markdown",
   "metadata": {},
   "source": [
    "The actual number you get depends on the hardware you are using: in this case, we can see that using a NumPy array is several hundred times faster than using Python built-in lists. This difference holds also for Python built-in functions. Let's try the built-in function [sum()](https://docs.python.org/3/library/functions.html#sum) which sums all the elements of the list `data` passed as argument:"
   ]
  },
  {
   "cell_type": "code",
   "execution_count": null,
   "metadata": {},
   "outputs": [],
   "source": [
    "%timeit sum(data)"
   ]
  },
  {
   "cell_type": "markdown",
   "metadata": {},
   "source": [
    "and compare the result above against [NumPy's sum()](https://numpy.org/doc/stable/reference/generated/numpy.sum.html) to sum all the values of the Numpy array `npydata`:"
   ]
  },
  {
   "cell_type": "code",
   "execution_count": null,
   "metadata": {},
   "outputs": [],
   "source": [
    "%timeit np.sum(npydata)"
   ]
  },
  {
   "cell_type": "markdown",
   "metadata": {},
   "source": [
    "--------------------\n",
    "## Array creation\n",
    "\n",
    "### create a `numpy.array` from Python lists\n",
    "\n",
    "We can create a [NumPy array](https://numpy.org/doc/stable/reference/arrays.html) from an existing Python list. A NumPy array is a N-dimensional data structure that contains a collection of items of the same type. All the items contained in a NumPy array are homogeneous (e.g., they are all integers or all floats)."
   ]
  },
  {
   "cell_type": "code",
   "execution_count": null,
   "metadata": {},
   "outputs": [],
   "source": [
    "# Create a Python list of a few integers\n",
    "l = [10, 20, 30, 40, 50]\n",
    "\n",
    "# Create a 1D NumPy array from the contents of a Python list\n",
    "a = np.array(l)\n",
    "a"
   ]
  },
  {
   "cell_type": "markdown",
   "metadata": {},
   "source": [
    "Note that the Python list and the resulting NumPy array are two independent objects. Modifying the contents of one of them does not affect the other:"
   ]
  },
  {
   "cell_type": "code",
   "execution_count": null,
   "metadata": {},
   "outputs": [],
   "source": [
    "# Modifying the list does not modify the existing NumPy array\n",
    "l[0] = 1\n",
    "print(l)"
   ]
  },
  {
   "cell_type": "code",
   "execution_count": null,
   "metadata": {},
   "outputs": [],
   "source": [
    "print(a)"
   ]
  },
  {
   "cell_type": "markdown",
   "metadata": {},
   "source": [
    "The type of the array returned by `np.array()` is `numpy.ndarray`:"
   ]
  },
  {
   "cell_type": "code",
   "execution_count": null,
   "metadata": {},
   "outputs": [],
   "source": [
    "type(a)"
   ]
  },
  {
   "cell_type": "markdown",
   "metadata": {},
   "source": [
    "**All the elements in a NumPy array are of the same type**. In the example above, they are all integers. We can make explicit the type we want each element of the array to be by specifying the `dtype` argument:"
   ]
  },
  {
   "cell_type": "code",
   "execution_count": null,
   "metadata": {},
   "outputs": [],
   "source": [
    "np.array([10, 20, 30, 40, 50], dtype='float32')"
   ]
  },
  {
   "cell_type": "markdown",
   "metadata": {},
   "source": [
    "### create a `numpy.array` from scratch\n",
    "\n",
    "NumPy provides several functions for efficiently creating arrays of 1, 2 or N dimensions. Here are some of them."
   ]
  },
  {
   "cell_type": "code",
   "execution_count": null,
   "metadata": {},
   "outputs": [],
   "source": [
    "# Create an array with 6 elements, each element is of type 'int' and has the value zero\n",
    "np.zeros(6, dtype='int')"
   ]
  },
  {
   "cell_type": "code",
   "execution_count": null,
   "metadata": {},
   "outputs": [],
   "source": [
    "# Create an array with 6 elements with all the values set to one\n",
    "np.ones(6, dtype='int')"
   ]
  },
  {
   "cell_type": "code",
   "execution_count": null,
   "metadata": {},
   "outputs": [],
   "source": [
    "# Create an array with 10 elements, each having the value 145.0 (float)\n",
    "np.full(10, 145.0)"
   ]
  },
  {
   "cell_type": "markdown",
   "metadata": {},
   "source": [
    "The same functions above can be used for creating 2-dimensional arrays, or matrices. For intance for creating the $3 \\times 4$ matrix:\n",
    "\n",
    "$$\n",
    "M_{3 \\times 4} =\n",
    "\\begin{bmatrix}\n",
    "0 & 0 & 0 & 0 \\\\[0.3em]\n",
    "0 & 0 & 0 & 0 \\\\[0.3em]\n",
    "0 & 0 & 0 & 0 \\\\[0.3em]\n",
    "\\end{bmatrix}\n",
    "$$\n",
    "\n",
    "we can use:"
   ]
  },
  {
   "cell_type": "code",
   "execution_count": null,
   "metadata": {},
   "outputs": [],
   "source": [
    "np.zeros(shape=(3,4), dtype='float')"
   ]
  },
  {
   "cell_type": "markdown",
   "metadata": {},
   "source": [
    "The argument `shape` specifies the desired shape of the array as tuple, in terms of `(rows, columns)`. Although it is not necessary to specify the name of the `shape` argument, in some cases it is useful for clarity:"
   ]
  },
  {
   "cell_type": "code",
   "execution_count": null,
   "metadata": {},
   "outputs": [],
   "source": [
    "# Create a 3x4 matrix where each element has the value π\n",
    "np.full((3,4), np.pi)"
   ]
  },
  {
   "cell_type": "code",
   "execution_count": null,
   "metadata": {},
   "outputs": [],
   "source": [
    "# Create an array filled with a sequence of numbers in the interval [10, 100)\n",
    "# The function numpy.arange() works in a similar way as the Python built-in range() function\n",
    "np.arange(start=10, stop=100, step=5)"
   ]
  },
  {
   "cell_type": "code",
   "execution_count": null,
   "metadata": {},
   "outputs": [],
   "source": [
    "# Create an array of 5 evenly-spaced values in interval [1, 10] \n",
    "np.linspace(start=0, stop=10, num=5)"
   ]
  },
  {
   "cell_type": "markdown",
   "metadata": {},
   "source": [
    "Create an identity matrix $I_{3 \\times 3}$:\n",
    "\n",
    "$$\n",
    "I_{3 \\times 3} =\n",
    "\\begin{bmatrix}\n",
    "1 & 0 & 0 \\\\[0.3em]\n",
    "0 & 1 & 0 \\\\[0.3em]\n",
    "0 & 0 & 1 \\\\[0.3em]\n",
    "\\end{bmatrix}\n",
    "$$\n"
   ]
  },
  {
   "cell_type": "code",
   "execution_count": null,
   "metadata": {},
   "outputs": [],
   "source": [
    "# Create an identity matrix of size 3 x 3\n",
    "np.eye(3)"
   ]
  },
  {
   "cell_type": "code",
   "execution_count": null,
   "metadata": {},
   "outputs": [],
   "source": [
    "# Create a 3x4 matrix of random integers in the interval [0, 20)\n",
    "np.random.randint(low=0, high=20, size=(3,4))"
   ]
  },
  {
   "cell_type": "code",
   "execution_count": null,
   "metadata": {},
   "outputs": [],
   "source": [
    "# Create a 3x4 matrix of random values drawn from a normal (Gaussian) distribution\n",
    "# with µ=0, and σ=1\n",
    "np.random.normal(0, 1, size=(3,4))"
   ]
  },
  {
   "cell_type": "markdown",
   "metadata": {},
   "source": [
    "## Array data types\n",
    "\n",
    "You can create NumPy arrays and specify the type of its elements. In the examples above we created 1D and 2D arrays which elements are of type `int` or `float`, but there are several more types you could use such as `bool`, `str`, `int`, `float`, `complex`.\n",
    "\n",
    "The specific type you use determines both the _range of values_ that can be represented and the _number of bytes in memory_ necessary for storing each value. For instance, a value of type `numpy.int32` takes 32 bits (i.e. 4 bytes of memory) and can represent values in the interval [-2147483648, 2147483647].\n",
    "\n",
    "NumPy provides several [integer types](https://numpy.org/doc/stable/reference/arrays.scalars.html#built-in-scalar-types) (e.g. `int8`, `int16`, `int32`, `int64`, `uint8`, `uint16`, ...), several [floating point types](https://numpy.org/doc/stable/reference/arrays.scalars.html#floating-point-types) (e.g. `float16`, `float32`, `float64`) and several [complex types](https://numpy.org/doc/stable/reference/arrays.scalars.html#complex-floating-point-types) (e.g. `complex64`, `complex128`). You can use types `np.int` and `np.float` to refer to the types of the native integer values and floating point values of the CPU of the computer you are using.\n",
    "\n",
    "In addition, for some of those types you can specify the internal representation that you would like, such as [little endian or big endian](https://en.wikipedia.org/wiki/Endianness). More detailed information can be found in the [dtype documentaion](https://docs.scipy.org/doc/numpy/reference/arrays.dtypes.html).\n",
    "\n",
    "You can retrieve information about the interval range of an integer type by using [numpy.iinfo()](https://www.numpy.org/devdocs/reference/generated/numpy.iinfo.html?highlight=iinfo#numpy.iinfo) and for floating point values by using [numpy.finfo()](https://www.numpy.org/devdocs/reference/generated/numpy.finfo.html#numpy.finfo)."
   ]
  },
  {
   "cell_type": "code",
   "execution_count": null,
   "metadata": {},
   "outputs": [],
   "source": [
    "# Get the range of values that can be represented by a variable of type int32\n",
    "np.iinfo(np.int32)"
   ]
  },
  {
   "cell_type": "code",
   "execution_count": null,
   "metadata": {},
   "outputs": [],
   "source": [
    "# Get the range of values that can be represented by a variable of type float32\n",
    "np.finfo(np.float32)"
   ]
  },
  {
   "cell_type": "code",
   "execution_count": null,
   "metadata": {},
   "outputs": [],
   "source": [
    "# Show the native integer and floating point types for this computer's CPU\n",
    "np.dtype('int'), np.dtype('float')"
   ]
  },
  {
   "cell_type": "markdown",
   "metadata": {},
   "source": [
    "## Array attributes\n",
    "\n",
    "NumPy exposes attributes of arrays such as the number of dimensions, the total size (i.e. the total number of elements), the array shape (i.e. the number of elements on each dimension) and the amount of memory used for storing each element and all of its elements (see [documentation](https://numpy.org/doc/stable/reference/arrays.ndarray.html#array-attributes))."
   ]
  },
  {
   "cell_type": "code",
   "execution_count": null,
   "metadata": {},
   "outputs": [],
   "source": [
    "# Generate a matrix of size 3x4 with random values in\n",
    "# the interval [0, 10)\n",
    "a = np.random.randint(10, size=(3,4))\n",
    "print(a, a.dtype)"
   ]
  },
  {
   "cell_type": "code",
   "execution_count": null,
   "metadata": {},
   "outputs": [],
   "source": [
    "# Number of dimensions\n",
    "print('a.ndim =', a.ndim)\n",
    "\n",
    "# Number of elements in the array\n",
    "print('a.size =', a.size)\n",
    "\n",
    "# Number of elements on each dimension\n",
    "print('a.shape =', a.shape)"
   ]
  },
  {
   "cell_type": "code",
   "execution_count": null,
   "metadata": {},
   "outputs": [],
   "source": [
    "# Amount of memory (in bytes) for storing each item\n",
    "print('a.itemsize =', a.itemsize)\n",
    "\n",
    "# Total amount of memory (in bytes) of the array\n",
    "print('a.nbytes =', a.nbytes)"
   ]
  },
  {
   "cell_type": "code",
   "execution_count": null,
   "metadata": {},
   "outputs": [],
   "source": [
    "# The total amount of memory is the result of multiplying the\n",
    "# number of bytes per item times the number of items\n",
    "a.itemsize * a.size"
   ]
  },
  {
   "cell_type": "markdown",
   "metadata": {},
   "source": [
    "## Array indexing"
   ]
  },
  {
   "cell_type": "code",
   "execution_count": null,
   "metadata": {},
   "outputs": [],
   "source": [
    "# Set the seed of the random number generator to a known value, for reproducibility of\n",
    "# the examples\n",
    "np.random.seed(0)"
   ]
  },
  {
   "cell_type": "code",
   "execution_count": null,
   "metadata": {},
   "outputs": [],
   "source": [
    "# Create a 1D array with 5 values in interval [0, 100)\n",
    "a1 = np.random.randint(100, size=5)\n",
    "a1"
   ]
  },
  {
   "cell_type": "markdown",
   "metadata": {},
   "source": [
    "The syntax for selecting a single element of a NumPy array is analogous to the syntax for selecting elements of a Python built-in list. The index of the first element of the array is 0 (zero):"
   ]
  },
  {
   "cell_type": "code",
   "execution_count": null,
   "metadata": {},
   "outputs": [],
   "source": [
    "# The element at position 0 (i.e. the first element)\n",
    "a1[0]"
   ]
  },
  {
   "cell_type": "code",
   "execution_count": null,
   "metadata": {},
   "outputs": [],
   "source": [
    "# The element at position 4\n",
    "a1[4]"
   ]
  },
  {
   "cell_type": "markdown",
   "metadata": {},
   "source": [
    "Using negative indices (e.g -1, -2, ...) allows for retrieving the elements of the array relative to the end of the array:"
   ]
  },
  {
   "cell_type": "code",
   "execution_count": null,
   "metadata": {},
   "outputs": [],
   "source": [
    "a1"
   ]
  },
  {
   "cell_type": "code",
   "execution_count": null,
   "metadata": {},
   "outputs": [],
   "source": [
    "# Retrieve the last element of the array\n",
    "a1[-1]"
   ]
  },
  {
   "cell_type": "code",
   "execution_count": null,
   "metadata": {},
   "outputs": [],
   "source": [
    "# Retrieve the second to last element of the array\n",
    "a1[-2]"
   ]
  },
  {
   "cell_type": "markdown",
   "metadata": {},
   "source": [
    "In the case of a multi-dimensional array, for accessing a single element we need to specify the index on each dimension:"
   ]
  },
  {
   "cell_type": "code",
   "execution_count": null,
   "metadata": {},
   "outputs": [],
   "source": [
    "# 2D array\n",
    "a2 = np.random.randint(100, size=(3,4))\n",
    "a2"
   ]
  },
  {
   "cell_type": "code",
   "execution_count": null,
   "metadata": {},
   "outputs": [],
   "source": [
    "# row 1, column 3\n",
    "a2[1, 3]"
   ]
  },
  {
   "cell_type": "markdown",
   "metadata": {},
   "source": [
    "Use the same notation to modify one element of an array:"
   ]
  },
  {
   "cell_type": "code",
   "execution_count": null,
   "metadata": {},
   "outputs": [],
   "source": [
    "a1"
   ]
  },
  {
   "cell_type": "code",
   "execution_count": null,
   "metadata": {},
   "outputs": [],
   "source": [
    "a1[3] *= 10\n",
    "a1"
   ]
  },
  {
   "cell_type": "code",
   "execution_count": null,
   "metadata": {},
   "outputs": [],
   "source": [
    "a2"
   ]
  },
  {
   "cell_type": "code",
   "execution_count": null,
   "metadata": {},
   "outputs": [],
   "source": [
    "# Set the element at position (row 1, column 0) to the value 100\n",
    "a2[1, 0] = 100"
   ]
  },
  {
   "cell_type": "code",
   "execution_count": null,
   "metadata": {},
   "outputs": [],
   "source": [
    "a2"
   ]
  },
  {
   "cell_type": "markdown",
   "metadata": {},
   "source": [
    "If you assign a floating point value to an array of integers, the floating point value is silently truncated to convert it to integer:"
   ]
  },
  {
   "cell_type": "code",
   "execution_count": null,
   "metadata": {},
   "outputs": [],
   "source": [
    "# The type of each element of the array 'a1' is 'int64'\n",
    "a1, a1.dtype"
   ]
  },
  {
   "cell_type": "code",
   "execution_count": null,
   "metadata": {},
   "outputs": [],
   "source": [
    "# Any floating point value is converted to the receiving type\n",
    "# ('int64' in this case)\n",
    "a1[0] = np.pi  # truncated to 3\n",
    "a1"
   ]
  },
  {
   "cell_type": "markdown",
   "metadata": {},
   "source": [
    "## Accessing subarrays (slices)\n",
    "\n",
    "In Python, the syntax for accessing elements of a list is of the form:\n",
    "\n",
    "`a[start:stop:step]`\n",
    "\n",
    "NumPy provides the same syntax for slicing arrays:"
   ]
  },
  {
   "cell_type": "code",
   "execution_count": null,
   "metadata": {},
   "outputs": [],
   "source": [
    "a1 = np.arange(10)\n",
    "a1"
   ]
  },
  {
   "cell_type": "code",
   "execution_count": null,
   "metadata": {},
   "outputs": [],
   "source": [
    "# Retrieve the elements of the array at indices [0,3)\n",
    "a1[0:3]"
   ]
  },
  {
   "cell_type": "code",
   "execution_count": null,
   "metadata": {},
   "outputs": [],
   "source": [
    "# Retrieve the elements of the array from index 0 up to\n",
    "# index 8 (not included), by steps of 2\n",
    "a1[0:8:2]"
   ]
  },
  {
   "cell_type": "markdown",
   "metadata": {},
   "source": [
    "When the `start` value is ommitted, the slice starts from the begining of the array. Similarly, if `stop` is omitted, the slice goes up to the end of the array:"
   ]
  },
  {
   "cell_type": "code",
   "execution_count": null,
   "metadata": {},
   "outputs": [],
   "source": [
    "# From the beginning up to the end of the array, by steps of 3\n",
    "a1[::3]"
   ]
  },
  {
   "cell_type": "markdown",
   "metadata": {},
   "source": [
    "You can also slice multi-dimensional arrays, by specifying the slice for each dimension:"
   ]
  },
  {
   "cell_type": "code",
   "execution_count": null,
   "metadata": {},
   "outputs": [],
   "source": [
    "# Create a matrix of dimensions 3 x 4\n",
    "a2 = np.arange(start=0, stop=12).reshape(3,4)\n",
    "a2"
   ]
  },
  {
   "cell_type": "code",
   "execution_count": null,
   "metadata": {},
   "outputs": [],
   "source": [
    "# Get the first 2 rows (i.e. rows 0 and 1) and the first 3 columns (i.e. columns 0, 1 and 2)\n",
    "a2[:2, :3]"
   ]
  },
  {
   "cell_type": "code",
   "execution_count": null,
   "metadata": {},
   "outputs": [],
   "source": [
    "# Get all the rows, from columns 1 and 2\n",
    "a2[:, 1:3]"
   ]
  },
  {
   "cell_type": "code",
   "execution_count": null,
   "metadata": {},
   "outputs": [],
   "source": [
    "# Get a 1D array with the elements in row number 2 (a shorter albeit less clear way to express this would be a2[2])\n",
    "a2[2, :]"
   ]
  },
  {
   "cell_type": "code",
   "execution_count": null,
   "metadata": {},
   "outputs": [],
   "source": [
    "# Get a 1D array with the elements in column number 3\n",
    "a2[:, 3]"
   ]
  },
  {
   "cell_type": "markdown",
   "metadata": {},
   "source": [
    "### Subarrays are views, not copies\n",
    "\n",
    "The array returned as a result of a slice operation is a **view** of the original array, as opposed to a **copy**. This means that **modifications you make to the slice also affect the original array**:"
   ]
  },
  {
   "cell_type": "code",
   "execution_count": null,
   "metadata": {},
   "outputs": [],
   "source": [
    "a2 = np.arange(start=0, stop=12).reshape(3,4)\n",
    "a2"
   ]
  },
  {
   "cell_type": "code",
   "execution_count": null,
   "metadata": {},
   "outputs": [],
   "source": [
    "# Get a subarray: all the rows, columns 1 and 2\n",
    "view = a2[:, 1:3]\n",
    "view"
   ]
  },
  {
   "cell_type": "code",
   "execution_count": null,
   "metadata": {},
   "outputs": [],
   "source": [
    "# Modifying the view also modifies the original array\n",
    "view[0, 1] = 1000_000\n",
    "view"
   ]
  },
  {
   "cell_type": "code",
   "execution_count": null,
   "metadata": {},
   "outputs": [],
   "source": [
    "a2"
   ]
  },
  {
   "cell_type": "markdown",
   "metadata": {},
   "source": [
    "Sometimes, it is necessary to make a copy the subarray to protect the original array from modifications. This can be done with the [copy()](https://numpy.org/doc/stable/reference/generated/numpy.ndarray.copy.html) method:"
   ]
  },
  {
   "cell_type": "code",
   "execution_count": null,
   "metadata": {},
   "outputs": [],
   "source": [
    "# Copy a subarray of a2 into c\n",
    "c = a2[:, 1:3].copy()\n",
    "c"
   ]
  },
  {
   "cell_type": "code",
   "execution_count": null,
   "metadata": {},
   "outputs": [],
   "source": [
    "# You can modify the copy and the original array is left intact\n",
    "c[0, 0] = -50_000\n",
    "c"
   ]
  },
  {
   "cell_type": "code",
   "execution_count": null,
   "metadata": {},
   "outputs": [],
   "source": [
    "a2"
   ]
  },
  {
   "cell_type": "markdown",
   "metadata": {},
   "source": [
    "## Array concatenation\n",
    "\n",
    "It is possible to concatenate several NumPy arrays using [numpy.concatenate()](https://numpy.org/doc/stable/reference/generated/numpy.concatenate.html). The result of the concatenation operation depends on the dimensions of the arrays involved in the operation.\n"
   ]
  },
  {
   "cell_type": "markdown",
   "metadata": {},
   "source": [
    "### Concatenating 1D arrays"
   ]
  },
  {
   "cell_type": "code",
   "execution_count": null,
   "metadata": {},
   "outputs": [],
   "source": [
    "# Concatenate several 1D arrays of possibly different sizes\n",
    "a = np.array([1, 2, 3])\n",
    "b = np.array([4, 5, 6, 7])\n",
    "c = np.array([7, 8, 9, 10, 11])\n",
    "\n",
    "np.concatenate([a, b, c])"
   ]
  },
  {
   "cell_type": "markdown",
   "metadata": {},
   "source": [
    "### Concatenating 2D arrays"
   ]
  },
  {
   "cell_type": "code",
   "execution_count": null,
   "metadata": {},
   "outputs": [],
   "source": [
    "a2 = np.arange(6).reshape(3,2)\n",
    "a2"
   ]
  },
  {
   "cell_type": "code",
   "execution_count": null,
   "metadata": {},
   "outputs": [],
   "source": [
    "# Vertically concatenate two matrices by increasing the number of rows\n",
    "np.concatenate([a2, a2])"
   ]
  },
  {
   "cell_type": "code",
   "execution_count": null,
   "metadata": {},
   "outputs": [],
   "source": [
    "# Horizontally concatenate two matrices by increasing the number of columns.\n",
    "# Note the 'axis' argument to instruct 'concatenate' how to operate.\n",
    "np.concatenate([a2, a2], axis=1)"
   ]
  },
  {
   "cell_type": "markdown",
   "metadata": {},
   "source": [
    "It is also possible to concatenate arrays of different dimensions row wise using [numpy.vstack()](https://numpy.org/doc/stable/reference/generated/numpy.vstack.html) (for *vertical stack*) and column wise using [numpy.hstack()](https://numpy.org/doc/stable/reference/generated/numpy.hstack.html) (for *horizontal stack*):"
   ]
  },
  {
   "cell_type": "code",
   "execution_count": null,
   "metadata": {},
   "outputs": [],
   "source": [
    "a1 = np.array([1, 2, 3])\n",
    "a1"
   ]
  },
  {
   "cell_type": "code",
   "execution_count": null,
   "metadata": {},
   "outputs": [],
   "source": [
    "a2 = np.array([[100, 200, 300],\n",
    "               [400, 500, 600]])\n",
    "a2"
   ]
  },
  {
   "cell_type": "code",
   "execution_count": null,
   "metadata": {},
   "outputs": [],
   "source": [
    "np.vstack([a1, a2])"
   ]
  },
  {
   "cell_type": "code",
   "execution_count": null,
   "metadata": {},
   "outputs": [],
   "source": [
    "a3 = np.array([[1],\n",
    "               [2]])\n",
    "a3"
   ]
  },
  {
   "cell_type": "code",
   "execution_count": null,
   "metadata": {},
   "outputs": [],
   "source": [
    "np.hstack([a2, a3])"
   ]
  },
  {
   "cell_type": "markdown",
   "metadata": {},
   "source": [
    "## Computations on arrays: universal functions\n",
    "\n",
    "NumPy provides mecanisms to perform the _same operation on each element_ of an array. These **vectorized** operations are implemented so to exploit the capacity of the hardware to apply a single operation over multiple data. In NumPy these functions are called [*universal functions*](https://numpy.org/doc/stable/reference/ufuncs.html) (or `ufunc`). Those functions operate elementwise on an array, producing a new array as output."
   ]
  },
  {
   "cell_type": "code",
   "execution_count": null,
   "metadata": {},
   "outputs": [],
   "source": [
    "# Perform the same arithmetic operation on each element of an array\n",
    "x = np.arange(1, 5)\n",
    "print(\"     x =\", x)\n",
    "print(\" x + 2 =\", x + 2)   # Add 2 to each element of the array x\n",
    "print(\" x - 2 =\", x - 2)   # Subtract 2 from each element of the array x\n",
    "print(\" x * 2 =\", x * 2)   # Mutiply by 2 each element of the array x\n",
    "print(\" x / 2 =\", x / 2)   # Divide by 2 each element of the array x\n",
    "print(\"x // 2 =\", x // 2)  # Same as above, but using integer division"
   ]
  },
  {
   "cell_type": "code",
   "execution_count": null,
   "metadata": {},
   "outputs": [],
   "source": [
    "# Negation\n",
    "print(\" x =\", x)\n",
    "print(\"-x =\", -x)"
   ]
  },
  {
   "cell_type": "code",
   "execution_count": null,
   "metadata": {},
   "outputs": [],
   "source": [
    "# Exponentiation\n",
    "print(\"      x =\", x)\n",
    "print(\" x ** 2 =\", x**2)\n",
    "print(\" 2 ** x =\", 2**x)"
   ]
  },
  {
   "cell_type": "code",
   "execution_count": null,
   "metadata": {},
   "outputs": [],
   "source": [
    "# Absolute value\n",
    "y = np.arange(-3, 3)\n",
    "print(\"        y = \", y)\n",
    "print(\"np.abs(y) = \", np.abs(y))"
   ]
  },
  {
   "cell_type": "code",
   "execution_count": null,
   "metadata": {},
   "outputs": [],
   "source": [
    "# Trigonometric functions\n",
    "radians = np.array([0, np.pi/2, np.pi])\n",
    "print(\"       radians  = \", radians)\n",
    "print(\"np.sin(radians) = \", np.sin(radians))\n",
    "print(\"np.cos(radians) = \", np.cos(radians))\n",
    "print(\"np.tan(radians) = \", np.tan(radians))"
   ]
  },
  {
   "cell_type": "code",
   "execution_count": null,
   "metadata": {},
   "outputs": [],
   "source": [
    "# Conversion radians → degrees and degrees → radians\n",
    "radians = np.array([0, np.pi/2, np.pi])\n",
    "degrees = np.degrees(radians)\n",
    "\n",
    "print(\"            radians = \", radians)\n",
    "print(\"            degrees = \", degrees)\n",
    "print(\"np.radians(degrees) = \", np.radians(degrees))"
   ]
  },
  {
   "cell_type": "code",
   "execution_count": null,
   "metadata": {},
   "outputs": [],
   "source": [
    "# Exponents\n",
    "x = np.array([1, 2, 3])\n",
    "print(\"   x = \", x)\n",
    "print(\" e^x = \", np.exp(x))\n",
    "print(\" 2^x = \", np.exp2(x))\n",
    "print(\"10^x = \", np.power(10, x))\n",
    "print(\"x^10 = \", np.power(x, 10))"
   ]
  },
  {
   "cell_type": "markdown",
   "metadata": {},
   "source": [
    "#### Vector and matrix multiplication:\n",
    "\n",
    "Dot product:\n",
    "$$\n",
    "x =\n",
    "\\begin{bmatrix}\n",
    "1 & 2 & 3\n",
    "\\end{bmatrix}\n",
    "$$\n",
    "\n",
    "$$\n",
    "y =\n",
    "\\begin{bmatrix}\n",
    "30 & 20 & 10\n",
    "\\end{bmatrix}\n",
    "$$\n",
    "\n",
    "$$\n",
    "x \\cdot y = (1 \\times 30) + (2 \\times 20) + (3 \\times 10) = 100\n",
    "$$\n"
   ]
  },
  {
   "cell_type": "code",
   "execution_count": null,
   "metadata": {},
   "outputs": [],
   "source": [
    "# Dot product\n",
    "x = np.array([1, 2, 3])\n",
    "y = np.array([30, 20, 10])\n",
    "np.dot(x, y)"
   ]
  },
  {
   "cell_type": "markdown",
   "metadata": {},
   "source": [
    "Matrix multiplication:\n",
    "\n",
    "$$\n",
    "X_{3 \\times 2} =\n",
    "\\begin{bmatrix}\n",
    "1 & 0 \\\\[0.3em]\n",
    "0 & 1 \\\\[0.3em]\n",
    "1 & 0 \\\\[0.3em]\n",
    "\\end{bmatrix}\n",
    "$$\n",
    "\n",
    "$$\n",
    "Y_{2 \\times 2} =\n",
    "\\begin{bmatrix}\n",
    "4 & 1 \\\\\n",
    "2 & 3\n",
    "\\end{bmatrix}\n",
    "$$\n",
    "\n",
    "$$\n",
    "X \\times Y =\n",
    "\\begin{bmatrix}\n",
    "4  & 1 \\\\[0.3em]\n",
    "2  & 3 \\\\[0.3em]\n",
    "4 & 1 \\\\[0.3em]\n",
    "\\end{bmatrix}\n",
    "$$\n",
    "\n",
    "\n"
   ]
  },
  {
   "cell_type": "code",
   "execution_count": null,
   "metadata": {},
   "outputs": [],
   "source": [
    "# Matrix multiplication\n",
    "X = np.array([[1, 0], [0, 1], [1, 0]])\n",
    "Y = np.array([[4, 1], [2, 3]])\n",
    "np.matmul(X, Y)  # equivalent to X @ Y"
   ]
  },
  {
   "cell_type": "markdown",
   "metadata": {},
   "source": [
    "## Computations on arrays: aggregations, summary statistics"
   ]
  },
  {
   "cell_type": "markdown",
   "metadata": {},
   "source": [
    "[numpy.sum()](https://numpy.org/doc/stable/reference/generated/numpy.sum.html) sums the elements of an array, either all the elements of those over a given axis:"
   ]
  },
  {
   "cell_type": "code",
   "execution_count": null,
   "metadata": {},
   "outputs": [],
   "source": [
    "# Sum all the elements of a 1D array\n",
    "x = np.arange(1, 6)\n",
    "print(\"        x =\", x)\n",
    "print(\"np.sum(x) =\", np.sum(x))   # equivalent to x.sum()"
   ]
  },
  {
   "cell_type": "code",
   "execution_count": null,
   "metadata": {},
   "outputs": [],
   "source": [
    "# sum() can also be used with N-dimensional arrays to perform\n",
    "# column-wise or row-wise sums\n",
    "m = np.arange(8).reshape(2, 4)\n",
    "m"
   ]
  },
  {
   "cell_type": "code",
   "execution_count": null,
   "metadata": {},
   "outputs": [],
   "source": [
    "# Sum all the values of each column\n",
    "print(\"m.sum(axis=0) =\", m.sum(axis=0))\n",
    "\n",
    "# Sum all the values of each row\n",
    "print(\"m.sum(axis=1) =\", m.sum(axis=1))"
   ]
  },
  {
   "cell_type": "code",
   "execution_count": null,
   "metadata": {},
   "outputs": [],
   "source": [
    "# Cumulative sum\n",
    "print(\"           x =\", x)\n",
    "print(\"np.cumsum(x) =\", np.cumsum(x))"
   ]
  },
  {
   "cell_type": "code",
   "execution_count": null,
   "metadata": {},
   "outputs": [],
   "source": [
    "# Retrieve the minimum and maximum values of an array\n",
    "x = np.arange(1, 6)\n",
    "np.random.shuffle(x)\n",
    "print(\"        x =\", x)\n",
    "print(\"np.min(x) =\", np.min(x))   # equivalent to x.min()\n",
    "print(\"np.max(x) =\", np.max(x))   # equivalent to x.max()"
   ]
  },
  {
   "cell_type": "code",
   "execution_count": null,
   "metadata": {},
   "outputs": [],
   "source": [
    "# Retrieve the positions (i.e. the indices) of the minimum and maximum values of an array\n",
    "print(\"           x =\", x)\n",
    "print(\"np.argmin(x) =\", np.argmin(x))   # equivalent to x.argmin()\n",
    "print(\"np.argmax(x) =\", np.argmax(x))   # equivalent to x.argmax()"
   ]
  },
  {
   "cell_type": "code",
   "execution_count": null,
   "metadata": {},
   "outputs": [],
   "source": [
    "# Create an array of random values drawn from a normal distribution\n",
    "# with µ=0, and σ=1, and compute some summary statistics on those values\n",
    "x = np.random.normal(0., 1., size=1_000_000)\n",
    "print(\"                  np.mean(x) =\", np.mean(x))   # equivalent to x.mean()\n",
    "print(\"                   np.std(x) =\", np.std(x))    # equivalent to x.std()\n",
    "print(\"                np.median(x) =\", np.median(x))\n",
    "print(\" np.percentile(x, [25, 50, 75]) =\", np.percentile(x, [25, 50, 75]))"
   ]
  },
  {
   "cell_type": "markdown",
   "metadata": {},
   "source": [
    "## Computations on arrays: broadcasting\n",
    "\n",
    "The term *broadcasting* in NumPy refers to the set of rules for applying universal functions on arrays of _different shapes_. After application of the broadcasting rules, the sizes of all arrays must match: the goal is to perform the operation efficiently, avoiding loops and innecessary memory copies.\n",
    "\n",
    "NumPy operations are usually done on pairs of arrays on an element-by-element basis. In the simplest case, the two arrays must have exactly the same shape:"
   ]
  },
  {
   "cell_type": "code",
   "execution_count": null,
   "metadata": {},
   "outputs": [],
   "source": [
    "# Perform an element-by-element multiplication when the two arrays have the same shape\n",
    "a = np.array([ 1,  2,  3])\n",
    "b = np.array([10, 10, 10])\n",
    "print(\"  a =\", a)\n",
    "print(\"  b =\", b)\n",
    "print(\"a*b =\", a * b)"
   ]
  },
  {
   "cell_type": "markdown",
   "metadata": {},
   "source": [
    "NumPy's broadcasting rules allows for expressing the multiplication of a scalar by an array. Internally, NumPy acts as if the scalar value (i.e. `10` in the example below) was stretched into an array of the same shape as the array `a` so to perform the element-by-element multiplication. Note that the stretching is only conceptual, as NumPy uses the value of the scalar without actually making copies of it, so that the broadcasting operation is memory and computationally efficient:"
   ]
  },
  {
   "cell_type": "code",
   "execution_count": null,
   "metadata": {},
   "outputs": [],
   "source": [
    "# An element-by-element multiplication of an array and a scalar can be expressed in NumPy:\n",
    "# the broadcasting rules makes it possible to perform the operation\n",
    "a = np.array([1, 2, 3])\n",
    "\n",
    "print(\"   a =\", a)\n",
    "print(\"a*10 =\", a * 10)"
   ]
  },
  {
   "cell_type": "markdown",
   "metadata": {},
   "source": [
    "The image below, extracted from [Python Data Science Handbook](https://jakevdp.github.io/PythonDataScienceHandbook/) by Jake VanderPlas, shows graphically how NumPy applies broadcasting:\n",
    "\n",
    "![title](https://jakevdp.github.io/PythonDataScienceHandbook/figures/02.05-broadcasting.png)"
   ]
  },
  {
   "cell_type": "code",
   "execution_count": null,
   "metadata": {},
   "outputs": [],
   "source": [
    "# Case 1: operation between an array and a scalar: the scalar is stretched to match the\n",
    "# shape of the array.\n",
    "np.arange(3) + 5"
   ]
  },
  {
   "cell_type": "code",
   "execution_count": null,
   "metadata": {},
   "outputs": [],
   "source": [
    "# Case 2: operation between two arrays of different shape. The smaller array is stretched to match\n",
    "# the shape of the bigger array.\n",
    "np.ones(shape=(3,3)) + np.arange(3)"
   ]
  },
  {
   "cell_type": "code",
   "execution_count": null,
   "metadata": {},
   "outputs": [],
   "source": [
    "# Case 3: both arrays need to be stretched: note that the resulting array is 2D even if the\n",
    "# two operands are both 1D arrays.\n",
    "np.arange(3).reshape((3,1)) + np.arange(3)"
   ]
  },
  {
   "cell_type": "markdown",
   "metadata": {},
   "source": [
    "The illustration below, can help understanding the rules NumPy implements for broadcasting. It is extracted from material of [UC Berkeley's Python Bootcamp](https://sites.google.com/site/pythonbootcamp):\n",
    "\n",
    "![](https://github.com/profjsb/python-bootcamp/raw/master/Lectures/05_NumpyPandasMatplotlib/broadcast_rougier.png)"
   ]
  },
  {
   "cell_type": "markdown",
   "metadata": {},
   "source": [
    "### Centering an array around its mean: broadcasting in practice"
   ]
  },
  {
   "cell_type": "code",
   "execution_count": null,
   "metadata": {},
   "outputs": [],
   "source": [
    "# We have a dataset of 3 features and we have 10 observations. We represent it\n",
    "# as a matrix of dimensions (10, 3), in which one row contains one observation\n",
    "# of the 3 features.\n",
    "X = np.random.randint(1, 100, size=(10, 3))\n",
    "X"
   ]
  },
  {
   "cell_type": "code",
   "execution_count": null,
   "metadata": {},
   "outputs": [],
   "source": [
    "# Compute the mean of the observed values of each feature (i.e. the mean of each column)\n",
    "X_mean = X.mean(axis=0)\n",
    "X_mean"
   ]
  },
  {
   "cell_type": "code",
   "execution_count": null,
   "metadata": {},
   "outputs": [],
   "source": [
    "# Center each observation around the mean for each feature. This\n",
    "# operation requires applying broadcasting rules: the X_mean\n",
    "# 1D array is stretched to match the number of rows of the X matrix\n",
    "X_centered = X - X_mean\n",
    "X_centered"
   ]
  },
  {
   "cell_type": "markdown",
   "metadata": {},
   "source": [
    "## Boolean operations and filtering on arrays\n",
    "\n",
    "It is often needed to perform operations on arrays, based on some criterion, such as counting all the values above a certain threshold, summing the values satisfying a condition, modifying the values beyond a threshold, etc. NumPy provides efficient mechanisms for performing that kind of tasks (i.e. without writing loops)."
   ]
  },
  {
   "cell_type": "code",
   "execution_count": null,
   "metadata": {},
   "outputs": [],
   "source": [
    "# Generate 20 random values between 1 and 100\n",
    "a = np.random.randint(1, 100, 20)\n",
    "a"
   ]
  },
  {
   "cell_type": "code",
   "execution_count": null,
   "metadata": {},
   "outputs": [],
   "source": [
    "# Select the positions in array 'a' which values are greater than 40\n",
    "a > 40"
   ]
  },
  {
   "cell_type": "markdown",
   "metadata": {},
   "source": [
    "Note that the operation above returns an array of boolean values. Positions with value `True` in the returned array mean that the corresponding position in `a` contains a value that make the comparison (`a > 40`, in this case) to be also `True`.\n",
    "\n",
    "The returned boolean array are called a *mask* and is can be used to retrieve the actual values:"
   ]
  },
  {
   "cell_type": "code",
   "execution_count": null,
   "metadata": {},
   "outputs": [],
   "source": [
    "# Retrieve the values in array 'a' which are greater than 40\n",
    "a[a > 40]"
   ]
  },
  {
   "cell_type": "code",
   "execution_count": null,
   "metadata": {},
   "outputs": [],
   "source": [
    "# Count the number of values greater than 40\n",
    "np.count_nonzero(a > 40)"
   ]
  },
  {
   "cell_type": "code",
   "execution_count": null,
   "metadata": {},
   "outputs": [],
   "source": [
    "# Other boolean expressions can be used\n",
    "a >= 40   # All the values greater than or equal to...\n",
    "a <  40   # All the values less than ...\n",
    "a <= 40   # All the values less than or equal to ...\n",
    "a != 40   # All the values different from ..\n",
    "a == 40   # All the values equal to ..."
   ]
  },
  {
   "cell_type": "code",
   "execution_count": null,
   "metadata": {},
   "outputs": [],
   "source": [
    "# Create a 3x4 matrix with random values in the interval (-10, 10).\n",
    "# Set the state of the pseudo-random number generator to get reproducible results.\n",
    "rng = np.random.RandomState(100) \n",
    "a = rng.randint(-10, 10, size=(3, 4))\n",
    "a"
   ]
  },
  {
   "cell_type": "code",
   "execution_count": null,
   "metadata": {},
   "outputs": [],
   "source": [
    "# Count the number of values satisfying several criteria\n",
    "print(\"Number of zeroes:\", np.sum(a == 0))\n",
    "print(\"Number of positive values:\", np.sum(a > 0))\n",
    "print(\"Number of negative values:\", np.sum(a < 0))"
   ]
  },
  {
   "cell_type": "code",
   "execution_count": null,
   "metadata": {},
   "outputs": [],
   "source": [
    "# Number of values satisfying several criteria, per row and per column: note the 'axis' argument\n",
    "print(\"Number of positive values per row:\", np.sum(a > 0, axis=1))\n",
    "print(\"Number of positive values per column:\", np.sum(a > 0, axis=0))"
   ]
  },
  {
   "cell_type": "code",
   "execution_count": null,
   "metadata": {},
   "outputs": [],
   "source": [
    "# Is there any value < 0 ?\n",
    "np.any(a < 0)"
   ]
  },
  {
   "cell_type": "code",
   "execution_count": null,
   "metadata": {},
   "outputs": [],
   "source": [
    "# Are all values < -3 ?\n",
    "np.all(a < -3)"
   ]
  },
  {
   "cell_type": "code",
   "execution_count": null,
   "metadata": {},
   "outputs": [],
   "source": [
    "# Use boolean operators (e.g. and, or, not, ...) to filter values of an array:\n",
    "# count the number of values in the interval (-3, 3)\n",
    "np.sum((a > -3) & (a < 3))"
   ]
  },
  {
   "cell_type": "markdown",
   "metadata": {},
   "source": [
    "The table below presents the logical operators than NumPy supports. Use parenthesis to group logical operations involving several operators:\n",
    "\n",
    "| Operation | Operator   |\n",
    "|-----------|------------|\n",
    "| and       |  `&`       |\n",
    "| or        |  `\\|`       |\n",
    "| xor       |  `^`       |\n",
    "| not       |  `~`       |\n",
    "\n",
    "When applied to arrays, those logical operations return a mask, that is, an array with boolean values:"
   ]
  },
  {
   "cell_type": "code",
   "execution_count": null,
   "metadata": {},
   "outputs": [],
   "source": [
    "(a < -3) | (a > 3)"
   ]
  },
  {
   "cell_type": "markdown",
   "metadata": {},
   "source": [
    "As we did above, we can use a mask to retrieve the actual values in the array. Reminder: NumPy uses the mask to retrieve only the values in the array for which the mask's value is `True`:"
   ]
  },
  {
   "cell_type": "code",
   "execution_count": null,
   "metadata": {},
   "outputs": [],
   "source": [
    "# Return the values of 'a' that satisfy the given condition. The returned value is\n",
    "# itself an array with values of the same type as 'a'\n",
    "a[(a < -3) | (a > 3)]"
   ]
  },
  {
   "cell_type": "code",
   "execution_count": null,
   "metadata": {},
   "outputs": [],
   "source": [
    "# Build a mask with positives and negatives values in array a\n",
    "positives = a > 0\n",
    "negatives = a < 0\n",
    "zeroes    = a == 0\n",
    "\n",
    "# Use the named masks to retrieve the actual values\n",
    "print(\"positives:   \", a[positives])\n",
    "print(\"negatives:   \", a[negatives])\n",
    "print(\"zero or more:\", a[zeroes | positives])"
   ]
  },
  {
   "cell_type": "code",
   "execution_count": null,
   "metadata": {},
   "outputs": [],
   "source": [
    "# You can also use a mask to modify specific values of the array\n",
    "print(a)"
   ]
  },
  {
   "cell_type": "code",
   "execution_count": null,
   "metadata": {},
   "outputs": [],
   "source": [
    "# Implement ReLU function: equivalent to np.maximum(a, 0)\n",
    "a[negatives | zeroes] = 0\n",
    "print(a)"
   ]
  },
  {
   "cell_type": "markdown",
   "metadata": {},
   "source": [
    "---------------\n",
    "## Example 1: IRIS dataset\n",
    "\n",
    "In this section we use NumPy to load a small dataset from disk and perform some operations on it. The [Iris dataset](https://en.wikipedia.org/wiki/Iris_flower_data_set) was obtained from the [UCI Machine Learning Repository](http://archive.ics.uci.edu/ml/index.php) and can be found online [here](http://archive.ics.uci.edu/ml/machine-learning-databases/iris/iris.data). You can find it in the `data/` subdirectory, named `iris.csv`.\n",
    "\n",
    "Please note that for pedagogical purposes here we use NumPy to explore this dataset, but **pandas** would be a better choice in this case. You can learn more about **pandas** in [this notebook](pandas.ipynb)."
   ]
  },
  {
   "cell_type": "code",
   "execution_count": null,
   "metadata": {},
   "outputs": [],
   "source": [
    "import os\n",
    "import requests\n",
    "\n",
    "def download(url: str, path: str):\n",
    "    \"\"\"Download file at url and save it locally at path.\"\"\"\n",
    "    \n",
    "    with requests.get(url, stream=True) as resp:\n",
    "        mode, data = 'wb', resp.content\n",
    "        if 'text/plain' in resp.headers['Content-Type']:\n",
    "            mode, data = 'wt', resp.text\n",
    "        with open(path, mode) as f:\n",
    "            f.write(data)"
   ]
  },
  {
   "cell_type": "code",
   "execution_count": null,
   "metadata": {},
   "outputs": [],
   "source": [
    "# Download the dataset if necessary\n",
    "path = os.path.join('..', 'data', 'iris.csv')\n",
    "\n",
    "if not os.path.isfile(path):\n",
    "    os.makedirs(os.path.join('..', 'data'), exist_ok=True)\n",
    "    url = 'https://raw.githubusercontent.com/airnandez/numpandas/master/data/iris.csv'\n",
    "    download(url, path)"
   ]
  },
  {
   "cell_type": "code",
   "execution_count": null,
   "metadata": {},
   "outputs": [],
   "source": [
    "%%bash\n",
    "\n",
    "head -3 ../data/iris.csv"
   ]
  },
  {
   "cell_type": "markdown",
   "metadata": {},
   "source": [
    "NumPy has [functions to read and write files](https://numpy.org/doc/stable/reference/routines.io.html). Below we use [numpy.loadtxt()](https://numpy.org/doc/stable/reference/generated/numpy.loadtxt.html) to read specific columns of a text file in CSV format, convert those values to numbers and store them in 1D arrays:"
   ]
  },
  {
   "cell_type": "code",
   "execution_count": null,
   "metadata": {},
   "outputs": [],
   "source": [
    "# Load the dataset into 5 different arrays, one per feature\n",
    "sepal_length = np.loadtxt(path, delimiter=',', usecols=(0,))\n",
    "sepal_width  = np.loadtxt(path, delimiter=',', usecols=(1,))\n",
    "petal_length = np.loadtxt(path, delimiter=',', usecols=(2,))\n",
    "petal_width  = np.loadtxt(path, delimiter=',', usecols=(3,))\n",
    "species      = np.loadtxt(path, delimiter=',', usecols=(4,), dtype=str)"
   ]
  },
  {
   "cell_type": "code",
   "execution_count": null,
   "metadata": {},
   "outputs": [],
   "source": [
    "# Explore the shapes of the arrays\n",
    "print(\"sepal_length.shape:\", sepal_length.shape)\n",
    "print(\"sepal_width.shape: \", sepal_width.shape)\n",
    "print(\"petal_length.shape:\", petal_length.shape)\n",
    "print(\"petal_width.shape: \", petal_width.shape)\n",
    "print(\"species.shape:     \", species.shape)"
   ]
  },
  {
   "cell_type": "code",
   "execution_count": null,
   "metadata": {},
   "outputs": [],
   "source": [
    "# Explore the contents of some of those arrays\n",
    "sepal_length[:3], species[:3]"
   ]
  },
  {
   "cell_type": "code",
   "execution_count": null,
   "metadata": {},
   "outputs": [],
   "source": [
    "# Retrieve the names of the species included in the dataset\n",
    "np.unique(species)"
   ]
  },
  {
   "cell_type": "code",
   "execution_count": null,
   "metadata": {},
   "outputs": [],
   "source": [
    "# Create a dictionary of masks for each species\n",
    "masks = { name:(species == name) for name in np.unique(species) }"
   ]
  },
  {
   "cell_type": "code",
   "execution_count": null,
   "metadata": {},
   "outputs": [],
   "source": [
    "# Compute the mean and std for the sepal length feature for each species\n",
    "for sp, m in masks.items():\n",
    "    print(f\"{sp}:\")\n",
    "    print(f\"   sepal length mean: {sepal_length[m].mean():.2f}\")\n",
    "    print(f\"   sepal length std:  {sepal_length[m].std():.2f}\\n\")"
   ]
  },
  {
   "cell_type": "markdown",
   "metadata": {},
   "source": [
    "-------\n",
    "\n",
    "## Example 2: images as NumPy arrays\n",
    "\n",
    "In this example we see how images can be represented by a 3-dimensional NumPy array, where the 3rd dimension encodes the values for red, green and blue for each pixel. We use as an example a rendering of the telescope of the [Vera C. Rubin observatory](https://rubinobs.org)."
   ]
  },
  {
   "cell_type": "code",
   "execution_count": null,
   "metadata": {},
   "outputs": [],
   "source": [
    "%matplotlib inline\n",
    "import matplotlib\n",
    "import matplotlib.pyplot as plt\n",
    "import matplotlib.image as mpimg\n",
    "\n",
    "# Set some defaults for displaying figures\n",
    "matplotlib.rcParams[\"figure.figsize\"] = (8,6)\n",
    "matplotlib.rcParams[\"figure.dpi\"] = 100"
   ]
  },
  {
   "cell_type": "code",
   "execution_count": null,
   "metadata": {},
   "outputs": [],
   "source": [
    "# Create destination directory and download the image file if necessary\n",
    "images_dir = 'images'\n",
    "path = os.path.join('..', images_dir, 'lsst.jpg')\n",
    "if not os.path.isfile(path):\n",
    "    os.makedirs(os.path.join('..', images_dir), exist_ok=True)\n",
    "    url = 'https://raw.githubusercontent.com/airnandez/numpandas/master/images/lsst.jpg'\n",
    "    download(url, path)"
   ]
  },
  {
   "cell_type": "code",
   "execution_count": null,
   "metadata": {},
   "outputs": [],
   "source": [
    "# Read the image (using matplotlib) into a numpy.array\n",
    "image = mpimg.imread(path)\n",
    "type(image)"
   ]
  },
  {
   "cell_type": "markdown",
   "metadata": {},
   "source": [
    "The image, which is 1910 x 2473 pixels in size, is represented in memory as a NumPy array of that we can inspect:"
   ]
  },
  {
   "cell_type": "code",
   "execution_count": null,
   "metadata": {},
   "outputs": [],
   "source": [
    "print(\"dimensions:\", image.shape)\n",
    "print(\"type:      \", image.dtype)"
   ]
  },
  {
   "cell_type": "code",
   "execution_count": null,
   "metadata": {},
   "outputs": [],
   "source": [
    "plt.imshow(image)"
   ]
  },
  {
   "cell_type": "code",
   "execution_count": null,
   "metadata": {},
   "outputs": [],
   "source": [
    "# We can zoom in by displaying a slice of the underlying array (a.k.a. cropping)\n",
    "plt.imshow(image[250:750, 1000:1500])"
   ]
  },
  {
   "cell_type": "code",
   "execution_count": null,
   "metadata": {},
   "outputs": [],
   "source": [
    "# Display a single color channel using a meaningful colormap\n",
    "RED, GREEN, BLUE = 0, 1, 2\n",
    "colormaps = {RED: 'Reds', GREEN: 'Greens', BLUE: 'Blues'}\n",
    "\n",
    "channel = BLUE\n",
    "plt.imshow(image[:, :, channel], cmap=colormaps[channel])"
   ]
  },
  {
   "cell_type": "markdown",
   "metadata": {},
   "source": [
    "-------------\n",
    "## Acknowledgements\n",
    "<a id='Acknowledgements'></a>\n",
    "\n",
    "These are the sources this notebook draws ideas, inspiration and sometimes material from. You are encouraged to consult them to deep further:\n",
    "\n",
    "* [Python Data Science Handbook](https://jakevdp.github.io/PythonDataScienceHandbook/) by Jave VanderPlas (highly recommended book)\n",
    "* Python Bootcamp organised by the [Berkeley Institute for Data Science (BIDS)](https://bids.berkeley.edu) in the Fall 2016: [videos](https://bids.berkeley.edu/news/python-boot-camp-fall-2016-training-videos-available-online) and [notebooks](https://github.com/profjsb/python-bootcamp)\n",
    "\n",
    "If you are new to Python, the [HEP Software Foundation's Python Starter Kit](https://hsf-training.github.io/analysis-essentials/) may help you getting familiar with the tools used in a science experiment for analysing data.\n",
    "\n",
    "The book, [Fluent Python](https://github.com/fluentpython) by Luciano Ramalho is an excellent source when you are more comfortable with Python."
   ]
  }
 ],
 "metadata": {
  "kernelspec": {
   "display_name": "Python 3 (ipykernel)",
   "language": "python",
   "name": "python3"
  },
  "language_info": {
   "codemirror_mode": {
    "name": "ipython",
    "version": 3
   },
   "file_extension": ".py",
   "mimetype": "text/x-python",
   "name": "python",
   "nbconvert_exporter": "python",
   "pygments_lexer": "ipython3",
   "version": "3.12.2"
  }
 },
 "nbformat": 4,
 "nbformat_minor": 4
}
