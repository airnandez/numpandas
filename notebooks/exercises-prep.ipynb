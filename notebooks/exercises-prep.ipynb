{
 "cells": [
  {
   "cell_type": "markdown",
   "metadata": {},
   "source": [
    "## Import"
   ]
  },
  {
   "cell_type": "code",
   "execution_count": 2,
   "metadata": {},
   "outputs": [],
   "source": [
    "import pandas as pd\n",
    "import numpy as np"
   ]
  },
  {
   "cell_type": "markdown",
   "metadata": {},
   "source": [
    "## Load the dataset\n",
    "\n",
    "We will use the dataset about babies names in France in the period 1900 to 2017"
   ]
  },
  {
   "cell_type": "code",
   "execution_count": 3,
   "metadata": {},
   "outputs": [
    {
     "data": {
      "text/plain": [
       "(3573026, 5)"
      ]
     },
     "execution_count": 3,
     "metadata": {},
     "output_type": "execute_result"
    }
   ],
   "source": [
    "# Load the new dataset. Its fields are separated by tabs.\n",
    "# We ask pandas to interpret the columns 'annais' and 'dpt' as strings to avoid error with missing\n",
    "# values\n",
    "df = pd.read_csv('./data/prenoms-fr-1900-2017.tsv.gz', sep='\\t', dtype={'annais':str, 'dpt':str})\n",
    "df.shape"
   ]
  },
  {
   "cell_type": "markdown",
   "metadata": {},
   "source": [
    "## Clean the dataset"
   ]
  },
  {
   "cell_type": "code",
   "execution_count": 4,
   "metadata": {},
   "outputs": [],
   "source": [
    "# Rename some columns to use more meaningful names\n",
    "df = df.rename(columns={\n",
    "    'sexe':      'sex',\n",
    "    'preusuel':  'name',\n",
    "    'annais':    'year',\n",
    "    'dpt':       'department',\n",
    "    'nombre':    'count'})\n",
    "\n",
    "# Drop rows with missing 'department', 'year' and special 'name'\n",
    "df.drop(df[df['department'] == 'XX'].index, inplace=True)\n",
    "df.drop(df[df['year'] == 'XXXX'].index, inplace=True)\n",
    "df.drop(df[df['name'] == '_PRENOMS_RARES'].index, inplace=True)\n",
    "\n",
    "# Convert columns 'department' and 'year' to numeric values\n",
    "df['department'] = pd.to_numeric(df['department'])\n",
    "df['year']       = pd.to_numeric(df['year'])"
   ]
  },
  {
   "cell_type": "markdown",
   "metadata": {},
   "source": [
    "## Display a small random sample of the dataset"
   ]
  },
  {
   "cell_type": "code",
   "execution_count": 5,
   "metadata": {},
   "outputs": [
    {
     "data": {
      "text/html": [
       "<div>\n",
       "<style scoped>\n",
       "    .dataframe tbody tr th:only-of-type {\n",
       "        vertical-align: middle;\n",
       "    }\n",
       "\n",
       "    .dataframe tbody tr th {\n",
       "        vertical-align: top;\n",
       "    }\n",
       "\n",
       "    .dataframe thead th {\n",
       "        text-align: right;\n",
       "    }\n",
       "</style>\n",
       "<table border=\"1\" class=\"dataframe\">\n",
       "  <thead>\n",
       "    <tr style=\"text-align: right;\">\n",
       "      <th></th>\n",
       "      <th>sex</th>\n",
       "      <th>name</th>\n",
       "      <th>year</th>\n",
       "      <th>department</th>\n",
       "      <th>count</th>\n",
       "    </tr>\n",
       "  </thead>\n",
       "  <tbody>\n",
       "    <tr>\n",
       "      <th>562853</th>\n",
       "      <td>1</td>\n",
       "      <td>GASTON</td>\n",
       "      <td>1918</td>\n",
       "      <td>23</td>\n",
       "      <td>17</td>\n",
       "    </tr>\n",
       "    <tr>\n",
       "      <th>2610487</th>\n",
       "      <td>2</td>\n",
       "      <td>JUSTINE</td>\n",
       "      <td>1998</td>\n",
       "      <td>86</td>\n",
       "      <td>32</td>\n",
       "    </tr>\n",
       "    <tr>\n",
       "      <th>2088537</th>\n",
       "      <td>2</td>\n",
       "      <td>COLETTE</td>\n",
       "      <td>1928</td>\n",
       "      <td>76</td>\n",
       "      <td>88</td>\n",
       "    </tr>\n",
       "    <tr>\n",
       "      <th>1187291</th>\n",
       "      <td>1</td>\n",
       "      <td>NESSIM</td>\n",
       "      <td>2013</td>\n",
       "      <td>68</td>\n",
       "      <td>3</td>\n",
       "    </tr>\n",
       "    <tr>\n",
       "      <th>1265698</th>\n",
       "      <td>1</td>\n",
       "      <td>PHILIPPE</td>\n",
       "      <td>1909</td>\n",
       "      <td>83</td>\n",
       "      <td>4</td>\n",
       "    </tr>\n",
       "    <tr>\n",
       "      <th>2082215</th>\n",
       "      <td>2</td>\n",
       "      <td>CLÉMENCE</td>\n",
       "      <td>2005</td>\n",
       "      <td>77</td>\n",
       "      <td>27</td>\n",
       "    </tr>\n",
       "    <tr>\n",
       "      <th>1714409</th>\n",
       "      <td>2</td>\n",
       "      <td>ALINE</td>\n",
       "      <td>1921</td>\n",
       "      <td>50</td>\n",
       "      <td>21</td>\n",
       "    </tr>\n",
       "    <tr>\n",
       "      <th>376134</th>\n",
       "      <td>1</td>\n",
       "      <td>DÉSIRÉ</td>\n",
       "      <td>1906</td>\n",
       "      <td>75</td>\n",
       "      <td>43</td>\n",
       "    </tr>\n",
       "    <tr>\n",
       "      <th>1187470</th>\n",
       "      <td>1</td>\n",
       "      <td>NESTOR</td>\n",
       "      <td>1929</td>\n",
       "      <td>972</td>\n",
       "      <td>5</td>\n",
       "    </tr>\n",
       "    <tr>\n",
       "      <th>80434</th>\n",
       "      <td>1</td>\n",
       "      <td>ALIX</td>\n",
       "      <td>2013</td>\n",
       "      <td>1</td>\n",
       "      <td>3</td>\n",
       "    </tr>\n",
       "  </tbody>\n",
       "</table>\n",
       "</div>"
      ],
      "text/plain": [
       "         sex      name  year  department  count\n",
       "562853     1    GASTON  1918          23     17\n",
       "2610487    2   JUSTINE  1998          86     32\n",
       "2088537    2   COLETTE  1928          76     88\n",
       "1187291    1    NESSIM  2013          68      3\n",
       "1265698    1  PHILIPPE  1909          83      4\n",
       "2082215    2  CLÉMENCE  2005          77     27\n",
       "1714409    2     ALINE  1921          50     21\n",
       "376134     1    DÉSIRÉ  1906          75     43\n",
       "1187470    1    NESTOR  1929         972      5\n",
       "80434      1      ALIX  2013           1      3"
      ]
     },
     "execution_count": 5,
     "metadata": {},
     "output_type": "execute_result"
    }
   ],
   "source": [
    "df.sample(10)"
   ]
  },
  {
   "cell_type": "code",
   "execution_count": 6,
   "metadata": {},
   "outputs": [],
   "source": [
    "# In this dataset, the sex is represented as 1 for males and 2 for females\n",
    "# Define some convenient constants\n",
    "MALE, FEMALE = 1, 2\n",
    "\n",
    "# Create two views of the dataframe: one for boys and one for girls\n",
    "boys = df[df['sex'] == MALE]\n",
    "girls = df[df['sex'] == FEMALE]"
   ]
  },
  {
   "cell_type": "markdown",
   "metadata": {},
   "source": [
    "## Exercise 1:\n",
    "\n",
    "Determine the top 5 names separately for boys and for girls born since 2010:"
   ]
  },
  {
   "cell_type": "code",
   "execution_count": 134,
   "metadata": {},
   "outputs": [],
   "source": [
    "# Select the individuals born since the year of interst\n",
    "year = 2017\n",
    "boys_recent  = boys[boys['year'] >= year]\n",
    "girls_recent = girls[girls['year'] >= year]\n",
    "\n",
    "# Create groups by 'name' and sum the number of individuals with each\n",
    "# name for each year\n",
    "boys_top_names  = boys_recent.groupby(['name'])['count'].sum()\n",
    "girls_top_names = girls_recent.groupby(['name'])['count'].sum()"
   ]
  },
  {
   "cell_type": "code",
   "execution_count": 8,
   "metadata": {},
   "outputs": [
    {
     "data": {
      "text/plain": [
       "name\n",
       "GABRIEL    5428\n",
       "LOUIS      4406\n",
       "RAPHAËL    4184\n",
       "JULES      4179\n",
       "ADAM       4156\n",
       "Name: count, dtype: int64"
      ]
     },
     "execution_count": 8,
     "metadata": {},
     "output_type": "execute_result"
    }
   ],
   "source": [
    "boys_top_names.nlargest(5)"
   ]
  },
  {
   "cell_type": "code",
   "execution_count": 9,
   "metadata": {},
   "outputs": [
    {
     "data": {
      "text/plain": [
       "name\n",
       "EMMA      4809\n",
       "LOUISE    4037\n",
       "JADE      4024\n",
       "ALICE     3381\n",
       "CHLOÉ     3148\n",
       "Name: count, dtype: int64"
      ]
     },
     "execution_count": 9,
     "metadata": {},
     "output_type": "execute_result"
    }
   ],
   "source": [
    "girls_top_names.nlargest(5)"
   ]
  },
  {
   "cell_type": "code",
   "execution_count": null,
   "metadata": {},
   "outputs": [],
   "source": []
  },
  {
   "cell_type": "code",
   "execution_count": null,
   "metadata": {},
   "outputs": [],
   "source": []
  },
  {
   "cell_type": "code",
   "execution_count": null,
   "metadata": {},
   "outputs": [],
   "source": []
  },
  {
   "cell_type": "code",
   "execution_count": null,
   "metadata": {},
   "outputs": [],
   "source": []
  },
  {
   "cell_type": "code",
   "execution_count": null,
   "metadata": {},
   "outputs": [],
   "source": []
  },
  {
   "cell_type": "code",
   "execution_count": null,
   "metadata": {},
   "outputs": [],
   "source": []
  },
  {
   "cell_type": "code",
   "execution_count": null,
   "metadata": {},
   "outputs": [],
   "source": []
  },
  {
   "cell_type": "markdown",
   "metadata": {},
   "source": [
    "## Excercise 2:\n",
    "\n",
    "**Question 1:** determine the year when the largest number of girls named `'MARIE'` were born:"
   ]
  },
  {
   "cell_type": "code",
   "execution_count": 135,
   "metadata": {},
   "outputs": [
    {
     "name": "stdout",
     "output_type": "stream",
     "text": [
      "The largest number of girls named Marie was 52,167 in 1901\n"
     ]
    }
   ],
   "source": [
    "# Groupe the 'MARIE' par year, sum their count for all the departments\n",
    "maries_per_year = girls[girls['name'] == \"MARIE\"].groupby(['year'])['count'].sum()\n",
    "\n",
    "# Get the maximum value and the position of that maximum in the series\n",
    "count_maries = maries_per_year.max()\n",
    "year = maries_per_year.idxmax()\n",
    "\n",
    "print(f'The largest number of girls named Marie was {count_maries:,} in {year}')"
   ]
  },
  {
   "cell_type": "markdown",
   "metadata": {},
   "source": [
    "**Question 2**: what percentage of all the girls born that same year were named `'MARIE'`?"
   ]
  },
  {
   "cell_type": "code",
   "execution_count": 122,
   "metadata": {},
   "outputs": [
    {
     "name": "stdout",
     "output_type": "stream",
     "text": [
      "21% of the girls born in 1901 were named MARIE\n"
     ]
    }
   ],
   "source": [
    "# Count the total number of girls born in the year computed in the previous question\n",
    "total_girls = girls[girls['year'] == year]['count'].sum()\n",
    "\n",
    "print(f'{count_maries*100/total_girls:.0f}% of the girls born in {year} were named MARIE')"
   ]
  },
  {
   "cell_type": "markdown",
   "metadata": {},
   "source": [
    "## Exercise:\n",
    "\n",
    "Determine the most popular name for boys and for girls for the whole period included in the dataset"
   ]
  },
  {
   "cell_type": "code",
   "execution_count": 131,
   "metadata": {},
   "outputs": [
    {
     "name": "stdout",
     "output_type": "stream",
     "text": [
      "The most popular names over the period 1900-2017 were JEAN and MARIE\n"
     ]
    }
   ],
   "source": [
    "boys_max  = boys.groupby(['name'])['count'].sum().idxmax()\n",
    "girls_max = girls.groupby(['name'])['count'].sum().idxmax()\n",
    "\n",
    "print(f'The most popular names over the period 1900-2017 were {boys_max} and {girls_max}')"
   ]
  },
  {
   "cell_type": "markdown",
   "metadata": {},
   "source": [
    "## Exercise\n",
    "\n",
    "Among the girls born in 1970, were there more named `'ISABELLE'` than `'BRIGITTE'` ?"
   ]
  },
  {
   "cell_type": "code",
   "execution_count": 137,
   "metadata": {},
   "outputs": [
    {
     "name": "stdout",
     "output_type": "stream",
     "text": [
      "True\n"
     ]
    }
   ],
   "source": [
    "# Select the girls born in 1970\n",
    "girls_1970 = girls[girls['year'] == 1970]\n",
    "\n",
    "# Group those girls by their given name, and sum their counts for ALL the departments\n",
    "girls_per_name_1970 = girls_1970.groupby(['name'])['count'].sum()\n",
    "\n",
    "# Select the rows for ISABELLE and BRIGITTE and compare their values\n",
    "isabelles_1970 = girls_per_name_1970.loc['ISABELLE']\n",
    "brigittes_1970 = girls_per_name_1970.loc['BRIGITTE']\n",
    "\n",
    "print(isabelles_1970 > brigittes_1970)"
   ]
  },
  {
   "cell_type": "markdown",
   "metadata": {},
   "source": [
    "## Exercise:\n",
    "\n",
    "Determine the position of your given name in the ranking of the all the names (boys and girls) the year you were born:"
   ]
  },
  {
   "cell_type": "code",
   "execution_count": 89,
   "metadata": {},
   "outputs": [
    {
     "ename": "AttributeError",
     "evalue": "Cannot access callable attribute 'loc' of 'DataFrameGroupBy' objects, try using the 'apply' method",
     "output_type": "error",
     "traceback": [
      "\u001b[0;31m---------------------------------------------------------------------------\u001b[0m",
      "\u001b[0;31mAttributeError\u001b[0m                            Traceback (most recent call last)",
      "\u001b[0;32m<ipython-input-89-2c623b207aca>\u001b[0m in \u001b[0;36m<module>\u001b[0;34m\u001b[0m\n\u001b[1;32m      4\u001b[0m \u001b[0mxx\u001b[0m \u001b[0;34m=\u001b[0m \u001b[0mdf\u001b[0m\u001b[0;34m[\u001b[0m\u001b[0mdf\u001b[0m\u001b[0;34m[\u001b[0m\u001b[0;34m'name'\u001b[0m\u001b[0;34m]\u001b[0m \u001b[0;34m==\u001b[0m \u001b[0mmy_name\u001b[0m\u001b[0;34m]\u001b[0m\u001b[0;34m.\u001b[0m\u001b[0mgroupby\u001b[0m\u001b[0;34m(\u001b[0m\u001b[0;34m[\u001b[0m\u001b[0;34m'year'\u001b[0m\u001b[0;34m]\u001b[0m\u001b[0;34m)\u001b[0m\u001b[0;34m\u001b[0m\u001b[0;34m\u001b[0m\u001b[0m\n\u001b[1;32m      5\u001b[0m \u001b[0;34m\u001b[0m\u001b[0m\n\u001b[0;32m----> 6\u001b[0;31m \u001b[0mxx\u001b[0m\u001b[0;34m.\u001b[0m\u001b[0mloc\u001b[0m\u001b[0;34m[\u001b[0m\u001b[0mmy_year\u001b[0m\u001b[0;34m,\u001b[0m \u001b[0;34m:\u001b[0m\u001b[0;34m]\u001b[0m \u001b[0;31m# ['count'].sum()\u001b[0m\u001b[0;34m\u001b[0m\u001b[0;34m\u001b[0m\u001b[0m\n\u001b[0m",
      "\u001b[0;32m~/Developer/OpenSource/anaconda3-v5.1/lib/python3.7/site-packages/pandas/core/groupby/groupby.py\u001b[0m in \u001b[0;36m__getattr__\u001b[0;34m(self, attr)\u001b[0m\n\u001b[1;32m    531\u001b[0m             \u001b[0;32mreturn\u001b[0m \u001b[0mself\u001b[0m\u001b[0;34m[\u001b[0m\u001b[0mattr\u001b[0m\u001b[0;34m]\u001b[0m\u001b[0;34m\u001b[0m\u001b[0;34m\u001b[0m\u001b[0m\n\u001b[1;32m    532\u001b[0m         \u001b[0;32mif\u001b[0m \u001b[0mhasattr\u001b[0m\u001b[0;34m(\u001b[0m\u001b[0mself\u001b[0m\u001b[0;34m.\u001b[0m\u001b[0mobj\u001b[0m\u001b[0;34m,\u001b[0m \u001b[0mattr\u001b[0m\u001b[0;34m)\u001b[0m\u001b[0;34m:\u001b[0m\u001b[0;34m\u001b[0m\u001b[0;34m\u001b[0m\u001b[0m\n\u001b[0;32m--> 533\u001b[0;31m             \u001b[0;32mreturn\u001b[0m \u001b[0mself\u001b[0m\u001b[0;34m.\u001b[0m\u001b[0m_make_wrapper\u001b[0m\u001b[0;34m(\u001b[0m\u001b[0mattr\u001b[0m\u001b[0;34m)\u001b[0m\u001b[0;34m\u001b[0m\u001b[0;34m\u001b[0m\u001b[0m\n\u001b[0m\u001b[1;32m    534\u001b[0m \u001b[0;34m\u001b[0m\u001b[0m\n\u001b[1;32m    535\u001b[0m         raise AttributeError(\"%r object has no attribute %r\" %\n",
      "\u001b[0;32m~/Developer/OpenSource/anaconda3-v5.1/lib/python3.7/site-packages/pandas/core/groupby/groupby.py\u001b[0m in \u001b[0;36m_make_wrapper\u001b[0;34m(self, name)\u001b[0m\n\u001b[1;32m    568\u001b[0m                    \"using the 'apply' method\".format(kind, name,\n\u001b[1;32m    569\u001b[0m                                                      type(self).__name__))\n\u001b[0;32m--> 570\u001b[0;31m             \u001b[0;32mraise\u001b[0m \u001b[0mAttributeError\u001b[0m\u001b[0;34m(\u001b[0m\u001b[0mmsg\u001b[0m\u001b[0;34m)\u001b[0m\u001b[0;34m\u001b[0m\u001b[0;34m\u001b[0m\u001b[0m\n\u001b[0m\u001b[1;32m    571\u001b[0m \u001b[0;34m\u001b[0m\u001b[0m\n\u001b[1;32m    572\u001b[0m         \u001b[0mself\u001b[0m\u001b[0;34m.\u001b[0m\u001b[0m_set_group_selection\u001b[0m\u001b[0;34m(\u001b[0m\u001b[0;34m)\u001b[0m\u001b[0;34m\u001b[0m\u001b[0;34m\u001b[0m\u001b[0m\n",
      "\u001b[0;31mAttributeError\u001b[0m: Cannot access callable attribute 'loc' of 'DataFrameGroupBy' objects, try using the 'apply' method"
     ]
    }
   ],
   "source": [
    "my_year = 2000\n",
    "my_name = 'SÉBASTIEN'\n",
    "\n",
    "xx = df[df['name'] == my_name].groupby(['year'])\n",
    "\n",
    "xx.loc[my_year, :] # ['count'].sum()"
   ]
  },
  {
   "cell_type": "code",
   "execution_count": null,
   "metadata": {},
   "outputs": [],
   "source": []
  },
  {
   "cell_type": "code",
   "execution_count": 60,
   "metadata": {},
   "outputs": [
    {
     "name": "stdout",
     "output_type": "stream",
     "text": [
      "1977 19469 353222 5.511831086398922\n"
     ]
    }
   ],
   "source": [
    "sebs_per_year = boys[boys['name'] == \"SÉBASTIEN\"].groupby(['year'])['count'].sum()\n",
    "count_sebs = sebs_per_year.max()\n",
    "year = sebs_per_year.idxmax()\n",
    "\n",
    "\n",
    "total_boys = boys[boys['year'] == year]['count'].sum()\n",
    "print(year, count_sebs, total_boys,  (count_sebs*100/total_boys) )"
   ]
  },
  {
   "cell_type": "code",
   "execution_count": 167,
   "metadata": {},
   "outputs": [
    {
     "data": {
      "text/html": [
       "<div>\n",
       "<style scoped>\n",
       "    .dataframe tbody tr th:only-of-type {\n",
       "        vertical-align: middle;\n",
       "    }\n",
       "\n",
       "    .dataframe tbody tr th {\n",
       "        vertical-align: top;\n",
       "    }\n",
       "\n",
       "    .dataframe thead th {\n",
       "        text-align: right;\n",
       "    }\n",
       "</style>\n",
       "<table border=\"1\" class=\"dataframe\">\n",
       "  <thead>\n",
       "    <tr style=\"text-align: right;\">\n",
       "      <th></th>\n",
       "      <th>sex</th>\n",
       "      <th>name</th>\n",
       "      <th>year</th>\n",
       "      <th>department</th>\n",
       "      <th>count</th>\n",
       "    </tr>\n",
       "  </thead>\n",
       "  <tbody>\n",
       "    <tr>\n",
       "      <th>1561</th>\n",
       "      <td>1</td>\n",
       "      <td>ABDALLAH</td>\n",
       "      <td>1978</td>\n",
       "      <td>38</td>\n",
       "      <td>3</td>\n",
       "    </tr>\n",
       "    <tr>\n",
       "      <th>1562</th>\n",
       "      <td>1</td>\n",
       "      <td>ABDALLAH</td>\n",
       "      <td>1978</td>\n",
       "      <td>59</td>\n",
       "      <td>3</td>\n",
       "    </tr>\n",
       "    <tr>\n",
       "      <th>1563</th>\n",
       "      <td>1</td>\n",
       "      <td>ABDALLAH</td>\n",
       "      <td>1978</td>\n",
       "      <td>69</td>\n",
       "      <td>4</td>\n",
       "    </tr>\n",
       "    <tr>\n",
       "      <th>1564</th>\n",
       "      <td>1</td>\n",
       "      <td>ABDALLAH</td>\n",
       "      <td>1978</td>\n",
       "      <td>92</td>\n",
       "      <td>5</td>\n",
       "    </tr>\n",
       "    <tr>\n",
       "      <th>2201</th>\n",
       "      <td>1</td>\n",
       "      <td>ABDEL</td>\n",
       "      <td>1978</td>\n",
       "      <td>13</td>\n",
       "      <td>3</td>\n",
       "    </tr>\n",
       "  </tbody>\n",
       "</table>\n",
       "</div>"
      ],
      "text/plain": [
       "      sex      name  year  department  count\n",
       "1561    1  ABDALLAH  1978          38      3\n",
       "1562    1  ABDALLAH  1978          59      3\n",
       "1563    1  ABDALLAH  1978          69      4\n",
       "1564    1  ABDALLAH  1978          92      5\n",
       "2201    1     ABDEL  1978          13      3"
      ]
     },
     "execution_count": 167,
     "metadata": {},
     "output_type": "execute_result"
    }
   ],
   "source": [
    "boys[boys['year'] == 1978].head()"
   ]
  },
  {
   "cell_type": "code",
   "execution_count": 193,
   "metadata": {},
   "outputs": [
    {
     "data": {
      "text/html": [
       "<div>\n",
       "<style scoped>\n",
       "    .dataframe tbody tr th:only-of-type {\n",
       "        vertical-align: middle;\n",
       "    }\n",
       "\n",
       "    .dataframe tbody tr th {\n",
       "        vertical-align: top;\n",
       "    }\n",
       "\n",
       "    .dataframe thead th {\n",
       "        text-align: right;\n",
       "    }\n",
       "</style>\n",
       "<table border=\"1\" class=\"dataframe\">\n",
       "  <thead>\n",
       "    <tr style=\"text-align: right;\">\n",
       "      <th></th>\n",
       "      <th>sex</th>\n",
       "      <th>name</th>\n",
       "      <th>year</th>\n",
       "      <th>department</th>\n",
       "      <th>count</th>\n",
       "    </tr>\n",
       "  </thead>\n",
       "  <tbody>\n",
       "    <tr>\n",
       "      <th>1231324</th>\n",
       "      <td>1</td>\n",
       "      <td>OSMAN</td>\n",
       "      <td>1981</td>\n",
       "      <td>42</td>\n",
       "      <td>4</td>\n",
       "    </tr>\n",
       "    <tr>\n",
       "      <th>1231326</th>\n",
       "      <td>1</td>\n",
       "      <td>OSMAN</td>\n",
       "      <td>1982</td>\n",
       "      <td>42</td>\n",
       "      <td>3</td>\n",
       "    </tr>\n",
       "    <tr>\n",
       "      <th>1231332</th>\n",
       "      <td>1</td>\n",
       "      <td>OSMAN</td>\n",
       "      <td>1985</td>\n",
       "      <td>42</td>\n",
       "      <td>3</td>\n",
       "    </tr>\n",
       "    <tr>\n",
       "      <th>1231358</th>\n",
       "      <td>1</td>\n",
       "      <td>OSMAN</td>\n",
       "      <td>1995</td>\n",
       "      <td>42</td>\n",
       "      <td>4</td>\n",
       "    </tr>\n",
       "    <tr>\n",
       "      <th>1231363</th>\n",
       "      <td>1</td>\n",
       "      <td>OSMAN</td>\n",
       "      <td>1997</td>\n",
       "      <td>42</td>\n",
       "      <td>5</td>\n",
       "    </tr>\n",
       "    <tr>\n",
       "      <th>1231377</th>\n",
       "      <td>1</td>\n",
       "      <td>OSMAN</td>\n",
       "      <td>2002</td>\n",
       "      <td>42</td>\n",
       "      <td>3</td>\n",
       "    </tr>\n",
       "    <tr>\n",
       "      <th>1231385</th>\n",
       "      <td>1</td>\n",
       "      <td>OSMAN</td>\n",
       "      <td>2004</td>\n",
       "      <td>42</td>\n",
       "      <td>5</td>\n",
       "    </tr>\n",
       "    <tr>\n",
       "      <th>1231389</th>\n",
       "      <td>1</td>\n",
       "      <td>OSMAN</td>\n",
       "      <td>2005</td>\n",
       "      <td>42</td>\n",
       "      <td>3</td>\n",
       "    </tr>\n",
       "    <tr>\n",
       "      <th>1231428</th>\n",
       "      <td>1</td>\n",
       "      <td>OSMAN</td>\n",
       "      <td>2016</td>\n",
       "      <td>42</td>\n",
       "      <td>5</td>\n",
       "    </tr>\n",
       "  </tbody>\n",
       "</table>\n",
       "</div>"
      ],
      "text/plain": [
       "         sex   name  year  department  count\n",
       "1231324    1  OSMAN  1981          42      4\n",
       "1231326    1  OSMAN  1982          42      3\n",
       "1231332    1  OSMAN  1985          42      3\n",
       "1231358    1  OSMAN  1995          42      4\n",
       "1231363    1  OSMAN  1997          42      5\n",
       "1231377    1  OSMAN  2002          42      3\n",
       "1231385    1  OSMAN  2004          42      5\n",
       "1231389    1  OSMAN  2005          42      3\n",
       "1231428    1  OSMAN  2016          42      5"
      ]
     },
     "execution_count": 193,
     "metadata": {},
     "output_type": "execute_result"
    }
   ],
   "source": [
    "osmans       = boys['name'] == \"OSMAN\"\n",
    "born_in_1978 = boys['year'] == 1978\n",
    "dept_42      = boys['department'] == 42\n",
    "\n",
    "boys[osmans & dept_42]"
   ]
  },
  {
   "cell_type": "markdown",
   "metadata": {},
   "source": [
    "## Excercise 3:\n",
    "\n",
    "Determine the most popular name the year you were born, for each sex:"
   ]
  },
  {
   "cell_type": "code",
   "execution_count": 169,
   "metadata": {},
   "outputs": [],
   "source": [
    "year = 2003"
   ]
  },
  {
   "cell_type": "code",
   "execution_count": 170,
   "metadata": {},
   "outputs": [
    {
     "data": {
      "text/plain": [
       "name\n",
       "LUCAS     8291\n",
       "THÉO      7857\n",
       "HUGO      7388\n",
       "THOMAS    6856\n",
       "ENZO      6747\n",
       "Name: count, dtype: int64"
      ]
     },
     "execution_count": 170,
     "metadata": {},
     "output_type": "execute_result"
    }
   ],
   "source": [
    "boys_born_my_year = boys[boys['year'] == year]\n",
    "boys_born_my_year.groupby(['name'])['count'].sum().nlargest(5)"
   ]
  },
  {
   "cell_type": "code",
   "execution_count": 171,
   "metadata": {},
   "outputs": [
    {
     "data": {
      "text/plain": [
       "name\n",
       "LÉA        8987\n",
       "MANON      6925\n",
       "EMMA       6232\n",
       "CHLOÉ      5801\n",
       "CAMILLE    5364\n",
       "Name: count, dtype: int64"
      ]
     },
     "execution_count": 171,
     "metadata": {},
     "output_type": "execute_result"
    }
   ],
   "source": [
    "girls_born_my_year = girls[girls['year'] == year]\n",
    "girls_born_my_year.groupby(['name'])['count'].sum().nlargest(5)"
   ]
  },
  {
   "cell_type": "code",
   "execution_count": 189,
   "metadata": {},
   "outputs": [
    {
     "data": {
      "text/plain": [
       "49"
      ]
     },
     "execution_count": 189,
     "metadata": {},
     "output_type": "execute_result"
    }
   ],
   "source": [
    "girls_born_my_year[girls_born_my_year['name'] == 'MANUELA']['count'].sum()"
   ]
  },
  {
   "cell_type": "code",
   "execution_count": 10,
   "metadata": {},
   "outputs": [
    {
     "data": {
      "text/html": [
       "<div>\n",
       "<style scoped>\n",
       "    .dataframe tbody tr th:only-of-type {\n",
       "        vertical-align: middle;\n",
       "    }\n",
       "\n",
       "    .dataframe tbody tr th {\n",
       "        vertical-align: top;\n",
       "    }\n",
       "\n",
       "    .dataframe thead th {\n",
       "        text-align: right;\n",
       "    }\n",
       "</style>\n",
       "<table border=\"1\" class=\"dataframe\">\n",
       "  <thead>\n",
       "    <tr style=\"text-align: right;\">\n",
       "      <th></th>\n",
       "      <th>sex</th>\n",
       "      <th>name</th>\n",
       "      <th>year</th>\n",
       "      <th>department</th>\n",
       "      <th>count</th>\n",
       "    </tr>\n",
       "  </thead>\n",
       "  <tbody>\n",
       "    <tr>\n",
       "      <th>3399162</th>\n",
       "      <td>2</td>\n",
       "      <td>SOLANGE</td>\n",
       "      <td>1904</td>\n",
       "      <td>70</td>\n",
       "      <td>3</td>\n",
       "    </tr>\n",
       "    <tr>\n",
       "      <th>2968115</th>\n",
       "      <td>2</td>\n",
       "      <td>MARIE-THÉRÈSE</td>\n",
       "      <td>1936</td>\n",
       "      <td>17</td>\n",
       "      <td>7</td>\n",
       "    </tr>\n",
       "    <tr>\n",
       "      <th>2875676</th>\n",
       "      <td>2</td>\n",
       "      <td>MARGO</td>\n",
       "      <td>1995</td>\n",
       "      <td>38</td>\n",
       "      <td>5</td>\n",
       "    </tr>\n",
       "    <tr>\n",
       "      <th>2926027</th>\n",
       "      <td>2</td>\n",
       "      <td>MARIE-CLAUDE</td>\n",
       "      <td>1969</td>\n",
       "      <td>69</td>\n",
       "      <td>12</td>\n",
       "    </tr>\n",
       "    <tr>\n",
       "      <th>2174947</th>\n",
       "      <td>2</td>\n",
       "      <td>DOROTHEE</td>\n",
       "      <td>1915</td>\n",
       "      <td>972</td>\n",
       "      <td>10</td>\n",
       "    </tr>\n",
       "    <tr>\n",
       "      <th>3262373</th>\n",
       "      <td>2</td>\n",
       "      <td>PRISCILLIA</td>\n",
       "      <td>1989</td>\n",
       "      <td>77</td>\n",
       "      <td>9</td>\n",
       "    </tr>\n",
       "    <tr>\n",
       "      <th>3001991</th>\n",
       "      <td>2</td>\n",
       "      <td>MARTHE</td>\n",
       "      <td>1942</td>\n",
       "      <td>30</td>\n",
       "      <td>5</td>\n",
       "    </tr>\n",
       "    <tr>\n",
       "      <th>2402122</th>\n",
       "      <td>2</td>\n",
       "      <td>GERTRUDE</td>\n",
       "      <td>1926</td>\n",
       "      <td>13</td>\n",
       "      <td>3</td>\n",
       "    </tr>\n",
       "    <tr>\n",
       "      <th>2821229</th>\n",
       "      <td>2</td>\n",
       "      <td>LÉONTINE</td>\n",
       "      <td>1906</td>\n",
       "      <td>58</td>\n",
       "      <td>18</td>\n",
       "    </tr>\n",
       "    <tr>\n",
       "      <th>2900031</th>\n",
       "      <td>2</td>\n",
       "      <td>MARIE</td>\n",
       "      <td>1928</td>\n",
       "      <td>10</td>\n",
       "      <td>41</td>\n",
       "    </tr>\n",
       "  </tbody>\n",
       "</table>\n",
       "</div>"
      ],
      "text/plain": [
       "         sex           name  year  department  count\n",
       "3399162    2        SOLANGE  1904          70      3\n",
       "2968115    2  MARIE-THÉRÈSE  1936          17      7\n",
       "2875676    2          MARGO  1995          38      5\n",
       "2926027    2   MARIE-CLAUDE  1969          69     12\n",
       "2174947    2       DOROTHEE  1915         972     10\n",
       "3262373    2     PRISCILLIA  1989          77      9\n",
       "3001991    2         MARTHE  1942          30      5\n",
       "2402122    2       GERTRUDE  1926          13      3\n",
       "2821229    2       LÉONTINE  1906          58     18\n",
       "2900031    2          MARIE  1928          10     41"
      ]
     },
     "execution_count": 10,
     "metadata": {},
     "output_type": "execute_result"
    }
   ],
   "source": [
    "girls.sample(10)"
   ]
  },
  {
   "cell_type": "code",
   "execution_count": null,
   "metadata": {},
   "outputs": [],
   "source": []
  }
 ],
 "metadata": {
  "kernelspec": {
   "display_name": "Python 3",
   "language": "python",
   "name": "python3"
  },
  "language_info": {
   "codemirror_mode": {
    "name": "ipython",
    "version": 3
   },
   "file_extension": ".py",
   "mimetype": "text/x-python",
   "name": "python",
   "nbconvert_exporter": "python",
   "pygments_lexer": "ipython3",
   "version": "3.7.4"
  }
 },
 "nbformat": 4,
 "nbformat_minor": 4
}
