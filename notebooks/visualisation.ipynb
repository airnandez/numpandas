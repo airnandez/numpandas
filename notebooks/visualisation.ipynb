{
 "cells": [
  {
   "cell_type": "markdown",
   "metadata": {},
   "source": [
    "# Visualisation"
   ]
  },
  {
   "cell_type": "markdown",
   "metadata": {},
   "source": [
    "<table align=\"left\">\n",
    "    <tr>\n",
    "    <td><a href=\"https://colab.research.google.com/github/airnandez/numpandas/blob/master/notebooks/visualisation.ipynb\">\n",
    "  <img src=\"https://colab.research.google.com/assets/colab-badge.svg\" alt=\"Open In Colab\"/>\n",
    "</a></td>\n",
    "    <td><a href=\"https://mybinder.org/v2/gh/airnandez/numpandas/master?filepath=notebooks%2Fvisualisation.ipynb\">\n",
    "  <img src=\"https://mybinder.org/badge_logo.svg\" alt=\"Launch Binder\"/>\n",
    "</a></td>\n",
    "  </tr>\n",
    "</table>"
   ]
  },
  {
   "cell_type": "markdown",
   "metadata": {},
   "source": [
    "*Author: Fabio Hernandez*\n",
    "\n",
    "*Last updated: 2025-02-26*\n",
    "\n",
    "*Location:* https://github.com/airnandez/numpandas"
   ]
  },
  {
   "cell_type": "markdown",
   "metadata": {},
   "source": [
    "____ \n",
    "## Introduction"
   ]
  },
  {
   "cell_type": "markdown",
   "metadata": {},
   "source": [
    "The data analysis process often requires visualising the data. The Python ecosystem offers several possibilities for data visualisation, such as [matplotlib](https://matplotlib.org), [bokeh](http://bokeh.pydata.org/en/latest/), [seaborn](https://seaborn.pydata.org), [altair](https://altair-viz.github.io), etc."
   ]
  },
  {
   "cell_type": "code",
   "execution_count": null,
   "metadata": {},
   "outputs": [],
   "source": [
    "import pandas as pd"
   ]
  },
  {
   "cell_type": "code",
   "execution_count": null,
   "metadata": {},
   "outputs": [],
   "source": [
    "import os\n",
    "import requests\n",
    "\n",
    "def download(url: str, path: str):\n",
    "    \"\"\"Download file at url and save it locally at path.\"\"\"\n",
    "    \n",
    "    with requests.get(url, stream=True) as resp:\n",
    "        mode, data = 'wb', resp.content\n",
    "        if 'text/plain' in resp.headers['Content-Type']:\n",
    "            mode, data = 'wt', resp.text\n",
    "        with open(path, mode) as f:\n",
    "            f.write(data)"
   ]
  },
  {
   "cell_type": "code",
   "execution_count": null,
   "metadata": {},
   "outputs": [],
   "source": [
    "# Download the dataset if necessary to the directory 'data'\n",
    "data_dir = 'data'\n",
    "path = os.path.join('..', data_dir, 'european_union-2020.csv')\n",
    "\n",
    "if not os.path.isfile(path):\n",
    "    os.makedirs(os.path.join('..', data_dir), exist_ok=True)\n",
    "    url = 'https://raw.githubusercontent.com/airnandez/numpandas/master/data/european_union-2020.csv'\n",
    "    download(url, path)"
   ]
  },
  {
   "cell_type": "code",
   "execution_count": null,
   "metadata": {},
   "outputs": [],
   "source": [
    "df = pd.read_csv(path, index_col=1, sep=';', decimal=',')\n",
    "df.head(3)"
   ]
  },
  {
   "cell_type": "markdown",
   "metadata": {},
   "source": [
    "-------\n",
    "<img src=\"https://matplotlib.org/stable/_static/logo_light.svg\" align=\"left\" alt=\"bokeh\" width=\"30%\" height=\"30%\"/>"
   ]
  },
  {
   "cell_type": "markdown",
   "metadata": {},
   "source": [
    "Reference: https://matplotlib.org"
   ]
  },
  {
   "cell_type": "markdown",
   "metadata": {},
   "source": [
    "**pandas** is well integrated with matplotlib, so we can quickly produce graphics for exploration purposes:"
   ]
  },
  {
   "cell_type": "code",
   "execution_count": null,
   "metadata": {},
   "outputs": [],
   "source": [
    "%matplotlib inline\n",
    "import matplotlib\n",
    "import matplotlib.pyplot as plt\n",
    "\n",
    "matplotlib.rcParams[\"figure.figsize\"] = (8,6)\n",
    "matplotlib.rcParams[\"figure.dpi\"] = 150"
   ]
  },
  {
   "cell_type": "code",
   "execution_count": null,
   "metadata": {},
   "outputs": [],
   "source": [
    "# The simplest possible way of plotting the contents of the 'population' column\n",
    "df['population'].plot.bar()"
   ]
  },
  {
   "cell_type": "markdown",
   "metadata": {},
   "source": [
    "The figure above is neither pretty nor very useful. Let's improve it a bit:"
   ]
  },
  {
   "cell_type": "code",
   "execution_count": null,
   "metadata": {},
   "outputs": [],
   "source": [
    "# Sort the values, add a title and a label for the horizontal axis\n",
    "figure = df['population'].sort_values(ascending=False).plot.bar(title=\"EU members population (2019)\")\n",
    "figure.set_xlabel('country')\n",
    "figure"
   ]
  },
  {
   "cell_type": "markdown",
   "metadata": {},
   "source": [
    "----------\n",
    "<img src=\"https://static.bokeh.org/logos/logotype.svg\" align=\"left\" alt=\"bokeh\" width=\"15%\" height=\"15%\"/>"
   ]
  },
  {
   "cell_type": "markdown",
   "metadata": {},
   "source": [
    "Reference: https://bokeh.pydata.org/en/latest/"
   ]
  },
  {
   "cell_type": "code",
   "execution_count": null,
   "metadata": {},
   "outputs": [],
   "source": [
    "import bokeh\n",
    "import bokeh.plotting\n",
    "bokeh.plotting.output_notebook()"
   ]
  },
  {
   "cell_type": "markdown",
   "metadata": {},
   "source": [
    "Select the data from the dataframe we want to plot:"
   ]
  },
  {
   "cell_type": "code",
   "execution_count": null,
   "metadata": {},
   "outputs": [],
   "source": [
    "# Select the population, in millions, per country\n",
    "population = (df['population'] / 1_000_000).sort_values(ascending=False)\n",
    "population.head(3)"
   ]
  },
  {
   "cell_type": "code",
   "execution_count": null,
   "metadata": {},
   "outputs": [],
   "source": [
    "fig1 = bokeh.plotting.figure(\n",
    "    title = 'EU members population',\n",
    "    x_axis_label = 'country code',\n",
    "    y_axis_label = 'millions',\n",
    "    x_range = population.index.values,\n",
    ")\n",
    "fig1.vbar(x=population.index.values, top=population.values, width=0.8)\n",
    "bokeh.plotting.show(fig1)"
   ]
  },
  {
   "cell_type": "markdown",
   "metadata": {},
   "source": [
    "Improve the visual attributes of the figure:"
   ]
  },
  {
   "cell_type": "code",
   "execution_count": null,
   "metadata": {},
   "outputs": [],
   "source": [
    "fig2 = bokeh.plotting.figure(\n",
    "    title = 'EU members population',\n",
    "    x_axis_label = 'country code',\n",
    "    y_axis_label = 'millions',\n",
    "    x_range = population.index.values,\n",
    "    width = 800,\n",
    "    height = 600,\n",
    "    background_fill_color = 'whitesmoke',\n",
    "    background_fill_alpha = 0.8,\n",
    ")\n",
    "\n",
    "# Remove vertical grid lines\n",
    "fig2.xgrid.grid_line_color = None\n",
    "\n",
    "# Make toolbar autohide\n",
    "fig2.toolbar.autohide = True\n",
    "\n",
    "# Add vertical bars for each value\n",
    "fig2.vbar(x=population.index.values, top=population.values, width=0.8, alpha=0.6)\n",
    "\n",
    "# Display the figure\n",
    "bokeh.plotting.show(fig2)"
   ]
  },
  {
   "cell_type": "markdown",
   "metadata": {},
   "source": [
    "Bokeh allows for adding some interactivity to the figure:"
   ]
  },
  {
   "cell_type": "code",
   "execution_count": null,
   "metadata": {},
   "outputs": [],
   "source": [
    "# Populate the data source with the values we want to visualize\n",
    "data = bokeh.models.ColumnDataSource({\n",
    "    'country_code':       population.index.values,\n",
    "    'country_name':       df.loc[population.index, 'country'],\n",
    "    'country_population': population.values,\n",
    "})\n",
    "\n",
    "fig3 = bokeh.plotting.figure(\n",
    "    title = 'EU members population',\n",
    "    x_axis_label = 'country code',\n",
    "    y_axis_label = 'millions',\n",
    "    x_range = population.index.values,\n",
    "    width = 800,\n",
    "    height = 600,\n",
    "    background_fill_color = 'whitesmoke',\n",
    "    background_fill_alpha = 0.8\n",
    ")\n",
    "\n",
    "# Remove vertical grid lines\n",
    "fig3.xgrid.grid_line_color = None\n",
    "\n",
    "# Make toolbar autohide\n",
    "fig3.toolbar.autohide = True\n",
    "\n",
    "# Add vertical bars\n",
    "fig3.vbar(x='country_code', top='country_population', source=data, width=0.8, alpha=0.6, color='LightSeaGreen')\n",
    "\n",
    "# Add tooltips\n",
    "fig3.add_tools(bokeh.models.HoverTool(\n",
    "    tooltips = [\n",
    "        ('country',    '@country_name'),\n",
    "        ('population', '@country_population{0.2f} millions'),\n",
    "    ],\n",
    "    mode = 'mouse',\n",
    "))\n",
    "\n",
    "bokeh.plotting.show(fig3)"
   ]
  },
  {
   "cell_type": "markdown",
   "metadata": {},
   "source": [
    "Another figure with additional customization: use the tooltips to present information not shown grapically"
   ]
  },
  {
   "cell_type": "code",
   "execution_count": null,
   "metadata": {},
   "outputs": [],
   "source": [
    "# Net number of individuals who immigrated to each EU country\n",
    "net_immigration = (df['immigration'] - df['emigration']).sort_values(ascending=False)\n",
    "net_immigration.head(3)"
   ]
  },
  {
   "cell_type": "code",
   "execution_count": null,
   "metadata": {},
   "outputs": [],
   "source": [
    "# Populate the data source\n",
    "data = bokeh.models.ColumnDataSource({\n",
    "    'country_code':    net_immigration.index,\n",
    "    'net_immigration': net_immigration.values,\n",
    "    'pct_population':  net_immigration.abs() / df.loc[net_immigration.index, 'population'],\n",
    "    'country_name':    df.loc[net_immigration.index, 'country'],\n",
    "    'color':           ['LightSeaGreen' if v >= 0 else 'FireBrick' for v in net_immigration.values],\n",
    "})\n",
    "\n",
    "fig4 = bokeh.plotting.figure(\n",
    "    title = 'Net immigration per EU member country',\n",
    "    x_axis_label = 'country code',\n",
    "    y_axis_label = 'individuals',\n",
    "    x_range = net_immigration.index.values,\n",
    "    width = 800,\n",
    "    height = 600,\n",
    "    background_fill_color = 'whitesmoke',\n",
    "    background_fill_alpha = 0.8\n",
    ")\n",
    "fig4.xgrid.grid_line_color = None\n",
    "fig4.toolbar.autohide = True\n",
    "\n",
    "# Add tooltips\n",
    "fig4.add_tools(bokeh.models.HoverTool(\n",
    "    tooltips = [\n",
    "        ('country',                  '@country_name'),\n",
    "        ('net immigrants',           '@net_immigration{0,0}'),\n",
    "        ('percentage of population', '@pct_population{0.00%}'),\n",
    "    ],\n",
    "    mode = 'mouse',\n",
    "))\n",
    "\n",
    "# Use thousands separator for the Y axis labels\n",
    "fig4.yaxis.formatter = bokeh.models.formatters.NumeralTickFormatter(format=\"0,0\")\n",
    "\n",
    "# Add a vertical bar per country: the hight of the bar is the value in the 'net_immigration' series\n",
    "fig4.vbar(x='country_code', top='net_immigration', source=data, color='color', width=0.8, alpha=0.6)\n",
    "\n",
    "bokeh.plotting.show(fig4)"
   ]
  }
 ],
 "metadata": {
  "kernelspec": {
   "display_name": "Python 3 (ipykernel)",
   "language": "python",
   "name": "python3"
  },
  "language_info": {
   "codemirror_mode": {
    "name": "ipython",
    "version": 3
   },
   "file_extension": ".py",
   "mimetype": "text/x-python",
   "name": "python",
   "nbconvert_exporter": "python",
   "pygments_lexer": "ipython3",
   "version": "3.12.2"
  }
 },
 "nbformat": 4,
 "nbformat_minor": 4
}
