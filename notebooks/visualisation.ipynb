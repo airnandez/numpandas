{
 "cells": [
  {
   "cell_type": "markdown",
   "metadata": {},
   "source": [
    "# Visualisation"
   ]
  },
  {
   "cell_type": "markdown",
   "metadata": {},
   "source": [
    "*Author: Fabio Hernandez*\n",
    "\n",
    "*Last updated: 2020-02-15*\n",
    "\n",
    "*Location:* https://github.com/airnandez/numpandas"
   ]
  },
  {
   "cell_type": "markdown",
   "metadata": {},
   "source": [
    "<a href=\"https://colab.research.google.com/github/airnandez/numpandas/blob/master/notebooks/visualisation.ipynb\">\n",
    "  <img src=\"https://colab.research.google.com/assets/colab-badge.svg\" alt=\"Open In Colab\"/>\n",
    "</a>"
   ]
  },
  {
   "cell_type": "markdown",
   "metadata": {},
   "source": [
    "____ \n",
    "## Introduction"
   ]
  },
  {
   "cell_type": "markdown",
   "metadata": {},
   "source": [
    "The data analysis process often requires visualising the data. The Python ecosystem offers several possibilities for data visualisation, such as [matplotlib](https://matplotlib.org), [bokeh](http://bokeh.pydata.org/en/latest/), [seaborn](https://seaborn.pydata.org), [altair](https://altair-viz.github.io), etc."
   ]
  },
  {
   "cell_type": "code",
   "execution_count": 1,
   "metadata": {},
   "outputs": [
    {
     "name": "stdout",
     "output_type": "stream",
     "text": [
      "﻿country;country_code;capital;accession_date;population;euro_zone_member;immigration;emigration;contribution_to_eu_budget_millions_euro;expenditure_eu_budget_millions_euro\n",
      "Austria;AT;Vienna;1995-01-01;8858775;TRUE;111801;66144;3277,09735;1952,627788\n",
      "Belgium;BE;Brussels;1957-03-25;11455519;TRUE;126703;89690;3839,758857;8513,575724\n"
     ]
    }
   ],
   "source": [
    "%%bash\n",
    "\n",
    "mkdir -p '../data'\n",
    "dataset_file='../data/european_union-2019.csv'\n",
    "if [[ ! -e ${dataset_file} ]]; then\n",
    "   curl -s -L --output ${dataset_file}  \"https://raw.githubusercontent.com/airnandez/numpandas/master/data/european_union-2019.csv\"\n",
    "fi\n",
    "\n",
    "head -3 ${dataset_file}"
   ]
  },
  {
   "cell_type": "code",
   "execution_count": 2,
   "metadata": {},
   "outputs": [],
   "source": [
    "import pandas as pd"
   ]
  },
  {
   "cell_type": "code",
   "execution_count": 3,
   "metadata": {},
   "outputs": [
    {
     "data": {
      "text/html": [
       "<div>\n",
       "<style scoped>\n",
       "    .dataframe tbody tr th:only-of-type {\n",
       "        vertical-align: middle;\n",
       "    }\n",
       "\n",
       "    .dataframe tbody tr th {\n",
       "        vertical-align: top;\n",
       "    }\n",
       "\n",
       "    .dataframe thead th {\n",
       "        text-align: right;\n",
       "    }\n",
       "</style>\n",
       "<table border=\"1\" class=\"dataframe\">\n",
       "  <thead>\n",
       "    <tr style=\"text-align: right;\">\n",
       "      <th></th>\n",
       "      <th>country</th>\n",
       "      <th>capital</th>\n",
       "      <th>accession_date</th>\n",
       "      <th>population</th>\n",
       "      <th>euro_zone_member</th>\n",
       "      <th>immigration</th>\n",
       "      <th>emigration</th>\n",
       "      <th>contribution_to_eu_budget_millions_euro</th>\n",
       "      <th>expenditure_eu_budget_millions_euro</th>\n",
       "    </tr>\n",
       "    <tr>\n",
       "      <th>country_code</th>\n",
       "      <th></th>\n",
       "      <th></th>\n",
       "      <th></th>\n",
       "      <th></th>\n",
       "      <th></th>\n",
       "      <th></th>\n",
       "      <th></th>\n",
       "      <th></th>\n",
       "      <th></th>\n",
       "    </tr>\n",
       "  </thead>\n",
       "  <tbody>\n",
       "    <tr>\n",
       "      <td>AT</td>\n",
       "      <td>Austria</td>\n",
       "      <td>Vienna</td>\n",
       "      <td>1995-01-01</td>\n",
       "      <td>8858775</td>\n",
       "      <td>True</td>\n",
       "      <td>111801</td>\n",
       "      <td>66144</td>\n",
       "      <td>3277.097350</td>\n",
       "      <td>1952.627788</td>\n",
       "    </tr>\n",
       "    <tr>\n",
       "      <td>BE</td>\n",
       "      <td>Belgium</td>\n",
       "      <td>Brussels</td>\n",
       "      <td>1957-03-25</td>\n",
       "      <td>11455519</td>\n",
       "      <td>True</td>\n",
       "      <td>126703</td>\n",
       "      <td>89690</td>\n",
       "      <td>3839.758857</td>\n",
       "      <td>8513.575724</td>\n",
       "    </tr>\n",
       "    <tr>\n",
       "      <td>BG</td>\n",
       "      <td>Bulgaria</td>\n",
       "      <td>Sofia</td>\n",
       "      <td>2007-01-01</td>\n",
       "      <td>7000039</td>\n",
       "      <td>False</td>\n",
       "      <td>25597</td>\n",
       "      <td>31586</td>\n",
       "      <td>487.091948</td>\n",
       "      <td>2168.579910</td>\n",
       "    </tr>\n",
       "  </tbody>\n",
       "</table>\n",
       "</div>"
      ],
      "text/plain": [
       "               country   capital accession_date  population  euro_zone_member  \\\n",
       "country_code                                                                    \n",
       "AT             Austria    Vienna     1995-01-01     8858775              True   \n",
       "BE             Belgium  Brussels     1957-03-25    11455519              True   \n",
       "BG            Bulgaria     Sofia     2007-01-01     7000039             False   \n",
       "\n",
       "              immigration  emigration  \\\n",
       "country_code                            \n",
       "AT                 111801       66144   \n",
       "BE                 126703       89690   \n",
       "BG                  25597       31586   \n",
       "\n",
       "              contribution_to_eu_budget_millions_euro  \\\n",
       "country_code                                            \n",
       "AT                                        3277.097350   \n",
       "BE                                        3839.758857   \n",
       "BG                                         487.091948   \n",
       "\n",
       "              expenditure_eu_budget_millions_euro  \n",
       "country_code                                       \n",
       "AT                                    1952.627788  \n",
       "BE                                    8513.575724  \n",
       "BG                                    2168.579910  "
      ]
     },
     "execution_count": 3,
     "metadata": {},
     "output_type": "execute_result"
    }
   ],
   "source": [
    "df = pd.read_csv('../data/european_union-2019.csv', index_col=1, sep=';', decimal=',')\n",
    "df.head(3)"
   ]
  },
  {
   "cell_type": "markdown",
   "metadata": {},
   "source": [
    "------\n",
    "## matplotlib\n",
    "\n",
    "Reference: https://matplotlib.org"
   ]
  },
  {
   "cell_type": "markdown",
   "metadata": {},
   "source": [
    "**pandas** is well integrated with matplotlib, so we can quickly produce graphics for exploration purposes:"
   ]
  },
  {
   "cell_type": "code",
   "execution_count": 4,
   "metadata": {},
   "outputs": [],
   "source": [
    "%matplotlib inline\n",
    "import matplotlib\n",
    "import matplotlib.pyplot as plt\n",
    "\n",
    "matplotlib.rcParams[\"figure.figsize\"] = (8,6)\n",
    "matplotlib.rcParams[\"figure.dpi\"] = 150"
   ]
  },
  {
   "cell_type": "code",
   "execution_count": 5,
   "metadata": {},
   "outputs": [
    {
     "data": {
      "text/plain": [
       "<matplotlib.axes._subplots.AxesSubplot at 0x11e892f50>"
      ]
     },
     "execution_count": 5,
     "metadata": {},
     "output_type": "execute_result"
    },
    {
     "data": {
      "image/png": "[encoded data removed]",
      "text/plain": [
       "<Figure size 432x288 with 1 Axes>"
      ]
     },
     "metadata": {
      "needs_background": "light"
     },
     "output_type": "display_data"
    }
   ],
   "source": [
    "# The simplest possible way of plotting the contents of the 'population' column\n",
    "df['population'].plot.bar()"
   ]
  },
  {
   "cell_type": "markdown",
   "metadata": {},
   "source": [
    "The figure above is neither pretty, nor very useful. Let's improve it a bit:"
   ]
  },
  {
   "cell_type": "code",
   "execution_count": 6,
   "metadata": {},
   "outputs": [
    {
     "data": {
      "text/plain": [
       "<matplotlib.axes._subplots.AxesSubplot at 0x11f09a210>"
      ]
     },
     "execution_count": 6,
     "metadata": {},
     "output_type": "execute_result"
    },
    {
     "data": {
      "image/png": "[encoded data removed]",
      "text/plain": [
       "<Figure size 432x288 with 1 Axes>"
      ]
     },
     "metadata": {
      "needs_background": "light"
     },
     "output_type": "display_data"
    }
   ],
   "source": [
    "# Sort the values and add a title\n",
    "df['population'].sort_values(ascending=False).plot.bar(title=\"EU members population (2019)\")"
   ]
  },
  {
   "cell_type": "markdown",
   "metadata": {},
   "source": [
    "----------\n",
    "## bokeh\n",
    "\n",
    "Reference: https://bokeh.pydata.org/en/latest/"
   ]
  },
  {
   "cell_type": "code",
   "execution_count": 7,
   "metadata": {},
   "outputs": [
    {
     "data": {
      "text/html": [
       "\n",
       "    <div class=\"bk-root\">\n",
       "        <a href=\"https://bokeh.pydata.org\" target=\"_blank\" class=\"bk-logo bk-logo-small bk-logo-notebook\"></a>\n",
       "        <span id=\"1001\">Loading BokehJS ...</span>\n",
       "    </div>"
      ]
     },
     "metadata": {},
     "output_type": "display_data"
    },
    {
     "data": {
      "application/javascript": [
       "\n",
       "(function(root) {\n",
       "  function now() {\n",
       "    return new Date();\n",
       "  }\n",
       "\n",
       "  var force = true;\n",
       "\n",
       "  if (typeof root._bokeh_onload_callbacks === \"undefined\" || force === true) {\n",
       "    root._bokeh_onload_callbacks = [];\n",
       "    root._bokeh_is_loading = undefined;\n",
       "  }\n",
       "\n",
       "  var JS_MIME_TYPE = 'application/javascript';\n",
       "  var HTML_MIME_TYPE = 'text/html';\n",
       "  var EXEC_MIME_TYPE = 'application/vnd.bokehjs_exec.v0+json';\n",
       "  var CLASS_NAME = 'output_bokeh rendered_html';\n",
       "\n",
       "  /**\n",
       "   * Render data to the DOM node\n",
       "   */\n",
       "  function render(props, node) {\n",
       "    var script = document.createElement(\"script\");\n",
       "    node.appendChild(script);\n",
       "  }\n",
       "\n",
       "  /**\n",
       "   * Handle when an output is cleared or removed\n",
       "   */\n",
       "  function handleClearOutput(event, handle) {\n",
       "    var cell = handle.cell;\n",
       "\n",
       "    var id = cell.output_area._bokeh_element_id;\n",
       "    var server_id = cell.output_area._bokeh_server_id;\n",
       "    // Clean up Bokeh references\n",
       "    if (id != null && id in Bokeh.index) {\n",
       "      Bokeh.index[id].model.document.clear();\n",
       "      delete Bokeh.index[id];\n",
       "    }\n",
       "\n",
       "    if (server_id !== undefined) {\n",
       "      // Clean up Bokeh references\n",
       "      var cmd = \"from bokeh.io.state import curstate; print(curstate().uuid_to_server['\" + server_id + \"'].get_sessions()[0].document.roots[0]._id)\";\n",
       "      cell.notebook.kernel.execute(cmd, {\n",
       "        iopub: {\n",
       "          output: function(msg) {\n",
       "            var id = msg.content.text.trim();\n",
       "            if (id in Bokeh.index) {\n",
       "              Bokeh.index[id].model.document.clear();\n",
       "              delete Bokeh.index[id];\n",
       "            }\n",
       "          }\n",
       "        }\n",
       "      });\n",
       "      // Destroy server and session\n",
       "      var cmd = \"import bokeh.io.notebook as ion; ion.destroy_server('\" + server_id + \"')\";\n",
       "      cell.notebook.kernel.execute(cmd);\n",
       "    }\n",
       "  }\n",
       "\n",
       "  /**\n",
       "   * Handle when a new output is added\n",
       "   */\n",
       "  function handleAddOutput(event, handle) {\n",
       "    var output_area = handle.output_area;\n",
       "    var output = handle.output;\n",
       "\n",
       "    // limit handleAddOutput to display_data with EXEC_MIME_TYPE content only\n",
       "    if ((output.output_type != \"display_data\") || (!output.data.hasOwnProperty(EXEC_MIME_TYPE))) {\n",
       "      return\n",
       "    }\n",
       "\n",
       "    var toinsert = output_area.element.find(\".\" + CLASS_NAME.split(' ')[0]);\n",
       "\n",
       "    if (output.metadata[EXEC_MIME_TYPE][\"id\"] !== undefined) {\n",
       "      toinsert[toinsert.length - 1].firstChild.textContent = output.data[JS_MIME_TYPE];\n",
       "      // store reference to embed id on output_area\n",
       "      output_area._bokeh_element_id = output.metadata[EXEC_MIME_TYPE][\"id\"];\n",
       "    }\n",
       "    if (output.metadata[EXEC_MIME_TYPE][\"server_id\"] !== undefined) {\n",
       "      var bk_div = document.createElement(\"div\");\n",
       "      bk_div.innerHTML = output.data[HTML_MIME_TYPE];\n",
       "      var script_attrs = bk_div.children[0].attributes;\n",
       "      for (var i = 0; i < script_attrs.length; i++) {\n",
       "        toinsert[toinsert.length - 1].firstChild.setAttribute(script_attrs[i].name, script_attrs[i].value);\n",
       "      }\n",
       "      // store reference to server id on output_area\n",
       "      output_area._bokeh_server_id = output.metadata[EXEC_MIME_TYPE][\"server_id\"];\n",
       "    }\n",
       "  }\n",
       "\n",
       "  function register_renderer(events, OutputArea) {\n",
       "\n",
       "    function append_mime(data, metadata, element) {\n",
       "      // create a DOM node to render to\n",
       "      var toinsert = this.create_output_subarea(\n",
       "        metadata,\n",
       "        CLASS_NAME,\n",
       "        EXEC_MIME_TYPE\n",
       "      );\n",
       "      this.keyboard_manager.register_events(toinsert);\n",
       "      // Render to node\n",
       "      var props = {data: data, metadata: metadata[EXEC_MIME_TYPE]};\n",
       "      render(props, toinsert[toinsert.length - 1]);\n",
       "      element.append(toinsert);\n",
       "      return toinsert\n",
       "    }\n",
       "\n",
       "    /* Handle when an output is cleared or removed */\n",
       "    events.on('clear_output.CodeCell', handleClearOutput);\n",
       "    events.on('delete.Cell', handleClearOutput);\n",
       "\n",
       "    /* Handle when a new output is added */\n",
       "    events.on('output_added.OutputArea', handleAddOutput);\n",
       "\n",
       "    /**\n",
       "     * Register the mime type and append_mime function with output_area\n",
       "     */\n",
       "    OutputArea.prototype.register_mime_type(EXEC_MIME_TYPE, append_mime, {\n",
       "      /* Is output safe? */\n",
       "      safe: true,\n",
       "      /* Index of renderer in `output_area.display_order` */\n",
       "      index: 0\n",
       "    });\n",
       "  }\n",
       "\n",
       "  // register the mime type if in Jupyter Notebook environment and previously unregistered\n",
       "  if (root.Jupyter !== undefined) {\n",
       "    var events = require('base/js/events');\n",
       "    var OutputArea = require('notebook/js/outputarea').OutputArea;\n",
       "\n",
       "    if (OutputArea.prototype.mime_types().indexOf(EXEC_MIME_TYPE) == -1) {\n",
       "      register_renderer(events, OutputArea);\n",
       "    }\n",
       "  }\n",
       "\n",
       "  \n",
       "  if (typeof (root._bokeh_timeout) === \"undefined\" || force === true) {\n",
       "    root._bokeh_timeout = Date.now() + 5000;\n",
       "    root._bokeh_failed_load = false;\n",
       "  }\n",
       "\n",
       "  var NB_LOAD_WARNING = {'data': {'text/html':\n",
       "     \"<div style='background-color: #fdd'>\\n\"+\n",
       "     \"<p>\\n\"+\n",
       "     \"BokehJS does not appear to have successfully loaded. If loading BokehJS from CDN, this \\n\"+\n",
       "     \"may be due to a slow or bad network connection. Possible fixes:\\n\"+\n",
       "     \"</p>\\n\"+\n",
       "     \"<ul>\\n\"+\n",
       "     \"<li>re-rerun `output_notebook()` to attempt to load from CDN again, or</li>\\n\"+\n",
       "     \"<li>use INLINE resources instead, as so:</li>\\n\"+\n",
       "     \"</ul>\\n\"+\n",
       "     \"<code>\\n\"+\n",
       "     \"from bokeh.resources import INLINE\\n\"+\n",
       "     \"output_notebook(resources=INLINE)\\n\"+\n",
       "     \"</code>\\n\"+\n",
       "     \"</div>\"}};\n",
       "\n",
       "  function display_loaded() {\n",
       "    var el = document.getElementById(\"1001\");\n",
       "    if (el != null) {\n",
       "      el.textContent = \"BokehJS is loading...\";\n",
       "    }\n",
       "    if (root.Bokeh !== undefined) {\n",
       "      if (el != null) {\n",
       "        el.textContent = \"BokehJS \" + root.Bokeh.version + \" successfully loaded.\";\n",
       "      }\n",
       "    } else if (Date.now() < root._bokeh_timeout) {\n",
       "      setTimeout(display_loaded, 100)\n",
       "    }\n",
       "  }\n",
       "\n",
       "\n",
       "  function run_callbacks() {\n",
       "    try {\n",
       "      root._bokeh_onload_callbacks.forEach(function(callback) {\n",
       "        if (callback != null)\n",
       "          callback();\n",
       "      });\n",
       "    } finally {\n",
       "      delete root._bokeh_onload_callbacks\n",
       "    }\n",
       "    console.debug(\"Bokeh: all callbacks have finished\");\n",
       "  }\n",
       "\n",
       "  function load_libs(css_urls, js_urls, callback) {\n",
       "    if (css_urls == null) css_urls = [];\n",
       "    if (js_urls == null) js_urls = [];\n",
       "\n",
       "    root._bokeh_onload_callbacks.push(callback);\n",
       "    if (root._bokeh_is_loading > 0) {\n",
       "      console.debug(\"Bokeh: BokehJS is being loaded, scheduling callback at\", now());\n",
       "      return null;\n",
       "    }\n",
       "    if (js_urls == null || js_urls.length === 0) {\n",
       "      run_callbacks();\n",
       "      return null;\n",
       "    }\n",
       "    console.debug(\"Bokeh: BokehJS not loaded, scheduling load and callback at\", now());\n",
       "    root._bokeh_is_loading = css_urls.length + js_urls.length;\n",
       "\n",
       "    function on_load() {\n",
       "      root._bokeh_is_loading--;\n",
       "      if (root._bokeh_is_loading === 0) {\n",
       "        console.debug(\"Bokeh: all BokehJS libraries/stylesheets loaded\");\n",
       "        run_callbacks()\n",
       "      }\n",
       "    }\n",
       "\n",
       "    function on_error() {\n",
       "      console.error(\"failed to load \" + url);\n",
       "    }\n",
       "\n",
       "    for (var i = 0; i < css_urls.length; i++) {\n",
       "      var url = css_urls[i];\n",
       "      const element = document.createElement(\"link\");\n",
       "      element.onload = on_load;\n",
       "      element.onerror = on_error;\n",
       "      element.rel = \"stylesheet\";\n",
       "      element.type = \"text/css\";\n",
       "      element.href = url;\n",
       "      console.debug(\"Bokeh: injecting link tag for BokehJS stylesheet: \", url);\n",
       "      document.body.appendChild(element);\n",
       "    }\n",
       "\n",
       "    for (var i = 0; i < js_urls.length; i++) {\n",
       "      var url = js_urls[i];\n",
       "      var element = document.createElement('script');\n",
       "      element.onload = on_load;\n",
       "      element.onerror = on_error;\n",
       "      element.async = false;\n",
       "      element.src = url;\n",
       "      console.debug(\"Bokeh: injecting script tag for BokehJS library: \", url);\n",
       "      document.head.appendChild(element);\n",
       "    }\n",
       "  };var element = document.getElementById(\"1001\");\n",
       "  if (element == null) {\n",
       "    console.error(\"Bokeh: ERROR: autoload.js configured with elementid '1001' but no matching script tag was found. \")\n",
       "    return false;\n",
       "  }\n",
       "\n",
       "  function inject_raw_css(css) {\n",
       "    const element = document.createElement(\"style\");\n",
       "    element.appendChild(document.createTextNode(css));\n",
       "    document.body.appendChild(element);\n",
       "  }\n",
       "\n",
       "  var js_urls = [\"https://cdn.pydata.org/bokeh/release/bokeh-1.3.4.min.js\", \"https://cdn.pydata.org/bokeh/release/bokeh-widgets-1.3.4.min.js\", \"https://cdn.pydata.org/bokeh/release/bokeh-tables-1.3.4.min.js\", \"https://cdn.pydata.org/bokeh/release/bokeh-gl-1.3.4.min.js\"];\n",
       "  var css_urls = [];\n",
       "\n",
       "  var inline_js = [\n",
       "    function(Bokeh) {\n",
       "      Bokeh.set_log_level(\"info\");\n",
       "    },\n",
       "    \n",
       "    function(Bokeh) {\n",
       "      \n",
       "    },\n",
       "    function(Bokeh) {} // ensure no trailing comma for IE\n",
       "  ];\n",
       "\n",
       "  function run_inline_js() {\n",
       "    \n",
       "    if ((root.Bokeh !== undefined) || (force === true)) {\n",
       "      for (var i = 0; i < inline_js.length; i++) {\n",
       "        inline_js[i].call(root, root.Bokeh);\n",
       "      }if (force === true) {\n",
       "        display_loaded();\n",
       "      }} else if (Date.now() < root._bokeh_timeout) {\n",
       "      setTimeout(run_inline_js, 100);\n",
       "    } else if (!root._bokeh_failed_load) {\n",
       "      console.log(\"Bokeh: BokehJS failed to load within specified timeout.\");\n",
       "      root._bokeh_failed_load = true;\n",
       "    } else if (force !== true) {\n",
       "      var cell = $(document.getElementById(\"1001\")).parents('.cell').data().cell;\n",
       "      cell.output_area.append_execute_result(NB_LOAD_WARNING)\n",
       "    }\n",
       "\n",
       "  }\n",
       "\n",
       "  if (root._bokeh_is_loading === 0) {\n",
       "    console.debug(\"Bokeh: BokehJS loaded, going straight to plotting\");\n",
       "    run_inline_js();\n",
       "  } else {\n",
       "    load_libs(css_urls, js_urls, function() {\n",
       "      console.debug(\"Bokeh: BokehJS plotting callback run at\", now());\n",
       "      run_inline_js();\n",
       "    });\n",
       "  }\n",
       "}(window));"
      ],
      "application/vnd.bokehjs_load.v0+json": "\n(function(root) {\n  function now() {\n    return new Date();\n  }\n\n  var force = true;\n\n  if (typeof root._bokeh_onload_callbacks === \"undefined\" || force === true) {\n    root._bokeh_onload_callbacks = [];\n    root._bokeh_is_loading = undefined;\n  }\n\n  \n\n  \n  if (typeof (root._bokeh_timeout) === \"undefined\" || force === true) {\n    root._bokeh_timeout = Date.now() + 5000;\n    root._bokeh_failed_load = false;\n  }\n\n  var NB_LOAD_WARNING = {'data': {'text/html':\n     \"<div style='background-color: #fdd'>\\n\"+\n     \"<p>\\n\"+\n     \"BokehJS does not appear to have successfully loaded. If loading BokehJS from CDN, this \\n\"+\n     \"may be due to a slow or bad network connection. Possible fixes:\\n\"+\n     \"</p>\\n\"+\n     \"<ul>\\n\"+\n     \"<li>re-rerun `output_notebook()` to attempt to load from CDN again, or</li>\\n\"+\n     \"<li>use INLINE resources instead, as so:</li>\\n\"+\n     \"</ul>\\n\"+\n     \"<code>\\n\"+\n     \"from bokeh.resources import INLINE\\n\"+\n     \"output_notebook(resources=INLINE)\\n\"+\n     \"</code>\\n\"+\n     \"</div>\"}};\n\n  function display_loaded() {\n    var el = document.getElementById(\"1001\");\n    if (el != null) {\n      el.textContent = \"BokehJS is loading...\";\n    }\n    if (root.Bokeh !== undefined) {\n      if (el != null) {\n        el.textContent = \"BokehJS \" + root.Bokeh.version + \" successfully loaded.\";\n      }\n    } else if (Date.now() < root._bokeh_timeout) {\n      setTimeout(display_loaded, 100)\n    }\n  }\n\n\n  function run_callbacks() {\n    try {\n      root._bokeh_onload_callbacks.forEach(function(callback) {\n        if (callback != null)\n          callback();\n      });\n    } finally {\n      delete root._bokeh_onload_callbacks\n    }\n    console.debug(\"Bokeh: all callbacks have finished\");\n  }\n\n  function load_libs(css_urls, js_urls, callback) {\n    if (css_urls == null) css_urls = [];\n    if (js_urls == null) js_urls = [];\n\n    root._bokeh_onload_callbacks.push(callback);\n    if (root._bokeh_is_loading > 0) {\n      console.debug(\"Bokeh: BokehJS is being loaded, scheduling callback at\", now());\n      return null;\n    }\n    if (js_urls == null || js_urls.length === 0) {\n      run_callbacks();\n      return null;\n    }\n    console.debug(\"Bokeh: BokehJS not loaded, scheduling load and callback at\", now());\n    root._bokeh_is_loading = css_urls.length + js_urls.length;\n\n    function on_load() {\n      root._bokeh_is_loading--;\n      if (root._bokeh_is_loading === 0) {\n        console.debug(\"Bokeh: all BokehJS libraries/stylesheets loaded\");\n        run_callbacks()\n      }\n    }\n\n    function on_error() {\n      console.error(\"failed to load \" + url);\n    }\n\n    for (var i = 0; i < css_urls.length; i++) {\n      var url = css_urls[i];\n      const element = document.createElement(\"link\");\n      element.onload = on_load;\n      element.onerror = on_error;\n      element.rel = \"stylesheet\";\n      element.type = \"text/css\";\n      element.href = url;\n      console.debug(\"Bokeh: injecting link tag for BokehJS stylesheet: \", url);\n      document.body.appendChild(element);\n    }\n\n    for (var i = 0; i < js_urls.length; i++) {\n      var url = js_urls[i];\n      var element = document.createElement('script');\n      element.onload = on_load;\n      element.onerror = on_error;\n      element.async = false;\n      element.src = url;\n      console.debug(\"Bokeh: injecting script tag for BokehJS library: \", url);\n      document.head.appendChild(element);\n    }\n  };var element = document.getElementById(\"1001\");\n  if (element == null) {\n    console.error(\"Bokeh: ERROR: autoload.js configured with elementid '1001' but no matching script tag was found. \")\n    return false;\n  }\n\n  function inject_raw_css(css) {\n    const element = document.createElement(\"style\");\n    element.appendChild(document.createTextNode(css));\n    document.body.appendChild(element);\n  }\n\n  var js_urls = [\"https://cdn.pydata.org/bokeh/release/bokeh-1.3.4.min.js\", \"https://cdn.pydata.org/bokeh/release/bokeh-widgets-1.3.4.min.js\", \"https://cdn.pydata.org/bokeh/release/bokeh-tables-1.3.4.min.js\", \"https://cdn.pydata.org/bokeh/release/bokeh-gl-1.3.4.min.js\"];\n  var css_urls = [];\n\n  var inline_js = [\n    function(Bokeh) {\n      Bokeh.set_log_level(\"info\");\n    },\n    \n    function(Bokeh) {\n      \n    },\n    function(Bokeh) {} // ensure no trailing comma for IE\n  ];\n\n  function run_inline_js() {\n    \n    if ((root.Bokeh !== undefined) || (force === true)) {\n      for (var i = 0; i < inline_js.length; i++) {\n        inline_js[i].call(root, root.Bokeh);\n      }if (force === true) {\n        display_loaded();\n      }} else if (Date.now() < root._bokeh_timeout) {\n      setTimeout(run_inline_js, 100);\n    } else if (!root._bokeh_failed_load) {\n      console.log(\"Bokeh: BokehJS failed to load within specified timeout.\");\n      root._bokeh_failed_load = true;\n    } else if (force !== true) {\n      var cell = $(document.getElementById(\"1001\")).parents('.cell').data().cell;\n      cell.output_area.append_execute_result(NB_LOAD_WARNING)\n    }\n\n  }\n\n  if (root._bokeh_is_loading === 0) {\n    console.debug(\"Bokeh: BokehJS loaded, going straight to plotting\");\n    run_inline_js();\n  } else {\n    load_libs(css_urls, js_urls, function() {\n      console.debug(\"Bokeh: BokehJS plotting callback run at\", now());\n      run_inline_js();\n    });\n  }\n}(window));"
     },
     "metadata": {},
     "output_type": "display_data"
    }
   ],
   "source": [
    "import bokeh\n",
    "import bokeh.plotting\n",
    "bokeh.plotting.output_notebook()"
   ]
  },
  {
   "cell_type": "markdown",
   "metadata": {},
   "source": [
    "Select the data we want to plot from the dataframe:"
   ]
  },
  {
   "cell_type": "code",
   "execution_count": 8,
   "metadata": {},
   "outputs": [
    {
     "data": {
      "text/plain": [
       "country_code\n",
       "DE    83.019213\n",
       "FR    67.012883\n",
       "GB    66.647112\n",
       "Name: population, dtype: float64"
      ]
     },
     "execution_count": 8,
     "metadata": {},
     "output_type": "execute_result"
    }
   ],
   "source": [
    "# Select the population, in millions, per country\n",
    "population = (df['population'] / 1_000_000).sort_values(ascending=False)\n",
    "population.head(3)"
   ]
  },
  {
   "cell_type": "code",
   "execution_count": 9,
   "metadata": {},
   "outputs": [
    {
     "data": {
      "text/html": [
       "\n",
       "\n",
       "\n",
       "\n",
       "\n",
       "\n",
       "  <div class=\"bk-root\" id=\"dd8dd05c-5400-4a01-b186-1c48ec36d5e5\" data-root-id=\"1002\"></div>\n"
      ]
     },
     "metadata": {},
     "output_type": "display_data"
    },
    {
     "data": {
      "application/javascript": [
       "(function(root) {\n",
       "  function embed_document(root) {\n",
       "    \n",
       "  var docs_json = {\"fd96e975-5f77-4538-9213-de9f6a41fb77\":{\"roots\":{\"references\":[{\"attributes\":{\"below\":[{\"id\":\"1013\",\"type\":\"CategoricalAxis\"}],\"center\":[{\"id\":\"1016\",\"type\":\"Grid\"},{\"id\":\"1021\",\"type\":\"Grid\"}],\"left\":[{\"id\":\"1017\",\"type\":\"LinearAxis\"}],\"renderers\":[{\"id\":\"1038\",\"type\":\"GlyphRenderer\"}],\"title\":{\"id\":\"1003\",\"type\":\"Title\"},\"toolbar\":{\"id\":\"1028\",\"type\":\"Toolbar\"},\"x_range\":{\"id\":\"1005\",\"type\":\"FactorRange\"},\"x_scale\":{\"id\":\"1009\",\"type\":\"CategoricalScale\"},\"y_range\":{\"id\":\"1007\",\"type\":\"DataRange1d\"},\"y_scale\":{\"id\":\"1011\",\"type\":\"LinearScale\"}},\"id\":\"1002\",\"subtype\":\"Figure\",\"type\":\"Plot\"},{\"attributes\":{\"callback\":null,\"factors\":[\"DE\",\"FR\",\"GB\",\"IT\",\"ES\",\"PL\",\"RO\",\"NL\",\"BE\",\"EL\",\"CZ\",\"PT\",\"SE\",\"HU\",\"AT\",\"BG\",\"DK\",\"FI\",\"SK\",\"IE\",\"HR\",\"LT\",\"SI\",\"LV\",\"EE\",\"CY\",\"LU\",\"MT\"]},\"id\":\"1005\",\"type\":\"FactorRange\"},{\"attributes\":{\"fill_color\":{\"value\":\"#1f77b4\"},\"line_color\":{\"value\":\"#1f77b4\"},\"top\":{\"field\":\"top\"},\"width\":{\"value\":0.8},\"x\":{\"field\":\"x\"}},\"id\":\"1036\",\"type\":\"VBar\"},{\"attributes\":{},\"id\":\"1042\",\"type\":\"BasicTickFormatter\"},{\"attributes\":{\"axis_label\":\"country code\",\"formatter\":{\"id\":\"1044\",\"type\":\"CategoricalTickFormatter\"},\"ticker\":{\"id\":\"1014\",\"type\":\"CategoricalTicker\"}},\"id\":\"1013\",\"type\":\"CategoricalAxis\"},{\"attributes\":{\"dimension\":1,\"ticker\":{\"id\":\"1018\",\"type\":\"BasicTicker\"}},\"id\":\"1021\",\"type\":\"Grid\"},{\"attributes\":{\"callback\":null},\"id\":\"1007\",\"type\":\"DataRange1d\"},{\"attributes\":{},\"id\":\"1018\",\"type\":\"BasicTicker\"},{\"attributes\":{\"axis_label\":\"millions\",\"formatter\":{\"id\":\"1042\",\"type\":\"BasicTickFormatter\"},\"ticker\":{\"id\":\"1018\",\"type\":\"BasicTicker\"}},\"id\":\"1017\",\"type\":\"LinearAxis\"},{\"attributes\":{},\"id\":\"1044\",\"type\":\"CategoricalTickFormatter\"},{\"attributes\":{\"active_drag\":\"auto\",\"active_inspect\":\"auto\",\"active_multi\":null,\"active_scroll\":\"auto\",\"active_tap\":\"auto\",\"tools\":[{\"id\":\"1022\",\"type\":\"PanTool\"},{\"id\":\"1023\",\"type\":\"WheelZoomTool\"},{\"id\":\"1024\",\"type\":\"BoxZoomTool\"},{\"id\":\"1025\",\"type\":\"SaveTool\"},{\"id\":\"1026\",\"type\":\"ResetTool\"},{\"id\":\"1027\",\"type\":\"HelpTool\"}]},\"id\":\"1028\",\"type\":\"Toolbar\"},{\"attributes\":{},\"id\":\"1022\",\"type\":\"PanTool\"},{\"attributes\":{},\"id\":\"1046\",\"type\":\"Selection\"},{\"attributes\":{},\"id\":\"1023\",\"type\":\"WheelZoomTool\"},{\"attributes\":{},\"id\":\"1045\",\"type\":\"UnionRenderers\"},{\"attributes\":{\"overlay\":{\"id\":\"1047\",\"type\":\"BoxAnnotation\"}},\"id\":\"1024\",\"type\":\"BoxZoomTool\"},{\"attributes\":{},\"id\":\"1009\",\"type\":\"CategoricalScale\"},{\"attributes\":{},\"id\":\"1025\",\"type\":\"SaveTool\"},{\"attributes\":{\"callback\":null,\"data\":{\"top\":{\"__ndarray__\":\"HaopyTrBVEAp6zcT08BQQFk2c0hqqVBALbRzmgUuTkDkMQOV8XdHQAOUhhqF/EJAyZBj6xlqM0ApJJnVO0gxQMtpT8k56SZAuW3fo/5yJUCx4emVskwlQAcJUb6gjSRAPQ/uztp1JEBXk6esposjQKs+V1uxtyFA7+U+OQoAHEA5tTNMbTkXQHnou1tZEhZA+rmhKTvNFUCu8C4X8Z0TQKPNcW4TThBAPQ0YJH1aBkDO4O8Xs6UAQEzdlV0wuP4/NWPRdHYy9T/cK/NWXQfsP2+9pgcFpeM/q1/pfHiW3z8=\",\"dtype\":\"float64\",\"shape\":[28]},\"x\":[\"DE\",\"FR\",\"GB\",\"IT\",\"ES\",\"PL\",\"RO\",\"NL\",\"BE\",\"EL\",\"CZ\",\"PT\",\"SE\",\"HU\",\"AT\",\"BG\",\"DK\",\"FI\",\"SK\",\"IE\",\"HR\",\"LT\",\"SI\",\"LV\",\"EE\",\"CY\",\"LU\",\"MT\"]},\"selected\":{\"id\":\"1046\",\"type\":\"Selection\"},\"selection_policy\":{\"id\":\"1045\",\"type\":\"UnionRenderers\"}},\"id\":\"1035\",\"type\":\"ColumnDataSource\"},{\"attributes\":{},\"id\":\"1026\",\"type\":\"ResetTool\"},{\"attributes\":{},\"id\":\"1014\",\"type\":\"CategoricalTicker\"},{\"attributes\":{\"ticker\":{\"id\":\"1014\",\"type\":\"CategoricalTicker\"}},\"id\":\"1016\",\"type\":\"Grid\"},{\"attributes\":{},\"id\":\"1027\",\"type\":\"HelpTool\"},{\"attributes\":{\"fill_alpha\":{\"value\":0.1},\"fill_color\":{\"value\":\"#1f77b4\"},\"line_alpha\":{\"value\":0.1},\"line_color\":{\"value\":\"#1f77b4\"},\"top\":{\"field\":\"top\"},\"width\":{\"value\":0.8},\"x\":{\"field\":\"x\"}},\"id\":\"1037\",\"type\":\"VBar\"},{\"attributes\":{\"bottom_units\":\"screen\",\"fill_alpha\":{\"value\":0.5},\"fill_color\":{\"value\":\"lightgrey\"},\"left_units\":\"screen\",\"level\":\"overlay\",\"line_alpha\":{\"value\":1.0},\"line_color\":{\"value\":\"black\"},\"line_dash\":[4,4],\"line_width\":{\"value\":2},\"render_mode\":\"css\",\"right_units\":\"screen\",\"top_units\":\"screen\"},\"id\":\"1047\",\"type\":\"BoxAnnotation\"},{\"attributes\":{},\"id\":\"1011\",\"type\":\"LinearScale\"},{\"attributes\":{\"text\":\"EU members population\"},\"id\":\"1003\",\"type\":\"Title\"},{\"attributes\":{\"source\":{\"id\":\"1035\",\"type\":\"ColumnDataSource\"}},\"id\":\"1039\",\"type\":\"CDSView\"},{\"attributes\":{\"data_source\":{\"id\":\"1035\",\"type\":\"ColumnDataSource\"},\"glyph\":{\"id\":\"1036\",\"type\":\"VBar\"},\"hover_glyph\":null,\"muted_glyph\":null,\"nonselection_glyph\":{\"id\":\"1037\",\"type\":\"VBar\"},\"selection_glyph\":null,\"view\":{\"id\":\"1039\",\"type\":\"CDSView\"}},\"id\":\"1038\",\"type\":\"GlyphRenderer\"}],\"root_ids\":[\"1002\"]},\"title\":\"Bokeh Application\",\"version\":\"1.3.4\"}};\n",
       "  var render_items = [{\"docid\":\"fd96e975-5f77-4538-9213-de9f6a41fb77\",\"roots\":{\"1002\":\"dd8dd05c-5400-4a01-b186-1c48ec36d5e5\"}}];\n",
       "  root.Bokeh.embed.embed_items_notebook(docs_json, render_items);\n",
       "\n",
       "  }\n",
       "  if (root.Bokeh !== undefined) {\n",
       "    embed_document(root);\n",
       "  } else {\n",
       "    var attempts = 0;\n",
       "    var timer = setInterval(function(root) {\n",
       "      if (root.Bokeh !== undefined) {\n",
       "        embed_document(root);\n",
       "        clearInterval(timer);\n",
       "      }\n",
       "      attempts++;\n",
       "      if (attempts > 100) {\n",
       "        console.log(\"Bokeh: ERROR: Unable to run BokehJS code because BokehJS library is missing\");\n",
       "        clearInterval(timer);\n",
       "      }\n",
       "    }, 10, root)\n",
       "  }\n",
       "})(window);"
      ],
      "application/vnd.bokehjs_exec.v0+json": ""
     },
     "metadata": {
      "application/vnd.bokehjs_exec.v0+json": {
       "id": "1002"
      }
     },
     "output_type": "display_data"
    }
   ],
   "source": [
    "fig1 = bokeh.plotting.figure(\n",
    "    title = 'EU members population',\n",
    "    x_axis_label = 'country code',\n",
    "    y_axis_label = 'millions',\n",
    "    x_range = population.index.values,\n",
    ")\n",
    "fig1.vbar(x=population.index.values, top=population.values, width=0.8)\n",
    "bokeh.plotting.show(fig1)"
   ]
  },
  {
   "cell_type": "markdown",
   "metadata": {},
   "source": [
    "Improve the visual attributes of the figure:"
   ]
  },
  {
   "cell_type": "code",
   "execution_count": 10,
   "metadata": {},
   "outputs": [
    {
     "data": {
      "text/html": [
       "\n",
       "\n",
       "\n",
       "\n",
       "\n",
       "\n",
       "  <div class=\"bk-root\" id=\"eae07f3b-560c-40f1-8f9b-954bacbe73ee\" data-root-id=\"1096\"></div>\n"
      ]
     },
     "metadata": {},
     "output_type": "display_data"
    },
    {
     "data": {
      "application/javascript": [
       "(function(root) {\n",
       "  function embed_document(root) {\n",
       "    \n",
       "  var docs_json = {\"c051eb67-2f95-4b06-96c5-8a4a051b7c4d\":{\"roots\":{\"references\":[{\"attributes\":{\"background_fill_alpha\":{\"value\":0.8},\"background_fill_color\":{\"value\":\"whitesmoke\"},\"below\":[{\"id\":\"1107\",\"type\":\"CategoricalAxis\"}],\"center\":[{\"id\":\"1110\",\"type\":\"Grid\"},{\"id\":\"1115\",\"type\":\"Grid\"}],\"left\":[{\"id\":\"1111\",\"type\":\"LinearAxis\"}],\"plot_width\":800,\"renderers\":[{\"id\":\"1133\",\"type\":\"GlyphRenderer\"}],\"title\":{\"id\":\"1097\",\"type\":\"Title\"},\"toolbar\":{\"id\":\"1122\",\"type\":\"Toolbar\"},\"x_range\":{\"id\":\"1099\",\"type\":\"FactorRange\"},\"x_scale\":{\"id\":\"1103\",\"type\":\"CategoricalScale\"},\"y_range\":{\"id\":\"1101\",\"type\":\"DataRange1d\"},\"y_scale\":{\"id\":\"1105\",\"type\":\"LinearScale\"}},\"id\":\"1096\",\"subtype\":\"Figure\",\"type\":\"Plot\"},{\"attributes\":{},\"id\":\"1117\",\"type\":\"WheelZoomTool\"},{\"attributes\":{},\"id\":\"1149\",\"type\":\"Selection\"},{\"attributes\":{\"bottom_units\":\"screen\",\"fill_alpha\":{\"value\":0.5},\"fill_color\":{\"value\":\"lightgrey\"},\"left_units\":\"screen\",\"level\":\"overlay\",\"line_alpha\":{\"value\":1.0},\"line_color\":{\"value\":\"black\"},\"line_dash\":[4,4],\"line_width\":{\"value\":2},\"render_mode\":\"css\",\"right_units\":\"screen\",\"top_units\":\"screen\"},\"id\":\"1150\",\"type\":\"BoxAnnotation\"},{\"attributes\":{},\"id\":\"1105\",\"type\":\"LinearScale\"},{\"attributes\":{},\"id\":\"1147\",\"type\":\"CategoricalTickFormatter\"},{\"attributes\":{\"active_drag\":\"auto\",\"active_inspect\":\"auto\",\"active_multi\":null,\"active_scroll\":\"auto\",\"active_tap\":\"auto\",\"autohide\":true,\"tools\":[{\"id\":\"1116\",\"type\":\"PanTool\"},{\"id\":\"1117\",\"type\":\"WheelZoomTool\"},{\"id\":\"1118\",\"type\":\"BoxZoomTool\"},{\"id\":\"1119\",\"type\":\"SaveTool\"},{\"id\":\"1120\",\"type\":\"ResetTool\"},{\"id\":\"1121\",\"type\":\"HelpTool\"}]},\"id\":\"1122\",\"type\":\"Toolbar\"},{\"attributes\":{\"callback\":null},\"id\":\"1101\",\"type\":\"DataRange1d\"},{\"attributes\":{\"axis_label\":\"country code\",\"formatter\":{\"id\":\"1147\",\"type\":\"CategoricalTickFormatter\"},\"ticker\":{\"id\":\"1108\",\"type\":\"CategoricalTicker\"}},\"id\":\"1107\",\"type\":\"CategoricalAxis\"},{\"attributes\":{},\"id\":\"1103\",\"type\":\"CategoricalScale\"},{\"attributes\":{\"data_source\":{\"id\":\"1130\",\"type\":\"ColumnDataSource\"},\"glyph\":{\"id\":\"1131\",\"type\":\"VBar\"},\"hover_glyph\":null,\"muted_glyph\":null,\"nonselection_glyph\":{\"id\":\"1132\",\"type\":\"VBar\"},\"selection_glyph\":null,\"view\":{\"id\":\"1134\",\"type\":\"CDSView\"}},\"id\":\"1133\",\"type\":\"GlyphRenderer\"},{\"attributes\":{},\"id\":\"1108\",\"type\":\"CategoricalTicker\"},{\"attributes\":{\"source\":{\"id\":\"1130\",\"type\":\"ColumnDataSource\"}},\"id\":\"1134\",\"type\":\"CDSView\"},{\"attributes\":{\"grid_line_color\":null,\"ticker\":{\"id\":\"1108\",\"type\":\"CategoricalTicker\"}},\"id\":\"1110\",\"type\":\"Grid\"},{\"attributes\":{\"callback\":null,\"factors\":[\"DE\",\"FR\",\"GB\",\"IT\",\"ES\",\"PL\",\"RO\",\"NL\",\"BE\",\"EL\",\"CZ\",\"PT\",\"SE\",\"HU\",\"AT\",\"BG\",\"DK\",\"FI\",\"SK\",\"IE\",\"HR\",\"LT\",\"SI\",\"LV\",\"EE\",\"CY\",\"LU\",\"MT\"]},\"id\":\"1099\",\"type\":\"FactorRange\"},{\"attributes\":{},\"id\":\"1148\",\"type\":\"UnionRenderers\"},{\"attributes\":{\"text\":\"EU members population\"},\"id\":\"1097\",\"type\":\"Title\"},{\"attributes\":{\"fill_alpha\":{\"value\":0.1},\"fill_color\":{\"value\":\"#1f77b4\"},\"line_alpha\":{\"value\":0.1},\"line_color\":{\"value\":\"#1f77b4\"},\"top\":{\"field\":\"top\"},\"width\":{\"value\":0.8},\"x\":{\"field\":\"x\"}},\"id\":\"1132\",\"type\":\"VBar\"},{\"attributes\":{\"fill_alpha\":{\"value\":0.6},\"fill_color\":{\"value\":\"#1f77b4\"},\"line_alpha\":{\"value\":0.6},\"line_color\":{\"value\":\"#1f77b4\"},\"top\":{\"field\":\"top\"},\"width\":{\"value\":0.8},\"x\":{\"field\":\"x\"}},\"id\":\"1131\",\"type\":\"VBar\"},{\"attributes\":{\"callback\":null,\"data\":{\"top\":{\"__ndarray__\":\"HaopyTrBVEAp6zcT08BQQFk2c0hqqVBALbRzmgUuTkDkMQOV8XdHQAOUhhqF/EJAyZBj6xlqM0ApJJnVO0gxQMtpT8k56SZAuW3fo/5yJUCx4emVskwlQAcJUb6gjSRAPQ/uztp1JEBXk6esposjQKs+V1uxtyFA7+U+OQoAHEA5tTNMbTkXQHnou1tZEhZA+rmhKTvNFUCu8C4X8Z0TQKPNcW4TThBAPQ0YJH1aBkDO4O8Xs6UAQEzdlV0wuP4/NWPRdHYy9T/cK/NWXQfsP2+9pgcFpeM/q1/pfHiW3z8=\",\"dtype\":\"float64\",\"shape\":[28]},\"x\":[\"DE\",\"FR\",\"GB\",\"IT\",\"ES\",\"PL\",\"RO\",\"NL\",\"BE\",\"EL\",\"CZ\",\"PT\",\"SE\",\"HU\",\"AT\",\"BG\",\"DK\",\"FI\",\"SK\",\"IE\",\"HR\",\"LT\",\"SI\",\"LV\",\"EE\",\"CY\",\"LU\",\"MT\"]},\"selected\":{\"id\":\"1149\",\"type\":\"Selection\"},\"selection_policy\":{\"id\":\"1148\",\"type\":\"UnionRenderers\"}},\"id\":\"1130\",\"type\":\"ColumnDataSource\"},{\"attributes\":{},\"id\":\"1121\",\"type\":\"HelpTool\"},{\"attributes\":{\"overlay\":{\"id\":\"1150\",\"type\":\"BoxAnnotation\"}},\"id\":\"1118\",\"type\":\"BoxZoomTool\"},{\"attributes\":{},\"id\":\"1119\",\"type\":\"SaveTool\"},{\"attributes\":{},\"id\":\"1116\",\"type\":\"PanTool\"},{\"attributes\":{},\"id\":\"1112\",\"type\":\"BasicTicker\"},{\"attributes\":{},\"id\":\"1145\",\"type\":\"BasicTickFormatter\"},{\"attributes\":{\"axis_label\":\"millions\",\"formatter\":{\"id\":\"1145\",\"type\":\"BasicTickFormatter\"},\"ticker\":{\"id\":\"1112\",\"type\":\"BasicTicker\"}},\"id\":\"1111\",\"type\":\"LinearAxis\"},{\"attributes\":{\"dimension\":1,\"ticker\":{\"id\":\"1112\",\"type\":\"BasicTicker\"}},\"id\":\"1115\",\"type\":\"Grid\"},{\"attributes\":{},\"id\":\"1120\",\"type\":\"ResetTool\"}],\"root_ids\":[\"1096\"]},\"title\":\"Bokeh Application\",\"version\":\"1.3.4\"}};\n",
       "  var render_items = [{\"docid\":\"c051eb67-2f95-4b06-96c5-8a4a051b7c4d\",\"roots\":{\"1096\":\"eae07f3b-560c-40f1-8f9b-954bacbe73ee\"}}];\n",
       "  root.Bokeh.embed.embed_items_notebook(docs_json, render_items);\n",
       "\n",
       "  }\n",
       "  if (root.Bokeh !== undefined) {\n",
       "    embed_document(root);\n",
       "  } else {\n",
       "    var attempts = 0;\n",
       "    var timer = setInterval(function(root) {\n",
       "      if (root.Bokeh !== undefined) {\n",
       "        embed_document(root);\n",
       "        clearInterval(timer);\n",
       "      }\n",
       "      attempts++;\n",
       "      if (attempts > 100) {\n",
       "        console.log(\"Bokeh: ERROR: Unable to run BokehJS code because BokehJS library is missing\");\n",
       "        clearInterval(timer);\n",
       "      }\n",
       "    }, 10, root)\n",
       "  }\n",
       "})(window);"
      ],
      "application/vnd.bokehjs_exec.v0+json": ""
     },
     "metadata": {
      "application/vnd.bokehjs_exec.v0+json": {
       "id": "1096"
      }
     },
     "output_type": "display_data"
    }
   ],
   "source": [
    "fig2 = bokeh.plotting.figure(\n",
    "    title = 'EU members population',\n",
    "    x_axis_label = 'country code',\n",
    "    y_axis_label = 'millions',\n",
    "    x_range = population.index.values,\n",
    "    plot_width = 800,\n",
    "    plot_height = 600,\n",
    "    background_fill_color = 'whitesmoke',\n",
    "    background_fill_alpha = 0.8,\n",
    ")\n",
    "fig2.xgrid.grid_line_color = None\n",
    "fig2.toolbar.autohide = True\n",
    "fig2.vbar(x=population.index.values, top=population.values, width=0.8, alpha=0.6)\n",
    "bokeh.plotting.show(fig2)"
   ]
  },
  {
   "cell_type": "markdown",
   "metadata": {},
   "source": [
    "Now add some interactivity to the figure:"
   ]
  },
  {
   "cell_type": "code",
   "execution_count": 11,
   "metadata": {},
   "outputs": [
    {
     "data": {
      "text/html": [
       "\n",
       "\n",
       "\n",
       "\n",
       "\n",
       "\n",
       "  <div class=\"bk-root\" id=\"d8229d8b-ed16-4cbf-9f8c-995017abce08\" data-root-id=\"1200\"></div>\n"
      ]
     },
     "metadata": {},
     "output_type": "display_data"
    },
    {
     "data": {
      "application/javascript": [
       "(function(root) {\n",
       "  function embed_document(root) {\n",
       "    \n",
       "  var docs_json = {\"a1173982-553d-41c4-b840-340febfdf67d\":{\"roots\":{\"references\":[{\"attributes\":{\"background_fill_alpha\":{\"value\":0.8},\"background_fill_color\":{\"value\":\"whitesmoke\"},\"below\":[{\"id\":\"1211\",\"type\":\"CategoricalAxis\"}],\"center\":[{\"id\":\"1214\",\"type\":\"Grid\"},{\"id\":\"1219\",\"type\":\"Grid\"}],\"left\":[{\"id\":\"1215\",\"type\":\"LinearAxis\"}],\"plot_width\":800,\"renderers\":[{\"id\":\"1239\",\"type\":\"GlyphRenderer\"}],\"title\":{\"id\":\"1201\",\"type\":\"Title\"},\"toolbar\":{\"id\":\"1226\",\"type\":\"Toolbar\"},\"x_range\":{\"id\":\"1203\",\"type\":\"FactorRange\"},\"x_scale\":{\"id\":\"1207\",\"type\":\"CategoricalScale\"},\"y_range\":{\"id\":\"1205\",\"type\":\"DataRange1d\"},\"y_scale\":{\"id\":\"1209\",\"type\":\"LinearScale\"}},\"id\":\"1200\",\"subtype\":\"Figure\",\"type\":\"Plot\"},{\"attributes\":{\"dimension\":1,\"ticker\":{\"id\":\"1216\",\"type\":\"BasicTicker\"}},\"id\":\"1219\",\"type\":\"Grid\"},{\"attributes\":{},\"id\":\"1262\",\"type\":\"UnionRenderers\"},{\"attributes\":{\"text\":\"EU members population\"},\"id\":\"1201\",\"type\":\"Title\"},{\"attributes\":{},\"id\":\"1216\",\"type\":\"BasicTicker\"},{\"attributes\":{},\"id\":\"1259\",\"type\":\"BasicTickFormatter\"},{\"attributes\":{\"axis_label\":\"millions\",\"formatter\":{\"id\":\"1259\",\"type\":\"BasicTickFormatter\"},\"ticker\":{\"id\":\"1216\",\"type\":\"BasicTicker\"}},\"id\":\"1215\",\"type\":\"LinearAxis\"},{\"attributes\":{},\"id\":\"1261\",\"type\":\"CategoricalTickFormatter\"},{\"attributes\":{},\"id\":\"1263\",\"type\":\"Selection\"},{\"attributes\":{\"fill_alpha\":{\"value\":0.1},\"fill_color\":{\"value\":\"#1f77b4\"},\"line_alpha\":{\"value\":0.1},\"line_color\":{\"value\":\"#1f77b4\"},\"top\":{\"field\":\"country_population\"},\"width\":{\"value\":0.8},\"x\":{\"field\":\"country_code\"}},\"id\":\"1238\",\"type\":\"VBar\"},{\"attributes\":{\"bottom_units\":\"screen\",\"fill_alpha\":{\"value\":0.5},\"fill_color\":{\"value\":\"lightgrey\"},\"left_units\":\"screen\",\"level\":\"overlay\",\"line_alpha\":{\"value\":1.0},\"line_color\":{\"value\":\"black\"},\"line_dash\":[4,4],\"line_width\":{\"value\":2},\"render_mode\":\"css\",\"right_units\":\"screen\",\"top_units\":\"screen\"},\"id\":\"1264\",\"type\":\"BoxAnnotation\"},{\"attributes\":{\"active_drag\":\"auto\",\"active_inspect\":\"auto\",\"active_multi\":null,\"active_scroll\":\"auto\",\"active_tap\":\"auto\",\"autohide\":true,\"tools\":[{\"id\":\"1220\",\"type\":\"PanTool\"},{\"id\":\"1221\",\"type\":\"WheelZoomTool\"},{\"id\":\"1222\",\"type\":\"BoxZoomTool\"},{\"id\":\"1223\",\"type\":\"SaveTool\"},{\"id\":\"1224\",\"type\":\"ResetTool\"},{\"id\":\"1225\",\"type\":\"HelpTool\"},{\"id\":\"1234\",\"type\":\"HoverTool\"}]},\"id\":\"1226\",\"type\":\"Toolbar\"},{\"attributes\":{\"data_source\":{\"id\":\"1199\",\"type\":\"ColumnDataSource\"},\"glyph\":{\"id\":\"1237\",\"type\":\"VBar\"},\"hover_glyph\":null,\"muted_glyph\":null,\"nonselection_glyph\":{\"id\":\"1238\",\"type\":\"VBar\"},\"selection_glyph\":null,\"view\":{\"id\":\"1240\",\"type\":\"CDSView\"}},\"id\":\"1239\",\"type\":\"GlyphRenderer\"},{\"attributes\":{\"grid_line_color\":null,\"ticker\":{\"id\":\"1212\",\"type\":\"CategoricalTicker\"}},\"id\":\"1214\",\"type\":\"Grid\"},{\"attributes\":{},\"id\":\"1220\",\"type\":\"PanTool\"},{\"attributes\":{\"callback\":null,\"data\":{\"country_code\":[\"DE\",\"FR\",\"GB\",\"IT\",\"ES\",\"PL\",\"RO\",\"NL\",\"BE\",\"EL\",\"CZ\",\"PT\",\"SE\",\"HU\",\"AT\",\"BG\",\"DK\",\"FI\",\"SK\",\"IE\",\"HR\",\"LT\",\"SI\",\"LV\",\"EE\",\"CY\",\"LU\",\"MT\"],\"country_name\":[\"Germany\",\"France\",\"United Kingdom\",\"Italy\",\"Spain\",\"Poland\",\"Romania\",\"Netherlands\",\"Belgium\",\"Greece\",\"Czechia\",\"Portugal\",\"Sweden\",\"Hungary\",\"Austria\",\"Bulgaria\",\"Denmark\",\"Finland\",\"Slovakia\",\"Ireland\",\"Croatia\",\"Lithuania\",\"Slovenia\",\"Latvia\",\"Estonia\",\"Cyprus\",\"Luxembourg\",\"Malta\"],\"country_population\":{\"__ndarray__\":\"HaopyTrBVEAp6zcT08BQQFk2c0hqqVBALbRzmgUuTkDkMQOV8XdHQAOUhhqF/EJAyZBj6xlqM0ApJJnVO0gxQMtpT8k56SZAuW3fo/5yJUCx4emVskwlQAcJUb6gjSRAPQ/uztp1JEBXk6esposjQKs+V1uxtyFA7+U+OQoAHEA5tTNMbTkXQHnou1tZEhZA+rmhKTvNFUCu8C4X8Z0TQKPNcW4TThBAPQ0YJH1aBkDO4O8Xs6UAQEzdlV0wuP4/NWPRdHYy9T/cK/NWXQfsP2+9pgcFpeM/q1/pfHiW3z8=\",\"dtype\":\"float64\",\"shape\":[28]}},\"selected\":{\"id\":\"1263\",\"type\":\"Selection\"},\"selection_policy\":{\"id\":\"1262\",\"type\":\"UnionRenderers\"}},\"id\":\"1199\",\"type\":\"ColumnDataSource\"},{\"attributes\":{},\"id\":\"1221\",\"type\":\"WheelZoomTool\"},{\"attributes\":{\"callback\":null,\"factors\":[\"DE\",\"FR\",\"GB\",\"IT\",\"ES\",\"PL\",\"RO\",\"NL\",\"BE\",\"EL\",\"CZ\",\"PT\",\"SE\",\"HU\",\"AT\",\"BG\",\"DK\",\"FI\",\"SK\",\"IE\",\"HR\",\"LT\",\"SI\",\"LV\",\"EE\",\"CY\",\"LU\",\"MT\"]},\"id\":\"1203\",\"type\":\"FactorRange\"},{\"attributes\":{},\"id\":\"1212\",\"type\":\"CategoricalTicker\"},{\"attributes\":{\"overlay\":{\"id\":\"1264\",\"type\":\"BoxAnnotation\"}},\"id\":\"1222\",\"type\":\"BoxZoomTool\"},{\"attributes\":{},\"id\":\"1207\",\"type\":\"CategoricalScale\"},{\"attributes\":{},\"id\":\"1223\",\"type\":\"SaveTool\"},{\"attributes\":{\"axis_label\":\"country code\",\"formatter\":{\"id\":\"1261\",\"type\":\"CategoricalTickFormatter\"},\"ticker\":{\"id\":\"1212\",\"type\":\"CategoricalTicker\"}},\"id\":\"1211\",\"type\":\"CategoricalAxis\"},{\"attributes\":{},\"id\":\"1224\",\"type\":\"ResetTool\"},{\"attributes\":{},\"id\":\"1209\",\"type\":\"LinearScale\"},{\"attributes\":{\"source\":{\"id\":\"1199\",\"type\":\"ColumnDataSource\"}},\"id\":\"1240\",\"type\":\"CDSView\"},{\"attributes\":{},\"id\":\"1225\",\"type\":\"HelpTool\"},{\"attributes\":{\"fill_alpha\":{\"value\":0.6},\"fill_color\":{\"value\":\"LightSeaGreen\"},\"line_alpha\":{\"value\":0.6},\"line_color\":{\"value\":\"LightSeaGreen\"},\"top\":{\"field\":\"country_population\"},\"width\":{\"value\":0.8},\"x\":{\"field\":\"country_code\"}},\"id\":\"1237\",\"type\":\"VBar\"},{\"attributes\":{\"callback\":null,\"tooltips\":[[\"country\",\"@country_name\"],[\"population\",\"@country_population{0} m\"]]},\"id\":\"1234\",\"type\":\"HoverTool\"},{\"attributes\":{\"callback\":null},\"id\":\"1205\",\"type\":\"DataRange1d\"}],\"root_ids\":[\"1200\"]},\"title\":\"Bokeh Application\",\"version\":\"1.3.4\"}};\n",
       "  var render_items = [{\"docid\":\"a1173982-553d-41c4-b840-340febfdf67d\",\"roots\":{\"1200\":\"d8229d8b-ed16-4cbf-9f8c-995017abce08\"}}];\n",
       "  root.Bokeh.embed.embed_items_notebook(docs_json, render_items);\n",
       "\n",
       "  }\n",
       "  if (root.Bokeh !== undefined) {\n",
       "    embed_document(root);\n",
       "  } else {\n",
       "    var attempts = 0;\n",
       "    var timer = setInterval(function(root) {\n",
       "      if (root.Bokeh !== undefined) {\n",
       "        embed_document(root);\n",
       "        clearInterval(timer);\n",
       "      }\n",
       "      attempts++;\n",
       "      if (attempts > 100) {\n",
       "        console.log(\"Bokeh: ERROR: Unable to run BokehJS code because BokehJS library is missing\");\n",
       "        clearInterval(timer);\n",
       "      }\n",
       "    }, 10, root)\n",
       "  }\n",
       "})(window);"
      ],
      "application/vnd.bokehjs_exec.v0+json": ""
     },
     "metadata": {
      "application/vnd.bokehjs_exec.v0+json": {
       "id": "1200"
      }
     },
     "output_type": "display_data"
    }
   ],
   "source": [
    "data = bokeh.models.ColumnDataSource({\n",
    "    'country_code':       population.index.values,\n",
    "    'country_name':       df.loc[population.index,'country'],\n",
    "    'country_population': population.values,\n",
    "})\n",
    "\n",
    "fig3 = bokeh.plotting.figure(\n",
    "    title = 'EU members population',\n",
    "    x_axis_label = 'country code',\n",
    "    y_axis_label = 'millions',\n",
    "    x_range = population.index.values,\n",
    "    plot_width = 800,\n",
    "    plot_height = 600,\n",
    "    background_fill_color = 'whitesmoke',\n",
    "    background_fill_alpha = 0.8\n",
    ")\n",
    "fig3.xgrid.grid_line_color = None\n",
    "fig3.toolbar.autohide = True\n",
    "fig3.add_tools(bokeh.models.HoverTool(\n",
    "    tooltips = [\n",
    "        ('country',    '@country_name'),\n",
    "        ('population', '@country_population{0} m'),\n",
    "    ],\n",
    "    mode = 'mouse',\n",
    "))\n",
    "fig3.vbar(x='country_code', top='country_population', source=data, width=0.8, alpha=0.6, color='LightSeaGreen')\n",
    "\n",
    "bokeh.plotting.show(fig3)"
   ]
  },
  {
   "cell_type": "markdown",
   "metadata": {},
   "source": [
    "Another figure with additional customization: use the tooltips to present information not shown grapically"
   ]
  },
  {
   "cell_type": "code",
   "execution_count": 12,
   "metadata": {},
   "outputs": [
    {
     "data": {
      "text/plain": [
       "country_code\n",
       "DE    356409\n",
       "GB    284544\n",
       "IT    188330\n",
       "dtype: int64"
      ]
     },
     "execution_count": 12,
     "metadata": {},
     "output_type": "execute_result"
    }
   ],
   "source": [
    "# Net number of individuals who immigrated to each EU country\n",
    "net_immigration = (df['immigration'] - df['emigration']).sort_values(ascending=False)\n",
    "net_immigration.head(3)"
   ]
  },
  {
   "cell_type": "code",
   "execution_count": 13,
   "metadata": {},
   "outputs": [
    {
     "data": {
      "text/html": [
       "\n",
       "\n",
       "\n",
       "\n",
       "\n",
       "\n",
       "  <div class=\"bk-root\" id=\"e401163c-c0e3-460e-826d-66e5fbbab3e2\" data-root-id=\"1314\"></div>\n"
      ]
     },
     "metadata": {},
     "output_type": "display_data"
    },
    {
     "data": {
      "application/javascript": [
       "(function(root) {\n",
       "  function embed_document(root) {\n",
       "    \n",
       "  var docs_json = {\"05fc6b1f-77fa-477c-bceb-c2f6f4d7de1f\":{\"roots\":{\"references\":[{\"attributes\":{\"background_fill_alpha\":{\"value\":0.8},\"background_fill_color\":{\"value\":\"whitesmoke\"},\"below\":[{\"id\":\"1325\",\"type\":\"CategoricalAxis\"}],\"center\":[{\"id\":\"1328\",\"type\":\"Grid\"},{\"id\":\"1333\",\"type\":\"Grid\"}],\"left\":[{\"id\":\"1329\",\"type\":\"LinearAxis\"}],\"plot_width\":800,\"renderers\":[{\"id\":\"1355\",\"type\":\"GlyphRenderer\"}],\"title\":{\"id\":\"1315\",\"type\":\"Title\"},\"toolbar\":{\"id\":\"1340\",\"type\":\"Toolbar\"},\"x_range\":{\"id\":\"1317\",\"type\":\"FactorRange\"},\"x_scale\":{\"id\":\"1321\",\"type\":\"CategoricalScale\"},\"y_range\":{\"id\":\"1319\",\"type\":\"DataRange1d\"},\"y_scale\":{\"id\":\"1323\",\"type\":\"LinearScale\"}},\"id\":\"1314\",\"subtype\":\"Figure\",\"type\":\"Plot\"},{\"attributes\":{\"overlay\":{\"id\":\"1387\",\"type\":\"BoxAnnotation\"}},\"id\":\"1336\",\"type\":\"BoxZoomTool\"},{\"attributes\":{},\"id\":\"1337\",\"type\":\"SaveTool\"},{\"attributes\":{},\"id\":\"1330\",\"type\":\"BasicTicker\"},{\"attributes\":{},\"id\":\"1338\",\"type\":\"ResetTool\"},{\"attributes\":{\"axis_label\":\"country code\",\"formatter\":{\"id\":\"1384\",\"type\":\"CategoricalTickFormatter\"},\"ticker\":{\"id\":\"1326\",\"type\":\"CategoricalTicker\"}},\"id\":\"1325\",\"type\":\"CategoricalAxis\"},{\"attributes\":{},\"id\":\"1326\",\"type\":\"CategoricalTicker\"},{\"attributes\":{},\"id\":\"1334\",\"type\":\"PanTool\"},{\"attributes\":{},\"id\":\"1339\",\"type\":\"HelpTool\"},{\"attributes\":{\"grid_line_color\":null,\"ticker\":{\"id\":\"1326\",\"type\":\"CategoricalTicker\"}},\"id\":\"1328\",\"type\":\"Grid\"},{\"attributes\":{\"active_drag\":\"auto\",\"active_inspect\":\"auto\",\"active_multi\":null,\"active_scroll\":\"auto\",\"active_tap\":\"auto\",\"autohide\":true,\"tools\":[{\"id\":\"1334\",\"type\":\"PanTool\"},{\"id\":\"1335\",\"type\":\"WheelZoomTool\"},{\"id\":\"1336\",\"type\":\"BoxZoomTool\"},{\"id\":\"1337\",\"type\":\"SaveTool\"},{\"id\":\"1338\",\"type\":\"ResetTool\"},{\"id\":\"1339\",\"type\":\"HelpTool\"},{\"id\":\"1348\",\"type\":\"HoverTool\"}]},\"id\":\"1340\",\"type\":\"Toolbar\"},{\"attributes\":{},\"id\":\"1335\",\"type\":\"WheelZoomTool\"},{\"attributes\":{},\"id\":\"1323\",\"type\":\"LinearScale\"},{\"attributes\":{\"data_source\":{\"id\":\"1313\",\"type\":\"ColumnDataSource\"},\"glyph\":{\"id\":\"1353\",\"type\":\"VBar\"},\"hover_glyph\":null,\"muted_glyph\":null,\"nonselection_glyph\":{\"id\":\"1354\",\"type\":\"VBar\"},\"selection_glyph\":null,\"view\":{\"id\":\"1356\",\"type\":\"CDSView\"}},\"id\":\"1355\",\"type\":\"GlyphRenderer\"},{\"attributes\":{\"callback\":null,\"factors\":[\"DE\",\"GB\",\"IT\",\"ES\",\"SE\",\"NL\",\"FR\",\"AT\",\"BE\",\"HU\",\"CZ\",\"FI\",\"MT\",\"IE\",\"DK\",\"LU\",\"EL\",\"CY\",\"EE\",\"PT\",\"SK\",\"SI\",\"BG\",\"LV\",\"PL\",\"LT\",\"HR\",\"RO\"]},\"id\":\"1317\",\"type\":\"FactorRange\"},{\"attributes\":{\"callback\":null,\"data\":{\"color\":[\"LightSeaGreen\",\"LightSeaGreen\",\"LightSeaGreen\",\"LightSeaGreen\",\"LightSeaGreen\",\"LightSeaGreen\",\"LightSeaGreen\",\"LightSeaGreen\",\"LightSeaGreen\",\"LightSeaGreen\",\"LightSeaGreen\",\"LightSeaGreen\",\"LightSeaGreen\",\"LightSeaGreen\",\"LightSeaGreen\",\"LightSeaGreen\",\"LightSeaGreen\",\"LightSeaGreen\",\"LightSeaGreen\",\"LightSeaGreen\",\"LightSeaGreen\",\"LightSeaGreen\",\"FireBrick\",\"FireBrick\",\"FireBrick\",\"FireBrick\",\"FireBrick\",\"FireBrick\"],\"country_code\":[\"DE\",\"GB\",\"IT\",\"ES\",\"SE\",\"NL\",\"FR\",\"AT\",\"BE\",\"HU\",\"CZ\",\"FI\",\"MT\",\"IE\",\"DK\",\"LU\",\"EL\",\"CY\",\"EE\",\"PT\",\"SK\",\"SI\",\"BG\",\"LV\",\"PL\",\"LT\",\"HR\",\"RO\"],\"country_name\":[\"Germany\",\"United Kingdom\",\"Italy\",\"Spain\",\"Sweden\",\"Netherlands\",\"France\",\"Austria\",\"Belgium\",\"Hungary\",\"Czechia\",\"Finland\",\"Malta\",\"Ireland\",\"Denmark\",\"Luxembourg\",\"Greece\",\"Cyprus\",\"Estonia\",\"Portugal\",\"Slovakia\",\"Slovenia\",\"Bulgaria\",\"Latvia\",\"Poland\",\"Lithuania\",\"Croatia\",\"Romania\"],\"net_immigration\":[356409,284544,188330,163272,98869,81415,57410,45657,37013,28241,24531,14824,14656,14431,12176,10548,8920,6201,5258,4886,3722,1253,-5989,-7808,-9139,-27557,-31799,-64758],\"pct_population\":{\"__ndarray__\":\"ha0ruaGVcT8JloCjzXxxPxFCy1Nmj2k/+47L5gF/bD/GzjwP88qDP6vBZbXDS3M/kwexQ4cSTD/JVcA1Ohx1Px4ReyPwd2o/n9IAhEisZz+ztYcYod5iP4oydncKAmY/gJy81D1onj8GM7Sh/BpoPyZq+zv2LWE/E8xmgzCYkT9GDLFvFEFLPw5+JjF7/3w/Pyk2qKFBcD/aqnDdsig/P1pTNyNwYEY/s68u7R+7Qz/aUYRqAwlMPz/GH7dHqHA/0SHwaJ6LLz89hFedqzKEP28ePX3+838/TNzdqSpTaz8=\",\"dtype\":\"float64\",\"shape\":[28]}},\"selected\":{\"id\":\"1386\",\"type\":\"Selection\"},\"selection_policy\":{\"id\":\"1385\",\"type\":\"UnionRenderers\"}},\"id\":\"1313\",\"type\":\"ColumnDataSource\"},{\"attributes\":{\"source\":{\"id\":\"1313\",\"type\":\"ColumnDataSource\"}},\"id\":\"1356\",\"type\":\"CDSView\"},{\"attributes\":{},\"id\":\"1350\",\"type\":\"NumeralTickFormatter\"},{\"attributes\":{\"text\":\"Net immigration to each EU member countries\"},\"id\":\"1315\",\"type\":\"Title\"},{\"attributes\":{\"callback\":null,\"tooltips\":[[\"country\",\"@country_name\"],[\"net immigrants\",\"@net_immigration{0,0}\"],[\"percentage of population\",\"@pct_population{0.00%}\"]]},\"id\":\"1348\",\"type\":\"HoverTool\"},{\"attributes\":{\"axis_label\":\"individuals\",\"formatter\":{\"id\":\"1350\",\"type\":\"NumeralTickFormatter\"},\"ticker\":{\"id\":\"1330\",\"type\":\"BasicTicker\"}},\"id\":\"1329\",\"type\":\"LinearAxis\"},{\"attributes\":{\"dimension\":1,\"ticker\":{\"id\":\"1330\",\"type\":\"BasicTicker\"}},\"id\":\"1333\",\"type\":\"Grid\"},{\"attributes\":{},\"id\":\"1385\",\"type\":\"UnionRenderers\"},{\"attributes\":{},\"id\":\"1384\",\"type\":\"CategoricalTickFormatter\"},{\"attributes\":{\"fill_alpha\":{\"value\":0.6},\"fill_color\":{\"field\":\"color\"},\"line_alpha\":{\"value\":0.6},\"line_color\":{\"field\":\"color\"},\"top\":{\"field\":\"net_immigration\"},\"width\":{\"value\":0.8},\"x\":{\"field\":\"country_code\"}},\"id\":\"1353\",\"type\":\"VBar\"},{\"attributes\":{},\"id\":\"1321\",\"type\":\"CategoricalScale\"},{\"attributes\":{},\"id\":\"1386\",\"type\":\"Selection\"},{\"attributes\":{\"bottom_units\":\"screen\",\"fill_alpha\":{\"value\":0.5},\"fill_color\":{\"value\":\"lightgrey\"},\"left_units\":\"screen\",\"level\":\"overlay\",\"line_alpha\":{\"value\":1.0},\"line_color\":{\"value\":\"black\"},\"line_dash\":[4,4],\"line_width\":{\"value\":2},\"render_mode\":\"css\",\"right_units\":\"screen\",\"top_units\":\"screen\"},\"id\":\"1387\",\"type\":\"BoxAnnotation\"},{\"attributes\":{\"callback\":null},\"id\":\"1319\",\"type\":\"DataRange1d\"},{\"attributes\":{\"fill_alpha\":{\"value\":0.1},\"fill_color\":{\"value\":\"#1f77b4\"},\"line_alpha\":{\"value\":0.1},\"line_color\":{\"value\":\"#1f77b4\"},\"top\":{\"field\":\"net_immigration\"},\"width\":{\"value\":0.8},\"x\":{\"field\":\"country_code\"}},\"id\":\"1354\",\"type\":\"VBar\"}],\"root_ids\":[\"1314\"]},\"title\":\"Bokeh Application\",\"version\":\"1.3.4\"}};\n",
       "  var render_items = [{\"docid\":\"05fc6b1f-77fa-477c-bceb-c2f6f4d7de1f\",\"roots\":{\"1314\":\"e401163c-c0e3-460e-826d-66e5fbbab3e2\"}}];\n",
       "  root.Bokeh.embed.embed_items_notebook(docs_json, render_items);\n",
       "\n",
       "  }\n",
       "  if (root.Bokeh !== undefined) {\n",
       "    embed_document(root);\n",
       "  } else {\n",
       "    var attempts = 0;\n",
       "    var timer = setInterval(function(root) {\n",
       "      if (root.Bokeh !== undefined) {\n",
       "        embed_document(root);\n",
       "        clearInterval(timer);\n",
       "      }\n",
       "      attempts++;\n",
       "      if (attempts > 100) {\n",
       "        console.log(\"Bokeh: ERROR: Unable to run BokehJS code because BokehJS library is missing\");\n",
       "        clearInterval(timer);\n",
       "      }\n",
       "    }, 10, root)\n",
       "  }\n",
       "})(window);"
      ],
      "application/vnd.bokehjs_exec.v0+json": ""
     },
     "metadata": {
      "application/vnd.bokehjs_exec.v0+json": {
       "id": "1314"
      }
     },
     "output_type": "display_data"
    }
   ],
   "source": [
    "data = bokeh.models.ColumnDataSource({\n",
    "    'country_code':    net_immigration.index,\n",
    "    'net_immigration': net_immigration.values,\n",
    "    'pct_population':  net_immigration.abs() / df.loc[net_immigration.index, 'population'],\n",
    "    'country_name':    df.loc[net_immigration.index, 'country'],\n",
    "    'color':           ['LightSeaGreen' if c else 'FireBrick' for c in (net_immigration > 0).values],\n",
    "})\n",
    "\n",
    "fig4 = bokeh.plotting.figure(\n",
    "    title = 'Net immigration to each EU member countries',\n",
    "    x_axis_label = 'country code',\n",
    "    y_axis_label = 'individuals',\n",
    "    x_range = net_immigration.index.values,\n",
    "    plot_width = 800,\n",
    "    plot_height = 600,\n",
    "    background_fill_color = 'whitesmoke',\n",
    "    background_fill_alpha = 0.8\n",
    ")\n",
    "fig4.xgrid.grid_line_color = None\n",
    "fig4.toolbar.autohide = True\n",
    "fig4.add_tools(bokeh.models.HoverTool(\n",
    "    tooltips = [\n",
    "        ('country',                  '@country_name'),\n",
    "        ('net immigrants',           '@net_immigration{0,0}'),\n",
    "        ('percentage of population', '@pct_population{0.00%}'),\n",
    "    ],\n",
    "    mode = 'mouse',\n",
    "))\n",
    "fig4.yaxis.formatter = bokeh.models.formatters.NumeralTickFormatter(format=\"0,0\")\n",
    "fig4.vbar(x='country_code', top='net_immigration', source=data, width=0.8, alpha=0.6, color='color')\n",
    "\n",
    "bokeh.plotting.show(fig4)"
   ]
  }
 ],
 "metadata": {
  "kernelspec": {
   "display_name": "Python 3",
   "language": "python",
   "name": "python3"
  },
  "language_info": {
   "codemirror_mode": {
    "name": "ipython",
    "version": 3
   },
   "file_extension": ".py",
   "mimetype": "text/x-python",
   "name": "python",
   "nbconvert_exporter": "python",
   "pygments_lexer": "ipython3",
   "version": "3.7.4"
  }
 },
 "nbformat": 4,
 "nbformat_minor": 4
}
