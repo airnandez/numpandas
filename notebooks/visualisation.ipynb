{
 "cells": [
  {
   "cell_type": "markdown",
   "metadata": {},
   "source": [
    "# Visualisation"
   ]
  },
  {
   "cell_type": "markdown",
   "metadata": {},
   "source": [
    "*Author: Fabio Hernandez*\n",
    "\n",
    "*Last updated: 2020-02-15*\n",
    "\n",
    "*Location:* https://github.com/airnandez/numpandas"
   ]
  },
  {
   "cell_type": "markdown",
   "metadata": {},
   "source": [
    "<a href=\"https://colab.research.google.com/github/airnandez/numpandas/blob/master/notebooks/visualisation.ipynb\">\n",
    "  <img src=\"https://colab.research.google.com/assets/colab-badge.svg\" alt=\"Open In Colab\"/>\n",
    "</a>"
   ]
  },
  {
   "cell_type": "markdown",
   "metadata": {},
   "source": [
    "____ \n",
    "## Introduction"
   ]
  },
  {
   "cell_type": "markdown",
   "metadata": {},
   "source": [
    "The data analysis process often requires visualising the data. The Python ecosystem offers several possibilities for data visualisation, such as [matplotlib](https://matplotlib.org), [bokeh](http://bokeh.pydata.org/en/latest/), [seaborn](https://seaborn.pydata.org), [altair](https://altair-viz.github.io), etc."
   ]
  },
  {
   "cell_type": "code",
   "execution_count": 1,
   "metadata": {},
   "outputs": [],
   "source": [
    "import pandas as pd"
   ]
  },
  {
   "cell_type": "code",
   "execution_count": 5,
   "metadata": {},
   "outputs": [
    {
     "data": {
      "text/html": [
       "<div>\n",
       "<style scoped>\n",
       "    .dataframe tbody tr th:only-of-type {\n",
       "        vertical-align: middle;\n",
       "    }\n",
       "\n",
       "    .dataframe tbody tr th {\n",
       "        vertical-align: top;\n",
       "    }\n",
       "\n",
       "    .dataframe thead th {\n",
       "        text-align: right;\n",
       "    }\n",
       "</style>\n",
       "<table border=\"1\" class=\"dataframe\">\n",
       "  <thead>\n",
       "    <tr style=\"text-align: right;\">\n",
       "      <th></th>\n",
       "      <th>country</th>\n",
       "      <th>capital</th>\n",
       "      <th>accession_date</th>\n",
       "      <th>population</th>\n",
       "      <th>euro_zone_member</th>\n",
       "      <th>immigration</th>\n",
       "      <th>emigration</th>\n",
       "      <th>contribution_to_eu_budget_millions_euro</th>\n",
       "      <th>expenditure_eu_budget_millions_euro</th>\n",
       "    </tr>\n",
       "    <tr>\n",
       "      <th>country_code</th>\n",
       "      <th></th>\n",
       "      <th></th>\n",
       "      <th></th>\n",
       "      <th></th>\n",
       "      <th></th>\n",
       "      <th></th>\n",
       "      <th></th>\n",
       "      <th></th>\n",
       "      <th></th>\n",
       "    </tr>\n",
       "  </thead>\n",
       "  <tbody>\n",
       "    <tr>\n",
       "      <td>AT</td>\n",
       "      <td>Austria</td>\n",
       "      <td>Vienna</td>\n",
       "      <td>1995-01-01</td>\n",
       "      <td>8858775</td>\n",
       "      <td>True</td>\n",
       "      <td>111801</td>\n",
       "      <td>66144</td>\n",
       "      <td>3277.097350</td>\n",
       "      <td>1952.627788</td>\n",
       "    </tr>\n",
       "    <tr>\n",
       "      <td>BE</td>\n",
       "      <td>Belgium</td>\n",
       "      <td>Brussels</td>\n",
       "      <td>1957-03-25</td>\n",
       "      <td>11455519</td>\n",
       "      <td>True</td>\n",
       "      <td>126703</td>\n",
       "      <td>89690</td>\n",
       "      <td>3839.758857</td>\n",
       "      <td>8513.575724</td>\n",
       "    </tr>\n",
       "    <tr>\n",
       "      <td>BG</td>\n",
       "      <td>Bulgaria</td>\n",
       "      <td>Sofia</td>\n",
       "      <td>2007-01-01</td>\n",
       "      <td>7000039</td>\n",
       "      <td>False</td>\n",
       "      <td>25597</td>\n",
       "      <td>31586</td>\n",
       "      <td>487.091948</td>\n",
       "      <td>2168.579910</td>\n",
       "    </tr>\n",
       "  </tbody>\n",
       "</table>\n",
       "</div>"
      ],
      "text/plain": [
       "               country   capital accession_date  population  euro_zone_member  \\\n",
       "country_code                                                                    \n",
       "AT             Austria    Vienna     1995-01-01     8858775              True   \n",
       "BE             Belgium  Brussels     1957-03-25    11455519              True   \n",
       "BG            Bulgaria     Sofia     2007-01-01     7000039             False   \n",
       "\n",
       "              immigration  emigration  \\\n",
       "country_code                            \n",
       "AT                 111801       66144   \n",
       "BE                 126703       89690   \n",
       "BG                  25597       31586   \n",
       "\n",
       "              contribution_to_eu_budget_millions_euro  \\\n",
       "country_code                                            \n",
       "AT                                        3277.097350   \n",
       "BE                                        3839.758857   \n",
       "BG                                         487.091948   \n",
       "\n",
       "              expenditure_eu_budget_millions_euro  \n",
       "country_code                                       \n",
       "AT                                    1952.627788  \n",
       "BE                                    8513.575724  \n",
       "BG                                    2168.579910  "
      ]
     },
     "execution_count": 5,
     "metadata": {},
     "output_type": "execute_result"
    }
   ],
   "source": [
    "df = pd.read_csv('../data/european_union-2019.csv', index_col=1, sep=';', decimal=',')\n",
    "df.head(3)"
   ]
  },
  {
   "cell_type": "markdown",
   "metadata": {},
   "source": [
    "------\n",
    "## matplotlib\n",
    "\n",
    "Reference: https://matplotlib.org"
   ]
  },
  {
   "cell_type": "markdown",
   "metadata": {},
   "source": [
    "**pandas** is well integrated with matplotlib, so we can quickly produce graphics for exploration purposes:"
   ]
  },
  {
   "cell_type": "code",
   "execution_count": 8,
   "metadata": {},
   "outputs": [],
   "source": [
    "%matplotlib inline\n",
    "import matplotlib\n",
    "import matplotlib.pyplot as plt\n",
    "\n",
    "matplotlib.rcParams[\"figure.figsize\"] = (8,6)\n",
    "matplotlib.rcParams[\"figure.dpi\"] = 150"
   ]
  },
  {
   "cell_type": "code",
   "execution_count": 9,
   "metadata": {},
   "outputs": [
    {
     "data": {
      "text/plain": [
       "<matplotlib.axes._subplots.AxesSubplot at 0x11ac10750>"
      ]
     },
     "execution_count": 9,
     "metadata": {},
     "output_type": "execute_result"
    },
    {
     "data": {
      "image/png": "[encoded data removed]",
      "text/plain": [
       "<Figure size 1200x900 with 1 Axes>"
      ]
     },
     "metadata": {
      "needs_background": "light"
     },
     "output_type": "display_data"
    }
   ],
   "source": [
    "# The simplest possible way of plotting the contents of the 'population' column\n",
    "df['population'].plot.bar()"
   ]
  },
  {
   "cell_type": "markdown",
   "metadata": {},
   "source": [
    "The figure above is neither pretty, nor very useful. Let's improve it a bit:"
   ]
  },
  {
   "cell_type": "code",
   "execution_count": 26,
   "metadata": {},
   "outputs": [
    {
     "data": {
      "text/plain": [
       "<matplotlib.axes._subplots.AxesSubplot at 0x11c1d3210>"
      ]
     },
     "execution_count": 26,
     "metadata": {},
     "output_type": "execute_result"
    },
    {
     "data": {
      "image/png": "[encoded data removed]",
      "text/plain": [
       "<Figure size 1200x900 with 1 Axes>"
      ]
     },
     "metadata": {
      "needs_background": "light"
     },
     "output_type": "display_data"
    }
   ],
   "source": [
    "# Sort the values and add a title\n",
    "df['population'].sort_values(ascending=False).plot.bar(title=\"EU members population (2019)\")"
   ]
  },
  {
   "cell_type": "markdown",
   "metadata": {},
   "source": [
    "----------\n",
    "## bokeh\n",
    "\n",
    "Reference: https://bokeh.pydata.org/en/latest/"
   ]
  },
  {
   "cell_type": "code",
   "execution_count": 27,
   "metadata": {},
   "outputs": [
    {
     "data": {
      "text/html": [
       "\n",
       "    <div class=\"bk-root\">\n",
       "        <a href=\"https://bokeh.pydata.org\" target=\"_blank\" class=\"bk-logo bk-logo-small bk-logo-notebook\"></a>\n",
       "        <span id=\"2669\">Loading BokehJS ...</span>\n",
       "    </div>"
      ]
     },
     "metadata": {},
     "output_type": "display_data"
    },
    {
     "data": {
      "application/javascript": [
       "\n",
       "(function(root) {\n",
       "  function now() {\n",
       "    return new Date();\n",
       "  }\n",
       "\n",
       "  var force = true;\n",
       "\n",
       "  if (typeof root._bokeh_onload_callbacks === \"undefined\" || force === true) {\n",
       "    root._bokeh_onload_callbacks = [];\n",
       "    root._bokeh_is_loading = undefined;\n",
       "  }\n",
       "\n",
       "  var JS_MIME_TYPE = 'application/javascript';\n",
       "  var HTML_MIME_TYPE = 'text/html';\n",
       "  var EXEC_MIME_TYPE = 'application/vnd.bokehjs_exec.v0+json';\n",
       "  var CLASS_NAME = 'output_bokeh rendered_html';\n",
       "\n",
       "  /**\n",
       "   * Render data to the DOM node\n",
       "   */\n",
       "  function render(props, node) {\n",
       "    var script = document.createElement(\"script\");\n",
       "    node.appendChild(script);\n",
       "  }\n",
       "\n",
       "  /**\n",
       "   * Handle when an output is cleared or removed\n",
       "   */\n",
       "  function handleClearOutput(event, handle) {\n",
       "    var cell = handle.cell;\n",
       "\n",
       "    var id = cell.output_area._bokeh_element_id;\n",
       "    var server_id = cell.output_area._bokeh_server_id;\n",
       "    // Clean up Bokeh references\n",
       "    if (id != null && id in Bokeh.index) {\n",
       "      Bokeh.index[id].model.document.clear();\n",
       "      delete Bokeh.index[id];\n",
       "    }\n",
       "\n",
       "    if (server_id !== undefined) {\n",
       "      // Clean up Bokeh references\n",
       "      var cmd = \"from bokeh.io.state import curstate; print(curstate().uuid_to_server['\" + server_id + \"'].get_sessions()[0].document.roots[0]._id)\";\n",
       "      cell.notebook.kernel.execute(cmd, {\n",
       "        iopub: {\n",
       "          output: function(msg) {\n",
       "            var id = msg.content.text.trim();\n",
       "            if (id in Bokeh.index) {\n",
       "              Bokeh.index[id].model.document.clear();\n",
       "              delete Bokeh.index[id];\n",
       "            }\n",
       "          }\n",
       "        }\n",
       "      });\n",
       "      // Destroy server and session\n",
       "      var cmd = \"import bokeh.io.notebook as ion; ion.destroy_server('\" + server_id + \"')\";\n",
       "      cell.notebook.kernel.execute(cmd);\n",
       "    }\n",
       "  }\n",
       "\n",
       "  /**\n",
       "   * Handle when a new output is added\n",
       "   */\n",
       "  function handleAddOutput(event, handle) {\n",
       "    var output_area = handle.output_area;\n",
       "    var output = handle.output;\n",
       "\n",
       "    // limit handleAddOutput to display_data with EXEC_MIME_TYPE content only\n",
       "    if ((output.output_type != \"display_data\") || (!output.data.hasOwnProperty(EXEC_MIME_TYPE))) {\n",
       "      return\n",
       "    }\n",
       "\n",
       "    var toinsert = output_area.element.find(\".\" + CLASS_NAME.split(' ')[0]);\n",
       "\n",
       "    if (output.metadata[EXEC_MIME_TYPE][\"id\"] !== undefined) {\n",
       "      toinsert[toinsert.length - 1].firstChild.textContent = output.data[JS_MIME_TYPE];\n",
       "      // store reference to embed id on output_area\n",
       "      output_area._bokeh_element_id = output.metadata[EXEC_MIME_TYPE][\"id\"];\n",
       "    }\n",
       "    if (output.metadata[EXEC_MIME_TYPE][\"server_id\"] !== undefined) {\n",
       "      var bk_div = document.createElement(\"div\");\n",
       "      bk_div.innerHTML = output.data[HTML_MIME_TYPE];\n",
       "      var script_attrs = bk_div.children[0].attributes;\n",
       "      for (var i = 0; i < script_attrs.length; i++) {\n",
       "        toinsert[toinsert.length - 1].firstChild.setAttribute(script_attrs[i].name, script_attrs[i].value);\n",
       "      }\n",
       "      // store reference to server id on output_area\n",
       "      output_area._bokeh_server_id = output.metadata[EXEC_MIME_TYPE][\"server_id\"];\n",
       "    }\n",
       "  }\n",
       "\n",
       "  function register_renderer(events, OutputArea) {\n",
       "\n",
       "    function append_mime(data, metadata, element) {\n",
       "      // create a DOM node to render to\n",
       "      var toinsert = this.create_output_subarea(\n",
       "        metadata,\n",
       "        CLASS_NAME,\n",
       "        EXEC_MIME_TYPE\n",
       "      );\n",
       "      this.keyboard_manager.register_events(toinsert);\n",
       "      // Render to node\n",
       "      var props = {data: data, metadata: metadata[EXEC_MIME_TYPE]};\n",
       "      render(props, toinsert[toinsert.length - 1]);\n",
       "      element.append(toinsert);\n",
       "      return toinsert\n",
       "    }\n",
       "\n",
       "    /* Handle when an output is cleared or removed */\n",
       "    events.on('clear_output.CodeCell', handleClearOutput);\n",
       "    events.on('delete.Cell', handleClearOutput);\n",
       "\n",
       "    /* Handle when a new output is added */\n",
       "    events.on('output_added.OutputArea', handleAddOutput);\n",
       "\n",
       "    /**\n",
       "     * Register the mime type and append_mime function with output_area\n",
       "     */\n",
       "    OutputArea.prototype.register_mime_type(EXEC_MIME_TYPE, append_mime, {\n",
       "      /* Is output safe? */\n",
       "      safe: true,\n",
       "      /* Index of renderer in `output_area.display_order` */\n",
       "      index: 0\n",
       "    });\n",
       "  }\n",
       "\n",
       "  // register the mime type if in Jupyter Notebook environment and previously unregistered\n",
       "  if (root.Jupyter !== undefined) {\n",
       "    var events = require('base/js/events');\n",
       "    var OutputArea = require('notebook/js/outputarea').OutputArea;\n",
       "\n",
       "    if (OutputArea.prototype.mime_types().indexOf(EXEC_MIME_TYPE) == -1) {\n",
       "      register_renderer(events, OutputArea);\n",
       "    }\n",
       "  }\n",
       "\n",
       "  \n",
       "  if (typeof (root._bokeh_timeout) === \"undefined\" || force === true) {\n",
       "    root._bokeh_timeout = Date.now() + 5000;\n",
       "    root._bokeh_failed_load = false;\n",
       "  }\n",
       "\n",
       "  var NB_LOAD_WARNING = {'data': {'text/html':\n",
       "     \"<div style='background-color: #fdd'>\\n\"+\n",
       "     \"<p>\\n\"+\n",
       "     \"BokehJS does not appear to have successfully loaded. If loading BokehJS from CDN, this \\n\"+\n",
       "     \"may be due to a slow or bad network connection. Possible fixes:\\n\"+\n",
       "     \"</p>\\n\"+\n",
       "     \"<ul>\\n\"+\n",
       "     \"<li>re-rerun `output_notebook()` to attempt to load from CDN again, or</li>\\n\"+\n",
       "     \"<li>use INLINE resources instead, as so:</li>\\n\"+\n",
       "     \"</ul>\\n\"+\n",
       "     \"<code>\\n\"+\n",
       "     \"from bokeh.resources import INLINE\\n\"+\n",
       "     \"output_notebook(resources=INLINE)\\n\"+\n",
       "     \"</code>\\n\"+\n",
       "     \"</div>\"}};\n",
       "\n",
       "  function display_loaded() {\n",
       "    var el = document.getElementById(\"2669\");\n",
       "    if (el != null) {\n",
       "      el.textContent = \"BokehJS is loading...\";\n",
       "    }\n",
       "    if (root.Bokeh !== undefined) {\n",
       "      if (el != null) {\n",
       "        el.textContent = \"BokehJS \" + root.Bokeh.version + \" successfully loaded.\";\n",
       "      }\n",
       "    } else if (Date.now() < root._bokeh_timeout) {\n",
       "      setTimeout(display_loaded, 100)\n",
       "    }\n",
       "  }\n",
       "\n",
       "\n",
       "  function run_callbacks() {\n",
       "    try {\n",
       "      root._bokeh_onload_callbacks.forEach(function(callback) {\n",
       "        if (callback != null)\n",
       "          callback();\n",
       "      });\n",
       "    } finally {\n",
       "      delete root._bokeh_onload_callbacks\n",
       "    }\n",
       "    console.debug(\"Bokeh: all callbacks have finished\");\n",
       "  }\n",
       "\n",
       "  function load_libs(css_urls, js_urls, callback) {\n",
       "    if (css_urls == null) css_urls = [];\n",
       "    if (js_urls == null) js_urls = [];\n",
       "\n",
       "    root._bokeh_onload_callbacks.push(callback);\n",
       "    if (root._bokeh_is_loading > 0) {\n",
       "      console.debug(\"Bokeh: BokehJS is being loaded, scheduling callback at\", now());\n",
       "      return null;\n",
       "    }\n",
       "    if (js_urls == null || js_urls.length === 0) {\n",
       "      run_callbacks();\n",
       "      return null;\n",
       "    }\n",
       "    console.debug(\"Bokeh: BokehJS not loaded, scheduling load and callback at\", now());\n",
       "    root._bokeh_is_loading = css_urls.length + js_urls.length;\n",
       "\n",
       "    function on_load() {\n",
       "      root._bokeh_is_loading--;\n",
       "      if (root._bokeh_is_loading === 0) {\n",
       "        console.debug(\"Bokeh: all BokehJS libraries/stylesheets loaded\");\n",
       "        run_callbacks()\n",
       "      }\n",
       "    }\n",
       "\n",
       "    function on_error() {\n",
       "      console.error(\"failed to load \" + url);\n",
       "    }\n",
       "\n",
       "    for (var i = 0; i < css_urls.length; i++) {\n",
       "      var url = css_urls[i];\n",
       "      const element = document.createElement(\"link\");\n",
       "      element.onload = on_load;\n",
       "      element.onerror = on_error;\n",
       "      element.rel = \"stylesheet\";\n",
       "      element.type = \"text/css\";\n",
       "      element.href = url;\n",
       "      console.debug(\"Bokeh: injecting link tag for BokehJS stylesheet: \", url);\n",
       "      document.body.appendChild(element);\n",
       "    }\n",
       "\n",
       "    for (var i = 0; i < js_urls.length; i++) {\n",
       "      var url = js_urls[i];\n",
       "      var element = document.createElement('script');\n",
       "      element.onload = on_load;\n",
       "      element.onerror = on_error;\n",
       "      element.async = false;\n",
       "      element.src = url;\n",
       "      console.debug(\"Bokeh: injecting script tag for BokehJS library: \", url);\n",
       "      document.head.appendChild(element);\n",
       "    }\n",
       "  };var element = document.getElementById(\"2669\");\n",
       "  if (element == null) {\n",
       "    console.error(\"Bokeh: ERROR: autoload.js configured with elementid '2669' but no matching script tag was found. \")\n",
       "    return false;\n",
       "  }\n",
       "\n",
       "  function inject_raw_css(css) {\n",
       "    const element = document.createElement(\"style\");\n",
       "    element.appendChild(document.createTextNode(css));\n",
       "    document.body.appendChild(element);\n",
       "  }\n",
       "\n",
       "  var js_urls = [\"https://cdn.pydata.org/bokeh/release/bokeh-1.3.4.min.js\", \"https://cdn.pydata.org/bokeh/release/bokeh-widgets-1.3.4.min.js\", \"https://cdn.pydata.org/bokeh/release/bokeh-tables-1.3.4.min.js\", \"https://cdn.pydata.org/bokeh/release/bokeh-gl-1.3.4.min.js\"];\n",
       "  var css_urls = [];\n",
       "\n",
       "  var inline_js = [\n",
       "    function(Bokeh) {\n",
       "      Bokeh.set_log_level(\"info\");\n",
       "    },\n",
       "    \n",
       "    function(Bokeh) {\n",
       "      \n",
       "    },\n",
       "    function(Bokeh) {} // ensure no trailing comma for IE\n",
       "  ];\n",
       "\n",
       "  function run_inline_js() {\n",
       "    \n",
       "    if ((root.Bokeh !== undefined) || (force === true)) {\n",
       "      for (var i = 0; i < inline_js.length; i++) {\n",
       "        inline_js[i].call(root, root.Bokeh);\n",
       "      }if (force === true) {\n",
       "        display_loaded();\n",
       "      }} else if (Date.now() < root._bokeh_timeout) {\n",
       "      setTimeout(run_inline_js, 100);\n",
       "    } else if (!root._bokeh_failed_load) {\n",
       "      console.log(\"Bokeh: BokehJS failed to load within specified timeout.\");\n",
       "      root._bokeh_failed_load = true;\n",
       "    } else if (force !== true) {\n",
       "      var cell = $(document.getElementById(\"2669\")).parents('.cell').data().cell;\n",
       "      cell.output_area.append_execute_result(NB_LOAD_WARNING)\n",
       "    }\n",
       "\n",
       "  }\n",
       "\n",
       "  if (root._bokeh_is_loading === 0) {\n",
       "    console.debug(\"Bokeh: BokehJS loaded, going straight to plotting\");\n",
       "    run_inline_js();\n",
       "  } else {\n",
       "    load_libs(css_urls, js_urls, function() {\n",
       "      console.debug(\"Bokeh: BokehJS plotting callback run at\", now());\n",
       "      run_inline_js();\n",
       "    });\n",
       "  }\n",
       "}(window));"
      ],
      "application/vnd.bokehjs_load.v0+json": "\n(function(root) {\n  function now() {\n    return new Date();\n  }\n\n  var force = true;\n\n  if (typeof root._bokeh_onload_callbacks === \"undefined\" || force === true) {\n    root._bokeh_onload_callbacks = [];\n    root._bokeh_is_loading = undefined;\n  }\n\n  \n\n  \n  if (typeof (root._bokeh_timeout) === \"undefined\" || force === true) {\n    root._bokeh_timeout = Date.now() + 5000;\n    root._bokeh_failed_load = false;\n  }\n\n  var NB_LOAD_WARNING = {'data': {'text/html':\n     \"<div style='background-color: #fdd'>\\n\"+\n     \"<p>\\n\"+\n     \"BokehJS does not appear to have successfully loaded. If loading BokehJS from CDN, this \\n\"+\n     \"may be due to a slow or bad network connection. Possible fixes:\\n\"+\n     \"</p>\\n\"+\n     \"<ul>\\n\"+\n     \"<li>re-rerun `output_notebook()` to attempt to load from CDN again, or</li>\\n\"+\n     \"<li>use INLINE resources instead, as so:</li>\\n\"+\n     \"</ul>\\n\"+\n     \"<code>\\n\"+\n     \"from bokeh.resources import INLINE\\n\"+\n     \"output_notebook(resources=INLINE)\\n\"+\n     \"</code>\\n\"+\n     \"</div>\"}};\n\n  function display_loaded() {\n    var el = document.getElementById(\"2669\");\n    if (el != null) {\n      el.textContent = \"BokehJS is loading...\";\n    }\n    if (root.Bokeh !== undefined) {\n      if (el != null) {\n        el.textContent = \"BokehJS \" + root.Bokeh.version + \" successfully loaded.\";\n      }\n    } else if (Date.now() < root._bokeh_timeout) {\n      setTimeout(display_loaded, 100)\n    }\n  }\n\n\n  function run_callbacks() {\n    try {\n      root._bokeh_onload_callbacks.forEach(function(callback) {\n        if (callback != null)\n          callback();\n      });\n    } finally {\n      delete root._bokeh_onload_callbacks\n    }\n    console.debug(\"Bokeh: all callbacks have finished\");\n  }\n\n  function load_libs(css_urls, js_urls, callback) {\n    if (css_urls == null) css_urls = [];\n    if (js_urls == null) js_urls = [];\n\n    root._bokeh_onload_callbacks.push(callback);\n    if (root._bokeh_is_loading > 0) {\n      console.debug(\"Bokeh: BokehJS is being loaded, scheduling callback at\", now());\n      return null;\n    }\n    if (js_urls == null || js_urls.length === 0) {\n      run_callbacks();\n      return null;\n    }\n    console.debug(\"Bokeh: BokehJS not loaded, scheduling load and callback at\", now());\n    root._bokeh_is_loading = css_urls.length + js_urls.length;\n\n    function on_load() {\n      root._bokeh_is_loading--;\n      if (root._bokeh_is_loading === 0) {\n        console.debug(\"Bokeh: all BokehJS libraries/stylesheets loaded\");\n        run_callbacks()\n      }\n    }\n\n    function on_error() {\n      console.error(\"failed to load \" + url);\n    }\n\n    for (var i = 0; i < css_urls.length; i++) {\n      var url = css_urls[i];\n      const element = document.createElement(\"link\");\n      element.onload = on_load;\n      element.onerror = on_error;\n      element.rel = \"stylesheet\";\n      element.type = \"text/css\";\n      element.href = url;\n      console.debug(\"Bokeh: injecting link tag for BokehJS stylesheet: \", url);\n      document.body.appendChild(element);\n    }\n\n    for (var i = 0; i < js_urls.length; i++) {\n      var url = js_urls[i];\n      var element = document.createElement('script');\n      element.onload = on_load;\n      element.onerror = on_error;\n      element.async = false;\n      element.src = url;\n      console.debug(\"Bokeh: injecting script tag for BokehJS library: \", url);\n      document.head.appendChild(element);\n    }\n  };var element = document.getElementById(\"2669\");\n  if (element == null) {\n    console.error(\"Bokeh: ERROR: autoload.js configured with elementid '2669' but no matching script tag was found. \")\n    return false;\n  }\n\n  function inject_raw_css(css) {\n    const element = document.createElement(\"style\");\n    element.appendChild(document.createTextNode(css));\n    document.body.appendChild(element);\n  }\n\n  var js_urls = [\"https://cdn.pydata.org/bokeh/release/bokeh-1.3.4.min.js\", \"https://cdn.pydata.org/bokeh/release/bokeh-widgets-1.3.4.min.js\", \"https://cdn.pydata.org/bokeh/release/bokeh-tables-1.3.4.min.js\", \"https://cdn.pydata.org/bokeh/release/bokeh-gl-1.3.4.min.js\"];\n  var css_urls = [];\n\n  var inline_js = [\n    function(Bokeh) {\n      Bokeh.set_log_level(\"info\");\n    },\n    \n    function(Bokeh) {\n      \n    },\n    function(Bokeh) {} // ensure no trailing comma for IE\n  ];\n\n  function run_inline_js() {\n    \n    if ((root.Bokeh !== undefined) || (force === true)) {\n      for (var i = 0; i < inline_js.length; i++) {\n        inline_js[i].call(root, root.Bokeh);\n      }if (force === true) {\n        display_loaded();\n      }} else if (Date.now() < root._bokeh_timeout) {\n      setTimeout(run_inline_js, 100);\n    } else if (!root._bokeh_failed_load) {\n      console.log(\"Bokeh: BokehJS failed to load within specified timeout.\");\n      root._bokeh_failed_load = true;\n    } else if (force !== true) {\n      var cell = $(document.getElementById(\"2669\")).parents('.cell').data().cell;\n      cell.output_area.append_execute_result(NB_LOAD_WARNING)\n    }\n\n  }\n\n  if (root._bokeh_is_loading === 0) {\n    console.debug(\"Bokeh: BokehJS loaded, going straight to plotting\");\n    run_inline_js();\n  } else {\n    load_libs(css_urls, js_urls, function() {\n      console.debug(\"Bokeh: BokehJS plotting callback run at\", now());\n      run_inline_js();\n    });\n  }\n}(window));"
     },
     "metadata": {},
     "output_type": "display_data"
    }
   ],
   "source": [
    "import bokeh\n",
    "import bokeh.plotting\n",
    "bokeh.plotting.output_notebook()"
   ]
  },
  {
   "cell_type": "markdown",
   "metadata": {},
   "source": [
    "Select the data we want to plot from the dataframe:"
   ]
  },
  {
   "cell_type": "code",
   "execution_count": 28,
   "metadata": {},
   "outputs": [
    {
     "data": {
      "text/plain": [
       "country_code\n",
       "DE    83.019213\n",
       "FR    67.012883\n",
       "GB    66.647112\n",
       "Name: population, dtype: float64"
      ]
     },
     "execution_count": 28,
     "metadata": {},
     "output_type": "execute_result"
    }
   ],
   "source": [
    "# Select the population, in millions, per country\n",
    "population = (df['population'] / 1_000_000).sort_values(ascending=False)\n",
    "population.head(3)"
   ]
  },
  {
   "cell_type": "code",
   "execution_count": 29,
   "metadata": {},
   "outputs": [
    {
     "data": {
      "text/html": [
       "\n",
       "\n",
       "\n",
       "\n",
       "\n",
       "\n",
       "  <div class=\"bk-root\" id=\"c13b3321-7e3a-44bd-b18a-6814b1f3b750\" data-root-id=\"2670\"></div>\n"
      ]
     },
     "metadata": {},
     "output_type": "display_data"
    },
    {
     "data": {
      "application/javascript": [
       "(function(root) {\n",
       "  function embed_document(root) {\n",
       "    \n",
       "  var docs_json = {\"c5919b5a-5718-45b3-8660-b18e68967c1c\":{\"roots\":{\"references\":[{\"attributes\":{\"below\":[{\"id\":\"2681\",\"type\":\"CategoricalAxis\"}],\"center\":[{\"id\":\"2684\",\"type\":\"Grid\"},{\"id\":\"2689\",\"type\":\"Grid\"}],\"left\":[{\"id\":\"2685\",\"type\":\"LinearAxis\"}],\"renderers\":[{\"id\":\"2706\",\"type\":\"GlyphRenderer\"}],\"title\":{\"id\":\"2671\",\"type\":\"Title\"},\"toolbar\":{\"id\":\"2696\",\"type\":\"Toolbar\"},\"x_range\":{\"id\":\"2673\",\"type\":\"FactorRange\"},\"x_scale\":{\"id\":\"2677\",\"type\":\"CategoricalScale\"},\"y_range\":{\"id\":\"2675\",\"type\":\"DataRange1d\"},\"y_scale\":{\"id\":\"2679\",\"type\":\"LinearScale\"}},\"id\":\"2670\",\"subtype\":\"Figure\",\"type\":\"Plot\"},{\"attributes\":{},\"id\":\"2806\",\"type\":\"Selection\"},{\"attributes\":{\"fill_color\":{\"value\":\"#1f77b4\"},\"line_color\":{\"value\":\"#1f77b4\"},\"top\":{\"field\":\"top\"},\"width\":{\"value\":0.8},\"x\":{\"field\":\"x\"}},\"id\":\"2704\",\"type\":\"VBar\"},{\"attributes\":{\"axis_label\":\"millions\",\"formatter\":{\"id\":\"2804\",\"type\":\"BasicTickFormatter\"},\"ticker\":{\"id\":\"2686\",\"type\":\"BasicTicker\"}},\"id\":\"2685\",\"type\":\"LinearAxis\"},{\"attributes\":{},\"id\":\"2804\",\"type\":\"BasicTickFormatter\"},{\"attributes\":{\"callback\":null},\"id\":\"2675\",\"type\":\"DataRange1d\"},{\"attributes\":{\"source\":{\"id\":\"2703\",\"type\":\"ColumnDataSource\"}},\"id\":\"2707\",\"type\":\"CDSView\"},{\"attributes\":{\"dimension\":1,\"ticker\":{\"id\":\"2686\",\"type\":\"BasicTicker\"}},\"id\":\"2689\",\"type\":\"Grid\"},{\"attributes\":{},\"id\":\"2690\",\"type\":\"PanTool\"},{\"attributes\":{},\"id\":\"2694\",\"type\":\"ResetTool\"},{\"attributes\":{},\"id\":\"2686\",\"type\":\"BasicTicker\"},{\"attributes\":{},\"id\":\"2677\",\"type\":\"CategoricalScale\"},{\"attributes\":{},\"id\":\"2802\",\"type\":\"CategoricalTickFormatter\"},{\"attributes\":{},\"id\":\"2682\",\"type\":\"CategoricalTicker\"},{\"attributes\":{\"fill_alpha\":{\"value\":0.1},\"fill_color\":{\"value\":\"#1f77b4\"},\"line_alpha\":{\"value\":0.1},\"line_color\":{\"value\":\"#1f77b4\"},\"top\":{\"field\":\"top\"},\"width\":{\"value\":0.8},\"x\":{\"field\":\"x\"}},\"id\":\"2705\",\"type\":\"VBar\"},{\"attributes\":{},\"id\":\"2679\",\"type\":\"LinearScale\"},{\"attributes\":{\"bottom_units\":\"screen\",\"fill_alpha\":{\"value\":0.5},\"fill_color\":{\"value\":\"lightgrey\"},\"left_units\":\"screen\",\"level\":\"overlay\",\"line_alpha\":{\"value\":1.0},\"line_color\":{\"value\":\"black\"},\"line_dash\":[4,4],\"line_width\":{\"value\":2},\"render_mode\":\"css\",\"right_units\":\"screen\",\"top_units\":\"screen\"},\"id\":\"2805\",\"type\":\"BoxAnnotation\"},{\"attributes\":{},\"id\":\"2807\",\"type\":\"UnionRenderers\"},{\"attributes\":{\"text\":\"EU members population\"},\"id\":\"2671\",\"type\":\"Title\"},{\"attributes\":{\"active_drag\":\"auto\",\"active_inspect\":\"auto\",\"active_multi\":null,\"active_scroll\":\"auto\",\"active_tap\":\"auto\",\"tools\":[{\"id\":\"2690\",\"type\":\"PanTool\"},{\"id\":\"2691\",\"type\":\"WheelZoomTool\"},{\"id\":\"2692\",\"type\":\"BoxZoomTool\"},{\"id\":\"2693\",\"type\":\"SaveTool\"},{\"id\":\"2694\",\"type\":\"ResetTool\"},{\"id\":\"2695\",\"type\":\"HelpTool\"}]},\"id\":\"2696\",\"type\":\"Toolbar\"},{\"attributes\":{\"callback\":null,\"data\":{\"top\":{\"__ndarray__\":\"HaopyTrBVEAp6zcT08BQQFk2c0hqqVBALbRzmgUuTkDkMQOV8XdHQAOUhhqF/EJAyZBj6xlqM0ApJJnVO0gxQMtpT8k56SZAuW3fo/5yJUCx4emVskwlQAcJUb6gjSRAPQ/uztp1JEBXk6esposjQKs+V1uxtyFA7+U+OQoAHEA5tTNMbTkXQHnou1tZEhZA+rmhKTvNFUCu8C4X8Z0TQKPNcW4TThBAPQ0YJH1aBkDO4O8Xs6UAQEzdlV0wuP4/NWPRdHYy9T/cK/NWXQfsP2+9pgcFpeM/q1/pfHiW3z8=\",\"dtype\":\"float64\",\"shape\":[28]},\"x\":[\"DE\",\"FR\",\"GB\",\"IT\",\"ES\",\"PL\",\"RO\",\"NL\",\"BE\",\"EL\",\"CZ\",\"PT\",\"SE\",\"HU\",\"AT\",\"BG\",\"DK\",\"FI\",\"SK\",\"IE\",\"HR\",\"LT\",\"SI\",\"LV\",\"EE\",\"CY\",\"LU\",\"MT\"]},\"selected\":{\"id\":\"2806\",\"type\":\"Selection\"},\"selection_policy\":{\"id\":\"2807\",\"type\":\"UnionRenderers\"}},\"id\":\"2703\",\"type\":\"ColumnDataSource\"},{\"attributes\":{\"callback\":null,\"factors\":[\"DE\",\"FR\",\"GB\",\"IT\",\"ES\",\"PL\",\"RO\",\"NL\",\"BE\",\"EL\",\"CZ\",\"PT\",\"SE\",\"HU\",\"AT\",\"BG\",\"DK\",\"FI\",\"SK\",\"IE\",\"HR\",\"LT\",\"SI\",\"LV\",\"EE\",\"CY\",\"LU\",\"MT\"]},\"id\":\"2673\",\"type\":\"FactorRange\"},{\"attributes\":{},\"id\":\"2691\",\"type\":\"WheelZoomTool\"},{\"attributes\":{\"overlay\":{\"id\":\"2805\",\"type\":\"BoxAnnotation\"}},\"id\":\"2692\",\"type\":\"BoxZoomTool\"},{\"attributes\":{},\"id\":\"2695\",\"type\":\"HelpTool\"},{\"attributes\":{\"ticker\":{\"id\":\"2682\",\"type\":\"CategoricalTicker\"}},\"id\":\"2684\",\"type\":\"Grid\"},{\"attributes\":{\"data_source\":{\"id\":\"2703\",\"type\":\"ColumnDataSource\"},\"glyph\":{\"id\":\"2704\",\"type\":\"VBar\"},\"hover_glyph\":null,\"muted_glyph\":null,\"nonselection_glyph\":{\"id\":\"2705\",\"type\":\"VBar\"},\"selection_glyph\":null,\"view\":{\"id\":\"2707\",\"type\":\"CDSView\"}},\"id\":\"2706\",\"type\":\"GlyphRenderer\"},{\"attributes\":{\"axis_label\":\"country code\",\"formatter\":{\"id\":\"2802\",\"type\":\"CategoricalTickFormatter\"},\"ticker\":{\"id\":\"2682\",\"type\":\"CategoricalTicker\"}},\"id\":\"2681\",\"type\":\"CategoricalAxis\"},{\"attributes\":{},\"id\":\"2693\",\"type\":\"SaveTool\"}],\"root_ids\":[\"2670\"]},\"title\":\"Bokeh Application\",\"version\":\"1.3.4\"}};\n",
       "  var render_items = [{\"docid\":\"c5919b5a-5718-45b3-8660-b18e68967c1c\",\"roots\":{\"2670\":\"c13b3321-7e3a-44bd-b18a-6814b1f3b750\"}}];\n",
       "  root.Bokeh.embed.embed_items_notebook(docs_json, render_items);\n",
       "\n",
       "  }\n",
       "  if (root.Bokeh !== undefined) {\n",
       "    embed_document(root);\n",
       "  } else {\n",
       "    var attempts = 0;\n",
       "    var timer = setInterval(function(root) {\n",
       "      if (root.Bokeh !== undefined) {\n",
       "        embed_document(root);\n",
       "        clearInterval(timer);\n",
       "      }\n",
       "      attempts++;\n",
       "      if (attempts > 100) {\n",
       "        console.log(\"Bokeh: ERROR: Unable to run BokehJS code because BokehJS library is missing\");\n",
       "        clearInterval(timer);\n",
       "      }\n",
       "    }, 10, root)\n",
       "  }\n",
       "})(window);"
      ],
      "application/vnd.bokehjs_exec.v0+json": ""
     },
     "metadata": {
      "application/vnd.bokehjs_exec.v0+json": {
       "id": "2670"
      }
     },
     "output_type": "display_data"
    }
   ],
   "source": [
    "fig1 = bokeh.plotting.figure(\n",
    "    title = 'EU members population',\n",
    "    x_axis_label = 'country code',\n",
    "    y_axis_label = 'millions',\n",
    "    x_range = population.index.values,\n",
    ")\n",
    "fig1.vbar(x=population.index.values, top=population.values, width=0.8)\n",
    "bokeh.plotting.show(fig1)"
   ]
  },
  {
   "cell_type": "markdown",
   "metadata": {},
   "source": [
    "Improve the visual attributes of the figure:"
   ]
  },
  {
   "cell_type": "code",
   "execution_count": 30,
   "metadata": {},
   "outputs": [
    {
     "data": {
      "text/html": [
       "\n",
       "\n",
       "\n",
       "\n",
       "\n",
       "\n",
       "  <div class=\"bk-root\" id=\"409d4bbf-bf3b-4a49-831f-85f1980697f4\" data-root-id=\"2856\"></div>\n"
      ]
     },
     "metadata": {},
     "output_type": "display_data"
    },
    {
     "data": {
      "application/javascript": [
       "(function(root) {\n",
       "  function embed_document(root) {\n",
       "    \n",
       "  var docs_json = {\"73389532-51ab-4303-b499-da40d8436a1e\":{\"roots\":{\"references\":[{\"attributes\":{\"background_fill_alpha\":{\"value\":0.8},\"background_fill_color\":{\"value\":\"whitesmoke\"},\"below\":[{\"id\":\"2867\",\"type\":\"CategoricalAxis\"}],\"center\":[{\"id\":\"2870\",\"type\":\"Grid\"},{\"id\":\"2875\",\"type\":\"Grid\"}],\"left\":[{\"id\":\"2871\",\"type\":\"LinearAxis\"}],\"plot_width\":800,\"renderers\":[{\"id\":\"2893\",\"type\":\"GlyphRenderer\"}],\"title\":{\"id\":\"2857\",\"type\":\"Title\"},\"toolbar\":{\"id\":\"2882\",\"type\":\"Toolbar\"},\"x_range\":{\"id\":\"2859\",\"type\":\"FactorRange\"},\"x_scale\":{\"id\":\"2863\",\"type\":\"CategoricalScale\"},\"y_range\":{\"id\":\"2861\",\"type\":\"DataRange1d\"},\"y_scale\":{\"id\":\"2865\",\"type\":\"LinearScale\"}},\"id\":\"2856\",\"subtype\":\"Figure\",\"type\":\"Plot\"},{\"attributes\":{\"text\":\"EU members population\"},\"id\":\"2857\",\"type\":\"Title\"},{\"attributes\":{},\"id\":\"2876\",\"type\":\"PanTool\"},{\"attributes\":{\"fill_alpha\":{\"value\":0.6},\"fill_color\":{\"value\":\"#1f77b4\"},\"line_alpha\":{\"value\":0.6},\"line_color\":{\"value\":\"#1f77b4\"},\"top\":{\"field\":\"top\"},\"width\":{\"value\":0.8},\"x\":{\"field\":\"x\"}},\"id\":\"2891\",\"type\":\"VBar\"},{\"attributes\":{},\"id\":\"2997\",\"type\":\"CategoricalTickFormatter\"},{\"attributes\":{\"callback\":null,\"factors\":[\"DE\",\"FR\",\"GB\",\"IT\",\"ES\",\"PL\",\"RO\",\"NL\",\"BE\",\"EL\",\"CZ\",\"PT\",\"SE\",\"HU\",\"AT\",\"BG\",\"DK\",\"FI\",\"SK\",\"IE\",\"HR\",\"LT\",\"SI\",\"LV\",\"EE\",\"CY\",\"LU\",\"MT\"]},\"id\":\"2859\",\"type\":\"FactorRange\"},{\"attributes\":{},\"id\":\"3001\",\"type\":\"Selection\"},{\"attributes\":{\"source\":{\"id\":\"2890\",\"type\":\"ColumnDataSource\"}},\"id\":\"2894\",\"type\":\"CDSView\"},{\"attributes\":{},\"id\":\"3002\",\"type\":\"UnionRenderers\"},{\"attributes\":{},\"id\":\"2880\",\"type\":\"ResetTool\"},{\"attributes\":{\"callback\":null,\"data\":{\"top\":{\"__ndarray__\":\"HaopyTrBVEAp6zcT08BQQFk2c0hqqVBALbRzmgUuTkDkMQOV8XdHQAOUhhqF/EJAyZBj6xlqM0ApJJnVO0gxQMtpT8k56SZAuW3fo/5yJUCx4emVskwlQAcJUb6gjSRAPQ/uztp1JEBXk6esposjQKs+V1uxtyFA7+U+OQoAHEA5tTNMbTkXQHnou1tZEhZA+rmhKTvNFUCu8C4X8Z0TQKPNcW4TThBAPQ0YJH1aBkDO4O8Xs6UAQEzdlV0wuP4/NWPRdHYy9T/cK/NWXQfsP2+9pgcFpeM/q1/pfHiW3z8=\",\"dtype\":\"float64\",\"shape\":[28]},\"x\":[\"DE\",\"FR\",\"GB\",\"IT\",\"ES\",\"PL\",\"RO\",\"NL\",\"BE\",\"EL\",\"CZ\",\"PT\",\"SE\",\"HU\",\"AT\",\"BG\",\"DK\",\"FI\",\"SK\",\"IE\",\"HR\",\"LT\",\"SI\",\"LV\",\"EE\",\"CY\",\"LU\",\"MT\"]},\"selected\":{\"id\":\"3001\",\"type\":\"Selection\"},\"selection_policy\":{\"id\":\"3002\",\"type\":\"UnionRenderers\"}},\"id\":\"2890\",\"type\":\"ColumnDataSource\"},{\"attributes\":{},\"id\":\"2881\",\"type\":\"HelpTool\"},{\"attributes\":{\"axis_label\":\"country code\",\"formatter\":{\"id\":\"2997\",\"type\":\"CategoricalTickFormatter\"},\"ticker\":{\"id\":\"2868\",\"type\":\"CategoricalTicker\"}},\"id\":\"2867\",\"type\":\"CategoricalAxis\"},{\"attributes\":{},\"id\":\"2863\",\"type\":\"CategoricalScale\"},{\"attributes\":{},\"id\":\"2877\",\"type\":\"WheelZoomTool\"},{\"attributes\":{\"overlay\":{\"id\":\"3000\",\"type\":\"BoxAnnotation\"}},\"id\":\"2878\",\"type\":\"BoxZoomTool\"},{\"attributes\":{},\"id\":\"2865\",\"type\":\"LinearScale\"},{\"attributes\":{\"callback\":null},\"id\":\"2861\",\"type\":\"DataRange1d\"},{\"attributes\":{\"active_drag\":\"auto\",\"active_inspect\":\"auto\",\"active_multi\":null,\"active_scroll\":\"auto\",\"active_tap\":\"auto\",\"autohide\":true,\"tools\":[{\"id\":\"2876\",\"type\":\"PanTool\"},{\"id\":\"2877\",\"type\":\"WheelZoomTool\"},{\"id\":\"2878\",\"type\":\"BoxZoomTool\"},{\"id\":\"2879\",\"type\":\"SaveTool\"},{\"id\":\"2880\",\"type\":\"ResetTool\"},{\"id\":\"2881\",\"type\":\"HelpTool\"}]},\"id\":\"2882\",\"type\":\"Toolbar\"},{\"attributes\":{\"data_source\":{\"id\":\"2890\",\"type\":\"ColumnDataSource\"},\"glyph\":{\"id\":\"2891\",\"type\":\"VBar\"},\"hover_glyph\":null,\"muted_glyph\":null,\"nonselection_glyph\":{\"id\":\"2892\",\"type\":\"VBar\"},\"selection_glyph\":null,\"view\":{\"id\":\"2894\",\"type\":\"CDSView\"}},\"id\":\"2893\",\"type\":\"GlyphRenderer\"},{\"attributes\":{},\"id\":\"2868\",\"type\":\"CategoricalTicker\"},{\"attributes\":{\"bottom_units\":\"screen\",\"fill_alpha\":{\"value\":0.5},\"fill_color\":{\"value\":\"lightgrey\"},\"left_units\":\"screen\",\"level\":\"overlay\",\"line_alpha\":{\"value\":1.0},\"line_color\":{\"value\":\"black\"},\"line_dash\":[4,4],\"line_width\":{\"value\":2},\"render_mode\":\"css\",\"right_units\":\"screen\",\"top_units\":\"screen\"},\"id\":\"3000\",\"type\":\"BoxAnnotation\"},{\"attributes\":{\"dimension\":1,\"ticker\":{\"id\":\"2872\",\"type\":\"BasicTicker\"}},\"id\":\"2875\",\"type\":\"Grid\"},{\"attributes\":{},\"id\":\"2999\",\"type\":\"BasicTickFormatter\"},{\"attributes\":{\"fill_alpha\":{\"value\":0.1},\"fill_color\":{\"value\":\"#1f77b4\"},\"line_alpha\":{\"value\":0.1},\"line_color\":{\"value\":\"#1f77b4\"},\"top\":{\"field\":\"top\"},\"width\":{\"value\":0.8},\"x\":{\"field\":\"x\"}},\"id\":\"2892\",\"type\":\"VBar\"},{\"attributes\":{\"axis_label\":\"millions\",\"formatter\":{\"id\":\"2999\",\"type\":\"BasicTickFormatter\"},\"ticker\":{\"id\":\"2872\",\"type\":\"BasicTicker\"}},\"id\":\"2871\",\"type\":\"LinearAxis\"},{\"attributes\":{},\"id\":\"2879\",\"type\":\"SaveTool\"},{\"attributes\":{},\"id\":\"2872\",\"type\":\"BasicTicker\"},{\"attributes\":{\"grid_line_color\":null,\"ticker\":{\"id\":\"2868\",\"type\":\"CategoricalTicker\"}},\"id\":\"2870\",\"type\":\"Grid\"}],\"root_ids\":[\"2856\"]},\"title\":\"Bokeh Application\",\"version\":\"1.3.4\"}};\n",
       "  var render_items = [{\"docid\":\"73389532-51ab-4303-b499-da40d8436a1e\",\"roots\":{\"2856\":\"409d4bbf-bf3b-4a49-831f-85f1980697f4\"}}];\n",
       "  root.Bokeh.embed.embed_items_notebook(docs_json, render_items);\n",
       "\n",
       "  }\n",
       "  if (root.Bokeh !== undefined) {\n",
       "    embed_document(root);\n",
       "  } else {\n",
       "    var attempts = 0;\n",
       "    var timer = setInterval(function(root) {\n",
       "      if (root.Bokeh !== undefined) {\n",
       "        embed_document(root);\n",
       "        clearInterval(timer);\n",
       "      }\n",
       "      attempts++;\n",
       "      if (attempts > 100) {\n",
       "        console.log(\"Bokeh: ERROR: Unable to run BokehJS code because BokehJS library is missing\");\n",
       "        clearInterval(timer);\n",
       "      }\n",
       "    }, 10, root)\n",
       "  }\n",
       "})(window);"
      ],
      "application/vnd.bokehjs_exec.v0+json": ""
     },
     "metadata": {
      "application/vnd.bokehjs_exec.v0+json": {
       "id": "2856"
      }
     },
     "output_type": "display_data"
    }
   ],
   "source": [
    "fig2 = bokeh.plotting.figure(\n",
    "    title = 'EU members population',\n",
    "    x_axis_label = 'country code',\n",
    "    y_axis_label = 'millions',\n",
    "    x_range = population.index.values,\n",
    "    plot_width = 800,\n",
    "    plot_height = 600,\n",
    "    background_fill_color = 'whitesmoke',\n",
    "    background_fill_alpha = 0.8,\n",
    ")\n",
    "fig2.xgrid.grid_line_color = None\n",
    "fig2.toolbar.autohide = True\n",
    "fig2.vbar(x=population.index.values, top=population.values, width=0.8, alpha=0.6)\n",
    "bokeh.plotting.show(fig2)"
   ]
  },
  {
   "cell_type": "markdown",
   "metadata": {},
   "source": [
    "Now add some interactivity to the figure:"
   ]
  },
  {
   "cell_type": "code",
   "execution_count": 49,
   "metadata": {},
   "outputs": [
    {
     "data": {
      "text/html": [
       "\n",
       "\n",
       "\n",
       "\n",
       "\n",
       "\n",
       "  <div class=\"bk-root\" id=\"121874b6-8780-4810-b5dd-089d28ac90e0\" data-root-id=\"6926\"></div>\n"
      ]
     },
     "metadata": {},
     "output_type": "display_data"
    },
    {
     "data": {
      "application/javascript": [
       "(function(root) {\n",
       "  function embed_document(root) {\n",
       "    \n",
       "  var docs_json = {\"affbefac-762d-40b7-a5c1-9a0ca25995da\":{\"roots\":{\"references\":[{\"attributes\":{\"background_fill_alpha\":{\"value\":0.8},\"background_fill_color\":{\"value\":\"whitesmoke\"},\"below\":[{\"id\":\"6937\",\"type\":\"CategoricalAxis\"}],\"center\":[{\"id\":\"6940\",\"type\":\"Grid\"},{\"id\":\"6945\",\"type\":\"Grid\"}],\"left\":[{\"id\":\"6941\",\"type\":\"LinearAxis\"}],\"plot_width\":800,\"renderers\":[{\"id\":\"6965\",\"type\":\"GlyphRenderer\"}],\"title\":{\"id\":\"6927\",\"type\":\"Title\"},\"toolbar\":{\"id\":\"6952\",\"type\":\"Toolbar\"},\"x_range\":{\"id\":\"6929\",\"type\":\"FactorRange\"},\"x_scale\":{\"id\":\"6933\",\"type\":\"CategoricalScale\"},\"y_range\":{\"id\":\"6931\",\"type\":\"DataRange1d\"},\"y_scale\":{\"id\":\"6935\",\"type\":\"LinearScale\"}},\"id\":\"6926\",\"subtype\":\"Figure\",\"type\":\"Plot\"},{\"attributes\":{},\"id\":\"6947\",\"type\":\"WheelZoomTool\"},{\"attributes\":{\"callback\":null},\"id\":\"6931\",\"type\":\"DataRange1d\"},{\"attributes\":{\"overlay\":{\"id\":\"7193\",\"type\":\"BoxAnnotation\"}},\"id\":\"6948\",\"type\":\"BoxZoomTool\"},{\"attributes\":{\"callback\":null,\"data\":{\"country_code\":[\"DE\",\"FR\",\"GB\",\"IT\",\"ES\",\"PL\",\"RO\",\"NL\",\"BE\",\"EL\",\"CZ\",\"PT\",\"SE\",\"HU\",\"AT\",\"BG\",\"DK\",\"FI\",\"SK\",\"IE\",\"HR\",\"LT\",\"SI\",\"LV\",\"EE\",\"CY\",\"LU\",\"MT\"],\"country_name\":[\"Germany\",\"France\",\"United Kingdom\",\"Italy\",\"Spain\",\"Poland\",\"Romania\",\"Netherlands\",\"Belgium\",\"Greece\",\"Czechia\",\"Portugal\",\"Sweden\",\"Hungary\",\"Austria\",\"Bulgaria\",\"Denmark\",\"Finland\",\"Slovakia\",\"Ireland\",\"Croatia\",\"Lithuania\",\"Slovenia\",\"Latvia\",\"Estonia\",\"Cyprus\",\"Luxembourg\",\"Malta\"],\"country_population\":{\"__ndarray__\":\"HaopyTrBVEAp6zcT08BQQFk2c0hqqVBALbRzmgUuTkDkMQOV8XdHQAOUhhqF/EJAyZBj6xlqM0ApJJnVO0gxQMtpT8k56SZAuW3fo/5yJUCx4emVskwlQAcJUb6gjSRAPQ/uztp1JEBXk6esposjQKs+V1uxtyFA7+U+OQoAHEA5tTNMbTkXQHnou1tZEhZA+rmhKTvNFUCu8C4X8Z0TQKPNcW4TThBAPQ0YJH1aBkDO4O8Xs6UAQEzdlV0wuP4/NWPRdHYy9T/cK/NWXQfsP2+9pgcFpeM/q1/pfHiW3z8=\",\"dtype\":\"float64\",\"shape\":[28]}},\"selected\":{\"id\":\"7194\",\"type\":\"Selection\"},\"selection_policy\":{\"id\":\"7195\",\"type\":\"UnionRenderers\"}},\"id\":\"6925\",\"type\":\"ColumnDataSource\"},{\"attributes\":{},\"id\":\"6949\",\"type\":\"SaveTool\"},{\"attributes\":{\"fill_alpha\":{\"value\":0.6},\"fill_color\":{\"value\":\"LightSeaGreen\"},\"line_alpha\":{\"value\":0.6},\"line_color\":{\"value\":\"LightSeaGreen\"},\"top\":{\"field\":\"country_population\"},\"width\":{\"value\":0.8},\"x\":{\"field\":\"country_code\"}},\"id\":\"6963\",\"type\":\"VBar\"},{\"attributes\":{},\"id\":\"6950\",\"type\":\"ResetTool\"},{\"attributes\":{},\"id\":\"6935\",\"type\":\"LinearScale\"},{\"attributes\":{\"data_source\":{\"id\":\"6925\",\"type\":\"ColumnDataSource\"},\"glyph\":{\"id\":\"6963\",\"type\":\"VBar\"},\"hover_glyph\":null,\"muted_glyph\":null,\"nonselection_glyph\":{\"id\":\"6964\",\"type\":\"VBar\"},\"selection_glyph\":null,\"view\":{\"id\":\"6966\",\"type\":\"CDSView\"}},\"id\":\"6965\",\"type\":\"GlyphRenderer\"},{\"attributes\":{\"axis_label\":\"millions\",\"formatter\":{\"id\":\"7192\",\"type\":\"BasicTickFormatter\"},\"ticker\":{\"id\":\"6942\",\"type\":\"BasicTicker\"}},\"id\":\"6941\",\"type\":\"LinearAxis\"},{\"attributes\":{},\"id\":\"6946\",\"type\":\"PanTool\"},{\"attributes\":{},\"id\":\"6933\",\"type\":\"CategoricalScale\"},{\"attributes\":{},\"id\":\"6951\",\"type\":\"HelpTool\"},{\"attributes\":{\"fill_alpha\":{\"value\":0.1},\"fill_color\":{\"value\":\"#1f77b4\"},\"line_alpha\":{\"value\":0.1},\"line_color\":{\"value\":\"#1f77b4\"},\"top\":{\"field\":\"country_population\"},\"width\":{\"value\":0.8},\"x\":{\"field\":\"country_code\"}},\"id\":\"6964\",\"type\":\"VBar\"},{\"attributes\":{},\"id\":\"6942\",\"type\":\"BasicTicker\"},{\"attributes\":{\"active_drag\":\"auto\",\"active_inspect\":\"auto\",\"active_multi\":null,\"active_scroll\":\"auto\",\"active_tap\":\"auto\",\"autohide\":true,\"tools\":[{\"id\":\"6946\",\"type\":\"PanTool\"},{\"id\":\"6947\",\"type\":\"WheelZoomTool\"},{\"id\":\"6948\",\"type\":\"BoxZoomTool\"},{\"id\":\"6949\",\"type\":\"SaveTool\"},{\"id\":\"6950\",\"type\":\"ResetTool\"},{\"id\":\"6951\",\"type\":\"HelpTool\"},{\"id\":\"6960\",\"type\":\"HoverTool\"}]},\"id\":\"6952\",\"type\":\"Toolbar\"},{\"attributes\":{},\"id\":\"7192\",\"type\":\"BasicTickFormatter\"},{\"attributes\":{},\"id\":\"7190\",\"type\":\"CategoricalTickFormatter\"},{\"attributes\":{},\"id\":\"6938\",\"type\":\"CategoricalTicker\"},{\"attributes\":{\"source\":{\"id\":\"6925\",\"type\":\"ColumnDataSource\"}},\"id\":\"6966\",\"type\":\"CDSView\"},{\"attributes\":{\"grid_line_color\":null,\"ticker\":{\"id\":\"6938\",\"type\":\"CategoricalTicker\"}},\"id\":\"6940\",\"type\":\"Grid\"},{\"attributes\":{\"dimension\":1,\"ticker\":{\"id\":\"6942\",\"type\":\"BasicTicker\"}},\"id\":\"6945\",\"type\":\"Grid\"},{\"attributes\":{\"callback\":null,\"tooltips\":[[\"country\",\"@country_name\"],[\"population\",\"@country_population{0} m\"]]},\"id\":\"6960\",\"type\":\"HoverTool\"},{\"attributes\":{},\"id\":\"7195\",\"type\":\"UnionRenderers\"},{\"attributes\":{},\"id\":\"7194\",\"type\":\"Selection\"},{\"attributes\":{\"axis_label\":\"country code\",\"formatter\":{\"id\":\"7190\",\"type\":\"CategoricalTickFormatter\"},\"ticker\":{\"id\":\"6938\",\"type\":\"CategoricalTicker\"}},\"id\":\"6937\",\"type\":\"CategoricalAxis\"},{\"attributes\":{\"text\":\"EU members population\"},\"id\":\"6927\",\"type\":\"Title\"},{\"attributes\":{\"bottom_units\":\"screen\",\"fill_alpha\":{\"value\":0.5},\"fill_color\":{\"value\":\"lightgrey\"},\"left_units\":\"screen\",\"level\":\"overlay\",\"line_alpha\":{\"value\":1.0},\"line_color\":{\"value\":\"black\"},\"line_dash\":[4,4],\"line_width\":{\"value\":2},\"render_mode\":\"css\",\"right_units\":\"screen\",\"top_units\":\"screen\"},\"id\":\"7193\",\"type\":\"BoxAnnotation\"},{\"attributes\":{\"callback\":null,\"factors\":[\"DE\",\"FR\",\"GB\",\"IT\",\"ES\",\"PL\",\"RO\",\"NL\",\"BE\",\"EL\",\"CZ\",\"PT\",\"SE\",\"HU\",\"AT\",\"BG\",\"DK\",\"FI\",\"SK\",\"IE\",\"HR\",\"LT\",\"SI\",\"LV\",\"EE\",\"CY\",\"LU\",\"MT\"]},\"id\":\"6929\",\"type\":\"FactorRange\"}],\"root_ids\":[\"6926\"]},\"title\":\"Bokeh Application\",\"version\":\"1.3.4\"}};\n",
       "  var render_items = [{\"docid\":\"affbefac-762d-40b7-a5c1-9a0ca25995da\",\"roots\":{\"6926\":\"121874b6-8780-4810-b5dd-089d28ac90e0\"}}];\n",
       "  root.Bokeh.embed.embed_items_notebook(docs_json, render_items);\n",
       "\n",
       "  }\n",
       "  if (root.Bokeh !== undefined) {\n",
       "    embed_document(root);\n",
       "  } else {\n",
       "    var attempts = 0;\n",
       "    var timer = setInterval(function(root) {\n",
       "      if (root.Bokeh !== undefined) {\n",
       "        embed_document(root);\n",
       "        clearInterval(timer);\n",
       "      }\n",
       "      attempts++;\n",
       "      if (attempts > 100) {\n",
       "        console.log(\"Bokeh: ERROR: Unable to run BokehJS code because BokehJS library is missing\");\n",
       "        clearInterval(timer);\n",
       "      }\n",
       "    }, 10, root)\n",
       "  }\n",
       "})(window);"
      ],
      "application/vnd.bokehjs_exec.v0+json": ""
     },
     "metadata": {
      "application/vnd.bokehjs_exec.v0+json": {
       "id": "6926"
      }
     },
     "output_type": "display_data"
    }
   ],
   "source": [
    "data = bokeh.models.ColumnDataSource({\n",
    "    'country_code':       population.index.values,\n",
    "    'country_name':       df.loc[population.index,'country'],\n",
    "    'country_population': population.values,\n",
    "})\n",
    "\n",
    "fig3 = bokeh.plotting.figure(\n",
    "    title = 'EU members population',\n",
    "    x_axis_label = 'country code',\n",
    "    y_axis_label = 'millions',\n",
    "    x_range = population.index.values,\n",
    "    plot_width = 800,\n",
    "    plot_height = 600,\n",
    "    background_fill_color = 'whitesmoke',\n",
    "    background_fill_alpha = 0.8\n",
    ")\n",
    "fig3.xgrid.grid_line_color = None\n",
    "fig3.toolbar.autohide = True\n",
    "fig3.add_tools(bokeh.models.HoverTool(\n",
    "    tooltips = [\n",
    "        ('country',    '@country_name'),\n",
    "        ('population', '@country_population{0} m'),\n",
    "    ],\n",
    "    mode = 'mouse',\n",
    "))\n",
    "fig3.vbar(x='country_code', top='country_population', source=data, width=0.8, alpha=0.6, color='LightSeaGreen')\n",
    "\n",
    "bokeh.plotting.show(fig3)"
   ]
  },
  {
   "cell_type": "markdown",
   "metadata": {},
   "source": [
    "Another figure with additional customization: use the tooltips to present information not shown grapically"
   ]
  },
  {
   "cell_type": "code",
   "execution_count": 21,
   "metadata": {},
   "outputs": [
    {
     "data": {
      "text/plain": [
       "country_code\n",
       "DE    356409\n",
       "GB    284544\n",
       "IT    188330\n",
       "dtype: int64"
      ]
     },
     "execution_count": 21,
     "metadata": {},
     "output_type": "execute_result"
    }
   ],
   "source": [
    "# Net number of individuals who immigrated to each EU country\n",
    "net_immigration = (df['immigration'] - df['emigration']).sort_values(ascending=False)\n",
    "net_immigration.head(3)"
   ]
  },
  {
   "cell_type": "code",
   "execution_count": 50,
   "metadata": {},
   "outputs": [
    {
     "data": {
      "text/html": [
       "\n",
       "\n",
       "\n",
       "\n",
       "\n",
       "\n",
       "  <div class=\"bk-root\" id=\"85ccecee-06d8-4265-9f8b-33e29c91aae3\" data-root-id=\"7245\"></div>\n"
      ]
     },
     "metadata": {},
     "output_type": "display_data"
    },
    {
     "data": {
      "application/javascript": [
       "(function(root) {\n",
       "  function embed_document(root) {\n",
       "    \n",
       "  var docs_json = {\"8dbb0af6-f410-4214-8918-2999e6e2df0c\":{\"roots\":{\"references\":[{\"attributes\":{\"background_fill_alpha\":{\"value\":0.8},\"background_fill_color\":{\"value\":\"whitesmoke\"},\"below\":[{\"id\":\"7256\",\"type\":\"CategoricalAxis\"}],\"center\":[{\"id\":\"7259\",\"type\":\"Grid\"},{\"id\":\"7264\",\"type\":\"Grid\"}],\"left\":[{\"id\":\"7260\",\"type\":\"LinearAxis\"}],\"plot_width\":800,\"renderers\":[{\"id\":\"7286\",\"type\":\"GlyphRenderer\"}],\"title\":{\"id\":\"7246\",\"type\":\"Title\"},\"toolbar\":{\"id\":\"7271\",\"type\":\"Toolbar\"},\"x_range\":{\"id\":\"7248\",\"type\":\"FactorRange\"},\"x_scale\":{\"id\":\"7252\",\"type\":\"CategoricalScale\"},\"y_range\":{\"id\":\"7250\",\"type\":\"DataRange1d\"},\"y_scale\":{\"id\":\"7254\",\"type\":\"LinearScale\"}},\"id\":\"7245\",\"subtype\":\"Figure\",\"type\":\"Plot\"},{\"attributes\":{\"overlay\":{\"id\":\"7521\",\"type\":\"BoxAnnotation\"}},\"id\":\"7267\",\"type\":\"BoxZoomTool\"},{\"attributes\":{\"text\":\"Net immigration to each EU member countries\"},\"id\":\"7246\",\"type\":\"Title\"},{\"attributes\":{},\"id\":\"7268\",\"type\":\"SaveTool\"},{\"attributes\":{},\"id\":\"7519\",\"type\":\"CategoricalTickFormatter\"},{\"attributes\":{},\"id\":\"7523\",\"type\":\"UnionRenderers\"},{\"attributes\":{},\"id\":\"7269\",\"type\":\"ResetTool\"},{\"attributes\":{},\"id\":\"7252\",\"type\":\"CategoricalScale\"},{\"attributes\":{\"callback\":null},\"id\":\"7250\",\"type\":\"DataRange1d\"},{\"attributes\":{},\"id\":\"7270\",\"type\":\"HelpTool\"},{\"attributes\":{},\"id\":\"7254\",\"type\":\"LinearScale\"},{\"attributes\":{\"active_drag\":\"auto\",\"active_inspect\":\"auto\",\"active_multi\":null,\"active_scroll\":\"auto\",\"active_tap\":\"auto\",\"autohide\":true,\"tools\":[{\"id\":\"7265\",\"type\":\"PanTool\"},{\"id\":\"7266\",\"type\":\"WheelZoomTool\"},{\"id\":\"7267\",\"type\":\"BoxZoomTool\"},{\"id\":\"7268\",\"type\":\"SaveTool\"},{\"id\":\"7269\",\"type\":\"ResetTool\"},{\"id\":\"7270\",\"type\":\"HelpTool\"},{\"id\":\"7279\",\"type\":\"HoverTool\"}]},\"id\":\"7271\",\"type\":\"Toolbar\"},{\"attributes\":{\"axis_label\":\"country code\",\"formatter\":{\"id\":\"7519\",\"type\":\"CategoricalTickFormatter\"},\"ticker\":{\"id\":\"7257\",\"type\":\"CategoricalTicker\"}},\"id\":\"7256\",\"type\":\"CategoricalAxis\"},{\"attributes\":{\"dimension\":1,\"ticker\":{\"id\":\"7261\",\"type\":\"BasicTicker\"}},\"id\":\"7264\",\"type\":\"Grid\"},{\"attributes\":{},\"id\":\"7257\",\"type\":\"CategoricalTicker\"},{\"attributes\":{\"data_source\":{\"id\":\"7244\",\"type\":\"ColumnDataSource\"},\"glyph\":{\"id\":\"7284\",\"type\":\"VBar\"},\"hover_glyph\":null,\"muted_glyph\":null,\"nonselection_glyph\":{\"id\":\"7285\",\"type\":\"VBar\"},\"selection_glyph\":null,\"view\":{\"id\":\"7287\",\"type\":\"CDSView\"}},\"id\":\"7286\",\"type\":\"GlyphRenderer\"},{\"attributes\":{\"grid_line_color\":null,\"ticker\":{\"id\":\"7257\",\"type\":\"CategoricalTicker\"}},\"id\":\"7259\",\"type\":\"Grid\"},{\"attributes\":{},\"id\":\"7261\",\"type\":\"BasicTicker\"},{\"attributes\":{\"axis_label\":\"individuals\",\"formatter\":{\"id\":\"7281\",\"type\":\"NumeralTickFormatter\"},\"ticker\":{\"id\":\"7261\",\"type\":\"BasicTicker\"}},\"id\":\"7260\",\"type\":\"LinearAxis\"},{\"attributes\":{\"source\":{\"id\":\"7244\",\"type\":\"ColumnDataSource\"}},\"id\":\"7287\",\"type\":\"CDSView\"},{\"attributes\":{\"callback\":null,\"factors\":[\"DE\",\"GB\",\"IT\",\"ES\",\"SE\",\"NL\",\"FR\",\"AT\",\"BE\",\"HU\",\"CZ\",\"FI\",\"MT\",\"IE\",\"DK\",\"LU\",\"EL\",\"CY\",\"EE\",\"PT\",\"SK\",\"SI\",\"BG\",\"LV\",\"PL\",\"LT\",\"HR\",\"RO\"]},\"id\":\"7248\",\"type\":\"FactorRange\"},{\"attributes\":{\"fill_alpha\":{\"value\":0.6},\"fill_color\":{\"field\":\"color\"},\"line_alpha\":{\"value\":0.6},\"line_color\":{\"field\":\"color\"},\"top\":{\"field\":\"net_immigration\"},\"width\":{\"value\":0.8},\"x\":{\"field\":\"country_code\"}},\"id\":\"7284\",\"type\":\"VBar\"},{\"attributes\":{\"bottom_units\":\"screen\",\"fill_alpha\":{\"value\":0.5},\"fill_color\":{\"value\":\"lightgrey\"},\"left_units\":\"screen\",\"level\":\"overlay\",\"line_alpha\":{\"value\":1.0},\"line_color\":{\"value\":\"black\"},\"line_dash\":[4,4],\"line_width\":{\"value\":2},\"render_mode\":\"css\",\"right_units\":\"screen\",\"top_units\":\"screen\"},\"id\":\"7521\",\"type\":\"BoxAnnotation\"},{\"attributes\":{\"callback\":null,\"tooltips\":[[\"country\",\"@country_name\"],[\"net immigrants\",\"@net_immigration{0,0}\"],[\"percentage of population\",\"@pct_population{0.00%}\"]]},\"id\":\"7279\",\"type\":\"HoverTool\"},{\"attributes\":{\"callback\":null,\"data\":{\"color\":[\"LightSeaGreen\",\"LightSeaGreen\",\"LightSeaGreen\",\"LightSeaGreen\",\"LightSeaGreen\",\"LightSeaGreen\",\"LightSeaGreen\",\"LightSeaGreen\",\"LightSeaGreen\",\"LightSeaGreen\",\"LightSeaGreen\",\"LightSeaGreen\",\"LightSeaGreen\",\"LightSeaGreen\",\"LightSeaGreen\",\"LightSeaGreen\",\"LightSeaGreen\",\"LightSeaGreen\",\"LightSeaGreen\",\"LightSeaGreen\",\"LightSeaGreen\",\"LightSeaGreen\",\"FireBrick\",\"FireBrick\",\"FireBrick\",\"FireBrick\",\"FireBrick\",\"FireBrick\"],\"country_code\":[\"DE\",\"GB\",\"IT\",\"ES\",\"SE\",\"NL\",\"FR\",\"AT\",\"BE\",\"HU\",\"CZ\",\"FI\",\"MT\",\"IE\",\"DK\",\"LU\",\"EL\",\"CY\",\"EE\",\"PT\",\"SK\",\"SI\",\"BG\",\"LV\",\"PL\",\"LT\",\"HR\",\"RO\"],\"country_name\":[\"Germany\",\"United Kingdom\",\"Italy\",\"Spain\",\"Sweden\",\"Netherlands\",\"France\",\"Austria\",\"Belgium\",\"Hungary\",\"Czechia\",\"Finland\",\"Malta\",\"Ireland\",\"Denmark\",\"Luxembourg\",\"Greece\",\"Cyprus\",\"Estonia\",\"Portugal\",\"Slovakia\",\"Slovenia\",\"Bulgaria\",\"Latvia\",\"Poland\",\"Lithuania\",\"Croatia\",\"Romania\"],\"net_immigration\":[356409,284544,188330,163272,98869,81415,57410,45657,37013,28241,24531,14824,14656,14431,12176,10548,8920,6201,5258,4886,3722,1253,-5989,-7808,-9139,-27557,-31799,-64758],\"pct_population\":{\"__ndarray__\":\"ha0ruaGVcT8JloCjzXxxPxFCy1Nmj2k/+47L5gF/bD/GzjwP88qDP6vBZbXDS3M/kwexQ4cSTD/JVcA1Ohx1Px4ReyPwd2o/n9IAhEisZz+ztYcYod5iP4oydncKAmY/gJy81D1onj8GM7Sh/BpoPyZq+zv2LWE/E8xmgzCYkT9GDLFvFEFLPw5+JjF7/3w/Pyk2qKFBcD/aqnDdsig/P1pTNyNwYEY/s68u7R+7Qz/aUYRqAwlMPz/GH7dHqHA/0SHwaJ6LLz89hFedqzKEP28ePX3+838/TNzdqSpTaz8=\",\"dtype\":\"float64\",\"shape\":[28]}},\"selected\":{\"id\":\"7522\",\"type\":\"Selection\"},\"selection_policy\":{\"id\":\"7523\",\"type\":\"UnionRenderers\"}},\"id\":\"7244\",\"type\":\"ColumnDataSource\"},{\"attributes\":{\"fill_alpha\":{\"value\":0.1},\"fill_color\":{\"value\":\"#1f77b4\"},\"line_alpha\":{\"value\":0.1},\"line_color\":{\"value\":\"#1f77b4\"},\"top\":{\"field\":\"net_immigration\"},\"width\":{\"value\":0.8},\"x\":{\"field\":\"country_code\"}},\"id\":\"7285\",\"type\":\"VBar\"},{\"attributes\":{},\"id\":\"7281\",\"type\":\"NumeralTickFormatter\"},{\"attributes\":{},\"id\":\"7522\",\"type\":\"Selection\"},{\"attributes\":{},\"id\":\"7265\",\"type\":\"PanTool\"},{\"attributes\":{},\"id\":\"7266\",\"type\":\"WheelZoomTool\"}],\"root_ids\":[\"7245\"]},\"title\":\"Bokeh Application\",\"version\":\"1.3.4\"}};\n",
       "  var render_items = [{\"docid\":\"8dbb0af6-f410-4214-8918-2999e6e2df0c\",\"roots\":{\"7245\":\"85ccecee-06d8-4265-9f8b-33e29c91aae3\"}}];\n",
       "  root.Bokeh.embed.embed_items_notebook(docs_json, render_items);\n",
       "\n",
       "  }\n",
       "  if (root.Bokeh !== undefined) {\n",
       "    embed_document(root);\n",
       "  } else {\n",
       "    var attempts = 0;\n",
       "    var timer = setInterval(function(root) {\n",
       "      if (root.Bokeh !== undefined) {\n",
       "        embed_document(root);\n",
       "        clearInterval(timer);\n",
       "      }\n",
       "      attempts++;\n",
       "      if (attempts > 100) {\n",
       "        console.log(\"Bokeh: ERROR: Unable to run BokehJS code because BokehJS library is missing\");\n",
       "        clearInterval(timer);\n",
       "      }\n",
       "    }, 10, root)\n",
       "  }\n",
       "})(window);"
      ],
      "application/vnd.bokehjs_exec.v0+json": ""
     },
     "metadata": {
      "application/vnd.bokehjs_exec.v0+json": {
       "id": "7245"
      }
     },
     "output_type": "display_data"
    }
   ],
   "source": [
    "data = bokeh.models.ColumnDataSource({\n",
    "    'country_code':    net_immigration.index,\n",
    "    'net_immigration': net_immigration.values,\n",
    "    'pct_population':  net_immigration.abs() / df.loc[net_immigration.index, 'population'],\n",
    "    'country_name':    df.loc[net_immigration.index, 'country'],\n",
    "    'color':           ['LightSeaGreen' if c else 'FireBrick' for c in (net_immigration > 0).values],\n",
    "})\n",
    "\n",
    "fig4 = bokeh.plotting.figure(\n",
    "    title = 'Net immigration to each EU member countries',\n",
    "    x_axis_label = 'country code',\n",
    "    y_axis_label = 'individuals',\n",
    "    x_range = net_immigration.index.values,\n",
    "    plot_width = 800,\n",
    "    plot_height = 600,\n",
    "    background_fill_color = 'whitesmoke',\n",
    "    background_fill_alpha = 0.8\n",
    ")\n",
    "fig4.xgrid.grid_line_color = None\n",
    "fig4.toolbar.autohide = True\n",
    "fig4.add_tools(bokeh.models.HoverTool(\n",
    "    tooltips = [\n",
    "        ('country',                  '@country_name'),\n",
    "        ('net immigrants',           '@net_immigration{0,0}'),\n",
    "        ('percentage of population', '@pct_population{0.00%}'),\n",
    "    ],\n",
    "    mode = 'mouse',\n",
    "))\n",
    "fig4.yaxis.formatter = bokeh.models.formatters.NumeralTickFormatter(format=\"0,0\")\n",
    "fig4.vbar(x='country_code', top='net_immigration', source=data, width=0.8, alpha=0.6, color='color')\n",
    "\n",
    "bokeh.plotting.show(fig4)"
   ]
  }
 ],
 "metadata": {
  "kernelspec": {
   "display_name": "Python 3",
   "language": "python",
   "name": "python3"
  },
  "language_info": {
   "codemirror_mode": {
    "name": "ipython",
    "version": 3
   },
   "file_extension": ".py",
   "mimetype": "text/x-python",
   "name": "python",
   "nbconvert_exporter": "python",
   "pygments_lexer": "ipython3",
   "version": "3.7.4"
  }
 },
 "nbformat": 4,
 "nbformat_minor": 4
}
