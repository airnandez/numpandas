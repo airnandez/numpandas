{
 "cells": [
  {
   "cell_type": "markdown",
   "metadata": {},
   "source": [
    "# Visualisation"
   ]
  },
  {
   "cell_type": "markdown",
   "metadata": {},
   "source": [
    "The data analysis process often requires visualising the data. The Python ecosystem offers several possibilities for data visualisation, such as [matplotlib](https://matplotlib.org), [bokeh](http://bokeh.pydata.org/en/latest/), [seaborn](https://seaborn.pydata.org), [altair](https://altair-viz.github.io), etc."
   ]
  },
  {
   "cell_type": "code",
   "execution_count": 1,
   "metadata": {},
   "outputs": [],
   "source": [
    "import pandas as pd"
   ]
  },
  {
   "cell_type": "code",
   "execution_count": 2,
   "metadata": {},
   "outputs": [
    {
     "data": {
      "text/html": [
       "<div>\n",
       "<style scoped>\n",
       "    .dataframe tbody tr th:only-of-type {\n",
       "        vertical-align: middle;\n",
       "    }\n",
       "\n",
       "    .dataframe tbody tr th {\n",
       "        vertical-align: top;\n",
       "    }\n",
       "\n",
       "    .dataframe thead th {\n",
       "        text-align: right;\n",
       "    }\n",
       "</style>\n",
       "<table border=\"1\" class=\"dataframe\">\n",
       "  <thead>\n",
       "    <tr style=\"text-align: right;\">\n",
       "      <th></th>\n",
       "      <th>country</th>\n",
       "      <th>capital</th>\n",
       "      <th>accession_date</th>\n",
       "      <th>population</th>\n",
       "      <th>euro_zone_member</th>\n",
       "      <th>immigration</th>\n",
       "      <th>emigration</th>\n",
       "      <th>contribution_to_eu_budget_millions_euro</th>\n",
       "      <th>expenditure_eu_budget_millions_euro</th>\n",
       "    </tr>\n",
       "    <tr>\n",
       "      <th>country_code</th>\n",
       "      <th></th>\n",
       "      <th></th>\n",
       "      <th></th>\n",
       "      <th></th>\n",
       "      <th></th>\n",
       "      <th></th>\n",
       "      <th></th>\n",
       "      <th></th>\n",
       "      <th></th>\n",
       "    </tr>\n",
       "  </thead>\n",
       "  <tbody>\n",
       "    <tr>\n",
       "      <th>AT</th>\n",
       "      <td>Austria</td>\n",
       "      <td>Vienna</td>\n",
       "      <td>1995-01-01</td>\n",
       "      <td>8822267</td>\n",
       "      <td>True</td>\n",
       "      <td>111801</td>\n",
       "      <td>66144</td>\n",
       "      <td>1869</td>\n",
       "      <td>1743</td>\n",
       "    </tr>\n",
       "    <tr>\n",
       "      <th>BE</th>\n",
       "      <td>Belgium</td>\n",
       "      <td>Brussels</td>\n",
       "      <td>1957-03-25</td>\n",
       "      <td>11398589</td>\n",
       "      <td>True</td>\n",
       "      <td>126703</td>\n",
       "      <td>89690</td>\n",
       "      <td>2172</td>\n",
       "      <td>7358</td>\n",
       "    </tr>\n",
       "    <tr>\n",
       "      <th>BG</th>\n",
       "      <td>Bulgaria</td>\n",
       "      <td>Sofia</td>\n",
       "      <td>2007-01-01</td>\n",
       "      <td>7050034</td>\n",
       "      <td>False</td>\n",
       "      <td>25597</td>\n",
       "      <td>31586</td>\n",
       "      <td>276</td>\n",
       "      <td>1896</td>\n",
       "    </tr>\n",
       "  </tbody>\n",
       "</table>\n",
       "</div>"
      ],
      "text/plain": [
       "               country   capital accession_date  population  euro_zone_member  \\\n",
       "country_code                                                                    \n",
       "AT             Austria    Vienna     1995-01-01     8822267              True   \n",
       "BE             Belgium  Brussels     1957-03-25    11398589              True   \n",
       "BG            Bulgaria     Sofia     2007-01-01     7050034             False   \n",
       "\n",
       "              immigration  emigration  \\\n",
       "country_code                            \n",
       "AT                 111801       66144   \n",
       "BE                 126703       89690   \n",
       "BG                  25597       31586   \n",
       "\n",
       "              contribution_to_eu_budget_millions_euro  \\\n",
       "country_code                                            \n",
       "AT                                               1869   \n",
       "BE                                               2172   \n",
       "BG                                                276   \n",
       "\n",
       "              expenditure_eu_budget_millions_euro  \n",
       "country_code                                       \n",
       "AT                                           1743  \n",
       "BE                                           7358  \n",
       "BG                                           1896  "
      ]
     },
     "execution_count": 2,
     "metadata": {},
     "output_type": "execute_result"
    }
   ],
   "source": [
    "df = pd.read_csv('./data/european_union.csv', sep=';', index_col=1)\n",
    "df.head(3)"
   ]
  },
  {
   "cell_type": "markdown",
   "metadata": {},
   "source": [
    "## matplotlib\n",
    "\n",
    "**pandas** is well integrated with matplotlib, so we can quickly produce graphics for exploration purposes:"
   ]
  },
  {
   "cell_type": "code",
   "execution_count": 3,
   "metadata": {},
   "outputs": [],
   "source": [
    "import matplotlib.pyplot as plt\n",
    "%matplotlib inline"
   ]
  },
  {
   "cell_type": "code",
   "execution_count": 77,
   "metadata": {},
   "outputs": [
    {
     "data": {
      "text/plain": [
       "<matplotlib.axes._subplots.AxesSubplot at 0x1181705c0>"
      ]
     },
     "execution_count": 77,
     "metadata": {},
     "output_type": "execute_result"
    },
    {
     "data": {
      "image/png": "[encoded data removed]",
      "text/plain": [
       "<Figure size 432x288 with 1 Axes>"
      ]
     },
     "metadata": {
      "needs_background": "light"
     },
     "output_type": "display_data"
    }
   ],
   "source": [
    "# The simplest possible way of plotting the contents of the 'population' column\n",
    "df['population'].plot.bar()"
   ]
  },
  {
   "cell_type": "markdown",
   "metadata": {},
   "source": [
    "The graphic above is neither pretty, nor very useful. Let's improve it a bit:"
   ]
  },
  {
   "cell_type": "code",
   "execution_count": 78,
   "metadata": {},
   "outputs": [
    {
     "data": {
      "text/plain": [
       "<matplotlib.axes._subplots.AxesSubplot at 0x118210128>"
      ]
     },
     "execution_count": 78,
     "metadata": {},
     "output_type": "execute_result"
    },
    {
     "data": {
      "image/png": "[encoded data removed]",
      "text/plain": [
       "<Figure size 432x288 with 1 Axes>"
      ]
     },
     "metadata": {
      "needs_background": "light"
     },
     "output_type": "display_data"
    }
   ],
   "source": [
    "# Sort the values and add a title\n",
    "df['population'].sort_values(ascending=False).plot.bar(title=\"EU members population\")"
   ]
  },
  {
   "cell_type": "markdown",
   "metadata": {},
   "source": [
    "## bokeh"
   ]
  },
  {
   "cell_type": "code",
   "execution_count": 79,
   "metadata": {},
   "outputs": [
    {
     "data": {
      "text/html": [
       "\n",
       "    <div class=\"bk-root\">\n",
       "        <a href=\"https://bokeh.pydata.org\" target=\"_blank\" class=\"bk-logo bk-logo-small bk-logo-notebook\"></a>\n",
       "        <span id=\"6097\">Loading BokehJS ...</span>\n",
       "    </div>"
      ]
     },
     "metadata": {},
     "output_type": "display_data"
    },
    {
     "data": {
      "application/javascript": [
       "\n",
       "(function(root) {\n",
       "  function now() {\n",
       "    return new Date();\n",
       "  }\n",
       "\n",
       "  var force = true;\n",
       "\n",
       "  if (typeof root._bokeh_onload_callbacks === \"undefined\" || force === true) {\n",
       "    root._bokeh_onload_callbacks = [];\n",
       "    root._bokeh_is_loading = undefined;\n",
       "  }\n",
       "\n",
       "  var JS_MIME_TYPE = 'application/javascript';\n",
       "  var HTML_MIME_TYPE = 'text/html';\n",
       "  var EXEC_MIME_TYPE = 'application/vnd.bokehjs_exec.v0+json';\n",
       "  var CLASS_NAME = 'output_bokeh rendered_html';\n",
       "\n",
       "  /**\n",
       "   * Render data to the DOM node\n",
       "   */\n",
       "  function render(props, node) {\n",
       "    var script = document.createElement(\"script\");\n",
       "    node.appendChild(script);\n",
       "  }\n",
       "\n",
       "  /**\n",
       "   * Handle when an output is cleared or removed\n",
       "   */\n",
       "  function handleClearOutput(event, handle) {\n",
       "    var cell = handle.cell;\n",
       "\n",
       "    var id = cell.output_area._bokeh_element_id;\n",
       "    var server_id = cell.output_area._bokeh_server_id;\n",
       "    // Clean up Bokeh references\n",
       "    if (id != null && id in Bokeh.index) {\n",
       "      Bokeh.index[id].model.document.clear();\n",
       "      delete Bokeh.index[id];\n",
       "    }\n",
       "\n",
       "    if (server_id !== undefined) {\n",
       "      // Clean up Bokeh references\n",
       "      var cmd = \"from bokeh.io.state import curstate; print(curstate().uuid_to_server['\" + server_id + \"'].get_sessions()[0].document.roots[0]._id)\";\n",
       "      cell.notebook.kernel.execute(cmd, {\n",
       "        iopub: {\n",
       "          output: function(msg) {\n",
       "            var id = msg.content.text.trim();\n",
       "            if (id in Bokeh.index) {\n",
       "              Bokeh.index[id].model.document.clear();\n",
       "              delete Bokeh.index[id];\n",
       "            }\n",
       "          }\n",
       "        }\n",
       "      });\n",
       "      // Destroy server and session\n",
       "      var cmd = \"import bokeh.io.notebook as ion; ion.destroy_server('\" + server_id + \"')\";\n",
       "      cell.notebook.kernel.execute(cmd);\n",
       "    }\n",
       "  }\n",
       "\n",
       "  /**\n",
       "   * Handle when a new output is added\n",
       "   */\n",
       "  function handleAddOutput(event, handle) {\n",
       "    var output_area = handle.output_area;\n",
       "    var output = handle.output;\n",
       "\n",
       "    // limit handleAddOutput to display_data with EXEC_MIME_TYPE content only\n",
       "    if ((output.output_type != \"display_data\") || (!output.data.hasOwnProperty(EXEC_MIME_TYPE))) {\n",
       "      return\n",
       "    }\n",
       "\n",
       "    var toinsert = output_area.element.find(\".\" + CLASS_NAME.split(' ')[0]);\n",
       "\n",
       "    if (output.metadata[EXEC_MIME_TYPE][\"id\"] !== undefined) {\n",
       "      toinsert[toinsert.length - 1].firstChild.textContent = output.data[JS_MIME_TYPE];\n",
       "      // store reference to embed id on output_area\n",
       "      output_area._bokeh_element_id = output.metadata[EXEC_MIME_TYPE][\"id\"];\n",
       "    }\n",
       "    if (output.metadata[EXEC_MIME_TYPE][\"server_id\"] !== undefined) {\n",
       "      var bk_div = document.createElement(\"div\");\n",
       "      bk_div.innerHTML = output.data[HTML_MIME_TYPE];\n",
       "      var script_attrs = bk_div.children[0].attributes;\n",
       "      for (var i = 0; i < script_attrs.length; i++) {\n",
       "        toinsert[toinsert.length - 1].firstChild.setAttribute(script_attrs[i].name, script_attrs[i].value);\n",
       "      }\n",
       "      // store reference to server id on output_area\n",
       "      output_area._bokeh_server_id = output.metadata[EXEC_MIME_TYPE][\"server_id\"];\n",
       "    }\n",
       "  }\n",
       "\n",
       "  function register_renderer(events, OutputArea) {\n",
       "\n",
       "    function append_mime(data, metadata, element) {\n",
       "      // create a DOM node to render to\n",
       "      var toinsert = this.create_output_subarea(\n",
       "        metadata,\n",
       "        CLASS_NAME,\n",
       "        EXEC_MIME_TYPE\n",
       "      );\n",
       "      this.keyboard_manager.register_events(toinsert);\n",
       "      // Render to node\n",
       "      var props = {data: data, metadata: metadata[EXEC_MIME_TYPE]};\n",
       "      render(props, toinsert[toinsert.length - 1]);\n",
       "      element.append(toinsert);\n",
       "      return toinsert\n",
       "    }\n",
       "\n",
       "    /* Handle when an output is cleared or removed */\n",
       "    events.on('clear_output.CodeCell', handleClearOutput);\n",
       "    events.on('delete.Cell', handleClearOutput);\n",
       "\n",
       "    /* Handle when a new output is added */\n",
       "    events.on('output_added.OutputArea', handleAddOutput);\n",
       "\n",
       "    /**\n",
       "     * Register the mime type and append_mime function with output_area\n",
       "     */\n",
       "    OutputArea.prototype.register_mime_type(EXEC_MIME_TYPE, append_mime, {\n",
       "      /* Is output safe? */\n",
       "      safe: true,\n",
       "      /* Index of renderer in `output_area.display_order` */\n",
       "      index: 0\n",
       "    });\n",
       "  }\n",
       "\n",
       "  // register the mime type if in Jupyter Notebook environment and previously unregistered\n",
       "  if (root.Jupyter !== undefined) {\n",
       "    var events = require('base/js/events');\n",
       "    var OutputArea = require('notebook/js/outputarea').OutputArea;\n",
       "\n",
       "    if (OutputArea.prototype.mime_types().indexOf(EXEC_MIME_TYPE) == -1) {\n",
       "      register_renderer(events, OutputArea);\n",
       "    }\n",
       "  }\n",
       "\n",
       "  \n",
       "  if (typeof (root._bokeh_timeout) === \"undefined\" || force === true) {\n",
       "    root._bokeh_timeout = Date.now() + 5000;\n",
       "    root._bokeh_failed_load = false;\n",
       "  }\n",
       "\n",
       "  var NB_LOAD_WARNING = {'data': {'text/html':\n",
       "     \"<div style='background-color: #fdd'>\\n\"+\n",
       "     \"<p>\\n\"+\n",
       "     \"BokehJS does not appear to have successfully loaded. If loading BokehJS from CDN, this \\n\"+\n",
       "     \"may be due to a slow or bad network connection. Possible fixes:\\n\"+\n",
       "     \"</p>\\n\"+\n",
       "     \"<ul>\\n\"+\n",
       "     \"<li>re-rerun `output_notebook()` to attempt to load from CDN again, or</li>\\n\"+\n",
       "     \"<li>use INLINE resources instead, as so:</li>\\n\"+\n",
       "     \"</ul>\\n\"+\n",
       "     \"<code>\\n\"+\n",
       "     \"from bokeh.resources import INLINE\\n\"+\n",
       "     \"output_notebook(resources=INLINE)\\n\"+\n",
       "     \"</code>\\n\"+\n",
       "     \"</div>\"}};\n",
       "\n",
       "  function display_loaded() {\n",
       "    var el = document.getElementById(\"6097\");\n",
       "    if (el != null) {\n",
       "      el.textContent = \"BokehJS is loading...\";\n",
       "    }\n",
       "    if (root.Bokeh !== undefined) {\n",
       "      if (el != null) {\n",
       "        el.textContent = \"BokehJS \" + root.Bokeh.version + \" successfully loaded.\";\n",
       "      }\n",
       "    } else if (Date.now() < root._bokeh_timeout) {\n",
       "      setTimeout(display_loaded, 100)\n",
       "    }\n",
       "  }\n",
       "\n",
       "\n",
       "  function run_callbacks() {\n",
       "    try {\n",
       "      root._bokeh_onload_callbacks.forEach(function(callback) {\n",
       "        if (callback != null)\n",
       "          callback();\n",
       "      });\n",
       "    } finally {\n",
       "      delete root._bokeh_onload_callbacks\n",
       "    }\n",
       "    console.debug(\"Bokeh: all callbacks have finished\");\n",
       "  }\n",
       "\n",
       "  function load_libs(css_urls, js_urls, callback) {\n",
       "    if (css_urls == null) css_urls = [];\n",
       "    if (js_urls == null) js_urls = [];\n",
       "\n",
       "    root._bokeh_onload_callbacks.push(callback);\n",
       "    if (root._bokeh_is_loading > 0) {\n",
       "      console.debug(\"Bokeh: BokehJS is being loaded, scheduling callback at\", now());\n",
       "      return null;\n",
       "    }\n",
       "    if (js_urls == null || js_urls.length === 0) {\n",
       "      run_callbacks();\n",
       "      return null;\n",
       "    }\n",
       "    console.debug(\"Bokeh: BokehJS not loaded, scheduling load and callback at\", now());\n",
       "    root._bokeh_is_loading = css_urls.length + js_urls.length;\n",
       "\n",
       "    function on_load() {\n",
       "      root._bokeh_is_loading--;\n",
       "      if (root._bokeh_is_loading === 0) {\n",
       "        console.debug(\"Bokeh: all BokehJS libraries/stylesheets loaded\");\n",
       "        run_callbacks()\n",
       "      }\n",
       "    }\n",
       "\n",
       "    function on_error() {\n",
       "      console.error(\"failed to load \" + url);\n",
       "    }\n",
       "\n",
       "    for (var i = 0; i < css_urls.length; i++) {\n",
       "      var url = css_urls[i];\n",
       "      const element = document.createElement(\"link\");\n",
       "      element.onload = on_load;\n",
       "      element.onerror = on_error;\n",
       "      element.rel = \"stylesheet\";\n",
       "      element.type = \"text/css\";\n",
       "      element.href = url;\n",
       "      console.debug(\"Bokeh: injecting link tag for BokehJS stylesheet: \", url);\n",
       "      document.body.appendChild(element);\n",
       "    }\n",
       "\n",
       "    for (var i = 0; i < js_urls.length; i++) {\n",
       "      var url = js_urls[i];\n",
       "      var element = document.createElement('script');\n",
       "      element.onload = on_load;\n",
       "      element.onerror = on_error;\n",
       "      element.async = false;\n",
       "      element.src = url;\n",
       "      console.debug(\"Bokeh: injecting script tag for BokehJS library: \", url);\n",
       "      document.head.appendChild(element);\n",
       "    }\n",
       "  };var element = document.getElementById(\"6097\");\n",
       "  if (element == null) {\n",
       "    console.error(\"Bokeh: ERROR: autoload.js configured with elementid '6097' but no matching script tag was found. \")\n",
       "    return false;\n",
       "  }\n",
       "\n",
       "  function inject_raw_css(css) {\n",
       "    const element = document.createElement(\"style\");\n",
       "    element.appendChild(document.createTextNode(css));\n",
       "    document.body.appendChild(element);\n",
       "  }\n",
       "\n",
       "  var js_urls = [\"https://cdn.pydata.org/bokeh/release/bokeh-1.1.0.min.js\", \"https://cdn.pydata.org/bokeh/release/bokeh-widgets-1.1.0.min.js\", \"https://cdn.pydata.org/bokeh/release/bokeh-tables-1.1.0.min.js\", \"https://cdn.pydata.org/bokeh/release/bokeh-gl-1.1.0.min.js\"];\n",
       "  var css_urls = [\"https://cdn.pydata.org/bokeh/release/bokeh-1.1.0.min.css\", \"https://cdn.pydata.org/bokeh/release/bokeh-widgets-1.1.0.min.css\", \"https://cdn.pydata.org/bokeh/release/bokeh-tables-1.1.0.min.css\"];\n",
       "\n",
       "  var inline_js = [\n",
       "    function(Bokeh) {\n",
       "      Bokeh.set_log_level(\"info\");\n",
       "    },\n",
       "    \n",
       "    function(Bokeh) {\n",
       "      \n",
       "    },\n",
       "    function(Bokeh) {} // ensure no trailing comma for IE\n",
       "  ];\n",
       "\n",
       "  function run_inline_js() {\n",
       "    \n",
       "    if ((root.Bokeh !== undefined) || (force === true)) {\n",
       "      for (var i = 0; i < inline_js.length; i++) {\n",
       "        inline_js[i].call(root, root.Bokeh);\n",
       "      }if (force === true) {\n",
       "        display_loaded();\n",
       "      }} else if (Date.now() < root._bokeh_timeout) {\n",
       "      setTimeout(run_inline_js, 100);\n",
       "    } else if (!root._bokeh_failed_load) {\n",
       "      console.log(\"Bokeh: BokehJS failed to load within specified timeout.\");\n",
       "      root._bokeh_failed_load = true;\n",
       "    } else if (force !== true) {\n",
       "      var cell = $(document.getElementById(\"6097\")).parents('.cell').data().cell;\n",
       "      cell.output_area.append_execute_result(NB_LOAD_WARNING)\n",
       "    }\n",
       "\n",
       "  }\n",
       "\n",
       "  if (root._bokeh_is_loading === 0) {\n",
       "    console.debug(\"Bokeh: BokehJS loaded, going straight to plotting\");\n",
       "    run_inline_js();\n",
       "  } else {\n",
       "    load_libs(css_urls, js_urls, function() {\n",
       "      console.debug(\"Bokeh: BokehJS plotting callback run at\", now());\n",
       "      run_inline_js();\n",
       "    });\n",
       "  }\n",
       "}(window));"
      ],
      "application/vnd.bokehjs_load.v0+json": "\n(function(root) {\n  function now() {\n    return new Date();\n  }\n\n  var force = true;\n\n  if (typeof root._bokeh_onload_callbacks === \"undefined\" || force === true) {\n    root._bokeh_onload_callbacks = [];\n    root._bokeh_is_loading = undefined;\n  }\n\n  \n\n  \n  if (typeof (root._bokeh_timeout) === \"undefined\" || force === true) {\n    root._bokeh_timeout = Date.now() + 5000;\n    root._bokeh_failed_load = false;\n  }\n\n  var NB_LOAD_WARNING = {'data': {'text/html':\n     \"<div style='background-color: #fdd'>\\n\"+\n     \"<p>\\n\"+\n     \"BokehJS does not appear to have successfully loaded. If loading BokehJS from CDN, this \\n\"+\n     \"may be due to a slow or bad network connection. Possible fixes:\\n\"+\n     \"</p>\\n\"+\n     \"<ul>\\n\"+\n     \"<li>re-rerun `output_notebook()` to attempt to load from CDN again, or</li>\\n\"+\n     \"<li>use INLINE resources instead, as so:</li>\\n\"+\n     \"</ul>\\n\"+\n     \"<code>\\n\"+\n     \"from bokeh.resources import INLINE\\n\"+\n     \"output_notebook(resources=INLINE)\\n\"+\n     \"</code>\\n\"+\n     \"</div>\"}};\n\n  function display_loaded() {\n    var el = document.getElementById(\"6097\");\n    if (el != null) {\n      el.textContent = \"BokehJS is loading...\";\n    }\n    if (root.Bokeh !== undefined) {\n      if (el != null) {\n        el.textContent = \"BokehJS \" + root.Bokeh.version + \" successfully loaded.\";\n      }\n    } else if (Date.now() < root._bokeh_timeout) {\n      setTimeout(display_loaded, 100)\n    }\n  }\n\n\n  function run_callbacks() {\n    try {\n      root._bokeh_onload_callbacks.forEach(function(callback) {\n        if (callback != null)\n          callback();\n      });\n    } finally {\n      delete root._bokeh_onload_callbacks\n    }\n    console.debug(\"Bokeh: all callbacks have finished\");\n  }\n\n  function load_libs(css_urls, js_urls, callback) {\n    if (css_urls == null) css_urls = [];\n    if (js_urls == null) js_urls = [];\n\n    root._bokeh_onload_callbacks.push(callback);\n    if (root._bokeh_is_loading > 0) {\n      console.debug(\"Bokeh: BokehJS is being loaded, scheduling callback at\", now());\n      return null;\n    }\n    if (js_urls == null || js_urls.length === 0) {\n      run_callbacks();\n      return null;\n    }\n    console.debug(\"Bokeh: BokehJS not loaded, scheduling load and callback at\", now());\n    root._bokeh_is_loading = css_urls.length + js_urls.length;\n\n    function on_load() {\n      root._bokeh_is_loading--;\n      if (root._bokeh_is_loading === 0) {\n        console.debug(\"Bokeh: all BokehJS libraries/stylesheets loaded\");\n        run_callbacks()\n      }\n    }\n\n    function on_error() {\n      console.error(\"failed to load \" + url);\n    }\n\n    for (var i = 0; i < css_urls.length; i++) {\n      var url = css_urls[i];\n      const element = document.createElement(\"link\");\n      element.onload = on_load;\n      element.onerror = on_error;\n      element.rel = \"stylesheet\";\n      element.type = \"text/css\";\n      element.href = url;\n      console.debug(\"Bokeh: injecting link tag for BokehJS stylesheet: \", url);\n      document.body.appendChild(element);\n    }\n\n    for (var i = 0; i < js_urls.length; i++) {\n      var url = js_urls[i];\n      var element = document.createElement('script');\n      element.onload = on_load;\n      element.onerror = on_error;\n      element.async = false;\n      element.src = url;\n      console.debug(\"Bokeh: injecting script tag for BokehJS library: \", url);\n      document.head.appendChild(element);\n    }\n  };var element = document.getElementById(\"6097\");\n  if (element == null) {\n    console.error(\"Bokeh: ERROR: autoload.js configured with elementid '6097' but no matching script tag was found. \")\n    return false;\n  }\n\n  function inject_raw_css(css) {\n    const element = document.createElement(\"style\");\n    element.appendChild(document.createTextNode(css));\n    document.body.appendChild(element);\n  }\n\n  var js_urls = [\"https://cdn.pydata.org/bokeh/release/bokeh-1.1.0.min.js\", \"https://cdn.pydata.org/bokeh/release/bokeh-widgets-1.1.0.min.js\", \"https://cdn.pydata.org/bokeh/release/bokeh-tables-1.1.0.min.js\", \"https://cdn.pydata.org/bokeh/release/bokeh-gl-1.1.0.min.js\"];\n  var css_urls = [\"https://cdn.pydata.org/bokeh/release/bokeh-1.1.0.min.css\", \"https://cdn.pydata.org/bokeh/release/bokeh-widgets-1.1.0.min.css\", \"https://cdn.pydata.org/bokeh/release/bokeh-tables-1.1.0.min.css\"];\n\n  var inline_js = [\n    function(Bokeh) {\n      Bokeh.set_log_level(\"info\");\n    },\n    \n    function(Bokeh) {\n      \n    },\n    function(Bokeh) {} // ensure no trailing comma for IE\n  ];\n\n  function run_inline_js() {\n    \n    if ((root.Bokeh !== undefined) || (force === true)) {\n      for (var i = 0; i < inline_js.length; i++) {\n        inline_js[i].call(root, root.Bokeh);\n      }if (force === true) {\n        display_loaded();\n      }} else if (Date.now() < root._bokeh_timeout) {\n      setTimeout(run_inline_js, 100);\n    } else if (!root._bokeh_failed_load) {\n      console.log(\"Bokeh: BokehJS failed to load within specified timeout.\");\n      root._bokeh_failed_load = true;\n    } else if (force !== true) {\n      var cell = $(document.getElementById(\"6097\")).parents('.cell').data().cell;\n      cell.output_area.append_execute_result(NB_LOAD_WARNING)\n    }\n\n  }\n\n  if (root._bokeh_is_loading === 0) {\n    console.debug(\"Bokeh: BokehJS loaded, going straight to plotting\");\n    run_inline_js();\n  } else {\n    load_libs(css_urls, js_urls, function() {\n      console.debug(\"Bokeh: BokehJS plotting callback run at\", now());\n      run_inline_js();\n    });\n  }\n}(window));"
     },
     "metadata": {},
     "output_type": "display_data"
    }
   ],
   "source": [
    "import bokeh\n",
    "import bokeh.plotting\n",
    "bokeh.plotting.output_notebook()"
   ]
  },
  {
   "cell_type": "markdown",
   "metadata": {},
   "source": [
    "Select the data we want to plot from the dataframe:"
   ]
  },
  {
   "cell_type": "code",
   "execution_count": 80,
   "metadata": {},
   "outputs": [
    {
     "data": {
      "text/plain": [
       "country_code\n",
       "DE    82.792351\n",
       "FR    66.926166\n",
       "GB    66.273576\n",
       "Name: population, dtype: float64"
      ]
     },
     "execution_count": 80,
     "metadata": {},
     "output_type": "execute_result"
    }
   ],
   "source": [
    "# Select the population, in millions, per country\n",
    "population = (df['population'] / 1_000_000).sort_values(ascending=False)\n",
    "population.head(3)"
   ]
  },
  {
   "cell_type": "code",
   "execution_count": 81,
   "metadata": {},
   "outputs": [
    {
     "data": {
      "text/html": [
       "\n",
       "\n",
       "\n",
       "\n",
       "\n",
       "\n",
       "  <div class=\"bk-root\" id=\"06f76610-be61-409c-a2bc-58f3d8ecce2a\" data-root-id=\"6098\"></div>\n"
      ]
     },
     "metadata": {},
     "output_type": "display_data"
    },
    {
     "data": {
      "application/javascript": [
       "(function(root) {\n",
       "  function embed_document(root) {\n",
       "    \n",
       "  var docs_json = {\"57a42d23-6e4a-487f-9c4f-33731d5c06e8\":{\"roots\":{\"references\":[{\"attributes\":{\"below\":[{\"id\":\"6109\",\"type\":\"CategoricalAxis\"}],\"center\":[{\"id\":\"6112\",\"type\":\"Grid\"},{\"id\":\"6117\",\"type\":\"Grid\"}],\"left\":[{\"id\":\"6113\",\"type\":\"LinearAxis\"}],\"renderers\":[{\"id\":\"6134\",\"type\":\"GlyphRenderer\"}],\"title\":{\"id\":\"6099\",\"type\":\"Title\"},\"toolbar\":{\"id\":\"6124\",\"type\":\"Toolbar\"},\"x_range\":{\"id\":\"6101\",\"type\":\"FactorRange\"},\"x_scale\":{\"id\":\"6105\",\"type\":\"CategoricalScale\"},\"y_range\":{\"id\":\"6103\",\"type\":\"DataRange1d\"},\"y_scale\":{\"id\":\"6107\",\"type\":\"LinearScale\"}},\"id\":\"6098\",\"subtype\":\"Figure\",\"type\":\"Plot\"},{\"attributes\":{\"bottom_units\":\"screen\",\"fill_alpha\":{\"value\":0.5},\"fill_color\":{\"value\":\"lightgrey\"},\"left_units\":\"screen\",\"level\":\"overlay\",\"line_alpha\":{\"value\":1.0},\"line_color\":{\"value\":\"black\"},\"line_dash\":[4,4],\"line_width\":{\"value\":2},\"render_mode\":\"css\",\"right_units\":\"screen\",\"top_units\":\"screen\"},\"id\":\"6331\",\"type\":\"BoxAnnotation\"},{\"attributes\":{},\"id\":\"6110\",\"type\":\"CategoricalTicker\"},{\"attributes\":{\"fill_color\":{\"value\":\"#1f77b4\"},\"line_color\":{\"value\":\"#1f77b4\"},\"top\":{\"field\":\"top\"},\"width\":{\"value\":0.8},\"x\":{\"field\":\"x\"}},\"id\":\"6132\",\"type\":\"VBar\"},{\"attributes\":{},\"id\":\"6107\",\"type\":\"LinearScale\"},{\"attributes\":{},\"id\":\"6118\",\"type\":\"PanTool\"},{\"attributes\":{},\"id\":\"6114\",\"type\":\"BasicTicker\"},{\"attributes\":{\"axis_label\":\"country code\",\"formatter\":{\"id\":\"6330\",\"type\":\"CategoricalTickFormatter\"},\"ticker\":{\"id\":\"6110\",\"type\":\"CategoricalTicker\"}},\"id\":\"6109\",\"type\":\"CategoricalAxis\"},{\"attributes\":{\"callback\":null},\"id\":\"6103\",\"type\":\"DataRange1d\"},{\"attributes\":{},\"id\":\"6105\",\"type\":\"CategoricalScale\"},{\"attributes\":{\"active_drag\":\"auto\",\"active_inspect\":\"auto\",\"active_multi\":null,\"active_scroll\":\"auto\",\"active_tap\":\"auto\",\"tools\":[{\"id\":\"6118\",\"type\":\"PanTool\"},{\"id\":\"6119\",\"type\":\"WheelZoomTool\"},{\"id\":\"6120\",\"type\":\"BoxZoomTool\"},{\"id\":\"6121\",\"type\":\"SaveTool\"},{\"id\":\"6122\",\"type\":\"ResetTool\"},{\"id\":\"6123\",\"type\":\"HelpTool\"}]},\"id\":\"6124\",\"type\":\"Toolbar\"},{\"attributes\":{},\"id\":\"6330\",\"type\":\"CategoricalTickFormatter\"},{\"attributes\":{\"data_source\":{\"id\":\"6131\",\"type\":\"ColumnDataSource\"},\"glyph\":{\"id\":\"6132\",\"type\":\"VBar\"},\"hover_glyph\":null,\"muted_glyph\":null,\"nonselection_glyph\":{\"id\":\"6133\",\"type\":\"VBar\"},\"selection_glyph\":null,\"view\":{\"id\":\"6135\",\"type\":\"CDSView\"}},\"id\":\"6134\",\"type\":\"GlyphRenderer\"},{\"attributes\":{\"dimension\":1,\"ticker\":{\"id\":\"6114\",\"type\":\"BasicTicker\"}},\"id\":\"6117\",\"type\":\"Grid\"},{\"attributes\":{\"callback\":null,\"data\":{\"top\":{\"__ndarray__\":\"/Pz34LWyVECyKsJNRrtQQB0+6USCkVBA0ZLH0/I9TkAdk8X9R1RHQNS2YRQE/UJAaD7nbteHM0Aw1GGFWy4xQDcXf9sTzCZAM+GX+nl7JUDGhQMhWTglQIiBrn0BlSRAFTYDXJA9JEBET8qkho4jQPooIy4ApSFAlMDmHDwzHEBV2XdF8B8XQMxiYvNxDRZAaNDQP8HFFUCscMtHUlITQOXTY1sGbBBAE51lFqF4BkBFDaZh+IgAQGEb8WQ38/4/nDBhNCsb9T/Q04BB0qfrP0/pYP2fQ+M/8Sprm+Jx3j8=\",\"dtype\":\"float64\",\"shape\":[28]},\"x\":[\"DE\",\"FR\",\"GB\",\"IT\",\"ES\",\"PL\",\"RO\",\"NL\",\"BE\",\"EL\",\"CZ\",\"PT\",\"SE\",\"HU\",\"AT\",\"BG\",\"DK\",\"FI\",\"SK\",\"IE\",\"HR\",\"LT\",\"SI\",\"LV\",\"EE\",\"CY\",\"LU\",\"MT\"]},\"selected\":{\"id\":\"6332\",\"type\":\"Selection\"},\"selection_policy\":{\"id\":\"6333\",\"type\":\"UnionRenderers\"}},\"id\":\"6131\",\"type\":\"ColumnDataSource\"},{\"attributes\":{},\"id\":\"6328\",\"type\":\"BasicTickFormatter\"},{\"attributes\":{},\"id\":\"6122\",\"type\":\"ResetTool\"},{\"attributes\":{},\"id\":\"6333\",\"type\":\"UnionRenderers\"},{\"attributes\":{\"callback\":null,\"factors\":[\"DE\",\"FR\",\"GB\",\"IT\",\"ES\",\"PL\",\"RO\",\"NL\",\"BE\",\"EL\",\"CZ\",\"PT\",\"SE\",\"HU\",\"AT\",\"BG\",\"DK\",\"FI\",\"SK\",\"IE\",\"HR\",\"LT\",\"SI\",\"LV\",\"EE\",\"CY\",\"LU\",\"MT\"]},\"id\":\"6101\",\"type\":\"FactorRange\"},{\"attributes\":{},\"id\":\"6332\",\"type\":\"Selection\"},{\"attributes\":{\"source\":{\"id\":\"6131\",\"type\":\"ColumnDataSource\"}},\"id\":\"6135\",\"type\":\"CDSView\"},{\"attributes\":{},\"id\":\"6123\",\"type\":\"HelpTool\"},{\"attributes\":{},\"id\":\"6119\",\"type\":\"WheelZoomTool\"},{\"attributes\":{\"overlay\":{\"id\":\"6331\",\"type\":\"BoxAnnotation\"}},\"id\":\"6120\",\"type\":\"BoxZoomTool\"},{\"attributes\":{},\"id\":\"6121\",\"type\":\"SaveTool\"},{\"attributes\":{\"ticker\":{\"id\":\"6110\",\"type\":\"CategoricalTicker\"}},\"id\":\"6112\",\"type\":\"Grid\"},{\"attributes\":{\"axis_label\":\"millions\",\"formatter\":{\"id\":\"6328\",\"type\":\"BasicTickFormatter\"},\"ticker\":{\"id\":\"6114\",\"type\":\"BasicTicker\"}},\"id\":\"6113\",\"type\":\"LinearAxis\"},{\"attributes\":{\"text\":\"EU members population\"},\"id\":\"6099\",\"type\":\"Title\"},{\"attributes\":{\"fill_alpha\":{\"value\":0.1},\"fill_color\":{\"value\":\"#1f77b4\"},\"line_alpha\":{\"value\":0.1},\"line_color\":{\"value\":\"#1f77b4\"},\"top\":{\"field\":\"top\"},\"width\":{\"value\":0.8},\"x\":{\"field\":\"x\"}},\"id\":\"6133\",\"type\":\"VBar\"}],\"root_ids\":[\"6098\"]},\"title\":\"Bokeh Application\",\"version\":\"1.1.0\"}};\n",
       "  var render_items = [{\"docid\":\"57a42d23-6e4a-487f-9c4f-33731d5c06e8\",\"roots\":{\"6098\":\"06f76610-be61-409c-a2bc-58f3d8ecce2a\"}}];\n",
       "  root.Bokeh.embed.embed_items_notebook(docs_json, render_items);\n",
       "\n",
       "  }\n",
       "  if (root.Bokeh !== undefined) {\n",
       "    embed_document(root);\n",
       "  } else {\n",
       "    var attempts = 0;\n",
       "    var timer = setInterval(function(root) {\n",
       "      if (root.Bokeh !== undefined) {\n",
       "        embed_document(root);\n",
       "        clearInterval(timer);\n",
       "      }\n",
       "      attempts++;\n",
       "      if (attempts > 100) {\n",
       "        console.log(\"Bokeh: ERROR: Unable to run BokehJS code because BokehJS library is missing\");\n",
       "        clearInterval(timer);\n",
       "      }\n",
       "    }, 10, root)\n",
       "  }\n",
       "})(window);"
      ],
      "application/vnd.bokehjs_exec.v0+json": ""
     },
     "metadata": {
      "application/vnd.bokehjs_exec.v0+json": {
       "id": "6098"
      }
     },
     "output_type": "display_data"
    }
   ],
   "source": [
    "fig1 = bokeh.plotting.figure(\n",
    "    title = 'EU members population',\n",
    "    x_axis_label = 'country code',\n",
    "    y_axis_label = 'millions',\n",
    "    x_range = population.index.values,\n",
    ")\n",
    "fig1.vbar(x=population.index.values, top=population.get_values(), width=0.8)\n",
    "bokeh.plotting.show(fig1)"
   ]
  },
  {
   "cell_type": "markdown",
   "metadata": {},
   "source": [
    "Improve the visual attributes of the figure:"
   ]
  },
  {
   "cell_type": "code",
   "execution_count": 82,
   "metadata": {},
   "outputs": [
    {
     "data": {
      "text/html": [
       "\n",
       "\n",
       "\n",
       "\n",
       "\n",
       "\n",
       "  <div class=\"bk-root\" id=\"5b100f87-770a-4b7e-a245-67dbb6dc8bb2\" data-root-id=\"6382\"></div>\n"
      ]
     },
     "metadata": {},
     "output_type": "display_data"
    },
    {
     "data": {
      "application/javascript": [
       "(function(root) {\n",
       "  function embed_document(root) {\n",
       "    \n",
       "  var docs_json = {\"2bed2186-66ac-4f1b-a02f-464ac0917ac3\":{\"roots\":{\"references\":[{\"attributes\":{\"background_fill_alpha\":{\"value\":0.8},\"background_fill_color\":{\"value\":\"whitesmoke\"},\"below\":[{\"id\":\"6393\",\"type\":\"CategoricalAxis\"}],\"center\":[{\"id\":\"6396\",\"type\":\"Grid\"},{\"id\":\"6401\",\"type\":\"Grid\"}],\"left\":[{\"id\":\"6397\",\"type\":\"LinearAxis\"}],\"plot_width\":800,\"renderers\":[{\"id\":\"6419\",\"type\":\"GlyphRenderer\"}],\"title\":{\"id\":\"6383\",\"type\":\"Title\"},\"toolbar\":{\"id\":\"6408\",\"type\":\"Toolbar\"},\"x_range\":{\"id\":\"6385\",\"type\":\"FactorRange\"},\"x_scale\":{\"id\":\"6389\",\"type\":\"CategoricalScale\"},\"y_range\":{\"id\":\"6387\",\"type\":\"DataRange1d\"},\"y_scale\":{\"id\":\"6391\",\"type\":\"LinearScale\"}},\"id\":\"6382\",\"subtype\":\"Figure\",\"type\":\"Plot\"},{\"attributes\":{\"overlay\":{\"id\":\"6624\",\"type\":\"BoxAnnotation\"}},\"id\":\"6404\",\"type\":\"BoxZoomTool\"},{\"attributes\":{\"callback\":null,\"data\":{\"top\":{\"__ndarray__\":\"/Pz34LWyVECyKsJNRrtQQB0+6USCkVBA0ZLH0/I9TkAdk8X9R1RHQNS2YRQE/UJAaD7nbteHM0Aw1GGFWy4xQDcXf9sTzCZAM+GX+nl7JUDGhQMhWTglQIiBrn0BlSRAFTYDXJA9JEBET8qkho4jQPooIy4ApSFAlMDmHDwzHEBV2XdF8B8XQMxiYvNxDRZAaNDQP8HFFUCscMtHUlITQOXTY1sGbBBAE51lFqF4BkBFDaZh+IgAQGEb8WQ38/4/nDBhNCsb9T/Q04BB0qfrP0/pYP2fQ+M/8Sprm+Jx3j8=\",\"dtype\":\"float64\",\"shape\":[28]},\"x\":[\"DE\",\"FR\",\"GB\",\"IT\",\"ES\",\"PL\",\"RO\",\"NL\",\"BE\",\"EL\",\"CZ\",\"PT\",\"SE\",\"HU\",\"AT\",\"BG\",\"DK\",\"FI\",\"SK\",\"IE\",\"HR\",\"LT\",\"SI\",\"LV\",\"EE\",\"CY\",\"LU\",\"MT\"]},\"selected\":{\"id\":\"6625\",\"type\":\"Selection\"},\"selection_policy\":{\"id\":\"6626\",\"type\":\"UnionRenderers\"}},\"id\":\"6416\",\"type\":\"ColumnDataSource\"},{\"attributes\":{},\"id\":\"6405\",\"type\":\"SaveTool\"},{\"attributes\":{},\"id\":\"6406\",\"type\":\"ResetTool\"},{\"attributes\":{\"text\":\"EU members population\"},\"id\":\"6383\",\"type\":\"Title\"},{\"attributes\":{},\"id\":\"6407\",\"type\":\"HelpTool\"},{\"attributes\":{\"callback\":null,\"factors\":[\"DE\",\"FR\",\"GB\",\"IT\",\"ES\",\"PL\",\"RO\",\"NL\",\"BE\",\"EL\",\"CZ\",\"PT\",\"SE\",\"HU\",\"AT\",\"BG\",\"DK\",\"FI\",\"SK\",\"IE\",\"HR\",\"LT\",\"SI\",\"LV\",\"EE\",\"CY\",\"LU\",\"MT\"]},\"id\":\"6385\",\"type\":\"FactorRange\"},{\"attributes\":{\"active_drag\":\"auto\",\"active_inspect\":\"auto\",\"active_multi\":null,\"active_scroll\":\"auto\",\"active_tap\":\"auto\",\"autohide\":true,\"tools\":[{\"id\":\"6402\",\"type\":\"PanTool\"},{\"id\":\"6403\",\"type\":\"WheelZoomTool\"},{\"id\":\"6404\",\"type\":\"BoxZoomTool\"},{\"id\":\"6405\",\"type\":\"SaveTool\"},{\"id\":\"6406\",\"type\":\"ResetTool\"},{\"id\":\"6407\",\"type\":\"HelpTool\"}]},\"id\":\"6408\",\"type\":\"Toolbar\"},{\"attributes\":{\"data_source\":{\"id\":\"6416\",\"type\":\"ColumnDataSource\"},\"glyph\":{\"id\":\"6417\",\"type\":\"VBar\"},\"hover_glyph\":null,\"muted_glyph\":null,\"nonselection_glyph\":{\"id\":\"6418\",\"type\":\"VBar\"},\"selection_glyph\":null,\"view\":{\"id\":\"6420\",\"type\":\"CDSView\"}},\"id\":\"6419\",\"type\":\"GlyphRenderer\"},{\"attributes\":{\"callback\":null},\"id\":\"6387\",\"type\":\"DataRange1d\"},{\"attributes\":{},\"id\":\"6623\",\"type\":\"CategoricalTickFormatter\"},{\"attributes\":{},\"id\":\"6389\",\"type\":\"CategoricalScale\"},{\"attributes\":{},\"id\":\"6621\",\"type\":\"BasicTickFormatter\"},{\"attributes\":{},\"id\":\"6391\",\"type\":\"LinearScale\"},{\"attributes\":{\"source\":{\"id\":\"6416\",\"type\":\"ColumnDataSource\"}},\"id\":\"6420\",\"type\":\"CDSView\"},{\"attributes\":{\"axis_label\":\"country code\",\"formatter\":{\"id\":\"6623\",\"type\":\"CategoricalTickFormatter\"},\"ticker\":{\"id\":\"6394\",\"type\":\"CategoricalTicker\"}},\"id\":\"6393\",\"type\":\"CategoricalAxis\"},{\"attributes\":{},\"id\":\"6394\",\"type\":\"CategoricalTicker\"},{\"attributes\":{\"grid_line_color\":{\"value\":null},\"ticker\":{\"id\":\"6394\",\"type\":\"CategoricalTicker\"}},\"id\":\"6396\",\"type\":\"Grid\"},{\"attributes\":{\"bottom_units\":\"screen\",\"fill_alpha\":{\"value\":0.5},\"fill_color\":{\"value\":\"lightgrey\"},\"left_units\":\"screen\",\"level\":\"overlay\",\"line_alpha\":{\"value\":1.0},\"line_color\":{\"value\":\"black\"},\"line_dash\":[4,4],\"line_width\":{\"value\":2},\"render_mode\":\"css\",\"right_units\":\"screen\",\"top_units\":\"screen\"},\"id\":\"6624\",\"type\":\"BoxAnnotation\"},{\"attributes\":{\"axis_label\":\"millions\",\"formatter\":{\"id\":\"6621\",\"type\":\"BasicTickFormatter\"},\"ticker\":{\"id\":\"6398\",\"type\":\"BasicTicker\"}},\"id\":\"6397\",\"type\":\"LinearAxis\"},{\"attributes\":{},\"id\":\"6625\",\"type\":\"Selection\"},{\"attributes\":{},\"id\":\"6398\",\"type\":\"BasicTicker\"},{\"attributes\":{},\"id\":\"6626\",\"type\":\"UnionRenderers\"},{\"attributes\":{\"dimension\":1,\"ticker\":{\"id\":\"6398\",\"type\":\"BasicTicker\"}},\"id\":\"6401\",\"type\":\"Grid\"},{\"attributes\":{\"fill_alpha\":{\"value\":0.1},\"fill_color\":{\"value\":\"#1f77b4\"},\"line_alpha\":{\"value\":0.1},\"line_color\":{\"value\":\"#1f77b4\"},\"top\":{\"field\":\"top\"},\"width\":{\"value\":0.8},\"x\":{\"field\":\"x\"}},\"id\":\"6418\",\"type\":\"VBar\"},{\"attributes\":{\"fill_alpha\":{\"value\":0.6},\"fill_color\":{\"value\":\"#1f77b4\"},\"line_alpha\":{\"value\":0.6},\"line_color\":{\"value\":\"#1f77b4\"},\"top\":{\"field\":\"top\"},\"width\":{\"value\":0.8},\"x\":{\"field\":\"x\"}},\"id\":\"6417\",\"type\":\"VBar\"},{\"attributes\":{},\"id\":\"6402\",\"type\":\"PanTool\"},{\"attributes\":{},\"id\":\"6403\",\"type\":\"WheelZoomTool\"}],\"root_ids\":[\"6382\"]},\"title\":\"Bokeh Application\",\"version\":\"1.1.0\"}};\n",
       "  var render_items = [{\"docid\":\"2bed2186-66ac-4f1b-a02f-464ac0917ac3\",\"roots\":{\"6382\":\"5b100f87-770a-4b7e-a245-67dbb6dc8bb2\"}}];\n",
       "  root.Bokeh.embed.embed_items_notebook(docs_json, render_items);\n",
       "\n",
       "  }\n",
       "  if (root.Bokeh !== undefined) {\n",
       "    embed_document(root);\n",
       "  } else {\n",
       "    var attempts = 0;\n",
       "    var timer = setInterval(function(root) {\n",
       "      if (root.Bokeh !== undefined) {\n",
       "        embed_document(root);\n",
       "        clearInterval(timer);\n",
       "      }\n",
       "      attempts++;\n",
       "      if (attempts > 100) {\n",
       "        console.log(\"Bokeh: ERROR: Unable to run BokehJS code because BokehJS library is missing\");\n",
       "        clearInterval(timer);\n",
       "      }\n",
       "    }, 10, root)\n",
       "  }\n",
       "})(window);"
      ],
      "application/vnd.bokehjs_exec.v0+json": ""
     },
     "metadata": {
      "application/vnd.bokehjs_exec.v0+json": {
       "id": "6382"
      }
     },
     "output_type": "display_data"
    }
   ],
   "source": [
    "fig2 = bokeh.plotting.figure(\n",
    "    title = 'EU members population',\n",
    "    x_axis_label = 'country code',\n",
    "    y_axis_label = 'millions',\n",
    "    x_range = population.index.values,\n",
    "    plot_width = 800,\n",
    "    plot_height = 600,\n",
    "    background_fill_color = 'whitesmoke',\n",
    "    background_fill_alpha = 0.8,\n",
    ")\n",
    "fig2.xgrid.grid_line_color = None\n",
    "fig2.toolbar.autohide = True\n",
    "fig2.vbar(x=population.index.values, top=population.get_values(), width=0.8, alpha=0.6)\n",
    "bokeh.plotting.show(fig2)"
   ]
  },
  {
   "cell_type": "markdown",
   "metadata": {},
   "source": [
    "Now add some interactivity to the figure:"
   ]
  },
  {
   "cell_type": "code",
   "execution_count": 83,
   "metadata": {},
   "outputs": [
    {
     "data": {
      "text/html": [
       "\n",
       "\n",
       "\n",
       "\n",
       "\n",
       "\n",
       "  <div class=\"bk-root\" id=\"25540aa4-0283-4760-96ef-a3d5ec6c1a68\" data-root-id=\"6676\"></div>\n"
      ]
     },
     "metadata": {},
     "output_type": "display_data"
    },
    {
     "data": {
      "application/javascript": [
       "(function(root) {\n",
       "  function embed_document(root) {\n",
       "    \n",
       "  var docs_json = {\"904644ed-ac28-469a-a97a-82b463e66fa2\":{\"roots\":{\"references\":[{\"attributes\":{\"background_fill_alpha\":{\"value\":0.8},\"background_fill_color\":{\"value\":\"whitesmoke\"},\"below\":[{\"id\":\"6687\",\"type\":\"CategoricalAxis\"}],\"center\":[{\"id\":\"6690\",\"type\":\"Grid\"},{\"id\":\"6695\",\"type\":\"Grid\"}],\"left\":[{\"id\":\"6691\",\"type\":\"LinearAxis\"}],\"plot_width\":800,\"renderers\":[{\"id\":\"6715\",\"type\":\"GlyphRenderer\"}],\"title\":{\"id\":\"6677\",\"type\":\"Title\"},\"toolbar\":{\"id\":\"6702\",\"type\":\"Toolbar\"},\"x_range\":{\"id\":\"6679\",\"type\":\"FactorRange\"},\"x_scale\":{\"id\":\"6683\",\"type\":\"CategoricalScale\"},\"y_range\":{\"id\":\"6681\",\"type\":\"DataRange1d\"},\"y_scale\":{\"id\":\"6685\",\"type\":\"LinearScale\"}},\"id\":\"6676\",\"subtype\":\"Figure\",\"type\":\"Plot\"},{\"attributes\":{\"fill_alpha\":{\"value\":0.6},\"fill_color\":{\"value\":\"LightSeaGreen\"},\"line_alpha\":{\"value\":0.6},\"line_color\":{\"value\":\"LightSeaGreen\"},\"top\":{\"field\":\"country_population\"},\"width\":{\"value\":0.8},\"x\":{\"field\":\"country_code\"}},\"id\":\"6713\",\"type\":\"VBar\"},{\"attributes\":{},\"id\":\"6696\",\"type\":\"PanTool\"},{\"attributes\":{\"callback\":null,\"tooltips\":[[\"country\",\"@country_name\"],[\"population\",\"@country_population{0.1f}m\"]]},\"id\":\"6710\",\"type\":\"HoverTool\"},{\"attributes\":{},\"id\":\"6697\",\"type\":\"WheelZoomTool\"},{\"attributes\":{\"overlay\":{\"id\":\"6928\",\"type\":\"BoxAnnotation\"}},\"id\":\"6698\",\"type\":\"BoxZoomTool\"},{\"attributes\":{\"callback\":null,\"data\":{\"country_code\":[\"DE\",\"FR\",\"GB\",\"IT\",\"ES\",\"PL\",\"RO\",\"NL\",\"BE\",\"EL\",\"CZ\",\"PT\",\"SE\",\"HU\",\"AT\",\"BG\",\"DK\",\"FI\",\"SK\",\"IE\",\"HR\",\"LT\",\"SI\",\"LV\",\"EE\",\"CY\",\"LU\",\"MT\"],\"country_name\":[\"Germany\",\"France\",\"United Kingdom\",\"Italy\",\"Spain\",\"Poland\",\"Romania\",\"Netherlands\",\"Belgium\",\"Greece\",\"Czechia\",\"Portugal\",\"Sweden\",\"Hungary\",\"Austria\",\"Bulgaria\",\"Denmark\",\"Finland\",\"Slovakia\",\"Ireland\",\"Croatia\",\"Lithuania\",\"Slovenia\",\"Latvia\",\"Estonia\",\"Cyprus\",\"Luxembourg\",\"Malta\"],\"country_population\":{\"__ndarray__\":\"/Pz34LWyVECyKsJNRrtQQB0+6USCkVBA0ZLH0/I9TkAdk8X9R1RHQNS2YRQE/UJAaD7nbteHM0Aw1GGFWy4xQDcXf9sTzCZAM+GX+nl7JUDGhQMhWTglQIiBrn0BlSRAFTYDXJA9JEBET8qkho4jQPooIy4ApSFAlMDmHDwzHEBV2XdF8B8XQMxiYvNxDRZAaNDQP8HFFUCscMtHUlITQOXTY1sGbBBAE51lFqF4BkBFDaZh+IgAQGEb8WQ38/4/nDBhNCsb9T/Q04BB0qfrP0/pYP2fQ+M/8Sprm+Jx3j8=\",\"dtype\":\"float64\",\"shape\":[28]}},\"selected\":{\"id\":\"6929\",\"type\":\"Selection\"},\"selection_policy\":{\"id\":\"6930\",\"type\":\"UnionRenderers\"}},\"id\":\"6675\",\"type\":\"ColumnDataSource\"},{\"attributes\":{},\"id\":\"6699\",\"type\":\"SaveTool\"},{\"attributes\":{},\"id\":\"6700\",\"type\":\"ResetTool\"},{\"attributes\":{\"text\":\"EU members population\"},\"id\":\"6677\",\"type\":\"Title\"},{\"attributes\":{},\"id\":\"6701\",\"type\":\"HelpTool\"},{\"attributes\":{\"callback\":null,\"factors\":[\"DE\",\"FR\",\"GB\",\"IT\",\"ES\",\"PL\",\"RO\",\"NL\",\"BE\",\"EL\",\"CZ\",\"PT\",\"SE\",\"HU\",\"AT\",\"BG\",\"DK\",\"FI\",\"SK\",\"IE\",\"HR\",\"LT\",\"SI\",\"LV\",\"EE\",\"CY\",\"LU\",\"MT\"]},\"id\":\"6679\",\"type\":\"FactorRange\"},{\"attributes\":{\"active_drag\":\"auto\",\"active_inspect\":\"auto\",\"active_multi\":null,\"active_scroll\":\"auto\",\"active_tap\":\"auto\",\"autohide\":true,\"tools\":[{\"id\":\"6696\",\"type\":\"PanTool\"},{\"id\":\"6697\",\"type\":\"WheelZoomTool\"},{\"id\":\"6698\",\"type\":\"BoxZoomTool\"},{\"id\":\"6699\",\"type\":\"SaveTool\"},{\"id\":\"6700\",\"type\":\"ResetTool\"},{\"id\":\"6701\",\"type\":\"HelpTool\"},{\"id\":\"6710\",\"type\":\"HoverTool\"}]},\"id\":\"6702\",\"type\":\"Toolbar\"},{\"attributes\":{\"callback\":null},\"id\":\"6681\",\"type\":\"DataRange1d\"},{\"attributes\":{\"fill_alpha\":{\"value\":0.1},\"fill_color\":{\"value\":\"#1f77b4\"},\"line_alpha\":{\"value\":0.1},\"line_color\":{\"value\":\"#1f77b4\"},\"top\":{\"field\":\"country_population\"},\"width\":{\"value\":0.8},\"x\":{\"field\":\"country_code\"}},\"id\":\"6714\",\"type\":\"VBar\"},{\"attributes\":{},\"id\":\"6683\",\"type\":\"CategoricalScale\"},{\"attributes\":{\"data_source\":{\"id\":\"6675\",\"type\":\"ColumnDataSource\"},\"glyph\":{\"id\":\"6713\",\"type\":\"VBar\"},\"hover_glyph\":null,\"muted_glyph\":null,\"nonselection_glyph\":{\"id\":\"6714\",\"type\":\"VBar\"},\"selection_glyph\":null,\"view\":{\"id\":\"6716\",\"type\":\"CDSView\"}},\"id\":\"6715\",\"type\":\"GlyphRenderer\"},{\"attributes\":{},\"id\":\"6685\",\"type\":\"LinearScale\"},{\"attributes\":{\"source\":{\"id\":\"6675\",\"type\":\"ColumnDataSource\"}},\"id\":\"6716\",\"type\":\"CDSView\"},{\"attributes\":{\"axis_label\":\"country code\",\"formatter\":{\"id\":\"6927\",\"type\":\"CategoricalTickFormatter\"},\"ticker\":{\"id\":\"6688\",\"type\":\"CategoricalTicker\"}},\"id\":\"6687\",\"type\":\"CategoricalAxis\"},{\"attributes\":{},\"id\":\"6688\",\"type\":\"CategoricalTicker\"},{\"attributes\":{\"grid_line_color\":{\"value\":null},\"ticker\":{\"id\":\"6688\",\"type\":\"CategoricalTicker\"}},\"id\":\"6690\",\"type\":\"Grid\"},{\"attributes\":{},\"id\":\"6925\",\"type\":\"BasicTickFormatter\"},{\"attributes\":{},\"id\":\"6927\",\"type\":\"CategoricalTickFormatter\"},{\"attributes\":{\"axis_label\":\"millions\",\"formatter\":{\"id\":\"6925\",\"type\":\"BasicTickFormatter\"},\"ticker\":{\"id\":\"6692\",\"type\":\"BasicTicker\"}},\"id\":\"6691\",\"type\":\"LinearAxis\"},{\"attributes\":{\"bottom_units\":\"screen\",\"fill_alpha\":{\"value\":0.5},\"fill_color\":{\"value\":\"lightgrey\"},\"left_units\":\"screen\",\"level\":\"overlay\",\"line_alpha\":{\"value\":1.0},\"line_color\":{\"value\":\"black\"},\"line_dash\":[4,4],\"line_width\":{\"value\":2},\"render_mode\":\"css\",\"right_units\":\"screen\",\"top_units\":\"screen\"},\"id\":\"6928\",\"type\":\"BoxAnnotation\"},{\"attributes\":{},\"id\":\"6692\",\"type\":\"BasicTicker\"},{\"attributes\":{},\"id\":\"6929\",\"type\":\"Selection\"},{\"attributes\":{\"dimension\":1,\"ticker\":{\"id\":\"6692\",\"type\":\"BasicTicker\"}},\"id\":\"6695\",\"type\":\"Grid\"},{\"attributes\":{},\"id\":\"6930\",\"type\":\"UnionRenderers\"}],\"root_ids\":[\"6676\"]},\"title\":\"Bokeh Application\",\"version\":\"1.1.0\"}};\n",
       "  var render_items = [{\"docid\":\"904644ed-ac28-469a-a97a-82b463e66fa2\",\"roots\":{\"6676\":\"25540aa4-0283-4760-96ef-a3d5ec6c1a68\"}}];\n",
       "  root.Bokeh.embed.embed_items_notebook(docs_json, render_items);\n",
       "\n",
       "  }\n",
       "  if (root.Bokeh !== undefined) {\n",
       "    embed_document(root);\n",
       "  } else {\n",
       "    var attempts = 0;\n",
       "    var timer = setInterval(function(root) {\n",
       "      if (root.Bokeh !== undefined) {\n",
       "        embed_document(root);\n",
       "        clearInterval(timer);\n",
       "      }\n",
       "      attempts++;\n",
       "      if (attempts > 100) {\n",
       "        console.log(\"Bokeh: ERROR: Unable to run BokehJS code because BokehJS library is missing\");\n",
       "        clearInterval(timer);\n",
       "      }\n",
       "    }, 10, root)\n",
       "  }\n",
       "})(window);"
      ],
      "application/vnd.bokehjs_exec.v0+json": ""
     },
     "metadata": {
      "application/vnd.bokehjs_exec.v0+json": {
       "id": "6676"
      }
     },
     "output_type": "display_data"
    }
   ],
   "source": [
    "data = bokeh.models.ColumnDataSource({\n",
    "    'country_code': population.index.values,\n",
    "    'country_name': df.loc[population.index.values, 'country'].values,\n",
    "    'country_population': population.get_values(),\n",
    "})\n",
    "\n",
    "fig3 = bokeh.plotting.figure(\n",
    "    title = 'EU members population',\n",
    "    x_axis_label = 'country code',\n",
    "    y_axis_label = 'millions',\n",
    "    x_range = population.index.values,\n",
    "    plot_width = 800,\n",
    "    plot_height = 600,\n",
    "    background_fill_color = 'whitesmoke',\n",
    "    background_fill_alpha = 0.8\n",
    ")\n",
    "fig3.xgrid.grid_line_color = None\n",
    "fig3.toolbar.autohide = True\n",
    "fig3.add_tools(bokeh.models.HoverTool(\n",
    "    tooltips = [\n",
    "        ('country', '@country_name'),\n",
    "        ('population', '@country_population{0.1f}m'),\n",
    "    ],\n",
    "    mode = 'mouse',\n",
    "))\n",
    "fig3.vbar(x='country_code', top='country_population', source=data, width=0.8, alpha=0.6, color='LightSeaGreen')\n",
    "\n",
    "bokeh.plotting.show(fig3)"
   ]
  },
  {
   "cell_type": "markdown",
   "metadata": {},
   "source": [
    "Another figure with additional customization: use the tooltips to present information not shown grapically"
   ]
  },
  {
   "cell_type": "code",
   "execution_count": 88,
   "metadata": {},
   "outputs": [
    {
     "data": {
      "text/plain": [
       "country_code\n",
       "DE    356409\n",
       "GB    284544\n",
       "IT    188330\n",
       "dtype: int64"
      ]
     },
     "execution_count": 88,
     "metadata": {},
     "output_type": "execute_result"
    }
   ],
   "source": [
    "# Net number of individuals who immigrated to each country\n",
    "net_immigration = (df['immigration'] - df['emigration']).sort_values(ascending=False)\n",
    "net_immigration.head(3)"
   ]
  },
  {
   "cell_type": "code",
   "execution_count": 89,
   "metadata": {},
   "outputs": [
    {
     "data": {
      "text/html": [
       "\n",
       "\n",
       "\n",
       "\n",
       "\n",
       "\n",
       "  <div class=\"bk-root\" id=\"141a23bc-4645-4e9b-99fb-8280c98ad24b\" data-root-id=\"7601\"></div>\n"
      ]
     },
     "metadata": {},
     "output_type": "display_data"
    },
    {
     "data": {
      "application/javascript": [
       "(function(root) {\n",
       "  function embed_document(root) {\n",
       "    \n",
       "  var docs_json = {\"7deef953-3bb6-4a52-9125-c187266feeab\":{\"roots\":{\"references\":[{\"attributes\":{\"background_fill_alpha\":{\"value\":0.8},\"background_fill_color\":{\"value\":\"whitesmoke\"},\"below\":[{\"id\":\"7612\",\"type\":\"CategoricalAxis\"}],\"center\":[{\"id\":\"7615\",\"type\":\"Grid\"},{\"id\":\"7620\",\"type\":\"Grid\"}],\"left\":[{\"id\":\"7616\",\"type\":\"LinearAxis\"}],\"plot_width\":800,\"renderers\":[{\"id\":\"7642\",\"type\":\"GlyphRenderer\"}],\"title\":{\"id\":\"7602\",\"type\":\"Title\"},\"toolbar\":{\"id\":\"7627\",\"type\":\"Toolbar\"},\"x_range\":{\"id\":\"7604\",\"type\":\"FactorRange\"},\"x_scale\":{\"id\":\"7608\",\"type\":\"CategoricalScale\"},\"y_range\":{\"id\":\"7606\",\"type\":\"DataRange1d\"},\"y_scale\":{\"id\":\"7610\",\"type\":\"LinearScale\"}},\"id\":\"7601\",\"subtype\":\"Figure\",\"type\":\"Plot\"},{\"attributes\":{},\"id\":\"7621\",\"type\":\"PanTool\"},{\"attributes\":{\"dimension\":1,\"ticker\":{\"id\":\"7617\",\"type\":\"BasicTicker\"}},\"id\":\"7620\",\"type\":\"Grid\"},{\"attributes\":{},\"id\":\"7875\",\"type\":\"CategoricalTickFormatter\"},{\"attributes\":{},\"id\":\"7877\",\"type\":\"Selection\"},{\"attributes\":{\"fill_alpha\":{\"value\":0.1},\"fill_color\":{\"value\":\"#1f77b4\"},\"line_alpha\":{\"value\":0.1},\"line_color\":{\"value\":\"#1f77b4\"},\"top\":{\"field\":\"net_immigration\"},\"width\":{\"value\":0.8},\"x\":{\"field\":\"country_code\"}},\"id\":\"7641\",\"type\":\"VBar\"},{\"attributes\":{},\"id\":\"7624\",\"type\":\"SaveTool\"},{\"attributes\":{\"active_drag\":\"auto\",\"active_inspect\":\"auto\",\"active_multi\":null,\"active_scroll\":\"auto\",\"active_tap\":\"auto\",\"autohide\":true,\"tools\":[{\"id\":\"7621\",\"type\":\"PanTool\"},{\"id\":\"7622\",\"type\":\"WheelZoomTool\"},{\"id\":\"7623\",\"type\":\"BoxZoomTool\"},{\"id\":\"7624\",\"type\":\"SaveTool\"},{\"id\":\"7625\",\"type\":\"ResetTool\"},{\"id\":\"7626\",\"type\":\"HelpTool\"},{\"id\":\"7635\",\"type\":\"HoverTool\"}]},\"id\":\"7627\",\"type\":\"Toolbar\"},{\"attributes\":{\"callback\":null},\"id\":\"7606\",\"type\":\"DataRange1d\"},{\"attributes\":{},\"id\":\"7878\",\"type\":\"UnionRenderers\"},{\"attributes\":{},\"id\":\"7610\",\"type\":\"LinearScale\"},{\"attributes\":{\"axis_label\":\"country code\",\"formatter\":{\"id\":\"7875\",\"type\":\"CategoricalTickFormatter\"},\"ticker\":{\"id\":\"7613\",\"type\":\"CategoricalTicker\"}},\"id\":\"7612\",\"type\":\"CategoricalAxis\"},{\"attributes\":{},\"id\":\"7617\",\"type\":\"BasicTicker\"},{\"attributes\":{},\"id\":\"7608\",\"type\":\"CategoricalScale\"},{\"attributes\":{},\"id\":\"7622\",\"type\":\"WheelZoomTool\"},{\"attributes\":{\"data_source\":{\"id\":\"7600\",\"type\":\"ColumnDataSource\"},\"glyph\":{\"id\":\"7640\",\"type\":\"VBar\"},\"hover_glyph\":null,\"muted_glyph\":null,\"nonselection_glyph\":{\"id\":\"7641\",\"type\":\"VBar\"},\"selection_glyph\":null,\"view\":{\"id\":\"7643\",\"type\":\"CDSView\"}},\"id\":\"7642\",\"type\":\"GlyphRenderer\"},{\"attributes\":{},\"id\":\"7626\",\"type\":\"HelpTool\"},{\"attributes\":{\"overlay\":{\"id\":\"7876\",\"type\":\"BoxAnnotation\"}},\"id\":\"7623\",\"type\":\"BoxZoomTool\"},{\"attributes\":{\"bottom_units\":\"screen\",\"fill_alpha\":{\"value\":0.5},\"fill_color\":{\"value\":\"lightgrey\"},\"left_units\":\"screen\",\"level\":\"overlay\",\"line_alpha\":{\"value\":1.0},\"line_color\":{\"value\":\"black\"},\"line_dash\":[4,4],\"line_width\":{\"value\":2},\"render_mode\":\"css\",\"right_units\":\"screen\",\"top_units\":\"screen\"},\"id\":\"7876\",\"type\":\"BoxAnnotation\"},{\"attributes\":{},\"id\":\"7625\",\"type\":\"ResetTool\"},{\"attributes\":{\"fill_alpha\":{\"value\":0.6},\"fill_color\":{\"field\":\"color\"},\"line_alpha\":{\"value\":0.6},\"line_color\":{\"field\":\"color\"},\"top\":{\"field\":\"net_immigration\"},\"width\":{\"value\":0.8},\"x\":{\"field\":\"country_code\"}},\"id\":\"7640\",\"type\":\"VBar\"},{\"attributes\":{},\"id\":\"7637\",\"type\":\"NumeralTickFormatter\"},{\"attributes\":{\"text\":\"Net immigration to EU member countries (2017)\"},\"id\":\"7602\",\"type\":\"Title\"},{\"attributes\":{\"callback\":null,\"data\":{\"color\":[\"LightSeaGreen\",\"LightSeaGreen\",\"LightSeaGreen\",\"LightSeaGreen\",\"LightSeaGreen\",\"LightSeaGreen\",\"LightSeaGreen\",\"LightSeaGreen\",\"LightSeaGreen\",\"LightSeaGreen\",\"LightSeaGreen\",\"LightSeaGreen\",\"LightSeaGreen\",\"LightSeaGreen\",\"LightSeaGreen\",\"LightSeaGreen\",\"LightSeaGreen\",\"LightSeaGreen\",\"LightSeaGreen\",\"LightSeaGreen\",\"LightSeaGreen\",\"LightSeaGreen\",\"FireBrick\",\"FireBrick\",\"FireBrick\",\"FireBrick\",\"FireBrick\",\"FireBrick\"],\"country_code\":[\"DE\",\"GB\",\"IT\",\"ES\",\"SE\",\"NL\",\"FR\",\"AT\",\"BE\",\"HU\",\"CZ\",\"FI\",\"MT\",\"IE\",\"DK\",\"LU\",\"EL\",\"CY\",\"EE\",\"PT\",\"SK\",\"SI\",\"BG\",\"LV\",\"PL\",\"LT\",\"HR\",\"RO\"],\"country_name\":[\"Germany\",\"United Kingdom\",\"Italy\",\"Spain\",\"Sweden\",\"Netherlands\",\"France\",\"Austria\",\"Belgium\",\"Hungary\",\"Czechia\",\"Finland\",\"Malta\",\"Ireland\",\"Denmark\",\"Luxembourg\",\"Greece\",\"Cyprus\",\"Estonia\",\"Portugal\",\"Slovakia\",\"Slovenia\",\"Bulgaria\",\"Latvia\",\"Poland\",\"Lithuania\",\"Croatia\",\"Romania\"],\"net_immigration\":[356409,284544,188330,163272,98869,81415,57410,45657,37013,28241,24531,14824,14656,14431,12176,10548,8920,6201,5258,4886,3722,1253,-5989,-7808,-9139,-27557,-31799,-64758],\"pct_population\":{\"__ndarray__\":\"3U8bgPehcT9RQtAnCZZxP9LPyk7wgWk/bdfhfZGqbD/Knw7B/gGEPyd1sG3TaHM/ehQcDdcbTD/1lcVJlzJ1P9NCo8LHmWo/S95VpM2oZz+iULmFufBiP/8Yl1bvBmY/ZC90CHeMnz8QaA6DVHloPzALSrjlQGE/Vi9wjCTxkT/Hwl6zUTZLP/XyzImpY30/OZIJrZJTcD+fkv2Bhx0/P/fbeiofaEY/4aXuKmjdQz+pzxotHtZLvxuBMfOCiHC/q1bfdsuKL7+BCnY+lBeEv3iSpIu4uX+/tjE4xI4pa78=\",\"dtype\":\"float64\",\"shape\":[28]}},\"selected\":{\"id\":\"7877\",\"type\":\"Selection\"},\"selection_policy\":{\"id\":\"7878\",\"type\":\"UnionRenderers\"}},\"id\":\"7600\",\"type\":\"ColumnDataSource\"},{\"attributes\":{\"callback\":null,\"tooltips\":[[\"country\",\"@country_name\"],[\"net immigrants\",\"@net_immigration{0,0}\"],[\"percentage of population\",\"@pct_population{0.00%}\"]]},\"id\":\"7635\",\"type\":\"HoverTool\"},{\"attributes\":{},\"id\":\"7613\",\"type\":\"CategoricalTicker\"},{\"attributes\":{\"grid_line_color\":{\"value\":null},\"ticker\":{\"id\":\"7613\",\"type\":\"CategoricalTicker\"}},\"id\":\"7615\",\"type\":\"Grid\"},{\"attributes\":{\"callback\":null,\"factors\":[\"DE\",\"GB\",\"IT\",\"ES\",\"SE\",\"NL\",\"FR\",\"AT\",\"BE\",\"HU\",\"CZ\",\"FI\",\"MT\",\"IE\",\"DK\",\"LU\",\"EL\",\"CY\",\"EE\",\"PT\",\"SK\",\"SI\",\"BG\",\"LV\",\"PL\",\"LT\",\"HR\",\"RO\"]},\"id\":\"7604\",\"type\":\"FactorRange\"},{\"attributes\":{\"source\":{\"id\":\"7600\",\"type\":\"ColumnDataSource\"}},\"id\":\"7643\",\"type\":\"CDSView\"},{\"attributes\":{\"axis_label\":\"individuals\",\"formatter\":{\"id\":\"7637\",\"type\":\"NumeralTickFormatter\"},\"ticker\":{\"id\":\"7617\",\"type\":\"BasicTicker\"}},\"id\":\"7616\",\"type\":\"LinearAxis\"}],\"root_ids\":[\"7601\"]},\"title\":\"Bokeh Application\",\"version\":\"1.1.0\"}};\n",
       "  var render_items = [{\"docid\":\"7deef953-3bb6-4a52-9125-c187266feeab\",\"roots\":{\"7601\":\"141a23bc-4645-4e9b-99fb-8280c98ad24b\"}}];\n",
       "  root.Bokeh.embed.embed_items_notebook(docs_json, render_items);\n",
       "\n",
       "  }\n",
       "  if (root.Bokeh !== undefined) {\n",
       "    embed_document(root);\n",
       "  } else {\n",
       "    var attempts = 0;\n",
       "    var timer = setInterval(function(root) {\n",
       "      if (root.Bokeh !== undefined) {\n",
       "        embed_document(root);\n",
       "        clearInterval(timer);\n",
       "      }\n",
       "      attempts++;\n",
       "      if (attempts > 100) {\n",
       "        console.log(\"Bokeh: ERROR: Unable to run BokehJS code because BokehJS library is missing\");\n",
       "        clearInterval(timer);\n",
       "      }\n",
       "    }, 10, root)\n",
       "  }\n",
       "})(window);"
      ],
      "application/vnd.bokehjs_exec.v0+json": ""
     },
     "metadata": {
      "application/vnd.bokehjs_exec.v0+json": {
       "id": "7601"
      }
     },
     "output_type": "display_data"
    }
   ],
   "source": [
    "data = bokeh.models.ColumnDataSource({\n",
    "    'country_code': net_immigration.index.values,\n",
    "    'net_immigration': net_immigration.get_values(),\n",
    "    'pct_population': (net_immigration / df.loc[net_immigration.index.values, 'population']).get_values(),\n",
    "    'country_name': df.loc[net_immigration.index.values, 'country'].values,\n",
    "    'color': ['LightSeaGreen' if c else 'FireBrick' for c in (net_immigration > 0).get_values()],\n",
    "})\n",
    "\n",
    "fig4 = bokeh.plotting.figure(\n",
    "    title = 'Net immigration to EU member countries (2017)',\n",
    "    x_axis_label = 'country code',\n",
    "    y_axis_label = 'individuals',\n",
    "    x_range = net_immigration.index.values,\n",
    "    plot_width = 800,\n",
    "    plot_height = 600,\n",
    "    background_fill_color = 'whitesmoke',\n",
    "    background_fill_alpha = 0.8\n",
    ")\n",
    "fig4.xgrid.grid_line_color = None\n",
    "fig4.toolbar.autohide = True\n",
    "fig4.add_tools(bokeh.models.HoverTool(\n",
    "    tooltips = [\n",
    "        ('country', '@country_name'),\n",
    "        ('net immigrants', '@net_immigration{0,0}'),\n",
    "        ('percentage of population', '@pct_population{0.00%}'),\n",
    "    ],\n",
    "    mode = 'mouse',\n",
    "))\n",
    "fig4.yaxis.formatter = bokeh.models.formatters.NumeralTickFormatter(format=\"0,0\")\n",
    "fig4.vbar(x='country_code', top='net_immigration', source=data, width=0.8, alpha=0.6, color='color')\n",
    "\n",
    "bokeh.plotting.show(fig4)"
   ]
  },
  {
   "cell_type": "code",
   "execution_count": null,
   "metadata": {},
   "outputs": [],
   "source": []
  }
 ],
 "metadata": {
  "kernelspec": {
   "display_name": "Python 3",
   "language": "python",
   "name": "python3"
  },
  "language_info": {
   "codemirror_mode": {
    "name": "ipython",
    "version": 3
   },
   "file_extension": ".py",
   "mimetype": "text/x-python",
   "name": "python",
   "nbconvert_exporter": "python",
   "pygments_lexer": "ipython3",
   "version": "3.7.3"
  }
 },
 "nbformat": 4,
 "nbformat_minor": 2
}
