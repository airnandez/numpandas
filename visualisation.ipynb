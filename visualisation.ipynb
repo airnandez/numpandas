{
 "cells": [
  {
   "cell_type": "markdown",
   "metadata": {},
   "source": [
    "# Visualisation"
   ]
  },
  {
   "cell_type": "markdown",
   "metadata": {},
   "source": [
    "*Author: Fabio Hernandez*\n",
    "\n",
    "*Last updated: 2019-05-15*\n",
    "\n",
    "*Location:* https://github.com/airnandez/numpandas"
   ]
  },
  {
   "cell_type": "markdown",
   "metadata": {},
   "source": [
    "____ \n",
    "## Introduction"
   ]
  },
  {
   "cell_type": "markdown",
   "metadata": {},
   "source": [
    "The data analysis process often requires visualising the data. The Python ecosystem offers several possibilities for data visualisation, such as [matplotlib](https://matplotlib.org), [bokeh](http://bokeh.pydata.org/en/latest/), [seaborn](https://seaborn.pydata.org), [altair](https://altair-viz.github.io), etc."
   ]
  },
  {
   "cell_type": "code",
   "execution_count": null,
   "metadata": {},
   "outputs": [],
   "source": [
    "import pandas as pd"
   ]
  },
  {
   "cell_type": "code",
   "execution_count": null,
   "metadata": {},
   "outputs": [],
   "source": [
    "df = pd.read_csv('./data/european_union.csv', sep=';', index_col=1)\n",
    "df.head(3)"
   ]
  },
  {
   "cell_type": "markdown",
   "metadata": {},
   "source": [
    "------\n",
    "## matplotlib\n",
    "\n",
    "Reference: https://matplotlib.org"
   ]
  },
  {
   "cell_type": "markdown",
   "metadata": {},
   "source": [
    "**pandas** is well integrated with matplotlib, so we can quickly produce graphics for exploration purposes:"
   ]
  },
  {
   "cell_type": "code",
   "execution_count": null,
   "metadata": {},
   "outputs": [],
   "source": [
    "%matplotlib inline\n",
    "import matplotlib\n",
    "import matplotlib.pyplot as plt\n",
    "\n",
    "matplotlib.rcParams[\"figure.figsize\"] = (8,6)\n",
    "matplotlib.rcParams[\"figure.dpi\"] = 100"
   ]
  },
  {
   "cell_type": "code",
   "execution_count": null,
   "metadata": {},
   "outputs": [],
   "source": [
    "# The simplest possible way of plotting the contents of the 'population' column\n",
    "df['population'].plot.bar()"
   ]
  },
  {
   "cell_type": "markdown",
   "metadata": {},
   "source": [
    "The graphic above is neither pretty, nor very useful. Let's improve it a bit:"
   ]
  },
  {
   "cell_type": "code",
   "execution_count": null,
   "metadata": {},
   "outputs": [],
   "source": [
    "# Sort the values and add a title\n",
    "df['population'].sort_values(ascending=False).plot.bar(title=\"EU members population\")"
   ]
  },
  {
   "cell_type": "markdown",
   "metadata": {},
   "source": [
    "----------\n",
    "## bokeh\n",
    "\n",
    "Reference: https://bokeh.pydata.org/en/latest/"
   ]
  },
  {
   "cell_type": "code",
   "execution_count": null,
   "metadata": {},
   "outputs": [],
   "source": [
    "import bokeh\n",
    "import bokeh.plotting\n",
    "bokeh.plotting.output_notebook()"
   ]
  },
  {
   "cell_type": "markdown",
   "metadata": {},
   "source": [
    "Select the data we want to plot from the dataframe:"
   ]
  },
  {
   "cell_type": "code",
   "execution_count": null,
   "metadata": {},
   "outputs": [],
   "source": [
    "# Select the population, in millions, per country\n",
    "population = (df['population'] / 1_000_000).sort_values(ascending=False)\n",
    "population.head(3)"
   ]
  },
  {
   "cell_type": "code",
   "execution_count": null,
   "metadata": {},
   "outputs": [],
   "source": [
    "fig1 = bokeh.plotting.figure(\n",
    "    title = 'EU members population',\n",
    "    x_axis_label = 'country code',\n",
    "    y_axis_label = 'millions',\n",
    "    x_range = population.index.values,\n",
    ")\n",
    "fig1.vbar(x=population.index.values, top=population.get_values(), width=0.8)\n",
    "bokeh.plotting.show(fig1)"
   ]
  },
  {
   "cell_type": "markdown",
   "metadata": {},
   "source": [
    "Improve the visual attributes of the figure:"
   ]
  },
  {
   "cell_type": "code",
   "execution_count": null,
   "metadata": {},
   "outputs": [],
   "source": [
    "fig2 = bokeh.plotting.figure(\n",
    "    title = 'EU members population',\n",
    "    x_axis_label = 'country code',\n",
    "    y_axis_label = 'millions',\n",
    "    x_range = population.index.values,\n",
    "    plot_width = 800,\n",
    "    plot_height = 600,\n",
    "    background_fill_color = 'whitesmoke',\n",
    "    background_fill_alpha = 0.8,\n",
    ")\n",
    "fig2.xgrid.grid_line_color = None\n",
    "fig2.toolbar.autohide = True\n",
    "fig2.vbar(x=population.index.values, top=population.get_values(), width=0.8, alpha=0.6)\n",
    "bokeh.plotting.show(fig2)"
   ]
  },
  {
   "cell_type": "markdown",
   "metadata": {},
   "source": [
    "Now add some interactivity to the figure:"
   ]
  },
  {
   "cell_type": "code",
   "execution_count": null,
   "metadata": {},
   "outputs": [],
   "source": [
    "data = bokeh.models.ColumnDataSource({\n",
    "    'country_code': population.index.values,\n",
    "    'country_name': df.loc[population.index.values, 'country'].values,\n",
    "    'country_population': population.get_values(),\n",
    "})\n",
    "\n",
    "fig3 = bokeh.plotting.figure(\n",
    "    title = 'EU members population',\n",
    "    x_axis_label = 'country code',\n",
    "    y_axis_label = 'millions',\n",
    "    x_range = population.index.values,\n",
    "    plot_width = 800,\n",
    "    plot_height = 600,\n",
    "    background_fill_color = 'whitesmoke',\n",
    "    background_fill_alpha = 0.8\n",
    ")\n",
    "fig3.xgrid.grid_line_color = None\n",
    "fig3.toolbar.autohide = True\n",
    "fig3.add_tools(bokeh.models.HoverTool(\n",
    "    tooltips = [\n",
    "        ('country', '@country_name'),\n",
    "        ('population', '@country_population{0.1f}m'),\n",
    "    ],\n",
    "    mode = 'mouse',\n",
    "))\n",
    "fig3.vbar(x='country_code', top='country_population', source=data, width=0.8, alpha=0.6, color='LightSeaGreen')\n",
    "\n",
    "bokeh.plotting.show(fig3)"
   ]
  },
  {
   "cell_type": "markdown",
   "metadata": {},
   "source": [
    "Another figure with additional customization: use the tooltips to present information not shown grapically"
   ]
  },
  {
   "cell_type": "code",
   "execution_count": null,
   "metadata": {},
   "outputs": [],
   "source": [
    "# Net number of individuals who immigrated to each country\n",
    "net_immigration = (df['immigration'] - df['emigration']).sort_values(ascending=False)\n",
    "net_immigration.head(3)"
   ]
  },
  {
   "cell_type": "code",
   "execution_count": null,
   "metadata": {},
   "outputs": [],
   "source": [
    "data = bokeh.models.ColumnDataSource({\n",
    "    'country_code': net_immigration.index.values,\n",
    "    'net_immigration': net_immigration.get_values(),\n",
    "    'pct_population': (net_immigration / df.loc[net_immigration.index.values, 'population']).get_values(),\n",
    "    'country_name': df.loc[net_immigration.index.values, 'country'].values,\n",
    "    'color': ['LightSeaGreen' if c else 'FireBrick' for c in (net_immigration > 0).get_values()],\n",
    "})\n",
    "\n",
    "fig4 = bokeh.plotting.figure(\n",
    "    title = 'Net immigration to EU member countries (2017)',\n",
    "    x_axis_label = 'country code',\n",
    "    y_axis_label = 'individuals',\n",
    "    x_range = net_immigration.index.values,\n",
    "    plot_width = 800,\n",
    "    plot_height = 600,\n",
    "    background_fill_color = 'whitesmoke',\n",
    "    background_fill_alpha = 0.8\n",
    ")\n",
    "fig4.xgrid.grid_line_color = None\n",
    "fig4.toolbar.autohide = True\n",
    "fig4.add_tools(bokeh.models.HoverTool(\n",
    "    tooltips = [\n",
    "        ('country', '@country_name'),\n",
    "        ('net immigrants', '@net_immigration{0,0}'),\n",
    "        ('percentage of population', '@pct_population{0.00%}'),\n",
    "    ],\n",
    "    mode = 'mouse',\n",
    "))\n",
    "fig4.yaxis.formatter = bokeh.models.formatters.NumeralTickFormatter(format=\"0,0\")\n",
    "fig4.vbar(x='country_code', top='net_immigration', source=data, width=0.8, alpha=0.6, color='color')\n",
    "\n",
    "bokeh.plotting.show(fig4)"
   ]
  }
 ],
 "metadata": {
  "kernelspec": {
   "display_name": "Python 3",
   "language": "python",
   "name": "python3"
  },
  "language_info": {
   "codemirror_mode": {
    "name": "ipython",
    "version": 3
   },
   "file_extension": ".py",
   "mimetype": "text/x-python",
   "name": "python",
   "nbconvert_exporter": "python",
   "pygments_lexer": "ipython3",
   "version": "3.7.3"
  }
 },
 "nbformat": 4,
 "nbformat_minor": 2
}
